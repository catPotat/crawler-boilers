{
 "metadata": {
  "language_info": {
   "codemirror_mode": {
    "name": "ipython",
    "version": 3
   },
   "file_extension": ".py",
   "mimetype": "text/x-python",
   "name": "python",
   "nbconvert_exporter": "python",
   "pygments_lexer": "ipython3",
   "version": "3.8.6-final"
  },
  "orig_nbformat": 2,
  "kernelspec": {
   "name": "python3",
   "display_name": "Python 3",
   "language": "python"
  }
 },
 "nbformat": 4,
 "nbformat_minor": 2,
 "cells": [
  {
   "cell_type": "code",
   "execution_count": null,
   "metadata": {},
   "outputs": [],
   "source": [
    "!pip install pymongo"
   ]
  },
  {
   "cell_type": "code",
   "execution_count": 1,
   "metadata": {},
   "outputs": [],
   "source": [
    "from dotenv import load_dotenv\n",
    "load_dotenv()\n",
    "import os\n",
    "\n",
    "PATH = os.path.abspath('')"
   ]
  },
  {
   "cell_type": "code",
   "execution_count": 2,
   "metadata": {},
   "outputs": [],
   "source": [
    "MONG_USER = os.getenv('MONG_USER')\n",
    "MONG_PWD  = os.getenv('MONG_PWD')\n",
    "MONG_HOST = os.getenv('MONG_HOST')\n",
    "MONG_PORT = os.getenv('MONG_PORT')\n",
    "DATABASE = \"tweetDumpingGround\"\n"
   ]
  },
  {
   "cell_type": "code",
   "execution_count": 19,
   "metadata": {},
   "outputs": [
    {
     "output_type": "execute_result",
     "data": {
      "text/plain": [
       "Database(MongoClient(host=['171.244.50.232:27017'], document_class=dict, tz_aware=False, connect=True), 'tweetDumpingGround')"
      ]
     },
     "metadata": {},
     "execution_count": 19
    }
   ],
   "source": [
    "from pymongo import MongoClient\n",
    "from bson.objectid import ObjectId\n",
    "\n",
    "uri = f\"mongodb://{MONG_USER}:{MONG_PWD}@{MONG_HOST}:{MONG_PORT}/test\"\n",
    "client = MongoClient(uri)\n",
    "db = client[DATABASE]\n",
    "db"
   ]
  },
  {
   "source": [
    "## playground"
   ],
   "cell_type": "markdown",
   "metadata": {}
  },
  {
   "cell_type": "code",
   "execution_count": 14,
   "metadata": {},
   "outputs": [
    {
     "output_type": "stream",
     "name": "stdout",
     "text": [
      "60017f74f68d7664515eb3d3\n"
     ]
    }
   ],
   "source": [
    "my_col = db[\"test_col\"]\n",
    "\n",
    "my_dict = { \"name\": \"John\", \"address\": \"Highway 37\" }\n",
    "my_col.insert_one(my_dict)\n",
    "\n",
    "# db.list_collection_names()"
   ]
  },
  {
   "cell_type": "code",
   "execution_count": 21,
   "metadata": {},
   "outputs": [],
   "source": [
    "docs = my_col.find({})\n",
    "\n",
    "for doc in docs:\n",
    "    print(doc)"
   ]
  },
  {
   "cell_type": "code",
   "execution_count": 17,
   "metadata": {},
   "outputs": [],
   "source": [
    "my_col.delete_one({})"
   ]
  },
  {
   "cell_type": "code",
   "execution_count": 23,
   "metadata": {},
   "outputs": [
    {
     "output_type": "execute_result",
     "data": {
      "text/plain": [
       "'\\nimport json\\n\\nwith open(os.path.join(PATH, f\\'{USER_ID}_tweet_dump.txt\\'), \\'w+\\', encoding=\\'utf8\\') as file:\\n    for tweet in tweepy.Cursor(api.user_timeline, id=USER_ID).items(LIMIT)\"\\n'"
      ]
     },
     "metadata": {},
     "execution_count": 23
    }
   ],
   "source": [
    "'''\n",
    "import json\n",
    "\n",
    "with open(os.path.join(PATH, f'{USER_ID}_tweet_dump.txt'), 'w+', encoding='utf8') as file:\n",
    "    for tweet in tweepy.Cursor(api.user_timeline, id=USER_ID).items(LIMIT)\"\n",
    "'''"
   ]
  },
  {
   "cell_type": "code",
   "execution_count": 20,
   "metadata": {},
   "outputs": [
    {
     "output_type": "execute_result",
     "data": {
      "text/plain": [
       "'uhhh'"
      ]
     },
     "metadata": {},
     "execution_count": 20
    }
   ],
   "source": [
    "\"uhhh\""
   ]
  },
  {
   "source": [
    "## end of playground"
   ],
   "cell_type": "markdown",
   "metadata": {}
  },
  {
   "cell_type": "code",
   "execution_count": null,
   "metadata": {},
   "outputs": [],
   "source": []
  }
 ]
}