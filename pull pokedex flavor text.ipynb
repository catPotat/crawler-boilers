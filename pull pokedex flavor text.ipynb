{
 "metadata": {
  "language_info": {
   "codemirror_mode": {
    "name": "ipython",
    "version": 3
   },
   "file_extension": ".py",
   "mimetype": "text/x-python",
   "name": "python",
   "nbconvert_exporter": "python",
   "pygments_lexer": "ipython3",
   "version": "3.8.6-final"
  },
  "orig_nbformat": 2,
  "kernelspec": {
   "name": "python3",
   "display_name": "Python 3",
   "language": "python"
  }
 },
 "nbformat": 4,
 "nbformat_minor": 2,
 "cells": [
  {
   "cell_type": "code",
   "execution_count": 1,
   "metadata": {},
   "outputs": [],
   "source": [
    "import requests\n",
    "import json\n",
    "import re\n",
    "from tqdm import tqdm\n"
   ]
  },
  {
   "cell_type": "code",
   "execution_count": 2,
   "metadata": {
    "tags": []
   },
   "outputs": [
    {
     "output_type": "stream",
     "name": "stderr",
     "text": [
      "100%|██████████| 898/898 [11:48<00:00,  1.27it/s]\n"
     ]
    }
   ],
   "source": [
    "NUM_OF_POKEMON = 898\n",
    "text_entries_plain = []\n",
    "\n",
    "for i in tqdm( range(NUM_OF_POKEMON) ):\n",
    "    dex_no = i+1\n",
    "    reqUrl = f'https://pokeapi.co/api/v2/pokemon-species/{dex_no}'\n",
    "    res = requests.get(reqUrl)\n",
    "    try:\n",
    "        res = json.loads(res.text)\n",
    "    except:\n",
    "        break\n",
    "\n",
    "    text_entries = res['flavor_text_entries']\n",
    "    for entry in text_entries:\n",
    "        if entry['language']['name'] == 'en':\n",
    "            text = entry['flavor_text']\n",
    "            text = re.sub(r'(\\n|\\x0c|\\xad)', ' ', text)\n",
    "            text_entries_plain.append(text)\n",
    "            # print(repr(text))\n",
    "            # print('------')"
   ]
  },
  {
   "cell_type": "code",
   "execution_count": 3,
   "metadata": {},
   "outputs": [
    {
     "output_type": "execute_result",
     "data": {
      "text/plain": [
       "like scales covering its wings are color-coded to indicate the kinds of poison it has.',\n",
       " 'It flutters its wings to scatter dustlike scales. The scales leach toxins if they contact skin.',\n",
       " 'When it attacks, it flaps its large wings violently to scatter its poisonous powder all around.',\n",
       " 'The powder on its wings is poisonous if it is dark in hue. If it is light in hue, it causes paralysis.',\n",
       " 'Venomoth is nocturnal—it is a Pokémon that only becomes active at night. Its favorite prey are small insects that gather around streetlights, attracted by the light in the darkness.',\n",
       " 'The powdery scales on its wings are hard to remove from skin. They also contain poison that leaks out on contact.',\n",
       " 'Lives about one yard underground where it feeds on plant roots. It sometimes appears above ground.',\n",
       " 'It prefers dark places. It spends most of its time underground, though it may pop up in caves.',\n",
       " 'Its skin is very thin. If it is exposed to light, its blood heats up, causing it to grow weak.',\n",
       " 'If a DIGLETT DIGS through a field, it leaves the soil perfectly tilled and ideal for planting crops.',\n",
       " \"It digs under  ground and chews on tree roots, sticking its head out only when the sun isn't bright.\",\n",
       " 'DIGLETT are raised in most farms. The reason is simple - wherever this POKéMON burrows, the soil is left perfectly tilled for planting crops. This soil is made ideal for growing delicious vegetables.',\n",
       " 'DIGLETT are raised in most farms. The reason is simple--wherever they burrow, the soil is left perfectly tilled for growing delicious crops.',\n",
       " 'It burrows through the ground at a shallow depth. It leaves raised earth in its wake, making it easy to spot.',\n",
       " 'Lives about one yard underground where it feeds on plant roots. It sometimes appears aboveground.',\n",
       " 'A Pokémon that lives underground. Because of its dark habitat, it is repelled by bright sunlight.',\n",
       " 'If a DIGLETT digs through a field, it leaves the soil perfectly tilled and ideal for planting crops.',\n",
       " 'Diglett are raised in most farms. The reason is simple— wherever this Pokémon burrows, the soil is left perfectly tilled for planting crops. This soil is made ideal for growing delicious vegetables.',\n",
       " 'It chews on plant roots underground. Farmers whose vegetables are vulnerable find it can be quite a pest.',\n",
       " 'Many farmers cherish and nurture Diglett because its droppings enrich the soil it lives in.',\n",
       " 'It travels through tunnels that it digs underground. It hates sunlight, so it comes out only after the sun goes down.',\n",
       " 'Around their crops, farmers plant the kind of tree that Diglett like to eat as a way of getting Diglett to plow the fields for them.',\n",
       " 'After living in soil with high iron content for some time, three steel whiskers sprouted from the top of its head.',\n",
       " 'If a Diglett digs through a field, it leaves the soil perfectly tilled and ideal for planting crops.',\n",
       " 'The metal-rich geology of this Pokémon’s habitat caused it to develop steel whiskers on its head.',\n",
       " 'Its three hairs change shape depending on Diglett’s mood. They’re a useful communication tool among these Pokémon.',\n",
       " 'A team of DIGLETT triplets. It triggers huge earthquakes by burrowing 60 miles underground.',\n",
       " \"A team of triplets that can burrow over 60 MPH. Due to this, some people think it's an earthquake.\",\n",
       " 'Its three heads bob separately up and down to loosen the soil nearby, making it easier for it to burrow.',\n",
       " 'Extremely power  ful, they can DIG through even the hardest ground to a depth of over 60 miles.',\n",
       " \"These DIGLETT triplets dig over 60 miles below sea level. No one knows what it's like underground.\",\n",
       " 'DUGTRIO are actually triplets that emerged from one body. As a result, each triplet thinks exactly like the other two triplets. They work cooperatively to burrow endlessly.',\n",
       " 'Because the triplets originally split from one body, they think exactly alike. They work cooperatively to burrow endlessly through the ground.',\n",
       " 'In battle, it digs through the ground and strikes the unsuspecting foe from an unexpected direction.',\n",
       " 'Its three heads move alternately, driving it through tough soil to depths of over 60 miles.',\n",
       " 'Extremely powerful, they can dig through even the hardest ground to a depth of over 60 miles.',\n",
       " 'Dugtrio are actually triplets that emerged from one body. As a result, each triplet thinks exactly like the other two triplets. They work cooperatively to burrow endlessly.',\n",
       " 'This set of triplets moves cooperatively. It’s the power of teamwork that enables this Pokémon to dig to a depth of 60 miles.',\n",
       " 'Despite the closeness between this Pokémon and farmers and other people, no one has ever seen the parts of it concealed underground.',\n",
       " 'While the three of them normally get along splendidly, on rare occasions a huge fight will break out over which head gets to eat first.',\n",
       " 'Dugtrio’s heads are sleek and smooth and incredibly hard. It can dig through any soil with its headbutts.',\n",
       " 'A team of triplets that can burrow to a depth of 60 miles. It’s reported that this triggers an earthquake.',\n",
       " 'They’re referred to as triplets, but they’re not identical—the metallic elements in their bodies differ slightly. The proof shows in their whiskers!',\n",
       " 'A team of Diglett triplets. It triggers huge earthquakes by burrowing 60 miles underground.',\n",
       " 'Their beautiful, metallic whiskers create a sort of protective helmet on their heads, and they also function as highly precise sensors.',\n",
       " 'The three of them get along very well. Through their formidable teamwork, they defeat powerful opponents.',\n",
       " 'These Diglett triplets dig over 60 miles below sea level. No one knows what it’s like underground.',\n",
       " 'Adores circular objects. Wanders the streets on a nightly basis to look for dropped loose change.',\n",
       " \"Appears to be more active at night. It loves round and shiny things. It can't stop from picking them up.\",\n",
       " \"It is fascinated by round objects. It can't stop playing with them until it tires and falls asleep.\",\n",
       " 'It loves anything that shines. It especially adores coins that it picks up and se  cretly hoards.',\n",
       " 'It loves things that sparkle. When it sees a shiny object, the gold coin on its head shines too.',\n",
       " 'MEOWTH withdraws its sharp claws into its paws to slinkily sneak about without making any incriminating footsteps. For some reason, this POKéMON loves shiny coins that glitter with light.',\n",
       " 'MEOWTH withdraw their sharp claws into their paws to silently sneak about. For some reason, this POKéMON loves shiny coins that glitter with light.',\n",
       " 'All it does is sleep during the daytime. At night, it patrols its territory with its eyes aglow.',\n",
       " 'Adores round objects. It wanders the streets on a nightly basis to look for dropped loose change.',\n",
       " 'It is nocturnal in nature. If it spots something shiny, its eyes glitter brightly.',\n",
       " 'It is fascinated by round objects. It can’t stop playing with them until it tires and falls asleep.',\n",
       " 'It loves anything that shines. It especially adores coins that it picks up and secretly hoards.',\n",
       " 'Meowth withdraws its sharp claws into its paws to slinkily sneak about without making any incriminating footsteps. For some reason, this Pokémon loves shiny coins that glitter with light.',\n",
       " 'It lies around all day, becoming active near dusk. At night, it wanders the city in search of loose change.',\n",
       " 'It loves shiny things. It often fights with Murkrow over prey they’re both trying to catch.',\n",
       " 'When visiting a junkyard, you may catch sight of it having an intense fight with Murkrow over shiny objects.',\n",
       " 'It loves coins, so if you give it one, you can make friends with Meowth easily. But it’s fickle, so you can’t count on that friendship lasting.',\n",
       " 'Appears to be more active at night. It loves round and shiny things. It can’t stop itself from picking them up.',\n",
       " 'Highly intelligent and prideful, it’s famously difficult to handle—but that’s also a reason for its popularity.',\n",
       " 'It loves to collect shiny things. If it’s in a good mood, it might even let its Trainer have a look at its hoard of treasures.',\n",
       " 'It’s accustomed to luxury because it used to live with Alolan royalty. As a result, it’s very picky about food.',\n",
       " 'Living with a savage, seafaring people has toughened this Pokémon’s body so much that parts of it have turned to iron.',\n",
       " 'The pattern that has appeared on its giant coin is thought to be the key to unlocking the secrets of the Dynamax phenomenon.',\n",
       " 'Deeply proud and keenly smart, this Pokémon moves with cunning during battle and relentlessly attacks enemies’ weak points.',\n",
       " 'It washes its face regularly to keep the coin on its forehead spotless. It doesn’t get along with Galarian Meowth.',\n",
       " 'Its body has grown incredibly long and the coin on its forehead has grown incredibly large—all thanks to Gigantamax power.',\n",
       " 'These daring Pokémon have coins on their foreheads. Darker coins are harder, and harder coins garner more respect among Meowth.',\n",
       " 'Although its fur has many admirers, it is tough to raise as a pet because of its fickle meanness.',\n",
       " 'The gem in its forehead glows on its own! It walks with all the grace and elegance of a proud queen.',\n",
       " 'Many adore it for its sophisticated air. However, it will lash out and scratch for little reason.',\n",
       " 'Its lithe muscles allow it to walk without making a sound. It attacks in an instant.',\n",
       " 'Behind its lithe, elegant appearance lies a barbaric side. It will tear apart its prey on a mere whim.',\n",
       " 'PERSIAN has six bold whiskers that give it a look of toughness. The whiskers   sense air movements to determine what is in the POKéMON’s surrounding vicinity. It becomes docile if grabbed by the whiskers.',\n",
       " 'A PERSIAN’s six bold whiskers sense air movements to determine what is in its vicinity. It becomes docile if grabbed by the whiskers.',\n",
       " 'Has a vicious temperament. Beware if it raises its tail straight up. It is a signal that it is about to pounce and bite.',\n",
       " 'A very haughty Pokémon. Among fans, the size of the jewel in its forehead is a topic of much talk.',\n",
       " 'Persian has six bold whiskers that give it a look of toughness. The whiskers sense air movements to determine what is in the Pokémon’s surrounding vicinity. It becomes docile if grabbed by the whiskers.',\n",
       " 'It has a violent temperament. It will attack anything that looks it in the eye. Its sharp claws inflict deep wounds.',\n",
       " 'It has a high opinion of itself, although not to the same extent as the Alolan Persian. It’s quite difficult to make friends with this Pokémon.',\n",
       " 'Although the jewel on its forehead appears to be a different color than those of Alolan Persian, it’s mostly made of the same material.',\n",
       " 'This Pokémon is popular with rich people. It’s also targeted by hunters who are after the jewel in its forehead.',\n",
       " 'It has the classiest coat. The rippling of its fur in the heat of battle has a beauty all its own.',\n",
       " 'Getting this prideful Pokémon to warm up to you takes a lot of effort, and it will claw at you the moment it gets annoyed.',\n",
       " 'The round face of Alolan Persian is considered to be a symbol of prosperity in the Alola region, so these Pokémon are very well cared for.',\n",
       " 'Its elegant and refined behavior clashes with that of the barbaric Perrserker. The relationship between the two is one of mutual disdain.',\n",
       " 'This Pokémon is one tough opponent. Not only does it have formidable physical abilities, but it’s also not above fighting dirty.',\n",
       " 'While lulling its enemies with its vacant look, this wily POKéMON will use psychokinetic powers.',\n",
       " 'Always tormented by headaches. It uses psychic powers, but it is not known if it intends to do so.',\n",
       " \"It has mystical powers but doesn't recall that it has used them. That is why it always looks puzzled.\",\n",
       " 'If its chronic headache peaks, it may exhibit odd powers. It seems unable to recall such an episode.',\n",
       " 'The only time it can use its psy  chic power is when its sleeping brain cells happen to wake.',\n",
       " 'PSYDUCK uses a mysterious power. When it does so, this POKéMON  generates brain waves that are supposedly only seen in sleepers. This discovery spurred controversy among scholars.',\n",
       " 'If it uses its mysterious power, PSYDUCK can’t remember having done so. It apparently can’t form a memory of such an event because it goes into an altered state that is much like deep sleep.',\n",
       " 'When its headache intensifies, it starts using strange powers. However, it has no recollection of its powers, so it always looks befuddled and bewildered.',\n",
       " 'It is constantly wracked by a headache. When the headache turns intense, it begins using mysterious powers.',\n",
       " 'If its usual headache worsens, it starts exhibiting odd powers. It can’t remember doing so, however.',\n",
       " 'It never remembers using its odd powers, so it always tilts its head in puzzlement.',\n",
       " 'Overwhelmed by enigmatic abilities, it suffers a constant headache. It sometimes uses mysterious powers.',\n",
       " 'It has mystical powers but doesn’t recall that it has used them. That is why it always looks puzzled.',\n",
       " 'When headaches stimulate its brain cells, which are usually inactive, it can use a mysterious power.',\n",
       " 'Psyduck uses a mysterious power. When it does so, this Pokémon generates brain waves that are supposedly only seen in sleepers. This discovery spurred controversy among scholars.',\n",
       " 'If it uses its mysterious power, Psyduck can’t remember having done so. It apparently can’t form a memory of such an event because it goes into an altered state that is much like deep sleep.',\n",
       " 'As a result of headaches so fierce they cause it to cry, it sometimes uses psychokinesis without meaning to.',\n",
       " 'This Pokémon is troubled by constant headaches. The more pain it’s in, the more powerful its psychokinesis becomes.',\n",
       " 'Using psychokinesis gives it a headache, so it normally passes the time spacing out and doing as little as possible.',\n",
       " 'It has been found that its brain cells are 10 times more active when Psyduck is experiencing a headache.',\n",
       " 'Always tormented by headaches. It uses psychic powers, but whether it intends to do so is not known.',\n",
       " 'Psyduck is constantly beset by headaches. If the Pokémon lets its strange power erupt, apparently the pain subsides for a while.',\n",
       " 'As Psyduck gets stressed out, its headache gets progressively worse. It uses intense psychic energy to overwhelm those around it.',\n",
       " 'Often seen swim  ming elegantly by lake shores. It is often mistaken for the Japanese monster, Kappa.',\n",
       " 'Its slim and long limbs end in broad flippers. They are used for swim  ming gracefully in lakes.',\n",
       " 'When it swims at full speed using its long, webbed limbs, its fore  head somehow be  gins to glow.',\n",
       " 'It appears by waterways at dusk. It may use tele  kinetic powers if its forehead glows mysteriously.',\n",
       " 'It swims grace  fully along on the quiet, slow-moving rivers and lakes of which it is so fond.',\n",
       " 'The webbed flippers on its forelegs and hind legs and the streamlined body of GOLDUCK give it frightening speed. This POKéMON is definitely much faster than even the most athletic swimmer.',\n",
       " 'GOLDUCK is the fastest swimmer among all POKéMON. It swims effortlessly, even in a rough, stormy sea. It sometimes rescues people from wrecked ships floundering in high seas.',\n",
       " 'A GOLDUCK is an adept swimmer. It sometimes joins competitive swimmers in training. It uses psychic powers when its forehead shimmers with light.',\n",
       " 'The forelegs are webbed, helping to make it an adept swimmer. It can be seen swimming elegantly in lakes, etc.',\n",
       " 'Often seen swimming elegantly by lakeshores. It is often mistaken for the Japanese monster Kappa.',\n",
       " 'A Pokémon that lives in lakes. It swims faster than any human swimming champion.',\n",
       " 'The flippers of its well-developed limbs give it shocking speed. It is the best swimmer among Pokémon.',\n",
       " 'It is seen swimming dynamically and elegantly using its well-developed limbs and flippers.',\n",
       " 'When it swims at full speed using its long, webbed limbs, its forehead somehow begins to glow.',\n",
       " 'It appears by waterways at dusk. It may use telekinetic powers if its forehead glows mysteriously.',\n",
       " 'When its forehead shines mysteriously, Golduck can use the full extent of its power.',\n",
       " 'The webbed flippers on its forelegs and hind legs and the streamlined body of Golduck give it frightening speed. This Pokémon is definitely much faster than even the most athletic swimmer.',\n",
       " 'Golduck is the fastest swimmer among all Pokémon. It swims effortlessly, even in a rough, stormy sea. It sometimes rescues people from wrecked ships floundering in high seas.',\n",
       " 'It is said that the red part of its forehead grants supernatural powers to those who possess one, so it was over-hunted in the past.',\n",
       " 'It swims along the banks of lakes and catches fish Pokémon. It takes them to the shore and quietly eats them up.',\n",
       " 'Even fast-swimming fish Pokémon can be disabled by Golduck. It brings them to a standstill and seizes them.',\n",
       " 'A professional swimmer, it can continue swimming for two days straight by waving its long tail skillfully.',\n",
       " 'Its long, slim limbs end in broad flippers. They are used for swimming gracefully in lakes.',\n",
       " 'This Pokémon lives in gently flowing rivers. It paddles through the water with its long limbs, putting its graceful swimming skills on display.',\n",
       " 'Old tales tell of Golduck punishing those that defiled its river. The guilty were dragged into the water and taken away.',\n",
       " 'Extremely quick to anger. It could be docile one moment then thrashing away the next instant.',\n",
       " 'An agile POKéMON that lives in trees. It angers easily and will not hesitate to attack anything.',\n",
       " 'It is extremely ill-tempered. Groups of them will attack any handy target for no reason.',\n",
       " \"It's unsafe to ap  proach if it gets violently enraged for no reason and can't distinguish friends from foes.\",\n",
       " 'It lives in groups in the treetops. If it loses sight of its group, it becomes infuriated by its loneliness.',\n",
       " 'When MANKEY starts shaking and its nasal breathing turns rough, it’s a sure sign that it is becoming angry. However, because it goes into a towering rage almost instantly, it is impossible for anyone to flee its wrath.',\n",
       " 'When it starts shaking and its nasal breathing turns rough, it’s a sure sign of anger. However, since this happens instantly, there is no time to flee.',\n",
       " 'Light and agile on its feet, and ferocious in temperament. When angered, it flies into an uncontrollable frenzy.',\n",
       " 'Extremely quick to anger. It could be docile one moment, then thrashing away  the next instant.',\n",
       " 'It lives in treetop colonies. If one becomes enraged, the whole colony rampages for no reason.',\n",
       " 'It’s unsafe to approach if it gets violently enraged for no reason and can’t distinguish friends from foes.',\n",
       " 'When Mankey starts shaking and its nasal breathing turns rough, it’s a sure sign that it is becoming angry. However, because it goes into a towering rage almost instantly, it is impossible for anyone to flee its wrath.',\n",
       " 'It can spontaneously become enraged. Everyone near it clears out as it rampages, and the resulting loneliness makes it angrier still.',\n",
       " 'Its raging tires it out and causes it to fall asleep, but the anger resonating in its dreams causes it to wake up—which infuriates it all over again.',\n",
       " 'The smallest of things could cause it to lose its temper. Because it doesn’t hold in its stress, this Pokémon can live a long time.',\n",
       " 'If one gets angry, all the others around it will get angry, so silence is a rare visitor in a troop of Mankey.',\n",
       " 'An agile Pokémon that lives in trees. It angers easily and will not hesitate to attack anything.',\n",
       " 'Always furious and tenacious to boot. It will not abandon chasing its quarry until it is caught.',\n",
       " 'It stops being angry only when nobody else is around. To view this moment is very difficult.',\n",
       " 'If approached while asleep, it may awaken and angrily give chase in a groggy state of semi-sleep.',\n",
       " 'It becomes wildly furious if it even senses someone looking at it. It chases anyone that meets its glare.',\n",
       " 'It will beat up anyone who makes it mad, even if it has to chase them until the end of the world.',\n",
       " ...]"
      ]
     },
     "metadata": {},
     "execution_count": 3
    }
   ],
   "source": [
    "text_entries_plain = list(dict.fromkeys(text_entries_plain))\n",
    "text_entries_plain"
   ]
  },
  {
   "source": [
    "### Save to my MongoDB"
   ],
   "cell_type": "markdown",
   "metadata": {}
  },
  {
   "cell_type": "code",
   "execution_count": 4,
   "metadata": {},
   "outputs": [
    {
     "output_type": "execute_result",
     "data": {
      "text/plain": [
       "Database(MongoClient(host=['171.244.50.232:27017'], document_class=dict, tz_aware=False, connect=True), 'dataDumpingGround')"
      ]
     },
     "metadata": {},
     "execution_count": 4
    }
   ],
   "source": [
    "MONG_USER = os.getenv('MONG_USER')\n",
    "MONG_PWD  = os.getenv('MONG_PWD')\n",
    "MONG_HOST = os.getenv('MONG_HOST')\n",
    "MONG_PORT = os.getenv('MONG_PORT')\n",
    "DATABASE = \"dataDumpingGround\"\n",
    "\n",
    "from pymongo import MongoClient\n",
    "from bson.objectid import ObjectId\n",
    "\n",
    "uri = f\"mongodb://{MONG_USER}:{MONG_PWD}@{MONG_HOST}:{MONG_PORT}/{DATABASE}\"\n",
    "client = MongoClient(uri)\n",
    "db = client[DATABASE]\n",
    "db"
   ]
  },
  {
   "cell_type": "code",
   "execution_count": 7,
   "metadata": {},
   "outputs": [
    {
     "output_type": "execute_result",
     "data": {
      "text/plain": [
       "{'n': 1, 'nModified': 1, 'ok': 1.0, 'updatedExisting': True}"
      ]
     },
     "metadata": {},
     "execution_count": 7
    }
   ],
   "source": [
    "from datetime import datetime, timezone, timedelta\n",
    "\n",
    "dataSoup_col = db[\"dataSoup\"]\n",
    "\n",
    "key = {'name': 'pokedex text_entries_plain'}\n",
    "dataSoup_col.update(key, {\n",
    "    'name': 'pokedex text_entries_plain',\n",
    "    'description': 'yee',\n",
    "    'content': text_entries_plain,\n",
    "    'Last updated': datetime.now(tz=timezone(timedelta(hours=+7)))\n",
    "}, upsert=True)"
   ]
  },
  {
   "cell_type": "code",
   "execution_count": null,
   "metadata": {},
   "outputs": [],
   "source": []
  }
 ]
}