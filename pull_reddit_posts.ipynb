{
 "metadata": {
  "language_info": {
   "codemirror_mode": {
    "name": "ipython",
    "version": 3
   },
   "file_extension": ".py",
   "mimetype": "text/x-python",
   "name": "python",
   "nbconvert_exporter": "python",
   "pygments_lexer": "ipython3",
   "version": "3.8.6-final"
  },
  "orig_nbformat": 2,
  "kernelspec": {
   "name": "python3",
   "display_name": "Python 3",
   "language": "python"
  }
 },
 "nbformat": 4,
 "nbformat_minor": 2,
 "cells": [
  {
   "cell_type": "code",
   "execution_count": 1,
   "metadata": {},
   "outputs": [],
   "source": [
    "from dotenv import load_dotenv\n",
    "load_dotenv()\n",
    "import os\n",
    "import datetime"
   ]
  },
  {
   "source": [
    "## MongoDB client"
   ],
   "cell_type": "markdown",
   "metadata": {}
  },
  {
   "cell_type": "code",
   "execution_count": 2,
   "metadata": {},
   "outputs": [
    {
     "output_type": "execute_result",
     "data": {
      "text/plain": [
       "Database(MongoClient(host=['171.244.50.232:27017'], document_class=dict, tz_aware=False, connect=True), 'dataDumpingGround')"
      ]
     },
     "metadata": {},
     "execution_count": 2
    }
   ],
   "source": [
    "MONG_USER = os.getenv('MONG_USER')\n",
    "MONG_PWD  = os.getenv('MONG_PWD')\n",
    "MONG_HOST = os.getenv('MONG_HOST')\n",
    "MONG_PORT = os.getenv('MONG_PORT')\n",
    "DATABASE = \"dataDumpingGround\"\n",
    "\n",
    "from pymongo import MongoClient\n",
    "from bson.objectid import ObjectId\n",
    "\n",
    "uri = f\"mongodb://{MONG_USER}:{MONG_PWD}@{MONG_HOST}:{MONG_PORT}/{DATABASE}\"\n",
    "client = MongoClient(uri)\n",
    "db = client[DATABASE]\n",
    "db"
   ]
  },
  {
   "source": [
    "## Reddit PRAW client"
   ],
   "cell_type": "markdown",
   "metadata": {}
  },
  {
   "cell_type": "code",
   "execution_count": 3,
   "metadata": {},
   "outputs": [],
   "source": [
    "REDDIT_BOT_ID = os.getenv('REDDIT_BOT_ID')\n",
    "REDDIT_BOT_SECRET = os.getenv('REDDIT_BOT_SECRET')\n",
    "\n",
    "MY_REDDIT_USERNAME = os.getenv('MY_REDDIT_USERNAME')\n",
    "MY_REDDIT_PWD = os.getenv('MY_REDDIT_PWD')"
   ]
  },
  {
   "cell_type": "code",
   "execution_count": 4,
   "metadata": {},
   "outputs": [
    {
     "output_type": "execute_result",
     "data": {
      "text/plain": [
       "<praw.reddit.Reddit at 0x1a27d8138e0>"
      ]
     },
     "metadata": {},
     "execution_count": 4
    }
   ],
   "source": [
    "import praw\n",
    "\n",
    "reddit = praw.Reddit(\n",
    "    client_id = REDDIT_BOT_ID,\n",
    "    client_secret = REDDIT_BOT_SECRET,\n",
    "    user_agent='posts scraper',\n",
    "    username = MY_REDDIT_USERNAME,\n",
    "    password = MY_REDDIT_PWD\n",
    ")\n",
    "reddit"
   ]
  },
  {
   "source": [
    "# 🎬 Action"
   ],
   "cell_type": "markdown",
   "metadata": {}
  },
  {
   "cell_type": "code",
   "execution_count": 5,
   "metadata": {},
   "outputs": [],
   "source": [
    "from pprint import pprint\n",
    "from helperfunctions import (\n",
    "    compress_object,\n",
    "    prettyprint,\n",
    ")\n",
    "from datetime import datetime, timezone, timedelta"
   ]
  },
  {
   "source": [
    "## Params"
   ],
   "cell_type": "markdown",
   "metadata": {}
  },
  {
   "cell_type": "code",
   "execution_count": 6,
   "metadata": {},
   "outputs": [],
   "source": [
    "from sys import maxsize as inf\n",
    "SUBMISSIONS_LIM = inf\n",
    "COMMENTS_LIM = 100\n",
    "USERNAME = 'DjMuffinTops'"
   ]
  },
  {
   "source": [
    "## Get user info"
   ],
   "cell_type": "markdown",
   "metadata": {}
  },
  {
   "cell_type": "code",
   "execution_count": 7,
   "metadata": {},
   "outputs": [
    {
     "output_type": "execute_result",
     "data": {
      "text/plain": [
       "Redditor(name='DjMuffinTops')"
      ]
     },
     "metadata": {},
     "execution_count": 7
    }
   ],
   "source": [
    "redditor = reddit.redditor(USERNAME)\n",
    "redditor"
   ]
  },
  {
   "cell_type": "code",
   "execution_count": 8,
   "metadata": {},
   "outputs": [],
   "source": [
    "import copy \n",
    "\n",
    "redditor.id # to make it non-lazy\n",
    "redditor_dict = copy.deepcopy(redditor.__dict__)"
   ]
  },
  {
   "cell_type": "code",
   "execution_count": 9,
   "metadata": {},
   "outputs": [],
   "source": [
    "# https://praw.readthedocs.io/en/latest/code_overview/models/redditor.html\n",
    "attrs_to_discard = [\n",
    "    '_reddit', '_fetched', '_listing_use_sort'\n",
    "]\n",
    "\n",
    "[redditor_dict.pop(key) for key in attrs_to_discard]\n",
    "redditor_dict['Last updated'] = datetime.now(tz=timezone(timedelta(hours=+7)))\n",
    "# redditor_dict"
   ]
  },
  {
   "source": [
    "Save to db"
   ],
   "cell_type": "markdown",
   "metadata": {}
  },
  {
   "cell_type": "code",
   "execution_count": 10,
   "metadata": {},
   "outputs": [
    {
     "output_type": "execute_result",
     "data": {
      "text/plain": [
       "{'n': 1, 'nModified': 1, 'ok': 1.0, 'updatedExisting': True}"
      ]
     },
     "metadata": {},
     "execution_count": 10
    }
   ],
   "source": [
    "profile_col = db[\"redditProfiles\"]\n",
    "key = {'name': redditor_dict['name']}\n",
    "profile_col.update(key, redditor_dict, upsert=True)"
   ]
  },
  {
   "source": [
    "## 🚩 Get submissions"
   ],
   "cell_type": "markdown",
   "metadata": {}
  },
  {
   "cell_type": "code",
   "execution_count": 11,
   "metadata": {},
   "outputs": [],
   "source": [
    "# https://praw.readthedocs.io/en/latest/code_overview/models/submission.html\n",
    "attrs = [\n",
    "    'created_utc', 'distinguished', 'edited', 'id', 'is_original_content', 'is_self',\n",
    "    'link_flair_template_id', 'link_flair_text', 'locked', 'name', 'num_comments', \n",
    "    'over_18', 'permalink', 'poll_data', 'score', 'selftext', 'spoiler', 'stickied',\n",
    "    'title', 'upvote_ratio', 'url',\n",
    "    'total_awards_received'\n",
    "]"
   ]
  },
  {
   "cell_type": "code",
   "execution_count": 12,
   "metadata": {
    "tags": []
   },
   "outputs": [
    {
     "output_type": "stream",
     "name": "stderr",
     "text": [
      "86it [00:02, 33.49it/s]\n"
     ]
    }
   ],
   "source": [
    "from tqdm import tqdm\n",
    "\n",
    "sub_col = db[\"redditSubmissions\"]\n",
    "\n",
    "for submission in tqdm( redditor.submissions.new(limit=SUBMISSIONS_LIM) ):\n",
    "    # pprint(submission.__dict__)\n",
    "    sub_obj = compress_object(submission.__dict__, attrs)\n",
    "    sub_obj['Last updated'] = datetime.now(tz=timezone(timedelta(hours=+7)))\n",
    "    sub_obj['Author_name'] = submission.author.name # author.name is unique\n",
    "    sub_obj['Subreddit_name'] = submission.subreddit.display_name # display_name is unique\n",
    "    # sub_obj['Distinct_award_count'] = len(submission.all_awardings)\n",
    "    # pprint(sub_obj)\n",
    "\n",
    "    key = {'id': sub_obj['id']}\n",
    "    sub_col.update(key, sub_obj, upsert=True)"
   ]
  },
  {
   "source": [
    "## 💬 Get comments"
   ],
   "cell_type": "markdown",
   "metadata": {}
  },
  {
   "cell_type": "code",
   "execution_count": 13,
   "metadata": {},
   "outputs": [],
   "source": [
    "# https://praw.readthedocs.io/en/latest/code_overview/models/comment.html\n",
    "cmt_attrs = [\n",
    "    'body', 'body_html', 'created_utc', 'distinguished', 'edited', 'id',\n",
    "    'is_submitter', 'link_id', 'parent_id', 'permalink', 'saved', \n",
    "    'score', 'stickied',\n",
    "    'name', 'total_awards_received'\n",
    "]"
   ]
  },
  {
   "cell_type": "code",
   "execution_count": 14,
   "metadata": {},
   "outputs": [
    {
     "output_type": "stream",
     "name": "stderr",
     "text": [
      "100it [00:02, 47.59it/s]\n"
     ]
    }
   ],
   "source": [
    "cmt_col = db[\"redditComments\"]\n",
    "\n",
    "for comment in tqdm( redditor.comments.new(limit=COMMENTS_LIM) ):\n",
    "    # pprint(comment.__dict__)\n",
    "    cmt_obj = compress_object(comment.__dict__, cmt_attrs)\n",
    "    cmt_obj['Last updated'] = datetime.now(tz=timezone(timedelta(hours=+7)))\n",
    "    cmt_obj['Author_name'] = comment.author.name\n",
    "    cmt_obj['Subreddit_name'] = comment.subreddit.display_name\n",
    "    # pprint(cmt_obj)\n",
    "\n",
    "    key = {'id': cmt_obj['id']}\n",
    "    cmt_col.update(key, cmt_obj, upsert=True)"
   ]
  }
 ]
}