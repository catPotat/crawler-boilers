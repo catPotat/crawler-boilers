{
 "cells": [
  {
   "cell_type": "code",
   "execution_count": 2,
   "metadata": {},
   "outputs": [],
   "source": [
    "import os"
   ]
  },
  {
   "cell_type": "code",
   "execution_count": 3,
   "metadata": {},
   "outputs": [
    {
     "name": "stdout",
     "output_type": "stream",
     "text": [
      "C:\\Users\\hoang\\OneDrive\\Documents\\KO GIAN LÀM VIỆC\\JupyterNotebooks\\code\\other\\.ipynb_checkpoints\n"
     ]
    }
   ],
   "source": [
    "PATH = \"C:\\\\Users\\\\hoang\\\\OneDrive\"\n",
    "fpath_to_remove = []\n",
    "dir_to_remove = []\n",
    "for root, dirs, files in os.walk(PATH, topdown=False):\n",
    "    for name in files:\n",
    "        if (\n",
    "            name.startswith(\"._\")\n",
    "            or name.endswith(\".kra~\")\n",
    "            or name.endswith(\".png~\")\n",
    "            or name.endswith(\".kra-autosave.kra\")\n",
    "        ):\n",
    "            fpath = os.path.join(root, name)\n",
    "            print(fpath)\n",
    "            fpath_to_remove.append(fpath)\n",
    "    for name in dirs:\n",
    "        if (\n",
    "            name.startswith(\".ipynb_checkpoints\")\n",
    "            or name.startswith(\".ipynb_checkpoints\")\n",
    "            or name.startswith(\".ipynb_checkpoints\")\n",
    "        ):\n",
    "            dpath = os.path.join(root, name)\n",
    "            print(dpath)\n",
    "            dir_to_remove.append(fpath)"
   ]
  },
  {
   "cell_type": "code",
   "execution_count": null,
   "metadata": {},
   "outputs": [],
   "source": [
    "for fp in fpath_to_remove:\n",
    "    os.remove(fp)\n",
    "for d in dir_to_remove:\n",
    "    os.rmdir(d)"
   ]
  },
  {
   "cell_type": "code",
   "execution_count": 12,
   "metadata": {},
   "outputs": [
    {
     "name": "stdout",
     "output_type": "stream",
     "text": [
      "1273 1199\n"
     ]
    },
    {
     "data": {
      "text/plain": [
       "['175dc77392e',\n",
       " 'settings.json',\n",
       " 'CrashReportClient.ini',\n",
       " 'CrashContext.runtime-xml',\n",
       " 'CrashReportClient.ini',\n",
       " 'UE4Minidump.dmp',\n",
       " 'desktop.ini',\n",
       " 'ar.strings',\n",
       " 'ca.strings',\n",
       " 'cs.strings',\n",
       " 'da.strings',\n",
       " 'de.strings',\n",
       " 'el.strings',\n",
       " 'en.strings',\n",
       " 'en_AU.strings',\n",
       " 'en_GB.strings',\n",
       " 'es.strings',\n",
       " 'es_419.strings',\n",
       " 'fi.strings',\n",
       " 'fr.strings',\n",
       " 'fr_CA.strings',\n",
       " 'he.strings',\n",
       " 'hi.strings',\n",
       " 'hr.strings',\n",
       " 'hu.strings',\n",
       " 'id.strings',\n",
       " 'it.strings',\n",
       " 'ja.strings',\n",
       " 'ko.strings',\n",
       " 'ms.strings',\n",
       " 'nl.strings',\n",
       " 'no.strings',\n",
       " 'pl.strings',\n",
       " 'pt.strings',\n",
       " 'pt_PT.strings',\n",
       " 'ro.strings',\n",
       " 'ru.strings',\n",
       " 'sk.strings',\n",
       " 'sv.strings',\n",
       " 'th.strings',\n",
       " 'tr.strings',\n",
       " 'uk.strings',\n",
       " 'vi.strings',\n",
       " 'zh_CN.strings',\n",
       " 'zh_HK.strings',\n",
       " 'zh_TW.strings',\n",
       " 'AlbumArtSmall.jpg',\n",
       " 'cover.jpg',\n",
       " 'Folder.jpg',\n",
       " 'AlbumArtSmall.jpg',\n",
       " 'cover.jpg',\n",
       " 'Folder.jpg',\n",
       " 'AlbumArtSmall.jpg',\n",
       " 'Folder.jpg',\n",
       " 'AlbumArtSmall.jpg',\n",
       " 'Folder.jpg',\n",
       " 'AlbumArtSmall.jpg',\n",
       " 'Folder.jpg',\n",
       " 'AlbumArtSmall.jpg',\n",
       " 'Folder.jpg',\n",
       " 'AlbumArtSmall.jpg',\n",
       " 'Folder.jpg',\n",
       " 'Cover.jpg',\n",
       " 'AlbumArtSmall.jpg',\n",
       " 'cover.jpg',\n",
       " 'Folder.jpg',\n",
       " 'desktop.ini',\n",
       " '.Media Preferences.plist',\n",
       " 'desktop.ini',\n",
       " 'desktop.ini',\n",
       " 'desktop.ini',\n",
       " 'desktop.ini',\n",
       " 'desktop.ini',\n",
       " 'desktop.ini']"
      ]
     },
     "execution_count": 12,
     "metadata": {},
     "output_type": "execute_result"
    }
   ],
   "source": [
    "PATH = \"C:\\\\Users\\\\hoang\\\\OneDrive\"\n",
    "seen = []\n",
    "for root, dirs, files in os.walk(PATH, topdown=False):\n",
    "    for name in files:\n",
    "        seen.append(name)\n",
    "print(seen.__len__(), set(seen).__len__())\n",
    "for name in set(seen):\n",
    "    seen.remove(name)\n",
    "seen"
   ]
  },
  {
   "cell_type": "code",
   "execution_count": 6,
   "metadata": {},
   "outputs": [],
   "source": [
    "PATH = \"/Users/long_nh/Library/Application Support/discord/Cache/Cache_Data\"\n",
    "for root, dirs, files in os.walk(PATH, topdown=False):\n",
    "    for name in files:\n",
    "        fpath = os.path.join(root, name)\n",
    "        os.rename(fpath, fpath.replace(\".jpg\", \".mov\"))"
   ]
  }
 ],
 "metadata": {
  "kernelspec": {
   "display_name": "forjupyternotebooks",
   "language": "python",
   "name": "python3"
  },
  "language_info": {
   "codemirror_mode": {
    "name": "ipython",
    "version": 3
   },
   "file_extension": ".py",
   "mimetype": "text/x-python",
   "name": "python",
   "nbconvert_exporter": "python",
   "pygments_lexer": "ipython3",
   "version": "3.11.3"
  },
  "orig_nbformat": 4
 },
 "nbformat": 4,
 "nbformat_minor": 2
}
