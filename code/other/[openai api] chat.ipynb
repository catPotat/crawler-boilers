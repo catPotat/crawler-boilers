{
 "cells": [
  {
   "cell_type": "code",
   "execution_count": 1,
   "metadata": {},
   "outputs": [],
   "source": [
    "from dotenv import load_dotenv\n",
    "\n",
    "load_dotenv()\n",
    "import os\n",
    "import openai\n",
    "import json\n",
    "\n",
    "# openai.AsyncC?"
   ]
  },
  {
   "cell_type": "code",
   "execution_count": 15,
   "metadata": {},
   "outputs": [],
   "source": [
    "table = \"\"\"\n",
    "TABLE 10-2 Media choice table\n",
    "Key: 1: Excellent, 2: Adequate, 3: Inappropriate\n",
    "How Well Medium Is Suited to: Hard Copy, Phone Call, Voice Mail, E-mail, Meeting, Web Site\n",
    "Assessing commitment 3 2 3 3 1 3\n",
    "Building consensus 3 2 3 3 1 3 \n",
    "Mediating a conflict 3 2 3 3 1 3 \n",
    "Resolving a misunderstanding 3 1 3 3 2 3 \n",
    "Addressing negative behavior 3 2 3 2 1 3\n",
    "Expressing support or appreciation 1 2 2 1 2 3 \n",
    "Encouraging creative thinking 2 3 3 1 3 3\n",
    "Making an ironic statement 3 2 2 3 1 3\n",
    "Conveying a reference document 1 3 3 3 3 2\n",
    "Reinforcing one’s authority 1 2 3 3 1 1 \n",
    "Providing a permanent record 1 3 3 1 3 3 \n",
    "Maintaining confidentiality 2 1 2 3 1 3\n",
    "Conveying simple information 3 1 1 1 2 3\n",
    "Asking an informational question 3 1 1 1 3 3\n",
    "Making a simple request 3 1 1 1 3 3 \n",
    "Giving complex instructions 3 3 2 2 1 2 \n",
    "Addressing many people 2 (3 or 1*) 2 2 3 1\n",
    "*Depends on system functionality\n",
    "\"\"\"\n",
    "\n",
    "# Addressing many people 2 3 or 1* 2 2 3 1"
   ]
  },
  {
   "cell_type": "code",
   "execution_count": 26,
   "metadata": {},
   "outputs": [
    {
     "data": {
      "text/plain": [
       "<OpenAIObject chat.completion id=chatcmpl-76drz4ko7ZneXeZLkhkvXMVadFkuo at 0x12b5a5850> JSON: {\n",
       "  \"choices\": [\n",
       "    {\n",
       "      \"finish_reason\": \"stop\",\n",
       "      \"index\": 0,\n",
       "      \"message\": {\n",
       "        \"content\": \"Understanding body language is an essential skill that can help you interpret how people are feeling and what they are thinking. Some common body movements that can help you understand how people are really feeling include:\\n\\n1. Eye contact: Eye contact is a crucial aspect of body language. If someone avoids eye contact, it may indicate that they are uncomfortable or hiding something.\\n\\n2. Facial expressions: Facial expressions can reveal a lot about a person's emotions. For example, a smile can indicate happiness, while a frown can indicate sadness or anger.\\n\\n3. Posture: Posture can also reveal a lot about a person's emotions. For example, if someone is standing up straight with their shoulders back, it may indicate confidence. On the other hand, if someone is slouching, it may indicate insecurity or discomfort.\\n\\n4. Gestures: Gestures such as crossing arms, touching noses, or fidgeting can also reveal a lot about a person's emotions. For example, crossing arms may indicate defensiveness or discomfort, while touching the nose may indicate deception.\\n\\nIf someone looks up a lot when talking, it may indicate that they are accessing their visual memory and trying to recall something. If someone looks down or side to side, it may indicate that they are feeling uncomfortable or trying to avoid eye contact.\\n\\nWhen people cross their arms, it may indicate defensiveness or discomfort. Touching the nose may indicate deception, while making other common gestures with their bodies may indicate nervousness or discomfort.\\n\\nTo perform a role play of common project scenarios, you can have people take turns saying something that does not match their body language. For example, someone might say that work is going well on a particular task when it is not. This exercise can help people become more aware of their body language and how it can reveal their true feelings and intentions.\",\n",
       "        \"role\": \"assistant\"\n",
       "      }\n",
       "    }\n",
       "  ],\n",
       "  \"created\": 1681817583,\n",
       "  \"id\": \"chatcmpl-76drz4ko7ZneXeZLkhkvXMVadFkuo\",\n",
       "  \"model\": \"gpt-3.5-turbo-0301\",\n",
       "  \"object\": \"chat.completion\",\n",
       "  \"usage\": {\n",
       "    \"completion_tokens\": 369,\n",
       "    \"prompt_tokens\": 139,\n",
       "    \"total_tokens\": 508\n",
       "  }\n",
       "}"
      ]
     },
     "execution_count": 26,
     "metadata": {},
     "output_type": "execute_result"
    }
   ],
   "source": [
    "res = openai.ChatCompletion.create(\n",
    "    model=\"gpt-3.5-turbo\",\n",
    "    temperature=0.1,\n",
    "    # max_tokens=4000,\n",
    "    messages=[\n",
    "        {\n",
    "            \"role\": \"system\",\n",
    "            \"content\": \"\"\"You are a helpful assistant named \"Reon\".\"\"\",\n",
    "        },\n",
    "        {\n",
    "            \"role\": \"user\",\n",
    "            \"content\": f\"\\\n",
    "Research the topic of understanding body language. (3pts)\\\n",
    "What are some common body movements that can help you understand how people are really feeling? \\\n",
    "What does it mean if someone looks up a lot when talking versus looking down or side to side? \\\n",
    "What does it mean when people cross their arms, touch their noses, or make other common gestures with their bodies? \\\n",
    "Perform a role play of common project scenarios, and have people take turns saying something that does not match their body language. For example, someone might say that work is going well on a particular task when it is not.\\\n",
    "\",\n",
    "        },\n",
    "    ],\n",
    ")\n",
    "res\n"
   ]
  },
  {
   "cell_type": "code",
   "execution_count": null,
   "metadata": {},
   "outputs": [],
   "source": [
    "# res.choices[0].message.content\n"
   ]
  }
 ],
 "metadata": {
  "kernelspec": {
   "display_name": "forjupyterlab",
   "language": "python",
   "name": "python3"
  },
  "language_info": {
   "codemirror_mode": {
    "name": "ipython",
    "version": 3
   },
   "file_extension": ".py",
   "mimetype": "text/x-python",
   "name": "python",
   "nbconvert_exporter": "python",
   "pygments_lexer": "ipython3",
   "version": "3.11.1"
  },
  "orig_nbformat": 4
 },
 "nbformat": 4,
 "nbformat_minor": 2
}
