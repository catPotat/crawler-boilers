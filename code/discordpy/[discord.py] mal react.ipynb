{
 "cells": [
  {
   "attachments": {},
   "cell_type": "markdown",
   "metadata": {},
   "source": [
    "## Setup"
   ]
  },
  {
   "cell_type": "code",
   "execution_count": 1,
   "metadata": {},
   "outputs": [],
   "source": [
    "from dotenv import load_dotenv\n",
    "\n",
    "load_dotenv()\n",
    "import os\n",
    "import discord\n",
    "import asyncio\n",
    "from tqdm.auto import tqdm\n",
    "from IPython.display import display, HTML\n",
    "from datetime import datetime, timedelta\n",
    "import time\n",
    "import requests\n",
    "import random"
   ]
  },
  {
   "cell_type": "code",
   "execution_count": 2,
   "metadata": {},
   "outputs": [
    {
     "name": "stdout",
     "output_type": "stream",
     "text": [
      "Logged in as daiyamondo_o#0\n"
     ]
    }
   ],
   "source": [
    "LOGIN_TOKEN = os.getenv(\"adhesylv_TOKEN\")\n",
    "IS_BOT = 0  # <= 1.7.3\n",
    "REEEON_ID = 510768840972566528\n",
    "\n",
    "\n",
    "class DiscordClient(discord.Client):\n",
    "    def __init__(self):\n",
    "        intents = discord.Intents.default()\n",
    "        intents.members = True\n",
    "        super().__init__(intents=intents)\n",
    "\n",
    "    async def cbt(self):  # call back task\n",
    "        while not self.is_ready():\n",
    "            await asyncio.sleep(0.2)\n",
    "\n",
    "\n",
    "client = DiscordClient()\n",
    "await asyncio.wait(\n",
    "    [\n",
    "        asyncio.create_task(client.start(LOGIN_TOKEN, bot=IS_BOT)),\n",
    "        asyncio.create_task(client.cbt()),\n",
    "    ],\n",
    "    return_when=asyncio.FIRST_COMPLETED,\n",
    ")\n",
    "print(f\"Logged in as {client.user}\")"
   ]
  },
  {
   "attachments": {},
   "cell_type": "markdown",
   "metadata": {},
   "source": [
    "## Read"
   ]
  },
  {
   "cell_type": "code",
   "execution_count": 3,
   "metadata": {},
   "outputs": [
    {
     "name": "stdout",
     "output_type": "stream",
     "text": [
      "10\n"
     ]
    },
    {
     "data": {
      "text/plain": [
       "[<Guild id=292464065731624970 name='/r/FeralPokePorn' shard_id=None chunked=False member_count=8891>,\n",
       " <Guild id=511986246629982256 name='Total eeveepilled' shard_id=None chunked=False member_count=42>,\n",
       " <Guild id=595944157957193739 name='OuRoom' shard_id=None chunked=False member_count=620>,\n",
       " <Guild id=641136751389442049 name=\"Eevee's Tea Party\" shard_id=None chunked=False member_count=731>,\n",
       " <Guild id=652902499879223326 name='FurGaming 『F.G』🐾' shard_id=None chunked=False member_count=272>,\n",
       " <Guild id=966134280134721546 name='Out of Context Poképorn' shard_id=None chunked=False member_count=1218>,\n",
       " <Guild id=991613372439212142 name='Luma AI' shard_id=None chunked=False member_count=88514>,\n",
       " <Guild id=1106996814583971992 name=\"Sywu's House\" shard_id=None chunked=False member_count=688>,\n",
       " <Guild id=1178869614743130263 name='boykissers :3' shard_id=None chunked=False member_count=417>,\n",
       " <Guild id=1179056396663259267 name='hang mèo cực nhỏ - leave whenever' shard_id=None chunked=True member_count=3>]"
      ]
     },
     "execution_count": 3,
     "metadata": {},
     "output_type": "execute_result"
    }
   ],
   "source": [
    "print(client.guilds.__len__())\n",
    "client.guilds[:20]"
   ]
  },
  {
   "attachments": {},
   "cell_type": "markdown",
   "metadata": {},
   "source": [
    "#### Guild channels"
   ]
  },
  {
   "cell_type": "code",
   "execution_count": 4,
   "metadata": {},
   "outputs": [
    {
     "name": "stdout",
     "output_type": "stream",
     "text": [
      "FurGaming 『F.G』🐾\n"
     ]
    },
    {
     "data": {
      "text/plain": [
       "[<TextChannel id=668343360347570177 name='welcome' position=0 nsfw=False news=False category_id=926010359444287509>,\n",
       " <TextChannel id=922339134457147452 name='you-know-the-rule' position=1 nsfw=False news=False category_id=926010359444287509>,\n",
       " <TextChannel id=668494631561855006 name='loa-phát-thanh' position=2 nsfw=False news=False category_id=926010359444287509>,\n",
       " <TextChannel id=926010895354703914 name='phòng-vé' position=3 nsfw=False news=False category_id=926010359444287509>,\n",
       " <TextChannel id=955034571047575552 name='color-role' position=4 nsfw=False news=False category_id=926010359444287509>,\n",
       " <TextChannel id=958364900579766293 name='cya' position=5 nsfw=False news=False category_id=926010359444287509>,\n",
       " <TextChannel id=973178070276116490 name='epik-mini-games' position=6 nsfw=False news=False category_id=926010359444287509>,\n",
       " <TextChannel id=1034400884458790942 name='💬-động-fuwwy' position=7 nsfw=False news=False category_id=652902500415963136>,\n",
       " <TextChannel id=1105177512696360980 name='🎮-game-xuyên-đêm' position=8 nsfw=False news=False category_id=652902500415963136>,\n",
       " <TextChannel id=1107309659024527460 name='🎨-latest-art' position=9 nsfw=False news=False category_id=652902500415963136>,\n",
       " <TextChannel id=1175567614420996148 name='📌chia-sẻ-kinh-nghiệm-vẽ' position=10 nsfw=False news=False category_id=652902500415963136>,\n",
       " <TextChannel id=1169823930064830534 name='📸-photography' position=11 nsfw=False news=False category_id=652902500415963136>,\n",
       " <TextChannel id=1131534629833277470 name='🦊share-fursuit📸' position=12 nsfw=False news=False category_id=652902500415963136>,\n",
       " <TextChannel id=911820879959302144 name='🍀-rất-chi-là-mim' position=13 nsfw=False news=False category_id=652902500415963136>,\n",
       " <TextChannel id=1105154029278986321 name='hầm' position=14 nsfw=False news=False category_id=652902500415963136>,\n",
       " <TextChannel id=669840027668185108 name='🎲-casino' position=15 nsfw=False news=False category_id=652902500415963136>,\n",
       " <TextChannel id=670322574600699934 name='khách-sạn-online🤔' position=16 nsfw=True news=False category_id=652902500415963136>,\n",
       " <TextChannel id=1117456317364318259 name='🧜🏿-thú-tội-cùng-laurentina' position=17 nsfw=True news=False category_id=652902500415963136>,\n",
       " <TextChannel id=1107314139359100959 name='🌆-your-oc-lore' position=18 nsfw=False news=False category_id=652902500415963136>,\n",
       " <TextChannel id=1120338283990360096 name='🍜-foodporn' position=19 nsfw=False news=False category_id=652902500415963136>,\n",
       " <TextChannel id=912006589349789837 name='🔺phòng-bầu-cử' position=20 nsfw=False news=False category_id=652902500415963136>,\n",
       " <TextChannel id=958377694763057172 name='gay-prison' position=21 nsfw=False news=False category_id=652902500415963136>,\n",
       " <TextChannel id=1015280337787556011 name='boong-ke' position=22 nsfw=False news=False category_id=652902500415963136>,\n",
       " <TextChannel id=652902500415963138 name='🐧-side-chat-wibu-cave' position=23 nsfw=False news=False category_id=652902500415963136>,\n",
       " <TextChannel id=668673240868061205 name='sever-không-vip-xóa-sever' position=24 nsfw=False news=False category_id=652902500415963136>,\n",
       " <TextChannel id=669182172871131158 name='emoji-chất-lượng-cao' position=25 nsfw=False news=False category_id=652902500415963136>,\n",
       " <TextChannel id=669177505294581761 name='setup-bot' position=26 nsfw=False news=False category_id=652902500415963136>,\n",
       " <TextChannel id=939153752965931089 name='ban-quản-lý' position=27 nsfw=False news=False category_id=652902500415963136>,\n",
       " <TextChannel id=668712872611807233 name='music' position=28 nsfw=False news=False category_id=652902500415963137>,\n",
       " <TextChannel id=934387239654404157 name='no-mic' position=29 nsfw=False news=False category_id=652902500415963137>,\n",
       " <TextChannel id=921996765270540349 name='🚮spam-kazuha' position=30 nsfw=False news=False category_id=673163881060761611>,\n",
       " <TextChannel id=944776829833728030 name='mudae' position=31 nsfw=False news=False category_id=673163881060761611>,\n",
       " <TextChannel id=1064760076390371370 name='câu-cáo' position=32 nsfw=False news=False category_id=673163881060761611>,\n",
       " <TextChannel id=1064770893533937734 name='câu-cáo-2' position=33 nsfw=False news=False category_id=673163881060761611>,\n",
       " <TextChannel id=926287672387965028 name='🔹tips-kazuha' position=34 nsfw=False news=False category_id=673163881060761611>,\n",
       " <TextChannel id=935090470588125275 name='🔸giá-xăng-vàng-hiện-giờ' position=35 nsfw=False news=False category_id=673163881060761611>,\n",
       " <TextChannel id=935087131066515496 name='🔸đài-truyền-hình-kazuha' position=36 nsfw=False news=False category_id=673163881060761611>,\n",
       " <TextChannel id=673163968088506371 name='🎴kazuha' position=37 nsfw=False news=False category_id=673163881060761611>,\n",
       " <TextChannel id=915834937624657950 name='khu-thương-mại-tháp-đôi' position=38 nsfw=False news=False category_id=673163881060761611>,\n",
       " <TextChannel id=925998430956978196 name='💰bounty' position=39 nsfw=False news=False category_id=673163881060761611>,\n",
       " <TextChannel id=957987532929400872 name='love-catsle' position=40 nsfw=False news=False category_id=673163881060761611>,\n",
       " <TextChannel id=952429631376621659 name='🎉giveaway🎉' position=41 nsfw=False news=False category_id=952429445313093663>,\n",
       " <TextChannel id=668625593679740933 name='brawler' position=42 nsfw=False news=False category_id=668625302850764843>,\n",
       " <TextChannel id=668625724873375764 name='assassin' position=43 nsfw=False news=False category_id=668625302850764843>,\n",
       " <TextChannel id=668625916007677973 name='tank' position=44 nsfw=False news=False category_id=668625302850764843>,\n",
       " <TextChannel id=668625977701826570 name='special' position=45 nsfw=False news=False category_id=668625302850764843>,\n",
       " <TextChannel id=668626056755937302 name='marksman' position=46 nsfw=False news=False category_id=668625302850764843>,\n",
       " <TextChannel id=668626230118973440 name='support' position=47 nsfw=False news=False category_id=668625302850764843>,\n",
       " <TextChannel id=668626298557693953 name='brust' position=48 nsfw=False news=False category_id=668625302850764843>,\n",
       " <TextChannel id=668626412307218449 name='gamepass' position=49 nsfw=False news=False category_id=668625302850764843>]"
      ]
     },
     "execution_count": 4,
     "metadata": {},
     "output_type": "execute_result"
    }
   ],
   "source": [
    "guild = client.get_guild(652902499879223326     )\n",
    "print(guild.name)\n",
    "chnls = guild.text_channels\n",
    "chnls"
   ]
  },
  {
   "attachments": {},
   "cell_type": "markdown",
   "metadata": {},
   "source": [
    "#### Channel messages"
   ]
  },
  {
   "cell_type": "code",
   "execution_count": 7,
   "metadata": {},
   "outputs": [
    {
     "name": "stdout",
     "output_type": "stream",
     "text": [
      "\u001b[1m\u001b[36mshirona_yuki\u001b[0m <@587216138807803904> \u001b[37m2022-10-25 09:39:56.586000\n",
      "\u001b[1m\u001b[36mshirona_yuki\u001b[0m A di chuyển channle này dưới <#911820879959302144> giùm e vs \u001b[37m2022-10-25 09:40:30.071000\n"
     ]
    },
    {
     "data": {
      "text/plain": [
       "(2, 2)"
      ]
     },
     "execution_count": 7,
     "metadata": {},
     "output_type": "execute_result"
    }
   ],
   "source": [
    "chnl = client.get_channel(1034400884458790942)\n",
    "BEFORE = None # datetime.strptime(\"16/06/2025 21:40\", \"%d/%m/%Y %H:%M\") - timedelta(hours=7)\n",
    "# BEFORE = datetime.strptime(\"2022-01-22 15:42:57.599000\", \"%Y-%m-%d %H:%M:%S.%f\")\n",
    "LIMIT = 2\n",
    "# except discord.Forbidden:\n",
    "fetched = 0\n",
    "printed = 0\n",
    "async for msg in chnl.history(limit=LIMIT, before=BEFORE, oldest_first=True):\n",
    "    fetched += 1\n",
    "    # if msg.author.id != 803716426312581191:\n",
    "    #     continue\n",
    "\n",
    "    printed += 1\n",
    "    # pretty print message\n",
    "    print(\n",
    "        f\"\\x1b[1m\\x1b[36m{msg.author.name}\\x1b[0m {msg.content} \\x1b[37m{msg.created_at}\"\n",
    "    )\n",
    "    for a in msg.attachments:\n",
    "        display(HTML(f\"<img src={a.url} width='300'>\"))\n",
    "printed, fetched"
   ]
  },
  {
   "attachments": {},
   "cell_type": "markdown",
   "metadata": {},
   "source": [
    "#### Guild members"
   ]
  },
  {
   "cell_type": "code",
   "execution_count": 5,
   "metadata": {},
   "outputs": [
    {
     "data": {
      "text/plain": [
       "[<Member id=635379621075877890 name='oolongteas' discriminator='0' bot=False nick='ZzKandyyyzZ' guild=<Guild id=756131891941343352 name='ohayooo' shard_id=None chunked=True member_count=7>>,\n",
       " <Member id=510768840972566528 name='umbrecore' discriminator='0' bot=False nick=None guild=<Guild id=756131891941343352 name='ohayooo' shard_id=None chunked=True member_count=7>>,\n",
       " <Member id=1062669147328217120 name='Reon Test Mode' discriminator='7053' bot=True nick=None guild=<Guild id=756131891941343352 name='ohayooo' shard_id=None chunked=True member_count=7>>,\n",
       " <Member id=384330047730745355 name='evetimiii' discriminator='0' bot=False nick=None guild=<Guild id=756131891941343352 name='ohayooo' shard_id=None chunked=True member_count=7>>,\n",
       " <Member id=584606572454477836 name='kiddocatkomiga' discriminator='0' bot=False nick=None guild=<Guild id=756131891941343352 name='ohayooo' shard_id=None chunked=True member_count=7>>,\n",
       " <Member id=756131679118032940 name='ohayooo1406' discriminator='0' bot=False nick=None guild=<Guild id=756131891941343352 name='ohayooo' shard_id=None chunked=True member_count=7>>,\n",
       " <Member id=1054038717121175662 name='heincheese' discriminator='0' bot=False nick='Khều' guild=<Guild id=756131891941343352 name='ohayooo' shard_id=None chunked=True member_count=7>>]"
      ]
     },
     "execution_count": 5,
     "metadata": {},
     "output_type": "execute_result"
    }
   ],
   "source": [
    "[m for m in guild.members if \"\" in m.name.lower()]"
   ]
  },
  {
   "attachments": {},
   "cell_type": "markdown",
   "metadata": {},
   "source": [
    "#### Roles"
   ]
  },
  {
   "attachments": {},
   "cell_type": "markdown",
   "metadata": {},
   "source": [
    "#### Users of role"
   ]
  },
  {
   "cell_type": "code",
   "execution_count": 6,
   "metadata": {},
   "outputs": [
    {
     "name": "stdout",
     "output_type": "stream",
     "text": [
      "8\n"
     ]
    },
    {
     "data": {
      "text/plain": [
       "[<Member id=361182734141358081 name='poi117' discriminator='0' bot=False nick='🎀 Poi ポイ⭐ ✨' guild=<Guild id=551585078812082228 name=\"Poi's Bakery\" shard_id=None chunked=True member_count=316>>,\n",
       " <Member id=424920673446526977 name='ShazStar.' discriminator='0114' bot=False nick=None guild=<Guild id=551585078812082228 name=\"Poi's Bakery\" shard_id=None chunked=True member_count=316>>,\n",
       " <Member id=510768840972566528 name='umbrecore' discriminator='7554' bot=False nick='Reeon Đen Vee' guild=<Guild id=551585078812082228 name=\"Poi's Bakery\" shard_id=None chunked=True member_count=316>>,\n",
       " <Member id=803716426312581191 name='𝒶𝓃𝑔𝑒𝓁' discriminator='0703' bot=False nick='🎀 ✧ Linlin' guild=<Guild id=551585078812082228 name=\"Poi's Bakery\" shard_id=None chunked=True member_count=316>>,\n",
       " <Member id=365820303701442561 name='kusa7a' discriminator='0' bot=False nick='🎀 Whitesoul381' guild=<Guild id=551585078812082228 name=\"Poi's Bakery\" shard_id=None chunked=True member_count=316>>,\n",
       " <Member id=552051573321105411 name='NukeGH05T' discriminator='1452' bot=False nick='Shahrear Zuhaifa' guild=<Guild id=551585078812082228 name=\"Poi's Bakery\" shard_id=None chunked=True member_count=316>>,\n",
       " <Member id=242276901362728960 name='Sun たいよう' discriminator='4215' bot=False nick='🎀 Airiyuki あいりゆき 🌸' guild=<Guild id=551585078812082228 name=\"Poi's Bakery\" shard_id=None chunked=True member_count=316>>,\n",
       " <Member id=153078921833742336 name='perl' discriminator='8497' bot=False nick='চাইনিস Zuhaifa🦋~' guild=<Guild id=551585078812082228 name=\"Poi's Bakery\" shard_id=None chunked=True member_count=316>>]"
      ]
     },
     "execution_count": 6,
     "metadata": {},
     "output_type": "execute_result"
    }
   ],
   "source": [
    "role = guild.get_role(551585888384188419)\n",
    "print(role.members.__len__())\n",
    "role.members"
   ]
  },
  {
   "attachments": {},
   "cell_type": "markdown",
   "metadata": {},
   "source": [
    "## Write"
   ]
  },
  {
   "attachments": {},
   "cell_type": "markdown",
   "metadata": {},
   "source": [
    "### 🚨 Purge 🚨"
   ]
  },
  {
   "cell_type": "code",
   "execution_count": 7,
   "metadata": {},
   "outputs": [],
   "source": [
    "def to_delete_callback(msg):\n",
    "    global to_delete, confirming, downloaded_a, failed_a\n",
    "    # if msg.author.id != 744725561816907807:\n",
    "    #     return False\n",
    "    if confirming:\n",
    "        print(\"Example message:\", msg.author, msg.content)\n",
    "        print()\n",
    "        if input(\"Confirm purge? (Y/n)\") == \"Y\":\n",
    "            confirming = False\n",
    "        else:\n",
    "            raise Exception(\"Canceled\")\n",
    "    to_delete.append(msg)\n",
    "    print(msg.author, msg.content)\n",
    "    for atch in msg.attachments:\n",
    "        print(atch)\n",
    "        try:\n",
    "            open(f\"{OUTPUT_FOLDER}/{atch.id}_{atch.filename}\", \"wb\").write(\n",
    "                requests.get(atch.url).content\n",
    "            )\n",
    "            downloaded_a.append(atch)\n",
    "        except:\n",
    "            failed_a.append(atch)\n",
    "    return True\n",
    "\n",
    "\n",
    "def msg_range(dt1=None, dt2=None):\n",
    "    if not dt2:\n",
    "        dt = datetime.strptime(dt1, DT_FORMAT)\n",
    "        tiny = timedelta(seconds=0.1)\n",
    "        return {\"after\": dt - tiny, \"before\": dt + tiny}\n",
    "    else:\n",
    "        dt1, dt2 = [\n",
    "            datetime.strptime(dt1, DT_FORMAT),\n",
    "            datetime.strptime(dt2, DT_FORMAT),\n",
    "        ].sort()\n",
    "        return {\"after\": dt1, \"before\": dt2}\n",
    "\n",
    "\n",
    "OUTPUT_FOLDER = \"../../Output/discord_purges\"\n",
    "DT_FORMAT = \"%Y-%m-%d %H:%M:%S.%f\"  # has to be this format\n",
    "to_delete = []\n",
    "confirming = True\n",
    "failed_a = []\n",
    "downloaded_a = []\n",
    "purging_kwargs = {\n",
    "    \"limit\": 1,\n",
    "    **msg_range(\"2023-10-12 05:00:36.685000\"),\n",
    "    \"check\": to_delete_callback,\n",
    "}"
   ]
  },
  {
   "cell_type": "code",
   "execution_count": 8,
   "metadata": {},
   "outputs": [
    {
     "name": "stdout",
     "output_type": "stream",
     "text": [
      "Channel name: reeon-bot-chat\n",
      "Example message: Reon Mode#3954 Colored from sketch: [link](https://cdn.discordapp.com/ephemeral-attachments/1161882060898713733/1161891144230244372/Screenshot_20231012-115957.png?ex=6539f273&is=65277d73&hm=58bdca56b8c3e85d89b45414921d26cf726c7fb916009978116ce88b496b5da9&)\n",
      "\n",
      "Reon Mode#3954 Colored from sketch: [link](https://cdn.discordapp.com/ephemeral-attachments/1161882060898713733/1161891144230244372/Screenshot_20231012-115957.png?ex=6539f273&is=65277d73&hm=58bdca56b8c3e85d89b45414921d26cf726c7fb916009978116ce88b496b5da9&)\n",
      "Deleted: 1\n"
     ]
    }
   ],
   "source": [
    "print(\"Channel name:\", chnl)\n",
    "deleted = await chnl.purge(**purging_kwargs)\n",
    "assert to_delete.__len__() == deleted.__len__()\n",
    "print(\"Deleted:\", deleted.__len__())"
   ]
  },
  {
   "cell_type": "code",
   "execution_count": 55,
   "metadata": {},
   "outputs": [],
   "source": [
    "csv_out = \"message content, author name, message id, author id, created at, edited at, attachment ids, reaction count\\n\"\n",
    "for msg in deleted:\n",
    "    attachments = [atch.id for atch in msg.attachments]\n",
    "    csv_out += f'\"{msg.content}\",\"{msg.author.name}\",\"{msg.id}\",\"{msg.author.id}\",\"{msg.created_at}\",\"{msg.edited_at}\",\"{attachments}\",{msg.reactions.__len__()}\\n'\n",
    "\n",
    "with open(\n",
    "    f\"{OUTPUT_FOLDER}/{guild} - #{chnl} - @{deleted[0].author.name}.csv\", \"w\"\n",
    ") as f:\n",
    "    f.write(csv_out)"
   ]
  },
  {
   "cell_type": "markdown",
   "metadata": {},
   "source": [
    "### SPAM Reaction"
   ]
  },
  {
   "cell_type": "code",
   "execution_count": 3,
   "metadata": {},
   "outputs": [
    {
     "ename": "",
     "evalue": "",
     "output_type": "error",
     "traceback": [
      "\u001b[1;31mThe Kernel crashed while executing code in the the current cell or a previous cell. Please review the code in the cell(s) to identify a possible cause of the failure. Click <a href='https://aka.ms/vscodeJupyterKernelCrash'>here</a> for more info. View Jupyter <a href='command:jupyter.viewOutput'>log</a> for further details."
     ]
    }
   ],
   "source": [
    "chnl = client.get_channel(1120338283990360096)\n",
    "AFTER = datetime.strptime(\"04/22/2019 11:22\", \"%m/%d/%Y %H:%M\") - timedelta(hours=7)\n",
    "async for msg in chnl.history(limit=None, after=AFTER, oldest_first=True):\n",
    "    # asyncio.create_task(msg.add_reaction('🖤'))\n",
    "    # await asyncio.sleep(0.9)\n",
    "    # if random.randint(0, 100)==100:\n",
    "    #     print(msg.content)\n",
    "    for i in range(3):\n",
    "        try:\n",
    "            await msg.add_reaction('🖤')\n",
    "            if random.randint(0, 100)==100:\n",
    "                print(msg.content)\n",
    "            break\n",
    "        except Exception as e:\n",
    "            await asyncio.sleep(1)\n",
    "            print(e)\n",
    "            print(msg.content)"
   ]
  },
  {
   "cell_type": "markdown",
   "metadata": {},
   "source": [
    "### Ban a member"
   ]
  },
  {
   "cell_type": "code",
   "execution_count": 7,
   "metadata": {},
   "outputs": [],
   "source": [
    "member = guild.get_member(1054038717121175662)\n",
    "reason = \"\"\n",
    "if input(f\"Ban {member} from {guild}?\") == \"Y\":\n",
    "    await guild.ban(member, reason=reason)"
   ]
  },
  {
   "attachments": {},
   "cell_type": "markdown",
   "metadata": {},
   "source": [
    "### Create Webhook"
   ]
  },
  {
   "cell_type": "code",
   "execution_count": 5,
   "metadata": {},
   "outputs": [
    {
     "data": {
      "text/plain": [
       "[<Webhook id=1123612309500207194>,\n",
       " <Webhook id=1125402285208510505>,\n",
       " <Webhook id=1142785593349263460>]"
      ]
     },
     "execution_count": 5,
     "metadata": {},
     "output_type": "execute_result"
    }
   ],
   "source": [
    "chnl = client.get_channel(756131891941343354)\n",
    "[h for h in await chnl.webhooks()] # list hooks"
   ]
  },
  {
   "cell_type": "code",
   "execution_count": 6,
   "metadata": {},
   "outputs": [
    {
     "data": {
      "text/plain": [
       "'https://discord.com/api/webhooks/1142788035176562809/pXmjFHiinIzbRzUJf6jzCzNZi4amXrbiwdO1vCFjAXDC031m4y1jPO59g0Vgh5Yjcbfd'"
      ]
     },
     "execution_count": 6,
     "metadata": {},
     "output_type": "execute_result"
    }
   ],
   "source": [
    "h = await chnl.create_webhook(name=\"ReposteReon\")\n",
    "print(h.url)"
   ]
  },
  {
   "attachments": {},
   "cell_type": "markdown",
   "metadata": {},
   "source": [
    "### Edit channel (permission required)"
   ]
  },
  {
   "cell_type": "code",
   "execution_count": null,
   "metadata": {},
   "outputs": [],
   "source": [
    "chnl = client.get_channel(950982603220082718)\n",
    "await chnl.edit(sync_permissions=True)"
   ]
  },
  {
   "cell_type": "markdown",
   "metadata": {},
   "source": [
    "### Leave server"
   ]
  },
  {
   "cell_type": "code",
   "execution_count": null,
   "metadata": {},
   "outputs": [],
   "source": []
  },
  {
   "cell_type": "code",
   "execution_count": 11,
   "metadata": {},
   "outputs": [],
   "source": [
    "guild = client.get_guild(511986246629982256)\n",
    "ok = input(f\"Leave {guild.name}?\")\n",
    "if ok == \"Y\":\n",
    "    await guild.leave()"
   ]
  },
  {
   "attachments": {},
   "cell_type": "markdown",
   "metadata": {},
   "source": [
    "# Log out"
   ]
  },
  {
   "cell_type": "code",
   "execution_count": null,
   "metadata": {},
   "outputs": [],
   "source": [
    "await client.close()"
   ]
  },
  {
   "cell_type": "code",
   "execution_count": null,
   "metadata": {},
   "outputs": [],
   "source": []
  }
 ],
 "metadata": {
  "kernelspec": {
   "display_name": "forjupyterlab",
   "language": "python",
   "name": "python3"
  },
  "language_info": {
   "codemirror_mode": {
    "name": "ipython",
    "version": 3
   },
   "file_extension": ".py",
   "mimetype": "text/x-python",
   "name": "python",
   "nbconvert_exporter": "python",
   "pygments_lexer": "ipython3",
   "version": "3.10.11"
  },
  "orig_nbformat": 4,
  "vscode": {
   "interpreter": {
    "hash": "227d98b175408dc11aa1b5ea9dc048f1ae7dec76a87105d49fde2f8f0f8bd018"
   }
  }
 },
 "nbformat": 4,
 "nbformat_minor": 2
}
