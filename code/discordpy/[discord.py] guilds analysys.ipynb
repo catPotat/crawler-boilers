{
 "cells": [
  {
   "cell_type": "code",
   "execution_count": 3,
   "metadata": {},
   "outputs": [],
   "source": [
    "from dotenv import load_dotenv\n",
    "\n",
    "load_dotenv()\n",
    "import os\n",
    "import discord\n",
    "import asyncio\n",
    "from tqdm.auto import tqdm\n",
    "from IPython.display import display, HTML\n",
    "from discord.utils import get\n",
    "import matplotlib.pyplot as plt\n",
    "from matplotlib_venn import venn3\n",
    "from collections import Counter\n",
    "from datetime import datetime\n",
    "from dateutil import tz\n"
   ]
  },
  {
   "cell_type": "code",
   "execution_count": 36,
   "metadata": {},
   "outputs": [
    {
     "name": "stdout",
     "output_type": "stream",
     "text": [
      "Logged in as Reon Mode#3954\n"
     ]
    }
   ],
   "source": [
    "class DiscordClient(discord.Client):\n",
    "    def __init__(self):\n",
    "        intents = discord.Intents.default()\n",
    "        intents.members = True\n",
    "        super().__init__(intents=intents)\n",
    "\n",
    "    async def cbt(self):  # call back task\n",
    "        while not self.is_ready():\n",
    "            await asyncio.sleep(0.2)\n",
    "\n",
    "\n",
    "client = DiscordClient()\n",
    "TOKEN = os.getenv(\"REEBOT_TOKEN\")\n",
    "IS_BOT = 1  # <= 1.7.3\n",
    "await asyncio.wait(\n",
    "    [\n",
    "        asyncio.create_task(client.start(TOKEN, bot=IS_BOT)),\n",
    "        asyncio.create_task(client.cbt()),\n",
    "    ],\n",
    "    return_when=asyncio.FIRST_COMPLETED,\n",
    ")\n",
    "print(f\"Logged in as {client.user}\")\n"
   ]
  },
  {
   "cell_type": "markdown",
   "metadata": {},
   "source": [
    "### get channels"
   ]
  },
  {
   "cell_type": "code",
   "execution_count": 37,
   "metadata": {},
   "outputs": [
    {
     "name": "stdout",
     "output_type": "stream",
     "text": [
      "Poi's Bakery\n",
      "295\n"
     ]
    },
    {
     "data": {
      "text/plain": [
       "[<TextChannel id=551585078816276482 name='🌟-welcome-🌸' position=0 nsfw=False news=False category_id=1084748648073658438>,\n",
       " <TextChannel id=761032628660338699 name='roles-and-rules' position=1 nsfw=False news=False category_id=1084748648073658438>,\n",
       " <TextChannel id=1084748314177712138 name='announcements' position=2 nsfw=False news=False category_id=1084748648073658438>,\n",
       " <TextChannel id=953983163393278002 name='log' position=3 nsfw=False news=False category_id=1037709533327405096>,\n",
       " <TextChannel id=1017847544551837786 name='divine-tier-only' position=4 nsfw=False news=False category_id=1037709533327405096>,\n",
       " <TextChannel id=842645369128091650 name='moderator-only' position=5 nsfw=False news=False category_id=1037709533327405096>,\n",
       " <TextChannel id=950982603220082718 name='bork-bork-general' position=6 nsfw=False news=False category_id=950984036778663936>,\n",
       " <TextChannel id=950106361860075641 name='🥛-milk-sauce' position=7 nsfw=True news=False category_id=950984036778663936>,\n",
       " <TextChannel id=1015585794716606504 name='📷-photography' position=8 nsfw=False news=False category_id=950984036778663936>,\n",
       " <TextChannel id=958358067559403620 name='maid-bots' position=9 nsfw=False news=False category_id=950984036778663936>,\n",
       " <TextChannel id=970002073045332008 name='bakery-voice-chat' position=10 nsfw=False news=False category_id=950984036778663936>,\n",
       " <TextChannel id=950986749537030194 name='🎨-fur-workshop' position=11 nsfw=False news=False category_id=957319957035745361>,\n",
       " <TextChannel id=1022839960438571089 name='🥛🎨-milky-fur-workshop' position=12 nsfw=True news=False category_id=957319957035745361>,\n",
       " <TextChannel id=950986818432692274 name='fur-gallery' position=13 nsfw=False news=False category_id=957319957035745361>,\n",
       " <TextChannel id=849588905200189480 name='work-in-progress' position=14 nsfw=False news=False category_id=957319957035745361>,\n",
       " <TextChannel id=1056914924628099133 name='🍞bread-toaster🌸' position=15 nsfw=False news=False category_id=957319957035745361>,\n",
       " <TextChannel id=685419359220662272 name='3d-modeling' position=16 nsfw=False news=False category_id=957319957035745361>,\n",
       " <TextChannel id=953847523766841455 name='oc-reference-menu' position=17 nsfw=False news=False category_id=957319957035745361>,\n",
       " <TextChannel id=1064126237628452914 name='tiếng-việt' position=18 nsfw=False news=False category_id=1064126124520640522>,\n",
       " <TextChannel id=1064135364807245874 name='한국어' position=19 nsfw=False news=False category_id=1064126124520640522>,\n",
       " <TextChannel id=1084767033369051177 name='中文' position=20 nsfw=False news=False category_id=1064126124520640522>,\n",
       " <TextChannel id=952948572763086878 name='blacksoul-ideas-tree' position=21 nsfw=False news=False category_id=1090190212195418142>,\n",
       " <TextChannel id=952502713315381268 name='blacksoul-cake-counter' position=22 nsfw=True news=False category_id=1090190212195418142>,\n",
       " <TextChannel id=966672080647098458 name='lin-lin-dessert-requests' position=23 nsfw=True news=False category_id=1090190212195418142>,\n",
       " <TextChannel id=1090190324984459314 name='reon-bot-chat' position=24 nsfw=True news=False category_id=1090190212195418142>,\n",
       " <TextChannel id=664669670036471818 name='non-furry-workshop' position=25 nsfw=False news=False category_id=1035126124952440912>,\n",
       " <TextChannel id=802262072196988959 name='meme' position=26 nsfw=False news=False category_id=1035126124952440912>,\n",
       " <TextChannel id=1007982403739992094 name='gaming' position=27 nsfw=False news=False category_id=1035126124952440912>,\n",
       " <TextChannel id=554033300373504036 name='nsfw' position=28 nsfw=True news=False category_id=1035126124952440912>,\n",
       " <TextChannel id=570687180914294804 name='pc-geek-bd' position=29 nsfw=False news=False category_id=1035126124952440912>,\n",
       " <TextChannel id=1063227686601883739 name='dev-conference' position=30 nsfw=False news=False category_id=1035126124952440912>,\n",
       " <TextChannel id=957320183968579594 name='promote-your-stuff' position=31 nsfw=False news=False category_id=1035126124952440912>,\n",
       " <TextChannel id=946415496637579324 name='karuta' position=32 nsfw=False news=False category_id=1035126124952440912>,\n",
       " <TextChannel id=771907861235236904 name='foodies' position=33 nsfw=False news=False category_id=1011980156644110376>,\n",
       " <TextChannel id=772083665487790110 name='bread-bank' position=34 nsfw=False news=False category_id=1011980156644110376>,\n",
       " <TextChannel id=869277777369645106 name='formula-1' position=35 nsfw=False news=False category_id=1011980156644110376>,\n",
       " <TextChannel id=1056889756748873728 name='🍞-breadcrumbs-🎀' position=36 nsfw=False news=False category_id=1011980156644110376>,\n",
       " <TextChannel id=875638721515507712 name='reecooord' position=37 nsfw=False news=False category_id=1011980156644110376>,\n",
       " <TextChannel id=1008467133270868018 name='🍞server-map' position=38 nsfw=False news=False category_id=1011980156644110376>,\n",
       " <TextChannel id=1054262163646193755 name='no-role' position=39 nsfw=False news=False category_id=1011980156644110376>,\n",
       " <TextChannel id=552861577204989973 name='announcements-old' position=40 nsfw=False news=True category_id=1011980156644110376>,\n",
       " <TextChannel id=831600867400089630 name='random-screenshots' position=41 nsfw=False news=False category_id=1011980156644110376>,\n",
       " <TextChannel id=772232942956445716 name='study-with-raison' position=42 nsfw=False news=False category_id=1011980156644110376>,\n",
       " <TextChannel id=738104239854977116 name='btc-mining' position=43 nsfw=False news=False category_id=1011980156644110376>,\n",
       " <TextChannel id=552861991731986433 name='bot-commands' position=44 nsfw=False news=False category_id=1011980156644110376>,\n",
       " <TextChannel id=763258009643122688 name='rigdhi-bigger' position=45 nsfw=False news=False category_id=1011980156644110376>]"
      ]
     },
     "execution_count": 37,
     "metadata": {},
     "output_type": "execute_result"
    }
   ],
   "source": [
    "NAME = \"poi\"\n",
    "\n",
    "g_ls = [g for g in client.guilds if NAME in g.name.lower()]\n",
    "guild = g_ls[0]\n",
    "print(guild)\n",
    "print(guild.members.__len__())\n",
    "chnls = guild.text_channels\n",
    "chnls\n"
   ]
  },
  {
   "cell_type": "markdown",
   "metadata": {},
   "source": [
    "### Channel analyze"
   ]
  },
  {
   "cell_type": "code",
   "execution_count": null,
   "metadata": {},
   "outputs": [],
   "source": [
    "chnl = client.get_channel(966672080647098458)\n",
    "async for msg in chnl.history(limit=40):\n",
    "    print(f'\\033[1m{msg.author.name}:\\033[0m {msg.content}')\n"
   ]
  },
  {
   "cell_type": "code",
   "execution_count": null,
   "metadata": {},
   "outputs": [],
   "source": [
    "msg_list = []"
   ]
  },
  {
   "cell_type": "code",
   "execution_count": null,
   "metadata": {},
   "outputs": [],
   "source": [
    "chnl = client.get_channel(950106361860075641)\n",
    "LIMIT = 85_000\n",
    "try:\n",
    "    before = msg_list[-1].created_at\n",
    "except IndexError:\n",
    "    before = None\n",
    "async for msg in tqdm(\n",
    "    chnl.history(limit=LIMIT, before=before), initial=msg_list.__len__(), total=LIMIT\n",
    "):\n",
    "    msg_list.append(msg)\n"
   ]
  },
  {
   "cell_type": "code",
   "execution_count": null,
   "metadata": {},
   "outputs": [],
   "source": [
    "msg_list[0].content.endswith(\">\")"
   ]
  },
  {
   "cell_type": "code",
   "execution_count": null,
   "metadata": {},
   "outputs": [],
   "source": [
    "senders = [msg.author.name + \"#\" + msg.author.discriminator for msg in msg_list]\n",
    "Counter(senders).most_common()[:20]\n"
   ]
  },
  {
   "cell_type": "code",
   "execution_count": null,
   "metadata": {},
   "outputs": [],
   "source": [
    "senders = [\n",
    "    msg.author.name + \"#\" + msg.author.discriminator\n",
    "    for msg in msg_list\n",
    "    if not (msg.content.startswith(\"<\") and msg.content.endswith(\">\"))\n",
    "]\n",
    "Counter(senders).most_common()[:20]\n"
   ]
  },
  {
   "attachments": {},
   "cell_type": "markdown",
   "metadata": {},
   "source": [
    "### Messages analyze"
   ]
  },
  {
   "cell_type": "code",
   "execution_count": null,
   "metadata": {},
   "outputs": [],
   "source": [
    "TZ = tz.gettz(\"Asia / Hanoi\")\n",
    "dt = datetime.strptime(\"21:01, 12/09/2020\", \"%H:%M, %d/%m/%Y\")\n",
    "dt.astimezone(TZ)\n",
    "dt"
   ]
  },
  {
   "cell_type": "code",
   "execution_count": null,
   "metadata": {},
   "outputs": [],
   "source": [
    "async def find_msg():\n",
    "    for chnl in tqdm(chnls):\n",
    "        try:\n",
    "            async for msg in chnl.history(limit=100, before=dt):\n",
    "                if \"đu\" in msg.content:\n",
    "                    return msg\n",
    "        except discord.Forbidden:\n",
    "            print(\"Skipping:\", chnl.name, \"(Forbidden)\")\n",
    "            continue\n",
    "\n",
    "\n",
    "await find_msg()\n"
   ]
  },
  {
   "cell_type": "markdown",
   "metadata": {},
   "source": [
    "### Role analyze"
   ]
  },
  {
   "cell_type": "code",
   "execution_count": 23,
   "metadata": {},
   "outputs": [
    {
     "data": {
      "text/plain": [
       "[<Role id=551585078812082228 name='@everyone'>,\n",
       " <Role id=1074491013395124346 name='Maid'>,\n",
       " <Role id=1011625385974313063 name='Reon Bot'>,\n",
       " <Role id=989202305897336905 name='Lunachii'>,\n",
       " <Role id=975649092380278817 name='PartyBeast'>,\n",
       " <Role id=974890796727799821 name='Translator'>,\n",
       " <Role id=973985105737564243 name='Sun v5'>,\n",
       " <Role id=961297404588617839 name='Sun v4'>,\n",
       " <Role id=958373424487612480 name='Sun v3'>,\n",
       " <Role id=958338504247640107 name='Sun v2'>,\n",
       " <Role id=950015819809714189 name='Sun'>,\n",
       " <Role id=958279308772794411 name='NotSoBot'>,\n",
       " <Role id=952948284140445789 name='Yggdrasil'>,\n",
       " <Role id=946414355568803953 name='Karuta'>,\n",
       " <Role id=775676907390763018 name='Erin'>,\n",
       " <Role id=953218927788441603 name='carl-bot'>,\n",
       " <Role id=1015571461336997931 name='-- integrated --'>,\n",
       " <Role id=874286874804506634 name='Assignment Ping'>,\n",
       " <Role id=778970479385772032 name='Filthy Mine(craft?)rs'>,\n",
       " <Role id=763258253357350933 name='operationrigdhi'>,\n",
       " <Role id=761442228136312843 name='moviegoer'>,\n",
       " <Role id=761149753412157470 name='OG'>,\n",
       " <Role id=758164878157545472 name='Yametars'>,\n",
       " <Role id=848178394373947412 name='Ironicus Caesar'>,\n",
       " <Role id=812035547144781894 name='Dragon Samurai'>,\n",
       " <Role id=551797366240313350 name='Senpai'>,\n",
       " <Role id=1037710526890905610 name='-- legacy --'>,\n",
       " <Role id=700346107095548024 name='JAILTIME'>,\n",
       " <Role id=602384988834627614 name='Maid (bot)'>,\n",
       " <Role id=855769261842497538 name='Bread 🍞'>,\n",
       " <Role id=1044285461251752008 name='Milk 🥛'>,\n",
       " <Role id=1063837976456601681 name='Programmer'>,\n",
       " <Role id=677879057416847412 name='Artist'>,\n",
       " <Role id=679924727011344481 name='Mid Tier'>,\n",
       " <Role id=551715823874473984 name='Supreme Tier'>,\n",
       " <Role id=551586677089501194 name='Divine Tier'>,\n",
       " <Role id=553237367876485121 name='Tatsumaki'>,\n",
       " <Role id=955765616973848626 name='🎀'>,\n",
       " <Role id=757333788970713157 name='Bread supplier'>,\n",
       " <Role id=984676655773659176 name='Greedy & Unfaithful'>,\n",
       " <Role id=982339783906975755 name='Submissive and Breedable'>,\n",
       " <Role id=955763134004613201 name='Dominant'>,\n",
       " <Role id=963018413578518588 name='Love Birds'>,\n",
       " <Role id=1047759049824935936 name='expired milk'>,\n",
       " <Role id=857368593456824380 name='3 San-nin'>,\n",
       " <Role id=551585888384188419 name='Admins'>,\n",
       " <Role id=1024294102981939200 name='Poi'>]"
      ]
     },
     "execution_count": 23,
     "metadata": {},
     "output_type": "execute_result"
    }
   ],
   "source": [
    "guild.roles"
   ]
  },
  {
   "cell_type": "code",
   "execution_count": null,
   "metadata": {},
   "outputs": [],
   "source": [
    "target_roles = [\n",
    "    r\n",
    "    for r in guild.roles\n",
    "    if (\n",
    "        any(s in r.name.lower() for s in [\"bread\", \"maid\"])\n",
    "        and not any(s in r.name.lower() for s in [\"supplier\"])\n",
    "    )\n",
    "]\n",
    "target_roles\n"
   ]
  },
  {
   "cell_type": "code",
   "execution_count": null,
   "metadata": {},
   "outputs": [],
   "source": [
    "to_get = [679924727011344481, 551715823874473984, 551586677089501194]\n",
    "level_roles = [get(guild.roles, id=x) for x in to_get]\n",
    "level_roles\n"
   ]
  },
  {
   "cell_type": "code",
   "execution_count": null,
   "metadata": {},
   "outputs": [],
   "source": [
    "display_mems = []\n",
    "set_1_mems = set()\n",
    "set_2_mems = set()\n",
    "set_3_mems = set()\n",
    "for mem in tqdm(guild.members):\n",
    "    has_target_roles = any(r in mem.roles for r in target_roles)\n",
    "    has_level_roles = any(r in mem.roles for r in level_roles)\n",
    "    if has_target_roles:\n",
    "        set_1_mems.add(mem)\n",
    "    if has_level_roles:\n",
    "        set_2_mems.add(mem)\n",
    "    if level_roles[0] in mem.roles:\n",
    "        set_3_mems.add(mem)\n",
    "    if mem.roles.__len__() == 1:\n",
    "        display_mems.append(mem)\n",
    "\n",
    "print(display_mems.__len__(), \"members\")\n",
    "for mem in display_mems:\n",
    "    display(\n",
    "        HTML(\n",
    "            f\"\"\"\n",
    "        <img src={mem.avatar_url} height=40>\n",
    "        <b>{mem.name}</b>\n",
    "    \"\"\"\n",
    "        )\n",
    "    )\n"
   ]
  },
  {
   "cell_type": "code",
   "execution_count": null,
   "metadata": {},
   "outputs": [],
   "source": [
    "out = \"\".join(\n",
    "    [\n",
    "        f\"\"\"\n",
    "            <img src={mem.avatar_url} height=40>\n",
    "            <b>{mem.name}</b><br>\n",
    "        \"\"\"\n",
    "        for mem in display_mems\n",
    "    ]\n",
    ")\n",
    "with open(\"../../Output/mid_tier_non_furry.html\", \"w\") as f:\n",
    "    f.write(out)\n"
   ]
  },
  {
   "cell_type": "code",
   "execution_count": null,
   "metadata": {},
   "outputs": [],
   "source": [
    "venn3(\n",
    "    [set_1_mems, set_2_mems, set_3_mems],\n",
    "    (\"Bread or Bot roles\", \"Tier roles\", \"Supreme tier members\"),\n",
    ")\n",
    "plt.show()\n"
   ]
  },
  {
   "attachments": {},
   "cell_type": "markdown",
   "metadata": {},
   "source": [
    "### Member analyse"
   ]
  },
  {
   "attachments": {},
   "cell_type": "markdown",
   "metadata": {},
   "source": [
    "#### Filter members"
   ]
  },
  {
   "cell_type": "code",
   "execution_count": 33,
   "metadata": {},
   "outputs": [],
   "source": [
    "roles1 = [r for r in guild.roles if \"div\" in r.name.lower()]\n",
    "white_role = roles1[0]\n"
   ]
  },
  {
   "cell_type": "code",
   "execution_count": 39,
   "metadata": {},
   "outputs": [
    {
     "data": {
      "text/plain": [
       "[('sabi', 'Yametars', 'Love Birds'),\n",
       " ('CrystaL FC', '🎀'),\n",
       " ('Walu', 'OG', 'Artist', '🎀'),\n",
       " ('limitless', 'Artist', 'Supreme Tier', '🎀'),\n",
       " ('Igga',\n",
       "  'Assignment Ping',\n",
       "  'operationrigdhi',\n",
       "  'OG',\n",
       "  'Yametars',\n",
       "  'Ironicus Caesar',\n",
       "  'JAILTIME',\n",
       "  'Artist',\n",
       "  'Mid Tier',\n",
       "  'Supreme Tier',\n",
       "  'Greedy & Unfaithful',\n",
       "  'Submissive and Breedable',\n",
       "  'Dominant',\n",
       "  'Love Birds'),\n",
       " ('Sunmusicbot', 'Sun', '🎀')]"
      ]
     },
     "execution_count": 39,
     "metadata": {},
     "output_type": "execute_result"
    }
   ],
   "source": [
    "set1 = set(client.get_channel(552861577204989973).members)  # in announceement old\n",
    "set2 = set(client.get_channel(950982603220082718).members)  # in bork bork\n",
    "set3 = set([m for m in guild.members if white_role in m.roles])  # has divine tier\n",
    "mem_ls = set1 - set2 - set3\n",
    "[(m.name, *[r.name for r in m.roles][1:]) for m in mem_ls]\n"
   ]
  },
  {
   "cell_type": "code",
   "execution_count": null,
   "metadata": {},
   "outputs": [],
   "source": []
  },
  {
   "attachments": {},
   "cell_type": "markdown",
   "metadata": {},
   "source": [
    "## Write"
   ]
  },
  {
   "attachments": {},
   "cell_type": "markdown",
   "metadata": {},
   "source": [
    "#### Mass kick"
   ]
  },
  {
   "cell_type": "code",
   "execution_count": 35,
   "metadata": {},
   "outputs": [
    {
     "name": "stdout",
     "output_type": "stream",
     "text": [
      "᲼᲼#2012\n",
      "WhoTheLimon#0583\n",
      "Musafir#0117\n",
      "ganjababa#6238\n",
      "𝐰𝐚𝐯𝐞𝐬.#8236\n",
      "wakiflores#4744\n",
      "Secretariat#3724\n",
      "Drewwy#7599\n",
      "Ripper66647#1587\n",
      "Tsarbomb4#3769\n",
      "RifahTasfia#2956\n",
      "aoi#5190\n",
      "M1rr0r#4493\n",
      "KINGMASTER#4519\n",
      "XPRO49 GAMING#2607\n",
      "Tasiya#5937\n",
      "Arcturus#5365\n",
      "CheemsBorger#7626\n",
      "Apple69#8606\n",
      "ggemernoob#1138\n",
      "sahed#7209\n",
      "Z Factor#3751\n",
      "Mahtab Shimon#8199\n",
      "aalabir0511#9681\n",
      "Weird Godfather#4606\n",
      "SH4F1N#1091\n",
      "Palbro#9054\n",
      "chromaticv1#6232\n",
      "farhan1151#2734\n",
      "Edward Philips#0052\n",
      "Rakin#5834\n",
      "MubTheNub#6340\n",
      "SalmanSR4k#6911\n",
      "Raisul#2672\n",
      "Electrolane#2135\n",
      "BadamiPasa69#6909\n",
      "Astrop#1151\n",
      "Angered Doggo#6117\n",
      "Erasha Elaba#4190\n",
      "Ro-#7152\n",
      "SsMahin#9661\n",
      "Rabbi Khan#4417\n",
      "limitless#0450\n",
      "403 Forbidden (error code: 50013): Missing Permissions\n",
      "Natalie#6206\n",
      "mocona#0587\n",
      "samia islam#4510\n",
      "kingfish#2387\n",
      "sabi#2629\n",
      "403 Forbidden (error code: 50013): Missing Permissions\n",
      "ᴉʇɹɐɔ#7670\n",
      "THESILENTWALKR🇧🇩#0708\n",
      "AZAZEL#9808\n",
      "NajuBABA#3092\n",
      "Passionate Book Reader#0401\n",
      "Ironicus#6491\n",
      "couch Potato#6159\n",
      "Cute_Virus#6615\n",
      "Albab#2795\n",
      "Hiraeth#7971\n",
      "Navid#8073\n",
      "A47xMrBurger#1882\n",
      "WhatTheeee#5313\n",
      "RHPranto7#6609\n",
      "Nitrex#5861\n",
      "sansa#4103\n",
      "¿?#5990\n",
      "Sunmusicbot#6556\n",
      "403 Forbidden (error code: 50013): Missing Permissions\n",
      "cybertoxic#8415\n",
      "Ankon#4654\n",
      "Dildo Crusher 69#2077\n",
      "Walu#0611\n",
      "403 Forbidden (error code: 50013): Missing Permissions\n",
      "Pablo Escobar#7710\n",
      "Midoriya#3075\n",
      "R3DEY3RAFI#1073\n",
      "Yamato#5272\n",
      "SHAFIN#3129\n",
      "TaosifAgain#3519\n",
      "Araya421#8998\n",
      "lonewolf1090#9170\n",
      "CrystaL FC#6882\n",
      "403 Forbidden (error code: 50013): Missing Permissions\n",
      "tyl3r#9903\n",
      "g222mer22#7534\n",
      "Igga#9697\n",
      "403 Forbidden (error code: 50013): Missing Permissions\n"
     ]
    }
   ],
   "source": [
    "for m in mem_ls:\n",
    "    print(m)\n",
    "    try:\n",
    "        await m.kick(reason=\"Inactive\")\n",
    "    except Exception as e:\n",
    "        print(e)"
   ]
  },
  {
   "cell_type": "code",
   "execution_count": null,
   "metadata": {},
   "outputs": [],
   "source": []
  },
  {
   "cell_type": "code",
   "execution_count": null,
   "metadata": {},
   "outputs": [],
   "source": []
  }
 ],
 "metadata": {
  "kernelspec": {
   "display_name": "Python 3.9.15 ('forjupyterlab')",
   "language": "python",
   "name": "python3"
  },
  "language_info": {
   "codemirror_mode": {
    "name": "ipython",
    "version": 3
   },
   "file_extension": ".py",
   "mimetype": "text/x-python",
   "name": "python",
   "nbconvert_exporter": "python",
   "pygments_lexer": "ipython3",
   "version": "3.11.1"
  },
  "orig_nbformat": 4,
  "vscode": {
   "interpreter": {
    "hash": "227d98b175408dc11aa1b5ea9dc048f1ae7dec76a87105d49fde2f8f0f8bd018"
   }
  }
 },
 "nbformat": 4,
 "nbformat_minor": 2
}
