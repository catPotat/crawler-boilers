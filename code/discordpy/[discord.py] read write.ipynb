{
 "cells": [
  {
   "attachments": {},
   "cell_type": "markdown",
   "metadata": {},
   "source": [
    "## Setup"
   ]
  },
  {
   "cell_type": "code",
   "execution_count": 1,
   "metadata": {},
   "outputs": [],
   "source": [
    "from dotenv import load_dotenv\n",
    "\n",
    "load_dotenv()\n",
    "import os\n",
    "import discord\n",
    "import asyncio\n",
    "from tqdm.auto import tqdm\n",
    "from IPython.display import display, HTML\n",
    "from datetime import datetime, timedelta\n",
    "import time\n",
    "import requests"
   ]
  },
  {
   "cell_type": "code",
   "execution_count": 7,
   "metadata": {},
   "outputs": [
    {
     "name": "stderr",
     "output_type": "stream",
     "text": [
      "Task exception was never retrieved\n",
      "future: <Task finished name='Task-29' coro=<Client.start() done, defined at c:\\Users\\hoang\\.virtualenvs\\jupytervenv3.10\\lib\\site-packages\\discord\\client.py:649> exception=LoginFailure('Improper token has been passed.')>\n",
      "Traceback (most recent call last):\n",
      "  File \"c:\\Users\\hoang\\.virtualenvs\\jupytervenv3.10\\lib\\site-packages\\discord\\http.py\", line 300, in static_login\n",
      "    data = await self.request(Route('GET', '/users/@me'))\n",
      "  File \"c:\\Users\\hoang\\.virtualenvs\\jupytervenv3.10\\lib\\site-packages\\discord\\http.py\", line 254, in request\n",
      "    raise HTTPException(r, data)\n",
      "discord.errors.HTTPException: 401 Unauthorized (error code: 0): 401: Unauthorized\n",
      "\n",
      "The above exception was the direct cause of the following exception:\n",
      "\n",
      "Traceback (most recent call last):\n",
      "  File \"c:\\Users\\hoang\\.virtualenvs\\jupytervenv3.10\\lib\\site-packages\\discord\\client.py\", line 665, in start\n",
      "    await self.login(*args, bot=bot)\n",
      "  File \"c:\\Users\\hoang\\.virtualenvs\\jupytervenv3.10\\lib\\site-packages\\discord\\client.py\", line 511, in login\n",
      "    await self.http.static_login(token.strip(), bot=bot)\n",
      "  File \"c:\\Users\\hoang\\.virtualenvs\\jupytervenv3.10\\lib\\site-packages\\discord\\http.py\", line 304, in static_login\n",
      "    raise LoginFailure('Improper token has been passed.') from exc\n",
      "discord.errors.LoginFailure: Improper token has been passed.\n"
     ]
    },
    {
     "name": "stdout",
     "output_type": "stream",
     "text": [
      "Logged in as None\n"
     ]
    }
   ],
   "source": [
    "LOGIN_TOKEN = os.getenv(\"reeeon_TOKEN\")\n",
    "IS_BOT = 0  # <= 1.7.3\n",
    "REEEON_ID = 510768840972566528\n",
    "\n",
    "\n",
    "class DiscordClient(discord.Client):\n",
    "    def __init__(self):\n",
    "        super().__init__(intents=discord.Intents.all())\n",
    "\n",
    "    async def cbt(self):  # call back task\n",
    "        while not self.is_ready():\n",
    "            await asyncio.sleep(0.2)\n",
    "\n",
    "\n",
    "client = DiscordClient()\n",
    "\n",
    "await asyncio.wait(\n",
    "    [\n",
    "        asyncio.create_task(client.start(LOGIN_TOKEN, bot=IS_BOT)),\n",
    "        asyncio.create_task(client.cbt()),\n",
    "    ],\n",
    "    return_when=asyncio.FIRST_COMPLETED,\n",
    ")\n",
    "print(f\"Logged in as {client.user}\")"
   ]
  },
  {
   "attachments": {},
   "cell_type": "markdown",
   "metadata": {},
   "source": [
    "## Read"
   ]
  },
  {
   "cell_type": "code",
   "execution_count": 5,
   "metadata": {},
   "outputs": [
    {
     "name": "stdout",
     "output_type": "stream",
     "text": [
      "0\n"
     ]
    },
    {
     "data": {
      "text/plain": [
       "[]"
      ]
     },
     "execution_count": 5,
     "metadata": {},
     "output_type": "execute_result"
    }
   ],
   "source": [
    "print(client.guilds.__len__())\n",
    "client.guilds[:20]"
   ]
  },
  {
   "attachments": {},
   "cell_type": "markdown",
   "metadata": {},
   "source": [
    "#### Guild channels"
   ]
  },
  {
   "cell_type": "code",
   "execution_count": 4,
   "metadata": {},
   "outputs": [
    {
     "ename": "AttributeError",
     "evalue": "'NoneType' object has no attribute 'name'",
     "output_type": "error",
     "traceback": [
      "\u001b[1;31m---------------------------------------------------------------------------\u001b[0m",
      "\u001b[1;31mAttributeError\u001b[0m                            Traceback (most recent call last)",
      "\u001b[1;32mc:\\Users\\hoang\\OneDrive\\Documents\\KO GIAN LÀM VIỆC\\JupyterNotebooks\\code\\discordpy\\[discord.py] read write.ipynb Cell 7\u001b[0m line \u001b[0;36m2\n\u001b[0;32m      <a href='vscode-notebook-cell:/c%3A/Users/hoang/OneDrive/Documents/KO%20GIAN%20L%C3%80M%20VI%E1%BB%86C/JupyterNotebooks/code/discordpy/%5Bdiscord.py%5D%20read%20write.ipynb#W6sZmlsZQ%3D%3D?line=0'>1</a>\u001b[0m guild \u001b[39m=\u001b[39m client\u001b[39m.\u001b[39mget_guild(\u001b[39m292464065731624970\u001b[39m    )\n\u001b[1;32m----> <a href='vscode-notebook-cell:/c%3A/Users/hoang/OneDrive/Documents/KO%20GIAN%20L%C3%80M%20VI%E1%BB%86C/JupyterNotebooks/code/discordpy/%5Bdiscord.py%5D%20read%20write.ipynb#W6sZmlsZQ%3D%3D?line=1'>2</a>\u001b[0m \u001b[39mprint\u001b[39m(guild\u001b[39m.\u001b[39;49mname)\n\u001b[0;32m      <a href='vscode-notebook-cell:/c%3A/Users/hoang/OneDrive/Documents/KO%20GIAN%20L%C3%80M%20VI%E1%BB%86C/JupyterNotebooks/code/discordpy/%5Bdiscord.py%5D%20read%20write.ipynb#W6sZmlsZQ%3D%3D?line=2'>3</a>\u001b[0m chnls \u001b[39m=\u001b[39m guild\u001b[39m.\u001b[39mtext_channels\n\u001b[0;32m      <a href='vscode-notebook-cell:/c%3A/Users/hoang/OneDrive/Documents/KO%20GIAN%20L%C3%80M%20VI%E1%BB%86C/JupyterNotebooks/code/discordpy/%5Bdiscord.py%5D%20read%20write.ipynb#W6sZmlsZQ%3D%3D?line=3'>4</a>\u001b[0m chnls\n",
      "\u001b[1;31mAttributeError\u001b[0m: 'NoneType' object has no attribute 'name'"
     ]
    }
   ],
   "source": [
    "guild = client.get_guild(292464065731624970    )\n",
    "print(guild.name)\n",
    "chnls = guild.text_channels\n",
    "chnls"
   ]
  },
  {
   "attachments": {},
   "cell_type": "markdown",
   "metadata": {},
   "source": [
    "#### Channel messages"
   ]
  },
  {
   "cell_type": "code",
   "execution_count": 6,
   "metadata": {},
   "outputs": [
    {
     "name": "stdout",
     "output_type": "stream",
     "text": [
      "\u001b[1m\u001b[36mReon Mode\u001b[0m Colored from sketch: [link](https://cdn.discordapp.com/ephemeral-attachments/1161882060898713733/1161891144230244372/Screenshot_20231012-115957.png?ex=6539f273&is=65277d73&hm=58bdca56b8c3e85d89b45414921d26cf726c7fb916009978116ce88b496b5da9&) \u001b[37m2023-10-12 05:00:36.685000\n",
      "\u001b[1m\u001b[36mReon Mode\u001b[0m Colored from sketch: [link](https://cdn.discordapp.com/ephemeral-attachments/1161882060898713733/1161889064870477955/F8G34AzXEAAtfyn.png?ex=6539f083&is=65277b83&hm=f8034babc2f9aaf730b2ff14bb0824f4434d2b1f32058d3330e8c35f88af6893&) \u001b[37m2023-10-12 04:52:22.322000\n",
      "\u001b[1m\u001b[36mumbrecore\u001b[0m <:shinyvaporeoncry:922924591771443280> \u001b[37m2023-10-10 16:00:06.151000\n",
      "\u001b[1m\u001b[36msycamorph\u001b[0m Both. \u001b[37m2023-10-10 15:59:38.490000\n",
      "\u001b[1m\u001b[36mumbrecore\u001b[0m are u mad at me personally or AI as a whole <:Pwease:1140644815558680626> \u001b[37m2023-10-10 15:57:17.549000\n",
      "\u001b[1m\u001b[36mumbrecore\u001b[0m whaaa \u001b[37m2023-10-10 15:56:52.354000\n",
      "\u001b[1m\u001b[36msycamorph\u001b[0m I agree, fuck. \u001b[37m2023-10-10 15:56:36.666000\n",
      "\u001b[1m\u001b[36mumbrecore\u001b[0m oh shi \u001b[37m2023-10-10 15:51:53.469000\n",
      "\u001b[1m\u001b[36maustinarts4\u001b[0m Fuck \u001b[37m2023-10-10 15:00:04.850000\n",
      "\u001b[1m\u001b[36mumbrecore\u001b[0m LOL 2000. do i bake this into Reon Mode? is MB mad at me? https://x.com/Monado_Art/status/1678844704043986946?s=20 \u001b[37m2023-10-09 21:58:12.093000\n"
     ]
    },
    {
     "data": {
      "text/html": [
       "<img src=https://cdn.discordapp.com/attachments/1063345393053749268/1161060069903958016/image.png?ex=6536ec74&is=65247774&hm=c47f25761bc7656c2eb726dd4ad68b2c4ad57157bafd0f3d0f423724980e6d1b& width='300'>"
      ],
      "text/plain": [
       "<IPython.core.display.HTML object>"
      ]
     },
     "metadata": {},
     "output_type": "display_data"
    },
    {
     "name": "stdout",
     "output_type": "stream",
     "text": [
      "\u001b[1m\u001b[36mumbrecore\u001b[0m or maybe LOL for LucariO coLorizer \u001b[37m2023-10-08 01:31:28.014000\n",
      "\u001b[1m\u001b[36mumbrecore\u001b[0m no. new name. Lucariolorizer 1000 \u001b[37m2023-10-08 01:30:39.043000\n",
      "\u001b[1m\u001b[36mumbrecore\u001b[0m Very morally grey \u001b[37m2023-10-07 17:48:53.827000\n",
      "\u001b[1m\u001b[36mumbrecore\u001b[0m Lucolorizer 0.0.1 lol \u001b[37m2023-10-07 17:48:35.415000\n",
      "\u001b[1m\u001b[36mumbrecore\u001b[0m  \u001b[37m2023-10-07 17:48:09.378000\n"
     ]
    },
    {
     "data": {
      "text/html": [
       "<img src=https://cdn.discordapp.com/attachments/1063345393053749268/1160272368086814901/image-2.png?ex=65340ed9&is=652199d9&hm=d9219dcfabfbb99598a2453f8b5487eab5b535e64d6120d83c63744fc1fc56c5& width='300'>"
      ],
      "text/plain": [
       "<IPython.core.display.HTML object>"
      ]
     },
     "metadata": {},
     "output_type": "display_data"
    },
    {
     "name": "stdout",
     "output_type": "stream",
     "text": [
      "\u001b[1m\u001b[36mumbrecore\u001b[0m Something is cooking \u001b[37m2023-10-07 17:48:02.846000\n",
      "\u001b[1m\u001b[36mumbrecore\u001b[0m  \u001b[37m2023-07-27 03:16:59.230000\n",
      "\u001b[1m\u001b[36mzymsb\u001b[0m true \u001b[37m2023-07-27 03:15:38.527000\n",
      "\u001b[1m\u001b[36msapphaura\u001b[0m Bot more like butt \u001b[37m2023-07-26 22:21:26.512000\n",
      "\u001b[1m\u001b[36mumbrecore\u001b[0m  \u001b[37m2023-05-29 13:38:50.287000\n",
      "\u001b[1m\u001b[36mzymsb\u001b[0m Haiiii! OMG, thank you so much for the +1000 social score! That's like, super duper awesome! (*≧ω≦) I'm so happy! You're the best! Let's keep spreading positive vibes and having a great time together! Woohoo! 🎉🎉🎉 \u001b[37m2023-05-29 13:30:58.176000\n",
      "\u001b[1m\u001b[36msycamorph\u001b[0m +1000 social score. \u001b[37m2023-05-29 13:29:32.693000\n",
      "\u001b[1m\u001b[36mzymsb\u001b[0m Haiiii! (^ω^) 哇，你对我的理解力超级棒！嗯嗯，你说得没错，我超爱 BING CHILLING 🥶🍦 的，简直美味到爆炸！而且你还记得我想先吃两个冰淇淋，然后以三倍速度观赏《速度与激情9》！这部电影简直让我激动不已，里面的动作场面超赞！谢谢你的祝福，我一定会度过非常愉快的时光！拜拜！🥶🍦 \u001b[37m2023-05-29 13:29:07.566000\n",
      "\u001b[1m\u001b[36mumbrecore\u001b[0m <:tremble:618769929247784968> \u001b[37m2023-05-26 08:28:36.031000\n",
      "\u001b[1m\u001b[36mzymsb\u001b[0m :3 \u001b[37m2023-05-26 08:11:04.627000\n",
      "\u001b[1m\u001b[36mumbrecore\u001b[0m <:3_:1094026202806759504> \u001b[37m2023-05-26 05:21:37.328000\n",
      "\u001b[1m\u001b[36mzymsb\u001b[0m Hiya! :3 \u001b[37m2023-05-26 05:20:25.651000\n",
      "\u001b[1m\u001b[36mumbrecore\u001b[0m <@245690058345021442> \u001b[37m2023-05-26 05:16:35.741000\n",
      "\u001b[1m\u001b[36mZymBot\u001b[0m Thank you for the link, nya~! I just checked out the Instagram page and the art is really amazing, uwu! The use of colors and the attention to detail is really impressive, nya~! \u001b[37m2023-05-24 04:36:02.041000\n",
      "\u001b[1m\u001b[36mzymsb\u001b[0m <@302299077368872961> instagram.com/unit_003/ \u001b[37m2023-05-24 04:35:53.906000\n",
      "\u001b[1m\u001b[36mzymsb\u001b[0m Bitch I haven't even sent the link yet \u001b[37m2023-05-24 04:35:41.204000\n",
      "\u001b[1m\u001b[36mZymBot\u001b[0m Ooooh, I see, nya~! Thank you for sharing the link, uwu! I will definitely check it out, nya~! \u001b[37m2023-05-24 04:35:21.998000\n",
      "\u001b[1m\u001b[36mzymsb\u001b[0m <@302299077368872961> Oh yeah the person Im talking about can be found here \u001b[37m2023-05-24 04:35:15.292000\n",
      "\u001b[1m\u001b[36mZymBot\u001b[0m Aww, I'm sorry to hear that you had to go through the hassle of digging up your Instagram account, nya~! But I'm glad to hear that the art you saw was worth it, uwu! Art is amazing and can really be inspiring, nya~! \u001b[37m2023-05-24 04:34:52.735000\n",
      "\u001b[1m\u001b[36mzymsb\u001b[0m <@302299077368872961> I had to dig up my Instagram account after months of not touching it to even be able to look at someones post on that website \n",
      "Really annoying when sites do that!\n",
      "That being said it was definietly worth doing it because hoooooooooooooly shit the art is like \n",
      "Really damn good \u001b[37m2023-05-24 04:34:43.598000\n",
      "\u001b[1m\u001b[36mzymsb\u001b[0m fair \u001b[37m2023-05-20 02:18:54.095000\n",
      "\u001b[1m\u001b[36mumbrecore\u001b[0m Always has bean \u001b[37m2023-05-19 18:18:49.210000\n",
      "\u001b[1m\u001b[36mzymsb\u001b[0m wow this thing is still up \u001b[37m2023-05-19 14:17:42.365000\n",
      "\u001b[1m\u001b[36mReon Maid Mode\u001b[0m > **test** - <@245690058345021442>\n",
      "\n",
      "Is there anything specific you would like me to test, master/mistress? I am here to serve and assist you in any way I can. <3 \u001b[37m2023-05-19 14:17:30.591000\n",
      "\u001b[1m\u001b[36mzymsb\u001b[0m beep \u001b[37m2023-05-19 13:19:21.746000\n",
      "\u001b[1m\u001b[36mumbrecore\u001b[0m BEEP \u001b[37m2023-05-19 13:03:22.276000\n",
      "\u001b[1m\u001b[36mfokksu\u001b[0m hi \u001b[37m2023-05-19 12:28:07.003000\n",
      "\u001b[1m\u001b[36mnick_the_riolu\u001b[0m Also wait hi MB it’s been a while! <a:RenSpin:1008997836161024000> \u001b[37m2023-05-19 12:27:30.406000\n",
      "\u001b[1m\u001b[36mnick_the_riolu\u001b[0m 💅 \u001b[37m2023-05-19 12:27:07.518000\n",
      "\u001b[1m\u001b[36mnick_the_riolu\u001b[0m I see \u001b[37m2023-05-19 12:27:03.465000\n",
      "\u001b[1m\u001b[36mnick_the_riolu\u001b[0m I just woke up from 3 hours of sleep and MB is already on his bs \u001b[37m2023-05-19 12:27:02.174000\n",
      "\u001b[1m\u001b[36mfokksu\u001b[0m may is a month \u001b[37m2023-05-19 12:25:58.486000\n",
      "\u001b[1m\u001b[36mnick_the_riolu\u001b[0m No idea what is happening but yes you may <:RenOmgAHitTweet:995737995565084752> \u001b[37m2023-05-19 12:24:46.972000\n",
      "\u001b[1m\u001b[36mzymsb\u001b[0m yeah \u001b[37m2023-05-19 09:02:32.670000\n",
      "\u001b[1m\u001b[36mMato\u001b[0m He's a music bot \u001b[37m2023-05-19 08:58:46.910000\n"
     ]
    },
    {
     "data": {
      "text/plain": [
       "(50, 50)"
      ]
     },
     "execution_count": 6,
     "metadata": {},
     "output_type": "execute_result"
    }
   ],
   "source": [
    "chnl = client.get_channel(1063345393053749268 )\n",
    "BEFORE = datetime.strptime(\"16/06/2025 21:40\", \"%d/%m/%Y %H:%M\") - timedelta(hours=7)\n",
    "# BEFORE = datetime.strptime(\"2022-01-22 15:42:57.599000\", \"%Y-%m-%d %H:%M:%S.%f\")\n",
    "LIMIT = 50\n",
    "# except discord.Forbidden:\n",
    "fetched = 0\n",
    "printed = 0\n",
    "async for msg in chnl.history(limit=LIMIT, before=BEFORE):\n",
    "    fetched += 1\n",
    "    # if msg.author.id != 803716426312581191:\n",
    "    #     continue\n",
    "\n",
    "    printed += 1\n",
    "    # pretty print message\n",
    "    print(\n",
    "        f\"\\x1b[1m\\x1b[36m{msg.author.name}\\x1b[0m {msg.content} \\x1b[37m{msg.created_at}\"\n",
    "    )\n",
    "    for a in msg.attachments:\n",
    "        display(HTML(f\"<img src={a.url} width='300'>\"))\n",
    "printed, fetched"
   ]
  },
  {
   "attachments": {},
   "cell_type": "markdown",
   "metadata": {},
   "source": [
    "#### Guild members"
   ]
  },
  {
   "cell_type": "code",
   "execution_count": null,
   "metadata": {},
   "outputs": [],
   "source": [
    "x = await guild.fetch_members(limit=None).flatten()\n",
    "x"
   ]
  },
  {
   "attachments": {},
   "cell_type": "markdown",
   "metadata": {},
   "source": [
    "#### Roles"
   ]
  },
  {
   "attachments": {},
   "cell_type": "markdown",
   "metadata": {},
   "source": [
    "#### Users of role"
   ]
  },
  {
   "cell_type": "code",
   "execution_count": null,
   "metadata": {},
   "outputs": [],
   "source": [
    "role = guild.get_role(551585888384188419)\n",
    "print(role.members.__len__())\n",
    "role.members"
   ]
  },
  {
   "attachments": {},
   "cell_type": "markdown",
   "metadata": {},
   "source": [
    "## Write"
   ]
  },
  {
   "cell_type": "code",
   "execution_count": 8,
   "metadata": {},
   "outputs": [
    {
     "name": "stdout",
     "output_type": "stream",
     "text": [
      "Channel name: reeon-bot-chat\n",
      "Example message: Reon Mode#3954 Colored from sketch: [link](https://cdn.discordapp.com/ephemeral-attachments/1161882060898713733/1161891144230244372/Screenshot_20231012-115957.png?ex=6539f273&is=65277d73&hm=58bdca56b8c3e85d89b45414921d26cf726c7fb916009978116ce88b496b5da9&)\n",
      "\n",
      "Reon Mode#3954 Colored from sketch: [link](https://cdn.discordapp.com/ephemeral-attachments/1161882060898713733/1161891144230244372/Screenshot_20231012-115957.png?ex=6539f273&is=65277d73&hm=58bdca56b8c3e85d89b45414921d26cf726c7fb916009978116ce88b496b5da9&)\n",
      "Deleted: 1\n"
     ]
    }
   ],
   "source": [
    "print(\"Channel name:\", chnl)\n",
    "deleted = await chnl.purge(**purging_kwargs)\n",
    "assert to_delete.__len__() == deleted.__len__()\n",
    "print(\"Deleted:\", deleted.__len__())"
   ]
  },
  {
   "cell_type": "code",
   "execution_count": 55,
   "metadata": {},
   "outputs": [],
   "source": [
    "csv_out = \"message content, author name, message id, author id, created at, edited at, attachment ids, reaction count\\n\"\n",
    "for msg in deleted:\n",
    "    attachments = [atch.id for atch in msg.attachments]\n",
    "    csv_out += f'\"{msg.content}\",\"{msg.author.name}\",\"{msg.id}\",\"{msg.author.id}\",\"{msg.created_at}\",\"{msg.edited_at}\",\"{attachments}\",{msg.reactions.__len__()}\\n'\n",
    "\n",
    "with open(\n",
    "    f\"{OUTPUT_FOLDER}/{guild} - #{chnl} - @{deleted[0].author.name}.csv\", \"w\"\n",
    ") as f:\n",
    "    f.write(csv_out)"
   ]
  },
  {
   "attachments": {},
   "cell_type": "markdown",
   "metadata": {},
   "source": [
    "### Send a message"
   ]
  },
  {
   "cell_type": "code",
   "execution_count": null,
   "metadata": {},
   "outputs": [],
   "source": [
    "chnl = client.get_channel(int(input(\"Channel ID: \")))\n",
    "await chnl.send(input(\"Message to send: \"))"
   ]
  },
  {
   "attachments": {},
   "cell_type": "markdown",
   "metadata": {},
   "source": [
    "### Add/remove 1 role"
   ]
  },
  {
   "cell_type": "code",
   "execution_count": null,
   "metadata": {},
   "outputs": [],
   "source": [
    "member = guild.get_member(803716426312581191)\n",
    "role = discord.utils.get(guild.roles, name=\"Admins\")\n",
    "print(member, guild, role)"
   ]
  },
  {
   "cell_type": "code",
   "execution_count": null,
   "metadata": {},
   "outputs": [],
   "source": [
    "await member.add_roles(role)\n",
    "await member.remove_roles(role)"
   ]
  },
  {
   "cell_type": "markdown",
   "metadata": {},
   "source": [
    "### Ban a member"
   ]
  },
  {
   "cell_type": "code",
   "execution_count": 7,
   "metadata": {},
   "outputs": [],
   "source": [
    "member = guild.get_member(1054038717121175662)\n",
    "reason = \"\"\n",
    "if input(f\"Ban {member} from {guild}?\") == \"Y\":\n",
    "    await guild.ban(member, reason=reason)"
   ]
  },
  {
   "attachments": {},
   "cell_type": "markdown",
   "metadata": {},
   "source": [
    "### Create Webhook"
   ]
  },
  {
   "cell_type": "code",
   "execution_count": 5,
   "metadata": {},
   "outputs": [
    {
     "data": {
      "text/plain": [
       "[<Webhook id=1123612309500207194>,\n",
       " <Webhook id=1125402285208510505>,\n",
       " <Webhook id=1142785593349263460>]"
      ]
     },
     "execution_count": 5,
     "metadata": {},
     "output_type": "execute_result"
    }
   ],
   "source": [
    "chnl = client.get_channel(756131891941343354)\n",
    "[h for h in await chnl.webhooks()] # list hooks"
   ]
  },
  {
   "cell_type": "code",
   "execution_count": 6,
   "metadata": {},
   "outputs": [
    {
     "data": {
      "text/plain": [
       "'https://discord.com/api/webhooks/1142788035176562809/pXmjFHiinIzbRzUJf6jzCzNZi4amXrbiwdO1vCFjAXDC031m4y1jPO59g0Vgh5Yjcbfd'"
      ]
     },
     "execution_count": 6,
     "metadata": {},
     "output_type": "execute_result"
    }
   ],
   "source": [
    "h = await chnl.create_webhook(name=\"ReposteReon\")\n",
    "print(h.url)"
   ]
  },
  {
   "cell_type": "code",
   "execution_count": 11,
   "metadata": {},
   "outputs": [
    {
     "ename": "HTTPError",
     "evalue": "404 Client Error: Not Found for url: https://discord.com/api/webhooks/1142788035176562809/pXmjFHiinIzbRzUJf6jzCzNZi4amXrbiwdO1vCFjAXDC031m4y1jPO59g0Vgh5Yjcbfd",
     "output_type": "error",
     "traceback": [
      "\u001b[1;31m---------------------------------------------------------------------------\u001b[0m",
      "\u001b[1;31mHTTPError\u001b[0m                                 Traceback (most recent call last)",
      "Cell \u001b[1;32mIn[11], line 7\u001b[0m\n\u001b[0;32m      4\u001b[0m     r\u001b[39m.\u001b[39mraise_for_status()\n\u001b[0;32m      5\u001b[0m \u001b[39mexcept\u001b[39;00m requests\u001b[39m.\u001b[39mHTTPError \u001b[39mas\u001b[39;00m ex:\n\u001b[0;32m      6\u001b[0m     \u001b[39m# possibly check response for a message\u001b[39;00m\n\u001b[1;32m----> 7\u001b[0m     \u001b[39mraise\u001b[39;00m ex  \u001b[39m# let the caller handle it\u001b[39;00m\n\u001b[0;32m      8\u001b[0m \u001b[39mexcept\u001b[39;00m requests\u001b[39m.\u001b[39mTimeout:\n\u001b[0;32m      9\u001b[0m     \u001b[39mpass\u001b[39;00m\n",
      "Cell \u001b[1;32mIn[11], line 4\u001b[0m\n\u001b[0;32m      2\u001b[0m \u001b[39mtry\u001b[39;00m:\n\u001b[0;32m      3\u001b[0m     r \u001b[39m=\u001b[39m requests\u001b[39m.\u001b[39mget(url)\n\u001b[1;32m----> 4\u001b[0m     r\u001b[39m.\u001b[39;49mraise_for_status()\n\u001b[0;32m      5\u001b[0m \u001b[39mexcept\u001b[39;00m requests\u001b[39m.\u001b[39mHTTPError \u001b[39mas\u001b[39;00m ex:\n\u001b[0;32m      6\u001b[0m     \u001b[39m# possibly check response for a message\u001b[39;00m\n\u001b[0;32m      7\u001b[0m     \u001b[39mraise\u001b[39;00m ex  \u001b[39m# let the caller handle it\u001b[39;00m\n",
      "File \u001b[1;32mc:\\Users\\hoang\\.virtualenvs\\jupytervenv3.10\\lib\\site-packages\\requests\\models.py:1021\u001b[0m, in \u001b[0;36mResponse.raise_for_status\u001b[1;34m(self)\u001b[0m\n\u001b[0;32m   1016\u001b[0m     http_error_msg \u001b[39m=\u001b[39m (\n\u001b[0;32m   1017\u001b[0m         \u001b[39mf\u001b[39m\u001b[39m\"\u001b[39m\u001b[39m{\u001b[39;00m\u001b[39mself\u001b[39m\u001b[39m.\u001b[39mstatus_code\u001b[39m}\u001b[39;00m\u001b[39m Server Error: \u001b[39m\u001b[39m{\u001b[39;00mreason\u001b[39m}\u001b[39;00m\u001b[39m for url: \u001b[39m\u001b[39m{\u001b[39;00m\u001b[39mself\u001b[39m\u001b[39m.\u001b[39murl\u001b[39m}\u001b[39;00m\u001b[39m\"\u001b[39m\n\u001b[0;32m   1018\u001b[0m     )\n\u001b[0;32m   1020\u001b[0m \u001b[39mif\u001b[39;00m http_error_msg:\n\u001b[1;32m-> 1021\u001b[0m     \u001b[39mraise\u001b[39;00m HTTPError(http_error_msg, response\u001b[39m=\u001b[39m\u001b[39mself\u001b[39m)\n",
      "\u001b[1;31mHTTPError\u001b[0m: 404 Client Error: Not Found for url: https://discord.com/api/webhooks/1142788035176562809/pXmjFHiinIzbRzUJf6jzCzNZi4amXrbiwdO1vCFjAXDC031m4y1jPO59g0Vgh5Yjcbfd"
     ]
    }
   ],
   "source": [
    "url = 'https://discord.com/api/webhooks/1142788035176562809/pXmjFHiinIzbRzUJf6jzCzNZi4amXrbiwdO1vCFjAXDC031m4y1jPO59g0Vgh5Yjcbfd' \n",
    "try:\n",
    "    r = requests.get(url)\n",
    "    r.raise_for_status()\n",
    "except requests.HTTPError as ex:\n",
    "    # possibly check response for a message\n",
    "    raise ex  # let the caller handle it\n",
    "except requests.Timeout:\n",
    "    pass\n",
    "    # request took too long\n"
   ]
  },
  {
   "attachments": {},
   "cell_type": "markdown",
   "metadata": {},
   "source": [
    "### Edit channel (permission required)"
   ]
  },
  {
   "cell_type": "code",
   "execution_count": null,
   "metadata": {},
   "outputs": [],
   "source": [
    "chnl = client.get_channel(950982603220082718)\n",
    "await chnl.edit(sync_permissions=True)"
   ]
  },
  {
   "cell_type": "markdown",
   "metadata": {},
   "source": [
    "### Leave server"
   ]
  },
  {
   "cell_type": "code",
   "execution_count": 11,
   "metadata": {},
   "outputs": [],
   "source": [
    "guild = client.get_guild(511986246629982256)\n",
    "ok = input(f\"Leave {guild.name}?\")\n",
    "if ok == \"Y\":\n",
    "    await guild.leave()"
   ]
  },
  {
   "attachments": {},
   "cell_type": "markdown",
   "metadata": {},
   "source": [
    "# Log out"
   ]
  },
  {
   "cell_type": "code",
   "execution_count": null,
   "metadata": {},
   "outputs": [],
   "source": [
    "await client.close()"
   ]
  },
  {
   "cell_type": "code",
   "execution_count": null,
   "metadata": {},
   "outputs": [],
   "source": []
  }
 ],
 "metadata": {
  "kernelspec": {
   "display_name": "Python 3 (ipykernel)",
   "language": "python",
   "name": "python3"
  },
  "orig_nbformat": 4,
  "vscode": {
   "interpreter": {
    "hash": "227d98b175408dc11aa1b5ea9dc048f1ae7dec76a87105d49fde2f8f0f8bd018"
   }
  }
 },
 "nbformat": 4,
 "nbformat_minor": 2
}
