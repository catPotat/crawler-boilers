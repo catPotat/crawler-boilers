{
 "cells": [
  {
   "attachments": {},
   "cell_type": "markdown",
   "metadata": {},
   "source": [
    "## Setup"
   ]
  },
  {
   "cell_type": "code",
   "execution_count": 1,
   "metadata": {},
   "outputs": [],
   "source": [
    "from dotenv import load_dotenv\n",
    "\n",
    "load_dotenv()\n",
    "import os\n",
    "import discord\n",
    "import asyncio\n",
    "from tqdm.auto import tqdm\n",
    "from IPython.display import display, HTML\n",
    "from datetime import datetime, timedelta\n",
    "import time\n",
    "import requests\n",
    "import re"
   ]
  },
  {
   "cell_type": "code",
   "execution_count": 2,
   "metadata": {},
   "outputs": [
    {
     "name": "stdout",
     "output_type": "stream",
     "text": [
      "Logged in as oolongteas#0\n"
     ]
    }
   ],
   "source": [
    "REDCAT_TOKEN = \"ODY2NzcyOTc5Nzk4OTAwNzQ2.G6WKPF.gIk5YNV0WR5z9Ie4V9RNZy7P24zayO7G4wztVQ\"\n",
    "KANDON = \"NjM1Mzc5NjIxMDc1ODc3ODkw.GWEm_p.9hW6PiqqbLboLDAKN5LZfh4mxyYU3L7FPUg9p0\"\n",
    "DAIMON_TOKE = \"NTY0NDkzNjU1ODc2OTYwMjk2.GmutBR.qyvuIZiGHnFHhdMgLr6x-kDuJwjbcuRhSQus6g\"\n",
    "LOGIN_TOKEN =  KANDON\n",
    "IS_BOT = 0  # <= 1.7.3\n",
    "REEEON_ID = 510768840972566528\n",
    "\n",
    "\n",
    "class DiscordClient(discord.Client):\n",
    "    def __init__(self):\n",
    "        super().__init__(intents=discord.Intents.all())\n",
    "\n",
    "    async def cbt(self):  # call back task\n",
    "        while not self.is_ready():\n",
    "            await asyncio.sleep(0.2)\n",
    "\n",
    "\n",
    "client = DiscordClient()\n",
    "\n",
    "await asyncio.wait(\n",
    "    [\n",
    "        asyncio.create_task(client.start(LOGIN_TOKEN, bot=IS_BOT)),\n",
    "        asyncio.create_task(client.cbt()),\n",
    "    ],\n",
    "    return_when=asyncio.FIRST_COMPLETED,\n",
    ")\n",
    "print(f\"Logged in as {client.user}\")"
   ]
  },
  {
   "attachments": {},
   "cell_type": "markdown",
   "metadata": {},
   "source": [
    "## Read"
   ]
  },
  {
   "cell_type": "code",
   "execution_count": 4,
   "metadata": {},
   "outputs": [
    {
     "name": "stdout",
     "output_type": "stream",
     "text": [
      "14\n"
     ]
    },
    {
     "data": {
      "text/plain": [
       "[<Guild id=652902499879223326 name='FurGaming 『F.G』🐾' shard_id=None chunked=False member_count=297>,\n",
       " <Guild id=693507836159983628 name='☆FUVE - Furry Vietnam Eternity☆' shard_id=None chunked=False member_count=1487>,\n",
       " <Guild id=756131891941343352 name='ohayooo' shard_id=None chunked=True member_count=5>,\n",
       " <Guild id=786788486887768135 name='The Final Experiment' shard_id=None chunked=False member_count=82967>,\n",
       " <Guild id=827976897887469608 name='TFE Appeals' shard_id=None chunked=False member_count=14708>,\n",
       " <Guild id=884849473329692723 name='Honkai: Star Rail Official' shard_id=None chunked=False member_count=977666>,\n",
       " <Guild id=886671328395030579 name='Mythical Furry Land' shard_id=None chunked=False member_count=31>,\n",
       " <Guild id=903842809734389760 name='Dress My Slugcat' shard_id=None chunked=False member_count=2273>,\n",
       " <Guild id=1070298763811356684 name='Mash Team' shard_id=None chunked=False member_count=38>,\n",
       " <Guild id=1121706022369755240 name='Chúa Hề Cùng Seno' shard_id=None chunked=False member_count=84>,\n",
       " <Guild id=1126864423143878676 name=\"Git's Castle\" shard_id=None chunked=False member_count=11>,\n",
       " <Guild id=1143762996913516554 name='hội cái bang xamlul' shard_id=None chunked=False member_count=104>,\n",
       " <Guild id=1155454644387061780 name='The Last Breath |TLB|' shard_id=None chunked=False member_count=44>,\n",
       " <Guild id=1179056396663259267 name='hang mèo cực nhỏ' shard_id=None chunked=False member_count=8>]"
      ]
     },
     "execution_count": 4,
     "metadata": {},
     "output_type": "execute_result"
    }
   ],
   "source": [
    "print(client.guilds.__len__())\n",
    "client.guilds[:20]"
   ]
  },
  {
   "cell_type": "code",
   "execution_count": 5,
   "metadata": {},
   "outputs": [
    {
     "name": "stdout",
     "output_type": "stream",
     "text": [
      "FurGaming 『F.G』🐾\n"
     ]
    },
    {
     "data": {
      "text/plain": [
       "[<TextChannel id=668343360347570177 name='welcome' position=0 nsfw=False news=False category_id=926010359444287509>,\n",
       " <TextChannel id=922339134457147452 name='you-know-the-rule' position=1 nsfw=False news=False category_id=926010359444287509>,\n",
       " <TextChannel id=668494631561855006 name='loa-phát-thanh' position=2 nsfw=False news=False category_id=926010359444287509>,\n",
       " <TextChannel id=926010895354703914 name='phòng-vé' position=3 nsfw=False news=False category_id=926010359444287509>,\n",
       " <TextChannel id=955034571047575552 name='color-role' position=4 nsfw=False news=False category_id=926010359444287509>,\n",
       " <TextChannel id=958364900579766293 name='cya' position=5 nsfw=False news=False category_id=926010359444287509>,\n",
       " <TextChannel id=1034400884458790942 name='💬-động-fuwwy' position=6 nsfw=False news=False category_id=652902500415963136>,\n",
       " <TextChannel id=1105177512696360980 name='🎮-game-xuyên-đêm' position=7 nsfw=False news=False category_id=652902500415963136>,\n",
       " <TextChannel id=973178070276116490 name='🎊epik-mini-games' position=8 nsfw=False news=False category_id=652902500415963136>,\n",
       " <TextChannel id=1107309659024527460 name='🎨-latest-art' position=9 nsfw=False news=False category_id=652902500415963136>,\n",
       " <TextChannel id=1175567614420996148 name='📌chia-sẻ-kinh-nghiệm-vẽ' position=10 nsfw=False news=False category_id=652902500415963136>,\n",
       " <TextChannel id=1169823930064830534 name='📸-photography' position=11 nsfw=False news=False category_id=652902500415963136>,\n",
       " <TextChannel id=1131534629833277470 name='🦊share-fursuit📸' position=12 nsfw=False news=False category_id=652902500415963136>,\n",
       " <TextChannel id=911820879959302144 name='🍀-rất-chi-là-mim' position=13 nsfw=False news=False category_id=652902500415963136>,\n",
       " <TextChannel id=1105154029278986321 name='hầm' position=14 nsfw=False news=False category_id=652902500415963136>,\n",
       " <TextChannel id=669840027668185108 name='🎲-casino' position=15 nsfw=False news=False category_id=652902500415963136>,\n",
       " <TextChannel id=670322574600699934 name='khách-sạn-online🤔' position=16 nsfw=True news=False category_id=652902500415963136>,\n",
       " <TextChannel id=1117456317364318259 name='🧜🏿-thú-tội-cùng-laurentina' position=17 nsfw=True news=False category_id=652902500415963136>,\n",
       " <TextChannel id=1107314139359100959 name='🌆-your-oc-lore' position=18 nsfw=False news=False category_id=652902500415963136>,\n",
       " <TextChannel id=1180911741136294029 name='📖văn-và-phân-tích' position=19 nsfw=False news=False category_id=652902500415963136>,\n",
       " <TextChannel id=1120338283990360096 name='🍜-foodporn' position=20 nsfw=False news=False category_id=652902500415963136>,\n",
       " <TextChannel id=912006589349789837 name='🔺phòng-bầu-cử' position=21 nsfw=False news=False category_id=652902500415963136>,\n",
       " <TextChannel id=958377694763057172 name='gay-prison' position=22 nsfw=False news=False category_id=652902500415963136>,\n",
       " <TextChannel id=1015280337787556011 name='boong-ke' position=23 nsfw=False news=False category_id=652902500415963136>,\n",
       " <TextChannel id=652902500415963138 name='🐧-side-chat-wibu-cave' position=24 nsfw=False news=False category_id=652902500415963136>,\n",
       " <TextChannel id=668673240868061205 name='sever-không-vip-xóa-sever' position=25 nsfw=False news=False category_id=652902500415963136>,\n",
       " <TextChannel id=669182172871131158 name='emoji-chất-lượng-cao' position=26 nsfw=False news=False category_id=652902500415963136>,\n",
       " <TextChannel id=669177505294581761 name='setup-bot' position=27 nsfw=False news=False category_id=652902500415963136>,\n",
       " <TextChannel id=939153752965931089 name='ban-quản-lý' position=28 nsfw=False news=False category_id=652902500415963136>,\n",
       " <TextChannel id=668712872611807233 name='music' position=29 nsfw=False news=False category_id=652902500415963137>,\n",
       " <TextChannel id=934387239654404157 name='no-mic' position=30 nsfw=False news=False category_id=652902500415963137>,\n",
       " <TextChannel id=921996765270540349 name='🚮spam-kazuha' position=31 nsfw=False news=False category_id=673163881060761611>,\n",
       " <TextChannel id=944776829833728030 name='mudae' position=32 nsfw=False news=False category_id=673163881060761611>,\n",
       " <TextChannel id=1064760076390371370 name='câu-cáo' position=33 nsfw=False news=False category_id=673163881060761611>,\n",
       " <TextChannel id=1064770893533937734 name='câu-cáo-2' position=34 nsfw=False news=False category_id=673163881060761611>,\n",
       " <TextChannel id=926287672387965028 name='🔹tips-kazuha' position=35 nsfw=False news=False category_id=673163881060761611>,\n",
       " <TextChannel id=935090470588125275 name='🔸giá-xăng-vàng-hiện-giờ' position=36 nsfw=False news=False category_id=673163881060761611>,\n",
       " <TextChannel id=935087131066515496 name='🔸đài-truyền-hình-kazuha' position=37 nsfw=False news=False category_id=673163881060761611>,\n",
       " <TextChannel id=673163968088506371 name='🎴kazuha' position=38 nsfw=False news=False category_id=673163881060761611>,\n",
       " <TextChannel id=915834937624657950 name='khu-thương-mại-tháp-đôi' position=39 nsfw=False news=False category_id=673163881060761611>,\n",
       " <TextChannel id=925998430956978196 name='💰bounty' position=40 nsfw=False news=False category_id=673163881060761611>,\n",
       " <TextChannel id=957987532929400872 name='love-catsle' position=41 nsfw=False news=False category_id=673163881060761611>,\n",
       " <TextChannel id=952429631376621659 name='🎉giveaway🎉' position=42 nsfw=False news=False category_id=952429445313093663>,\n",
       " <TextChannel id=668625593679740933 name='brawler' position=43 nsfw=False news=False category_id=668625302850764843>,\n",
       " <TextChannel id=668625724873375764 name='assassin' position=44 nsfw=False news=False category_id=668625302850764843>,\n",
       " <TextChannel id=668625916007677973 name='tank' position=45 nsfw=False news=False category_id=668625302850764843>,\n",
       " <TextChannel id=668625977701826570 name='special' position=46 nsfw=False news=False category_id=668625302850764843>,\n",
       " <TextChannel id=668626056755937302 name='marksman' position=47 nsfw=False news=False category_id=668625302850764843>,\n",
       " <TextChannel id=668626230118973440 name='support' position=48 nsfw=False news=False category_id=668625302850764843>,\n",
       " <TextChannel id=668626298557693953 name='brust' position=49 nsfw=False news=False category_id=668625302850764843>,\n",
       " <TextChannel id=668626412307218449 name='gamepass' position=50 nsfw=False news=False category_id=668625302850764843>]"
      ]
     },
     "execution_count": 5,
     "metadata": {},
     "output_type": "execute_result"
    }
   ],
   "source": [
    "guild = client.get_guild(652902499879223326     )\n",
    "print(guild.name)\n",
    "chnls = guild.text_channels\n",
    "chnls"
   ]
  },
  {
   "attachments": {},
   "cell_type": "markdown",
   "metadata": {},
   "source": [
    "#### Channel messages"
   ]
  },
  {
   "cell_type": "code",
   "execution_count": 8,
   "metadata": {},
   "outputs": [
    {
     "name": "stdout",
     "output_type": "stream",
     "text": [
      "\u001b[1m\u001b[36mfawximatto\u001b[0m <:why:1146075812056027147> \u001b[37m2023-12-05 11:33:33.152000 uid:848413658505936929\n",
      "\u001b[1m\u001b[36mfawximatto\u001b[0m Tôi suy quá \u001b[37m2023-12-05 11:33:17.339000 uid:848413658505936929\n",
      "\u001b[1m\u001b[36mfawximatto\u001b[0m Nghe xong bài mới của Stolas \u001b[37m2023-12-05 11:33:13.903000 uid:848413658505936929\n",
      "\u001b[1m\u001b[36mm0ritaka\u001b[0m <:Pwease:1140644815558680626> \u001b[37m2023-12-05 11:31:46.698000 uid:311578367294046210\n",
      "\u001b[1m\u001b[36mminosuko\u001b[0m <:fresh_woter:1147210868958969917> \u001b[37m2023-12-05 10:56:48.376000 uid:875648914513092618\n",
      "\u001b[1m\u001b[36myelloe2004\u001b[0m <:jerry_wtf:909722081170710549> \u001b[37m2023-12-05 10:50:24.563000 uid:652281623794024448\n",
      "\u001b[1m\u001b[36mminosuko\u001b[0m <:sleep:1106265534858805359> \u001b[37m2023-12-05 10:43:44.920000 uid:875648914513092618\n",
      "\u001b[1m\u001b[36mminosuko\u001b[0m <:firWiggle:1120313755989975110> \u001b[37m2023-12-05 10:43:30.822000 uid:875648914513092618\n",
      "\u001b[1m\u001b[36myelloe2004\u001b[0m <:oicaiditme:1155707888325636156> <:mayo:1038133329272254504> \u001b[37m2023-12-05 10:43:18.863000 uid:652281623794024448\n",
      "\u001b[1m\u001b[36mminosuko\u001b[0m <:cringe:921685693841932368> \u001b[37m2023-12-05 10:42:52.510000 uid:875648914513092618\n",
      "\u001b[1m\u001b[36mminosuko\u001b[0m <:cotsongma:909722190985973790> \u001b[37m2023-12-05 10:42:39.894000 uid:875648914513092618\n",
      "\u001b[1m\u001b[36myelloe2004\u001b[0m <:ffoxesPET:913487956172492830> \u001b[37m2023-12-05 10:42:31.120000 uid:652281623794024448\n",
      "\u001b[1m\u001b[36myelloe2004\u001b[0m very gud \u001b[37m2023-12-05 10:42:27.836000 uid:652281623794024448\n",
      "\u001b[1m\u001b[36mifritsvine\u001b[0m dậy đi \u001b[37m2023-12-05 10:42:18.360000 uid:678526485404844032\n",
      "\u001b[1m\u001b[36mminosuko\u001b[0m <:sui:1097834918324752455> \u001b[37m2023-12-05 10:42:17.434000 uid:875648914513092618\n",
      "\u001b[1m\u001b[36mifritsvine\u001b[0m đừng ngủ \u001b[37m2023-12-05 10:42:16.779000 uid:678526485404844032\n",
      "\u001b[1m\u001b[36myelloe2004\u001b[0m vậy là hàng dỏm ròi \u001b[37m2023-12-05 10:41:34.487000 uid:652281623794024448\n",
      "\u001b[1m\u001b[36myelloe2004\u001b[0m ngủ đi \u001b[37m2023-12-05 10:41:22.173000 uid:652281623794024448\n",
      "\u001b[1m\u001b[36mshirona_yuki\u001b[0m <:tfuk:1017484047561281606> \u001b[37m2023-12-05 10:38:38.806000 uid:630661589455863869\n",
      "\u001b[1m\u001b[36mshirona_yuki\u001b[0m Nó như cái vỏ bánh thường rắc xíu bột matcha lên \u001b[37m2023-12-05 10:38:35.217000 uid:630661589455863869\n",
      "\u001b[1m\u001b[36mshirona_yuki\u001b[0m Bao xanh lét mở bọc ra \u001b[37m2023-12-05 10:38:17.393000 uid:630661589455863869\n",
      "\u001b[1m\u001b[36mshirona_yuki\u001b[0m Lừa vãi \u001b[37m2023-12-05 10:38:08.369000 uid:630661589455863869\n"
     ]
    },
    {
     "data": {
      "text/html": [
       "<img src=https://cdn.discordapp.com/attachments/1034400884458790942/1181545034542223370/IMG_1201.jpg?ex=65817290&is=656efd90&hm=2094cab41a8c330126df1e08d9ea25ab4f557b4ddf13744bc3245cbc873b54ca& width='300'>"
      ],
      "text/plain": [
       "<IPython.core.display.HTML object>"
      ]
     },
     "metadata": {},
     "output_type": "display_data"
    },
    {
     "name": "stdout",
     "output_type": "stream",
     "text": [
      "\u001b[1m\u001b[36mminosuko\u001b[0m hã \u001b[37m2023-12-05 10:37:28.039000 uid:875648914513092618\n",
      "\u001b[1m\u001b[36mshirona_yuki\u001b[0m Nó dùng mưu mới đánh tâm lý vn là thích hóng hớt drama th \u001b[37m2023-12-05 10:34:00.602000 uid:630661589455863869\n",
      "\u001b[1m\u001b[36mshirona_yuki\u001b[0m Thay vì như mấy link free nitro hay là skin trade bên mấy game steam thì \u001b[37m2023-12-05 10:33:36.828000 uid:630661589455863869\n",
      "\u001b[1m\u001b[36mshirona_yuki\u001b[0m Ugh no just why \u001b[37m2023-12-05 10:33:22.101000 uid:630661589455863869\n",
      "\u001b[1m\u001b[36mitsquynhanh\u001b[0m Ai tóm tắt đc k💀 \u001b[37m2023-12-05 10:33:10.141000 uid:1158737548408016896\n",
      "\u001b[1m\u001b[36mitsquynhanh\u001b[0m Nó nhắn linh tinh j ấy \u001b[37m2023-12-05 10:33:02.199000 uid:1158737548408016896\n",
      "\u001b[1m\u001b[36mitsquynhanh\u001b[0m Mà trc khi gửi link \u001b[37m2023-12-05 10:32:56.839000 uid:1158737548408016896\n",
      "\u001b[1m\u001b[36mitsquynhanh\u001b[0m Hên tôi đọc trc cái loa phát thanh \u001b[37m2023-12-05 10:32:38.124000 uid:1158737548408016896\n",
      "\u001b[1m\u001b[36mshirona_yuki\u001b[0m Chứ ko chả tự nhiên đi ping everyone làm j đâu \u001b[37m2023-12-05 10:32:37.763000 uid:630661589455863869\n",
      "\u001b[1m\u001b[36mitsquynhanh\u001b[0m Mà nó nhắn dài quá tôi Ko đọc hết \u001b[37m2023-12-05 10:32:27.057000 uid:1158737548408016896\n",
      "\u001b[1m\u001b[36mitsquynhanh\u001b[0m Thật ak \u001b[37m2023-12-05 10:32:15.255000 uid:1158737548408016896\n",
      "\u001b[1m\u001b[36mshirona_yuki\u001b[0m Bay acc \u001b[37m2023-12-05 10:32:05.581000 uid:630661589455863869\n",
      "\u001b[1m\u001b[36mhung_aaa\u001b[0m dẫn tới mất acc \u001b[37m2023-12-05 10:32:04.169000 uid:587216138807803904\n",
      "\u001b[1m\u001b[36mitsquynhanh\u001b[0m Link mèo đỏ nó dẫn tới cái j v \u001b[37m2023-12-05 10:31:34.398000 uid:1158737548408016896\n",
      "\u001b[1m\u001b[36mitsquynhanh\u001b[0m Cho tôi hỏi \u001b[37m2023-12-05 10:31:22.986000 uid:1158737548408016896\n",
      "\u001b[1m\u001b[36mitsquynhanh\u001b[0m Bro \u001b[37m2023-12-05 10:31:20.412000 uid:1158737548408016896\n",
      "\u001b[1m\u001b[36mshirona_yuki\u001b[0m Đều là tree thức mà nó lạ lắm \u001b[37m2023-12-05 10:29:59.375000 uid:630661589455863869\n",
      "\u001b[1m\u001b[36mFrostHydra\u001b[0m Chúc mn ngày kia roll agrenti trúng rate nha \u001b[37m2023-12-05 10:26:53.530000 uid:868026771893780490\n"
     ]
    },
    {
     "data": {
      "text/html": [
       "<img src=https://cdn.discordapp.com/attachments/1034400884458790942/1181542204209115136/SPOILER_FB_IMG_1701746365716.jpg?ex=65816fed&is=656efaed&hm=1d441f4c4a28cd46f4dbc19b633b06c06820f0028b23451a7e20110d9666efa3& width='300'>"
      ],
      "text/plain": [
       "<IPython.core.display.HTML object>"
      ]
     },
     "metadata": {},
     "output_type": "display_data"
    },
    {
     "name": "stdout",
     "output_type": "stream",
     "text": [
      "\u001b[1m\u001b[36mhung_aaa\u001b[0m khong la a cuoi dau bung lam \u001b[37m2023-12-05 10:05:41.656000 uid:587216138807803904\n",
      "\u001b[1m\u001b[36mhung_aaa\u001b[0m <@630661589455863869> dung choc yell nua \u001b[37m2023-12-05 10:05:37.948000 uid:587216138807803904\n",
      "\u001b[1m\u001b[36mlocchantrash\u001b[0m <:lappdumb:999492649721532456> \u001b[37m2023-12-05 07:01:13.125000 uid:363916800595066890\n",
      "\u001b[1m\u001b[36mlocchantrash\u001b[0m Sáng dậy em thấy MixerBox hiện thông báo 9-10 anh Yell đi du lịch \u001b[37m2023-12-05 07:01:11.533000 uid:363916800595066890\n",
      "\u001b[1m\u001b[36myelloe2004\u001b[0m <:haiyaaa:1168139538921685073> \u001b[37m2023-12-05 06:57:47.584000 uid:652281623794024448\n",
      "\u001b[1m\u001b[36mril3y_p3ytonz\u001b[0m Nma chưa ăn sáng <:hwehwe:1156640777343078512> \u001b[37m2023-12-05 06:56:00.813000 uid:732774536717795408\n",
      "\u001b[1m\u001b[36myelloe2004\u001b[0m bây giờ chiều rồi mà \u001b[37m2023-12-05 06:55:39.644000 uid:652281623794024448\n",
      "\u001b[1m\u001b[36mril3y_p3ytonz\u001b[0m hehe \u001b[37m2023-12-05 06:55:25.802000 uid:732774536717795408\n",
      "\u001b[1m\u001b[36myelloe2004\u001b[0m <:lappdumb:999492649721532456> \u001b[37m2023-12-05 06:54:43.177000 uid:652281623794024448\n",
      "\u001b[1m\u001b[36mril3y_p3ytonz\u001b[0m Ril đi ăn sáng đã \u001b[37m2023-12-05 06:54:36.825000 uid:732774536717795408\n",
      "\u001b[1m\u001b[36mril3y_p3ytonz\u001b[0m Oki \u001b[37m2023-12-05 06:54:21.859000 uid:732774536717795408\n",
      "\u001b[1m\u001b[36myelloe2004\u001b[0m Yell nghỉ trưa xíu \u001b[37m2023-12-05 06:54:08.868000 uid:652281623794024448\n",
      "\u001b[1m\u001b[36myelloe2004\u001b[0m <@732774536717795408> \u001b[37m2023-12-05 06:54:04.036000 uid:652281623794024448\n",
      "\u001b[1m\u001b[36myelloe2004\u001b[0m <:muhahah:1098941981226455050> \u001b[37m2023-12-05 06:30:32.151000 uid:652281623794024448\n",
      "\u001b[1m\u001b[36mifritsvine\u001b[0m chiến \u001b[37m2023-12-05 06:24:10.901000 uid:678526485404844032\n",
      "\u001b[1m\u001b[36mifritsvine\u001b[0m Faker nay về vn khi nào vậy <:lappdumb:999492649721532456> \u001b[37m2023-12-05 06:23:39.364000 uid:678526485404844032\n",
      "\u001b[1m\u001b[36myelloe2004\u001b[0m tự dưng có chú Cơ trong game \u001b[37m2023-12-05 06:20:34.090000 uid:652281623794024448\n",
      "\u001b[1m\u001b[36myelloe2004\u001b[0m ngon rồi \u001b[37m2023-12-05 06:20:26.918000 uid:652281623794024448\n",
      "\u001b[1m\u001b[36myelloe2004\u001b[0m <:lappdumb:999492649721532456> \u001b[37m2023-12-05 06:20:24.334000 uid:652281623794024448\n",
      "\u001b[1m\u001b[36mMEE6\u001b[0m Bắt t im thì mốt <@732774536717795408> tự lên chi cục mà đóng gấp đôi tổng  10  thuế tháng sau \u001b[37m2023-12-05 06:20:11.847000 uid:159985870458322944\n",
      "\u001b[1m\u001b[36mril3y_p3ytonz\u001b[0m Gke z sao, hnay chú cơ đi cả rừng luôn =)) \u001b[37m2023-12-05 06:20:11.369000 uid:732774536717795408\n"
     ]
    },
    {
     "data": {
      "text/html": [
       "<img src=https://cdn.discordapp.com/attachments/1034400884458790942/1181480119324389386/image.png?ex=6581361b&is=656ec11b&hm=609df4ac994aaeeee76b956e935be13eee17d00bcc22189b87be281caa875fe3& width='300'>"
      ],
      "text/plain": [
       "<IPython.core.display.HTML object>"
      ]
     },
     "metadata": {},
     "output_type": "display_data"
    },
    {
     "name": "stdout",
     "output_type": "stream",
     "text": [
      "\u001b[1m\u001b[36mril3y_p3ytonz\u001b[0m =)) \u001b[37m2023-12-05 06:18:46.234000 uid:732774536717795408\n",
      "\u001b[1m\u001b[36myelloe2004\u001b[0m toàn bị dí \u001b[37m2023-12-05 06:18:07.481000 uid:652281623794024448\n",
      "\u001b[1m\u001b[36myelloe2004\u001b[0m giống game kinh dị \u001b[37m2023-12-05 06:18:04.257000 uid:652281623794024448\n",
      "\u001b[1m\u001b[36myelloe2004\u001b[0m <:lappdumb:999492649721532456> \u001b[37m2023-12-05 06:17:58.937000 uid:652281623794024448\n",
      "\u001b[1m\u001b[36myelloe2004\u001b[0m Femboi thân thiện \u001b[37m2023-12-05 06:17:52.950000 uid:652281623794024448\n",
      "\u001b[1m\u001b[36myelloe2004\u001b[0m <:jerry_wtf:909722081170710549> \u001b[37m2023-12-05 06:17:49.527000 uid:652281623794024448\n",
      "\u001b[1m\u001b[36mril3y_p3ytonz\u001b[0m Toàn mấy bố đọc não nhao =)) \u001b[37m2023-12-05 06:17:49.089000 uid:732774536717795408\n",
      "\u001b[1m\u001b[36myelloe2004\u001b[0m  \u001b[37m2023-12-05 06:17:43.443000 uid:652281623794024448\n"
     ]
    },
    {
     "data": {
      "text/html": [
       "<img src=https://cdn.discordapp.com/attachments/1034400884458790942/1181479499020386304/image.png?ex=65813587&is=656ec087&hm=69c79c0a70d45e0d1ef9a808a1b8bffcab1c8b760016894fcbdde98a60970ccf& width='300'>"
      ],
      "text/plain": [
       "<IPython.core.display.HTML object>"
      ]
     },
     "metadata": {},
     "output_type": "display_data"
    },
    {
     "name": "stdout",
     "output_type": "stream",
     "text": [
      "\u001b[1m\u001b[36myelloe2004\u001b[0m game dễ vậy \u001b[37m2023-12-05 06:17:26.799000 uid:652281623794024448\n",
      "\u001b[1m\u001b[36myelloe2004\u001b[0m thiệt k \u001b[37m2023-12-05 06:17:24.706000 uid:652281623794024448\n",
      "\u001b[1m\u001b[36myelloe2004\u001b[0m méc Hung \u001b[37m2023-12-05 06:04:27.475000 uid:652281623794024448\n",
      "\u001b[1m\u001b[36mkryztar\u001b[0m :))) \u001b[37m2023-12-05 06:04:10.128000 uid:349175907371712513\n",
      "\u001b[1m\u001b[36mshirona_yuki\u001b[0m  \u001b[37m2023-12-05 06:03:21.300000 uid:630661589455863869\n"
     ]
    },
    {
     "data": {
      "text/html": [
       "<img src=https://cdn.discordapp.com/attachments/1034400884458790942/1181475882917974097/image0.jpg?ex=65813229&is=656ebd29&hm=9a127e50ef2910939729bfabe603bc83dc35d6a6bffd941977b0fa96a1ec9b42& width='300'>"
      ],
      "text/plain": [
       "<IPython.core.display.HTML object>"
      ]
     },
     "metadata": {},
     "output_type": "display_data"
    },
    {
     "name": "stdout",
     "output_type": "stream",
     "text": [
      "\u001b[1m\u001b[36mshirona_yuki\u001b[0m E đi trốn trc đây \u001b[37m2023-12-05 06:02:24.410000 uid:630661589455863869\n"
     ]
    },
    {
     "data": {
      "text/html": [
       "<img src=https://cdn.discordapp.com/attachments/1034400884458790942/1181475643997818960/IMG_1199.png?ex=658131f0&is=656ebcf0&hm=7d84060d1b0a0519f780ecc0a2af2029a7deca02571d667cc6ad2b0a2e7c7acf& width='300'>"
      ],
      "text/plain": [
       "<IPython.core.display.HTML object>"
      ]
     },
     "metadata": {},
     "output_type": "display_data"
    },
    {
     "name": "stdout",
     "output_type": "stream",
     "text": [
      "\u001b[1m\u001b[36mshirona_yuki\u001b[0m Wifi lỏ \u001b[37m2023-12-05 06:02:00.280000 uid:630661589455863869\n",
      "\u001b[1m\u001b[36mshirona_yuki\u001b[0m Ew \u001b[37m2023-12-05 06:01:59.216000 uid:630661589455863869\n",
      "\u001b[1m\u001b[36mshirona_yuki\u001b[0m Mốt đi chơi e cầm theo khò lửa khò trụi lông mèo r để xem a raid đc ko nữa \u001b[37m2023-12-05 06:00:52.341000 uid:630661589455863869\n",
      "\u001b[1m\u001b[36mifritsvine\u001b[0m Chứ muốn sao \u001b[37m2023-12-05 05:57:30.266000 uid:678526485404844032\n",
      "\u001b[1m\u001b[36myelloe2004\u001b[0m lowkey vậy mà cũng gọi là cổ hẻ \u001b[37m2023-12-05 05:57:14.388000 uid:652281623794024448\n",
      "\u001b[1m\u001b[36myelloe2004\u001b[0m gì \u001b[37m2023-12-05 05:57:07.359000 uid:652281623794024448\n",
      "\u001b[1m\u001b[36myelloe2004\u001b[0m <:lappdumb:999492649721532456> \u001b[37m2023-12-05 05:56:55.194000 uid:652281623794024448\n",
      "\u001b[1m\u001b[36mifritsvine\u001b[0m Bán có giá \u001b[37m2023-12-05 05:56:40.320000 uid:678526485404844032\n",
      "\u001b[1m\u001b[36mifritsvine\u001b[0m <:lappdumb:999492649721532456> chà acc cổ ác \u001b[37m2023-12-05 05:56:36.740000 uid:678526485404844032\n",
      "\u001b[1m\u001b[36mifritsvine\u001b[0m Lol về VN từ năm 2012 phải không nhể \u001b[37m2023-12-05 05:56:27.313000 uid:678526485404844032\n",
      "\u001b[1m\u001b[36mifritsvine\u001b[0m Acc từ 2014 \u001b[37m2023-12-05 05:56:10.474000 uid:678526485404844032\n",
      "\u001b[1m\u001b[36mril3y_p3ytonz\u001b[0m Chơi nhanh =)) \u001b[37m2023-12-05 05:56:07.493000 uid:732774536717795408\n",
      "\u001b[1m\u001b[36myelloe2004\u001b[0m ủa chưa pick tướng mà đã vô game rồi \u001b[37m2023-12-05 05:55:50.607000 uid:652281623794024448\n",
      "\u001b[1m\u001b[36myelloe2004\u001b[0m Yell noob lắm á \u001b[37m2023-12-05 05:55:44.898000 uid:652281623794024448\n",
      "\u001b[1m\u001b[36myelloe2004\u001b[0m <@732774536717795408> acc tạo từ 2014 mà giờ mới lvl70 là hiểu ha \u001b[37m2023-12-05 05:55:40.445000 uid:652281623794024448\n",
      "\u001b[1m\u001b[36mifritsvine\u001b[0m <:jerry_wtf:909722081170710549> \u001b[37m2023-12-05 05:54:16.739000 uid:678526485404844032\n",
      "\u001b[1m\u001b[36myelloe2004\u001b[0m ko \u001b[37m2023-12-05 05:54:04.303000 uid:652281623794024448\n",
      "\u001b[1m\u001b[36myelloe2004\u001b[0m nào \u001b[37m2023-12-05 05:54:03.709000 uid:652281623794024448\n",
      "\u001b[1m\u001b[36myelloe2004\u001b[0m <:lappdumb:999492649721532456> \u001b[37m2023-12-05 05:54:02.899000 uid:652281623794024448\n",
      "\u001b[1m\u001b[36mifritsvine\u001b[0m Để ý hết ó \u001b[37m2023-12-05 05:53:55.896000 uid:678526485404844032\n",
      "\u001b[1m\u001b[36mifritsvine\u001b[0m Chơi chung đồ ha \u001b[37m2023-12-05 05:53:52.392000 uid:678526485404844032\n",
      "\u001b[1m\u001b[36mifritsvine\u001b[0m Bị lỗi \u001b[37m2023-12-05 05:53:41.034000 uid:678526485404844032\n",
      "\u001b[1m\u001b[36myelloe2004\u001b[0m <:lappdumb:999492649721532456> don't mind that \u001b[37m2023-12-05 05:53:37.619000 uid:652281623794024448\n",
      "\u001b[1m\u001b[36mifritsvine\u001b[0m 2 cái điều là 1 á \u001b[37m2023-12-05 05:53:36.887000 uid:678526485404844032\n",
      "\u001b[1m\u001b[36myelloe2004\u001b[0m 2 acc là 1 mà \u001b[37m2023-12-05 05:53:26.029000 uid:652281623794024448\n",
      "\u001b[1m\u001b[36mifritsvine\u001b[0m Minosuko \u001b[37m2023-12-05 05:53:22.793000 uid:678526485404844032\n",
      "\u001b[1m\u001b[36mril3y_p3ytonz\u001b[0m  \u001b[37m2023-12-05 05:53:10.800000 uid:732774536717795408\n"
     ]
    },
    {
     "data": {
      "text/html": [
       "<img src=https://cdn.discordapp.com/attachments/1034400884458790942/1181473322144378990/image.png?ex=65812fc6&is=656ebac6&hm=4a1c97f82547191086d4cd223c86f291b128f86ba0c7929c30a1b10bf2de8fba& width='300'>"
      ],
      "text/plain": [
       "<IPython.core.display.HTML object>"
      ]
     },
     "metadata": {},
     "output_type": "display_data"
    },
    {
     "name": "stdout",
     "output_type": "stream",
     "text": [
      "\u001b[1m\u001b[36mril3y_p3ytonz\u001b[0m r là cái nào pa \u001b[37m2023-12-05 05:53:04.551000 uid:732774536717795408\n",
      "\u001b[1m\u001b[36mril3y_p3ytonz\u001b[0m Ủa \u001b[37m2023-12-05 05:53:00.357000 uid:732774536717795408\n",
      "\u001b[1m\u001b[36mifritsvine\u001b[0m <:lappdumb:999492649721532456> \u001b[37m2023-12-05 05:52:36.036000 uid:678526485404844032\n",
      "\u001b[1m\u001b[36myelloe2004\u001b[0m a \u001b[37m2023-12-05 05:52:29.979000 uid:652281623794024448\n",
      "\u001b[1m\u001b[36mifritsvine\u001b[0m F3mboi#Kissr \u001b[37m2023-12-05 05:52:27.317000 uid:678526485404844032\n",
      "\u001b[1m\u001b[36mril3y_p3ytonz\u001b[0m Tại vì \u001b[37m2023-12-05 05:52:20.197000 uid:732774536717795408\n",
      "\u001b[1m\u001b[36myelloe2004\u001b[0m <:lappdumb:999492649721532456> ư \u001b[37m2023-12-05 05:52:16.370000 uid:652281623794024448\n",
      "\u001b[1m\u001b[36myelloe2004\u001b[0m ụa sao bt hay v \u001b[37m2023-12-05 05:52:12.287000 uid:652281623794024448\n",
      "\u001b[1m\u001b[36myelloe2004\u001b[0m thiếu tag \u001b[37m2023-12-05 05:52:04.922000 uid:652281623794024448\n",
      "\u001b[1m\u001b[36mril3y_p3ytonz\u001b[0m Mọi người quên cái tag đằng sau <:giay_ve_sinh:1114148700902666330> \u001b[37m2023-12-05 05:52:03.668000 uid:732774536717795408\n",
      "\u001b[1m\u001b[36myelloe2004\u001b[0m <@732774536717795408> \u001b[37m2023-12-05 05:52:03.103000 uid:652281623794024448\n",
      "\u001b[1m\u001b[36myelloe2004\u001b[0m  \u001b[37m2023-12-05 05:52:02.190000 uid:652281623794024448\n"
     ]
    },
    {
     "data": {
      "text/html": [
       "<img src=https://cdn.discordapp.com/attachments/1034400884458790942/1181473034566127736/image.png?ex=65812f82&is=656eba82&hm=08adeacc5687aa1760d6b0ecca9e724602a12a698ad9484c4a11187c0a8d69bf& width='300'>"
      ],
      "text/plain": [
       "<IPython.core.display.HTML object>"
      ]
     },
     "metadata": {},
     "output_type": "display_data"
    },
    {
     "name": "stdout",
     "output_type": "stream",
     "text": [
      "\u001b[1m\u001b[36myelloe2004\u001b[0m Femboi \u001b[37m2023-12-05 05:51:34.649000 uid:652281623794024448\n",
      "\u001b[1m\u001b[36mifritsvine\u001b[0m Femboi \u001b[37m2023-12-05 05:50:55.331000 uid:678526485404844032\n",
      "\u001b[1m\u001b[36mril3y_p3ytonz\u001b[0m  \u001b[37m2023-12-05 05:50:28.664000 uid:732774536717795408\n"
     ]
    },
    {
     "data": {
      "text/html": [
       "<img src=https://cdn.discordapp.com/attachments/1034400884458790942/1181472642054770708/image.png?ex=65812f24&is=656eba24&hm=12fac950d1da644845a910781e381787e618a19e981a6ddd04b56e5b07eb4764& width='300'>"
      ],
      "text/plain": [
       "<IPython.core.display.HTML object>"
      ]
     },
     "metadata": {},
     "output_type": "display_data"
    },
    {
     "name": "stdout",
     "output_type": "stream",
     "text": [
      "\u001b[1m\u001b[36myelloe2004\u001b[0m uki \u001b[37m2023-12-05 05:50:01.975000 uid:652281623794024448\n",
      "\u001b[1m\u001b[36mril3y_p3ytonz\u001b[0m Yel add ik \u001b[37m2023-12-05 05:49:17.212000 uid:732774536717795408\n",
      "\u001b[1m\u001b[36mril3y_p3ytonz\u001b[0m Tên dài wa \u001b[37m2023-12-05 05:49:11.712000 uid:732774536717795408\n",
      "\u001b[1m\u001b[36mifritsvine\u001b[0m Có chế độ chơi nhanh mà trông kì lắm \u001b[37m2023-12-05 05:48:54.920000 uid:678526485404844032\n",
      "\u001b[1m\u001b[36mifritsvine\u001b[0m Hết chọn ẩn rồi á \u001b[37m2023-12-05 05:48:43.544000 uid:678526485404844032\n",
      "\u001b[1m\u001b[36mril3y_p3ytonz\u001b[0m Normal ban pick \u001b[37m2023-12-05 05:47:56.272000 uid:732774536717795408\n",
      "\u001b[1m\u001b[36mril3y_p3ytonz\u001b[0m ƯTF<:tfuk:1017484047561281606> \u001b[37m2023-12-05 05:47:51.134000 uid:732774536717795408\n",
      "\u001b[1m\u001b[36mifritsvine\u001b[0m Normal ban/pick nên là slot trước teemo không bị ban <:lappdumb:999492649721532456> \u001b[37m2023-12-05 05:47:23.063000 uid:678526485404844032\n",
      "\u001b[1m\u001b[36mril3y_p3ytonz\u001b[0m năm nay hk có chơi lol~ \u001b[37m2023-12-05 05:47:07.152000 uid:732774536717795408\n",
      "\u001b[1m\u001b[36mril3y_p3ytonz\u001b[0m Để cập nhật đã \u001b[37m2023-12-05 05:46:55.184000 uid:732774536717795408\n",
      "\u001b[1m\u001b[36myelloe2004\u001b[0m okay vậy nor vậy \u001b[37m2023-12-05 05:46:48.474000 uid:652281623794024448\n",
      "\u001b[1m\u001b[36myelloe2004\u001b[0m <:lappdumb:999492649721532456> \u001b[37m2023-12-05 05:46:43.223000 uid:652281623794024448\n",
      "\u001b[1m\u001b[36mril3y_p3ytonz\u001b[0m Hk \u001b[37m2023-12-05 05:46:39.222000 uid:732774536717795408\n",
      "\u001b[1m\u001b[36mril3y_p3ytonz\u001b[0m TFT <:haiyaaa:1168139538921685073> \u001b[37m2023-12-05 05:46:37.370000 uid:732774536717795408\n",
      "\u001b[1m\u001b[36myelloe2004\u001b[0m <:jerry_wtf:909722081170710549> \u001b[37m2023-12-05 05:46:29.786000 uid:652281623794024448\n",
      "\u001b[1m\u001b[36myelloe2004\u001b[0m TFT 1 phát rùi ngủ \u001b[37m2023-12-05 05:46:27.813000 uid:652281623794024448\n",
      "\u001b[1m\u001b[36myelloe2004\u001b[0m chơi lun hem \u001b[37m2023-12-05 05:46:24.200000 uid:652281623794024448\n",
      "\u001b[1m\u001b[36myelloe2004\u001b[0m mà Riley có \u001b[37m2023-12-05 05:46:21.910000 uid:652281623794024448\n",
      "\u001b[1m\u001b[36myelloe2004\u001b[0m lưoif mở máy \u001b[37m2023-12-05 05:46:16.268000 uid:652281623794024448\n",
      "\u001b[1m\u001b[36myelloe2004\u001b[0m ảnh proof vì đang \u001b[37m2023-12-05 05:46:14.212000 uid:652281623794024448\n",
      "\u001b[1m\u001b[36mril3y_p3ytonz\u001b[0m Này lâu ùi mà \u001b[37m2023-12-05 05:45:58.035000 uid:732774536717795408\n",
      "\u001b[1m\u001b[36mifritsvine\u001b[0m Đại chén tối thượng \u001b[37m2023-12-05 05:45:32.694000 uid:678526485404844032\n",
      "\u001b[1m\u001b[36myelloe2004\u001b[0m <:Pwease:1140644815558680626> \u001b[37m2023-12-05 05:43:55.233000 uid:652281623794024448\n",
      "\u001b[1m\u001b[36myelloe2004\u001b[0m <:hwehwe:1156640777343078512> \u001b[37m2023-12-05 05:43:32.106000 uid:652281623794024448\n",
      "\u001b[1m\u001b[36mril3y_p3ytonz\u001b[0m <:hwehwe:1156640777343078512> \u001b[37m2023-12-05 05:42:36.202000 uid:732774536717795408\n",
      "\u001b[1m\u001b[36myelloe2004\u001b[0m asdx1v2321sdqwe \u001b[37m2023-12-05 05:42:15.689000 uid:652281623794024448\n",
      "\u001b[1m\u001b[36msunowo_\u001b[0m <:starehard:1068571858154311761> \u001b[37m2023-12-05 05:36:08.032000 uid:242276901362728960\n",
      "\u001b[1m\u001b[36mlazaara\u001b[0m <:oicaiditme:1155707888325636156> \u001b[37m2023-12-05 05:35:39.862000 uid:251274760275623936\n",
      "\u001b[1m\u001b[36mlazaara\u001b[0m chứ bụi là ko top được rồi \u001b[37m2023-12-05 05:35:36.735000 uid:251274760275623936\n",
      "\u001b[1m\u001b[36mril3y_p3ytonz\u001b[0m Xin chú tư ad <:umbsip:1116022591614877737> \u001b[37m2023-12-05 05:35:35.404000 uid:732774536717795408\n",
      "\u001b[1m\u001b[36myelloe2004\u001b[0m em Teemo top hoặc sp cũng đc \u001b[37m2023-12-05 05:34:42.388000 uid:652281623794024448\n",
      "\u001b[1m\u001b[36myelloe2004\u001b[0m <:lappdumb:999492649721532456> \u001b[37m2023-12-05 05:34:35.640000 uid:652281623794024448\n",
      "\u001b[1m\u001b[36mwaidoru\u001b[0m <:wadepzai:1179786335800799373> \u001b[37m2023-12-05 05:34:23.275000 uid:519004834574368775\n",
      "\u001b[1m\u001b[36mwaidoru\u001b[0m Wildly Ire top nhá \u001b[37m2023-12-05 05:34:19.163000 uid:519004834574368775\n",
      "\u001b[1m\u001b[36mril3y_p3ytonz\u001b[0m <:firWiggle:1120313755989975110> \u001b[37m2023-12-05 05:33:44.102000 uid:732774536717795408\n",
      "\u001b[1m\u001b[36myelloe2004\u001b[0m <:lappdumb:999492649721532456> \u001b[37m2023-12-05 05:31:22.702000 uid:652281623794024448\n",
      "\u001b[1m\u001b[36mril3y_p3ytonz\u001b[0m 2 Bột khum sao cả uwu \u001b[37m2023-12-05 05:30:16.267000 uid:732774536717795408\n",
      "\u001b[1m\u001b[36mril3y_p3ytonz\u001b[0m Đường dưới lúc nào cũng cần cả 2 người adc sp mà <:lappdumb:999492649721532456> \u001b[37m2023-12-05 05:29:57.014000 uid:732774536717795408\n",
      "\u001b[1m\u001b[36msunowo_\u001b[0m <:haiyaaa:1168139538921685073> \u001b[37m2023-12-05 05:29:07.613000 uid:242276901362728960\n",
      "\u001b[1m\u001b[36msunowo_\u001b[0m Ai cx bột tôm rồi ai top \u001b[37m2023-12-05 05:29:05.237000 uid:242276901362728960\n",
      "\u001b[1m\u001b[36mril3y_p3ytonz\u001b[0m Bột tôm ạ <:Pwease:1140644815558680626> \n",
      "Mún được iêu thương thoi <:Pwease:1140644815558680626> \u001b[37m2023-12-05 05:28:45.601000 uid:732774536717795408\n",
      "\u001b[1m\u001b[36mril3y_p3ytonz\u001b[0m <:Gobf_alarm:965992605370417293> \u001b[37m2023-12-05 05:28:06.071000 uid:732774536717795408\n",
      "\u001b[1m\u001b[36mkryztar\u001b[0m hôm sau đít Yell bung lụa \u001b[37m2023-12-05 05:27:39.286000 uid:349175907371712513\n",
      "\u001b[1m\u001b[36mlazaara\u001b[0m stress vl \u001b[37m2023-12-05 05:27:29.358000 uid:251274760275623936\n",
      "\u001b[1m\u001b[36mril3y_p3ytonz\u001b[0m Cho ôm ngủ <:blush:1160011402472345680> \u001b[37m2023-12-05 05:26:00.324000 uid:732774536717795408\n",
      "\u001b[1m\u001b[36mril3y_p3ytonz\u001b[0m Wa thiệt ik <:blush:1160011402472345680> \u001b[37m2023-12-05 05:25:50.360000 uid:732774536717795408\n",
      "\u001b[1m\u001b[36mlazaara\u001b[0m <:oicaiditme:1155707888325636156> <:oicaiditme:1155707888325636156> <:oicaiditme:1155707888325636156> <:oicaiditme:1155707888325636156> \u001b[37m2023-12-05 05:25:39.718000 uid:251274760275623936\n",
      "\u001b[1m\u001b[36myelloe2004\u001b[0m <:lappdumb:999492649721532456> \u001b[37m2023-12-05 05:25:02.096000 uid:652281623794024448\n",
      "\u001b[1m\u001b[36mril3y_p3ytonz\u001b[0m Mời luôn ạ <:blush:1160011402472345680> \u001b[37m2023-12-05 05:24:40.144000 uid:732774536717795408\n",
      "\u001b[1m\u001b[36myelloe2004\u001b[0m <:GatoPat:1009511746156908716> \u001b[37m2023-12-05 05:24:35.205000 uid:652281623794024448\n",
      "\u001b[1m\u001b[36myelloe2004\u001b[0m *xách hành lý qua nhà Riley sống* \u001b[37m2023-12-05 05:23:37.051000 uid:652281623794024448\n",
      "\u001b[1m\u001b[36myelloe2004\u001b[0m <:lappdumb:999492649721532456> \u001b[37m2023-12-05 05:23:26.969000 uid:652281623794024448\n",
      "\u001b[1m\u001b[36mril3y_p3ytonz\u001b[0m Nữaa \u001b[37m2023-12-05 05:23:05.090000 uid:732774536717795408\n",
      "\u001b[1m\u001b[36mifritsvine\u001b[0m Buồn \u001b[37m2023-12-05 05:22:45.120000 uid:678526485404844032\n",
      "\u001b[1m\u001b[36myelloe2004\u001b[0m <:lappdumb:999492649721532456> huh, dont worry \u001b[37m2023-12-05 05:22:42.976000 uid:652281623794024448\n",
      "\u001b[1m\u001b[36myelloe2004\u001b[0m  \u001b[37m2023-12-05 05:22:33.322000 uid:652281623794024448\n"
     ]
    },
    {
     "data": {
      "text/html": [
       "<img src=https://cdn.discordapp.com/attachments/1034400884458790942/1181465615383404625/Screenshots_2023-12-05-12-22-26.png?ex=65812899&is=656eb399&hm=8fa2d2c2220e1b3c8d4bf31af449727110b9d5f8bfcda6ae39c8cbc4c4b0d882& width='300'>"
      ],
      "text/plain": [
       "<IPython.core.display.HTML object>"
      ]
     },
     "metadata": {},
     "output_type": "display_data"
    },
    {
     "name": "stdout",
     "output_type": "stream",
     "text": [
      "\u001b[1m\u001b[36myelloe2004\u001b[0m Gần nhà \u001b[37m2023-12-05 05:22:17.808000 uid:652281623794024448\n",
      "\u001b[1m\u001b[36myelloe2004\u001b[0m có \u001b[37m2023-12-05 05:22:14.998000 uid:652281623794024448\n",
      "\u001b[1m\u001b[36myelloe2004\u001b[0m à tháng trước \u001b[37m2023-12-05 05:22:14.130000 uid:652281623794024448\n",
      "\u001b[1m\u001b[36mlazaara\u001b[0m thật sự thì xin lỗi yeo vì chả tiếp đãi được gì 😭 \u001b[37m2023-12-05 05:22:06.285000 uid:251274760275623936\n",
      "\u001b[1m\u001b[36msunowo_\u001b[0m <:flee:1068246289285922906> \u001b[37m2023-12-05 05:22:04.217000 uid:242276901362728960\n",
      "\u001b[1m\u001b[36msunowo_\u001b[0m Wut \u001b[37m2023-12-05 05:22:00.269000 uid:242276901362728960\n",
      "\u001b[1m\u001b[36mkryztar\u001b[0m <:muhahah:1098941981226455050> \u001b[37m2023-12-05 05:21:47.250000 uid:349175907371712513\n",
      "\u001b[1m\u001b[36mkryztar\u001b[0m Imposter \u001b[37m2023-12-05 05:21:45.183000 uid:349175907371712513\n",
      "\u001b[1m\u001b[36msunowo_\u001b[0m <:muhahah:1098941981226455050> \u001b[37m2023-12-05 05:21:32.068000 uid:242276901362728960\n",
      "\u001b[1m\u001b[36mlazaara\u001b[0m <:oicaiditme:1155707888325636156> \u001b[37m2023-12-05 05:21:00.189000 uid:251274760275623936\n",
      "\u001b[1m\u001b[36mril3y_p3ytonz\u001b[0m Tưởng họ chỉ thích xiên que những thằng thích ntr chứ \u001b[37m2023-12-05 05:20:57.409000 uid:732774536717795408\n",
      "\u001b[1m\u001b[36myelloe2004\u001b[0m Đồng Nai thì lớn quá \u001b[37m2023-12-05 05:20:49.318000 uid:652281623794024448\n",
      "\u001b[1m\u001b[36myelloe2004\u001b[0m Biên Hoà thôi \u001b[37m2023-12-05 05:20:45.258000 uid:652281623794024448\n",
      "\u001b[1m\u001b[36myelloe2004\u001b[0m Yo \u001b[37m2023-12-05 05:20:42.527000 uid:652281623794024448\n",
      "\u001b[1m\u001b[36myelloe2004\u001b[0m <:lappdumb:999492649721532456> \u001b[37m2023-12-05 05:20:40.665000 uid:652281623794024448\n",
      "\u001b[1m\u001b[36mril3y_p3ytonz\u001b[0m TF người đồng nai gore <:haiyaaa:1168139538921685073> \u001b[37m2023-12-05 05:20:20.983000 uid:732774536717795408\n",
      "\u001b[1m\u001b[36msunowo_\u001b[0m Me playing maimai in nowzone lel \u001b[37m2023-12-05 05:19:55.427000 uid:242276901362728960\n",
      "\u001b[1m\u001b[36msunowo_\u001b[0m Hes in SP \u001b[37m2023-12-05 05:19:47.886000 uid:242276901362728960\n",
      "\u001b[1m\u001b[36myelloe2004\u001b[0m <:oicaiditme:1155707888325636156> \u001b[37m2023-12-05 05:19:30.055000 uid:652281623794024448\n",
      "\u001b[1m\u001b[36myelloe2004\u001b[0m uk, vừa rồi có vụ té trên cầu, bay hết nửa thân trên \u001b[37m2023-12-05 05:19:28.406000 uid:652281623794024448\n",
      "\u001b[1m\u001b[36mril3y_p3ytonz\u001b[0m thua \u001b[37m2023-12-05 05:18:02.210000 uid:732774536717795408\n",
      "\u001b[1m\u001b[36mril3y_p3ytonz\u001b[0m <:dew_cuu:1121631529064472647> \u001b[37m2023-12-05 05:18:00.072000 uid:732774536717795408\n",
      "\u001b[1m\u001b[36myelloe2004\u001b[0m quen thôi, kiểu tâm lí đã sẵn sàng cho 1 ngày mới ý \u001b[37m2023-12-05 05:17:48.419000 uid:652281623794024448\n",
      "\u001b[1m\u001b[36mril3y_p3ytonz\u001b[0m Ếu j thế \u001b[37m2023-12-05 05:17:35.146000 uid:732774536717795408\n",
      "\u001b[1m\u001b[36mril3y_p3ytonz\u001b[0m wtf<:NootLikeThis:1002570295405727784> \u001b[37m2023-12-05 05:17:28.518000 uid:732774536717795408\n",
      "\u001b[1m\u001b[36myelloe2004\u001b[0m <:lappdumb:999492649721532456> \u001b[37m2023-12-05 05:17:11.929000 uid:652281623794024448\n",
      "\u001b[1m\u001b[36myelloe2004\u001b[0m xong lớp 11 bắt đầu nhìn quen rồi \u001b[37m2023-12-05 05:17:09.840000 uid:652281623794024448\n",
      "\u001b[1m\u001b[36mril3y_p3ytonz\u001b[0m Ám ảnh wua<:oicaiditme:1155707888325636156> \u001b[37m2023-12-05 05:17:04.027000 uid:732774536717795408\n",
      "\u001b[1m\u001b[36myelloe2004\u001b[0m đi đoạn đó ám ảnh hết cả năm lớp 10 \u001b[37m2023-12-05 05:17:01.457000 uid:652281623794024448\n",
      "\u001b[1m\u001b[36mril3y_p3ytonz\u001b[0m Tự nhiên nhắc lại chi z ạdfnasujdhars \u001b[37m2023-12-05 05:16:40.506000 uid:732774536717795408\n",
      "\u001b[1m\u001b[36mkryztar\u001b[0m Attention Hạn chế chen content game vào đây tránh bị lạc hội thoại \u001b[37m2023-12-05 05:16:09.467000 uid:349175907371712513\n",
      "\u001b[1m\u001b[36myelloe2004\u001b[0m aa \u001b[37m2023-12-05 05:15:38.392000 uid:652281623794024448\n",
      "\u001b[1m\u001b[36myelloe2004\u001b[0m <:haiyaaa:1168139538921685073> \u001b[37m2023-12-05 05:15:35.928000 uid:652281623794024448\n",
      "\u001b[1m\u001b[36mril3y_p3ytonz\u001b[0m Và thứ bên trong nó \u001b[37m2023-12-05 05:15:24.876000 uid:732774536717795408\n",
      "\u001b[1m\u001b[36mril3y_p3ytonz\u001b[0m Nhặt từng phần của cái đầu <:lappstare:1116020655578697760> \u001b[37m2023-12-05 05:15:13.766000 uid:732774536717795408\n",
      "\u001b[1m\u001b[36myelloe2004\u001b[0m Đi qua cái shock ngang, tay chân lủng củng \u001b[37m2023-12-05 05:15:07.576000 uid:652281623794024448\n",
      "\u001b[1m\u001b[36myelloe2004\u001b[0m <:oicaiditme:1155707888325636156> \u001b[37m2023-12-05 05:14:54.821000 uid:652281623794024448\n",
      "\u001b[1m\u001b[36myelloe2004\u001b[0m tr ơi, xem pháp sư nhặt thịt \u001b[37m2023-12-05 05:14:52.625000 uid:652281623794024448\n",
      "\u001b[1m\u001b[36mril3y_p3ytonz\u001b[0m <:lappdumb:999492649721532456> \u001b[37m2023-12-05 05:14:44.477000 uid:732774536717795408\n",
      "\u001b[1m\u001b[36mril3y_p3ytonz\u001b[0m Thiệt, tự nhiên đi chơi về đc xem giải phẫu live \u001b[37m2023-12-05 05:14:37.981000 uid:732774536717795408\n",
      "\u001b[1m\u001b[36mlazaara\u001b[0m <:oicaiditme:1155707888325636156> <:oicaiditme:1155707888325636156> <:oicaiditme:1155707888325636156> <:oicaiditme:1155707888325636156> \u001b[37m2023-12-05 05:14:04.912000 uid:251274760275623936\n",
      "\u001b[1m\u001b[36mlazaara\u001b[0m <:oicaiditme:1155707888325636156> \u001b[37m2023-12-05 05:14:03.156000 uid:251274760275623936\n",
      "\u001b[1m\u001b[36myelloe2004\u001b[0m Chỗ đó là đoạn xuống cầu á, hồi đó đi học xong trầm cảm \u001b[37m2023-12-05 05:13:58.070000 uid:652281623794024448\n",
      "\u001b[1m\u001b[36myelloe2004\u001b[0m <:haiyaaa:1168139538921685073> \u001b[37m2023-12-05 05:13:42.657000 uid:652281623794024448\n",
      "\u001b[1m\u001b[36mril3y_p3ytonz\u001b[0m Nma chỗ đó có gần nhà Ril đâu, ngay cầu An Hảo đi về mà <:kry:1129092724491034654> \u001b[37m2023-12-05 05:13:35.026000 uid:732774536717795408\n",
      "\u001b[1m\u001b[36myelloe2004\u001b[0m <:lappdumb:999492649721532456> \u001b[37m2023-12-05 05:13:33.898000 uid:652281623794024448\n",
      "\u001b[1m\u001b[36myelloe2004\u001b[0m Nguyên khu vực Yell, đánh bom xăng, chọi pháo, dàn cảnh cướp xe bla bla \u001b[37m2023-12-05 05:13:30.025000 uid:652281623794024448\n",
      "\u001b[1m\u001b[36mkryztar\u001b[0m <a:veryfastnewspaper:681864217615532033> <a:hypereyes:635733951087902720> \u001b[37m2023-12-05 05:12:55.926000 uid:349175907371712513\n",
      "\u001b[1m\u001b[36myelloe2004\u001b[0m Tất cả phải bình tĩnh \u001b[37m2023-12-05 05:12:47.704000 uid:652281623794024448\n",
      "\u001b[1m\u001b[36myelloe2004\u001b[0m <:lappdumb:999492649721532456> \u001b[37m2023-12-05 05:12:42.355000 uid:652281623794024448\n",
      "\u001b[1m\u001b[36myelloe2004\u001b[0m  \u001b[37m2023-12-05 05:12:41.541000 uid:652281623794024448\n"
     ]
    },
    {
     "data": {
      "text/html": [
       "<img src=https://cdn.discordapp.com/attachments/1034400884458790942/1181463133177511976/Screenshot_20231205-121234.png?ex=65812649&is=656eb149&hm=9c199f9a5231f55d7c48d4cbf1f1351b71c741e3faf6886e22adfb86c3c636dc& width='300'>"
      ],
      "text/plain": [
       "<IPython.core.display.HTML object>"
      ]
     },
     "metadata": {},
     "output_type": "display_data"
    },
    {
     "name": "stdout",
     "output_type": "stream",
     "text": [
      "\u001b[1m\u001b[36mril3y_p3ytonz\u001b[0m Đi sau cái camry màu trắng 3 4 xe \u001b[37m2023-12-05 05:12:34.414000 uid:732774536717795408\n",
      "\u001b[1m\u001b[36mifritsvine\u001b[0m <:haiyaaa:1168139538921685073> \u001b[37m2023-12-05 05:12:32.698000 uid:678526485404844032\n",
      "\u001b[1m\u001b[36myelloe2004\u001b[0m <:lappdumb:999492649721532456> \u001b[37m2023-12-05 05:12:28.364000 uid:652281623794024448\n",
      "\u001b[1m\u001b[36mkryztar\u001b[0m Anh cầm Molotov trước cửa nhà Yuki \u001b[37m2023-12-05 05:12:24.277000 uid:349175907371712513\n",
      "\u001b[1m\u001b[36mifritsvine\u001b[0m <:jerry_wtf:909722081170710549> \u001b[37m2023-12-05 05:12:05.690000 uid:678526485404844032\n",
      "\u001b[1m\u001b[36mifritsvine\u001b[0m ý tưởng hay anh ơi \u001b[37m2023-12-05 05:12:04.243000 uid:678526485404844032\n",
      "\u001b[1m\u001b[36myelloe2004\u001b[0m nhiều người \u001b[37m2023-12-05 05:12:03.330000 uid:652281623794024448\n",
      "\u001b[1m\u001b[36mril3y_p3ytonz\u001b[0m Xe Ril \u001b[37m2023-12-05 05:12:02.688000 uid:732774536717795408\n",
      "\u001b[1m\u001b[36myelloe2004\u001b[0m Vì nhà Yuki đủ chỗ cho \u001b[37m2023-12-05 05:12:01.349000 uid:652281623794024448\n",
      "\u001b[1m\u001b[36mril3y_p3ytonz\u001b[0m nhớ r \u001b[37m2023-12-05 05:11:55.587000 uid:732774536717795408\n",
      "\u001b[1m\u001b[36myelloe2004\u001b[0m ý tưởng hay \u001b[37m2023-12-05 05:11:54.989000 uid:652281623794024448\n",
      "\u001b[1m\u001b[36mril3y_p3ytonz\u001b[0m Ê mă \u001b[37m2023-12-05 05:11:52.656000 uid:732774536717795408\n",
      "\u001b[1m\u001b[36mkryztar\u001b[0m <:muhahah:1098941981226455050> \u001b[37m2023-12-05 05:11:42.825000 uid:349175907371712513\n",
      "\u001b[1m\u001b[36myelloe2004\u001b[0m toàn chỗ ngủ \u001b[37m2023-12-05 05:11:41.227000 uid:652281623794024448\n",
      "\u001b[1m\u001b[36mkryztar\u001b[0m Còn không qua Raid nhà Yuki \u001b[37m2023-12-05 05:11:40.584000 uid:349175907371712513\n",
      "\u001b[1m\u001b[36myelloe2004\u001b[0m =)) \u001b[37m2023-12-05 05:11:37.517000 uid:652281623794024448\n",
      "\u001b[1m\u001b[36mlazaara\u001b[0m <:oicaiditme:1155707888325636156> \u001b[37m2023-12-05 05:11:14.452000 uid:251274760275623936\n",
      "\u001b[1m\u001b[36mlazaara\u001b[0m t thề tp du lịch đéo gì mà mỗi ngõ có cái tiệm thuốc còn đồ ăn thì khó kiếm đéo tả dc \u001b[37m2023-12-05 05:11:12.865000 uid:251274760275623936\n",
      "\u001b[1m\u001b[36myelloe2004\u001b[0m okay hmm \u001b[37m2023-12-05 05:10:42.962000 uid:652281623794024448\n",
      "\u001b[1m\u001b[36myelloe2004\u001b[0m blood \u001b[37m2023-12-05 05:10:34.779000 uid:652281623794024448\n",
      "\u001b[1m\u001b[36myelloe2004\u001b[0m warrning alert \u001b[37m2023-12-05 05:10:32.200000 uid:652281623794024448\n",
      "\u001b[1m\u001b[36myelloe2004\u001b[0m <:jerry_wtf:909722081170710549> \u001b[37m2023-12-05 05:10:25.445000 uid:652281623794024448\n",
      "\u001b[1m\u001b[36myelloe2004\u001b[0m send rùi á, trong messsger \u001b[37m2023-12-05 05:10:22.850000 uid:652281623794024448\n",
      "\u001b[1m\u001b[36mkryztar\u001b[0m Để hôm nào có ý định đi Aeon Bình Dương đã \u001b[37m2023-12-05 05:10:19.748000 uid:349175907371712513\n",
      "\u001b[1m\u001b[36mlazaara\u001b[0m biết mỗi quán này từng ăn \u001b[37m2023-12-05 05:10:13.797000 uid:251274760275623936\n",
      "\u001b[1m\u001b[36mlazaara\u001b[0m 176 Mạc Thiên Tích, Pháo Đài, Hà Tiên, Kiên Giang \u001b[37m2023-12-05 05:10:08.258000 uid:251274760275623936\n",
      "\u001b[1m\u001b[36mril3y_p3ytonz\u001b[0m Rồi nào định send z \u001b[37m2023-12-05 05:09:44.811000 uid:732774536717795408\n",
      "\u001b[1m\u001b[36mifritsvine\u001b[0m <:Pwease:1140644815558680626> \u001b[37m2023-12-05 05:09:43.265000 uid:678526485404844032\n",
      "\u001b[1m\u001b[36mifritsvine\u001b[0m ầy \u001b[37m2023-12-05 05:09:39.969000 uid:678526485404844032\n",
      "\u001b[1m\u001b[36myelloe2004\u001b[0m <:FB_FoxetteFlustered:1031639187054661714> \u001b[37m2023-12-05 05:09:39.493000 uid:652281623794024448\n",
      "\u001b[1m\u001b[36myelloe2004\u001b[0m Ra \u001b[37m2023-12-05 05:09:28.961000 uid:652281623794024448\n",
      "\u001b[1m\u001b[36myelloe2004\u001b[0m Za \u001b[37m2023-12-05 05:09:27.229000 uid:652281623794024448\n",
      "\u001b[1m\u001b[36myelloe2004\u001b[0m La \u001b[37m2023-12-05 05:09:26.231000 uid:652281623794024448\n",
      "\u001b[1m\u001b[36myelloe2004\u001b[0m đầu hẻm nhà \u001b[37m2023-12-05 05:09:23.165000 uid:652281623794024448\n",
      "\u001b[1m\u001b[36mril3y_p3ytonz\u001b[0m Có ùi, B2 \u001b[37m2023-12-05 05:09:21.373000 uid:732774536717795408\n",
      "\u001b[1m\u001b[36mifritsvine\u001b[0m nhà ai đây \u001b[37m2023-12-05 05:09:15.004000 uid:678526485404844032\n",
      "\u001b[1m\u001b[36myelloe2004\u001b[0m <:oicaiditme:1155707888325636156> \u001b[37m2023-12-05 05:09:12.862000 uid:652281623794024448\n",
      "\u001b[1m\u001b[36myelloe2004\u001b[0m thấy toàn muối ko \u001b[37m2023-12-05 05:09:08.831000 uid:652281623794024448\n",
      "\u001b[1m\u001b[36mlazaara\u001b[0m huh \u001b[37m2023-12-05 05:09:07.100000 uid:251274760275623936\n",
      "\u001b[1m\u001b[36mlazaara\u001b[0m kiểu \u001b[37m2023-12-05 05:09:01.805000 uid:251274760275623936\n",
      "\u001b[1m\u001b[36myelloe2004\u001b[0m <:lappdumb:999492649721532456> có bằng ô tô chưa á \u001b[37m2023-12-05 05:09:00.962000 uid:652281623794024448\n",
      "\u001b[1m\u001b[36mlazaara\u001b[0m hà tiên \u001b[37m2023-12-05 05:09:00.065000 uid:251274760275623936\n",
      "\u001b[1m\u001b[36mlazaara\u001b[0m uhh \u001b[37m2023-12-05 05:08:50.547000 uid:251274760275623936\n",
      "\u001b[1m\u001b[36myelloe2004\u001b[0m <:lappdumb:999492649721532456> \u001b[37m2023-12-05 05:08:48.742000 uid:652281623794024448\n",
      "\u001b[1m\u001b[36myelloe2004\u001b[0m Có quán ăn nào bình dân khum \u001b[37m2023-12-05 05:08:47.111000 uid:652281623794024448\n",
      "\u001b[1m\u001b[36myelloe2004\u001b[0m Đói \u001b[37m2023-12-05 05:08:38.883000 uid:652281623794024448\n",
      "\u001b[1m\u001b[36mril3y_p3ytonz\u001b[0m Má cho mượn thì triển, hong cho thì chịu \u001b[37m2023-12-05 05:08:28.947000 uid:732774536717795408\n",
      "\u001b[1m\u001b[36mlazaara\u001b[0m thả như nào được <:oicaiditme:1155707888325636156> \u001b[37m2023-12-05 05:08:28.317000 uid:251274760275623936\n",
      "\u001b[1m\u001b[36mril3y_p3ytonz\u001b[0m Để xin má \u001b[37m2023-12-05 05:08:13.848000 uid:732774536717795408\n",
      "\u001b[1m\u001b[36myelloe2004\u001b[0m chill, thả lỏng đi \u001b[37m2023-12-05 05:08:01.403000 uid:652281623794024448\n",
      "\u001b[1m\u001b[36myelloe2004\u001b[0m <:lappdumb:999492649721532456> <:Pwease:1140644815558680626> \u001b[37m2023-12-05 05:07:41.385000 uid:652281623794024448\n",
      "\u001b[1m\u001b[36myelloe2004\u001b[0m mà Riley có ô tô thì đi ô tô cũng được \u001b[37m2023-12-05 05:07:37.860000 uid:652281623794024448\n",
      "\u001b[1m\u001b[36myelloe2004\u001b[0m 14Tea gần mà \u001b[37m2023-12-05 05:07:28.611000 uid:652281623794024448\n",
      "\u001b[1m\u001b[36mlazaara\u001b[0m <:oicaiditme:1155707888325636156> \u001b[37m2023-12-05 05:07:27.698000 uid:251274760275623936\n",
      "\u001b[1m\u001b[36mlazaara\u001b[0m tha em \u001b[37m2023-12-05 05:07:25.022000 uid:251274760275623936\n",
      "\u001b[1m\u001b[36mril3y_p3ytonz\u001b[0m OKe \u001b[37m2023-12-05 05:07:21.967000 uid:732774536717795408\n",
      "\u001b[1m\u001b[36mril3y_p3ytonz\u001b[0m Ụa, z không lẽ đi xe máy hả tr \u001b[37m2023-12-05 05:07:16.030000 uid:732774536717795408\n",
      "\u001b[1m\u001b[36myelloe2004\u001b[0m <:jerry_wtf:909722081170710549> \u001b[37m2023-12-05 05:07:13.417000 uid:652281623794024448\n",
      "\u001b[1m\u001b[36myelloe2004\u001b[0m đee gửi video qua nhé \u001b[37m2023-12-05 05:07:10.575000 uid:652281623794024448\n",
      "\u001b[1m\u001b[36myelloe2004\u001b[0m hmm \u001b[37m2023-12-05 05:07:04.053000 uid:652281623794024448\n",
      "\u001b[1m\u001b[36mlazaara\u001b[0m <:oicaiditme:1155707888325636156> \u001b[37m2023-12-05 05:06:59.460000 uid:251274760275623936\n",
      "\u001b[1m\u001b[36myelloe2004\u001b[0m <:oicaiditme:1155707888325636156> \u001b[37m2023-12-05 05:06:58.021000 uid:652281623794024448\n",
      "\u001b[1m\u001b[36mril3y_p3ytonz\u001b[0m Từ từ để nhớ \u001b[37m2023-12-05 05:06:57.340000 uid:732774536717795408\n",
      "\u001b[1m\u001b[36myelloe2004\u001b[0m xe mây thì bthg \u001b[37m2023-12-05 05:06:55.658000 uid:652281623794024448\n",
      "\u001b[1m\u001b[36myelloe2004\u001b[0m xe ô tô \u001b[37m2023-12-05 05:06:52.647000 uid:652281623794024448\n",
      "\u001b[1m\u001b[36myelloe2004\u001b[0m <:lappdumb:999492649721532456> \u001b[37m2023-12-05 05:06:45.183000 uid:652281623794024448\n",
      "\u001b[1m\u001b[36myelloe2004\u001b[0m có thấy vụ kia k \u001b[37m2023-12-05 05:06:43.098000 uid:652281623794024448\n",
      "\u001b[1m\u001b[36myelloe2004\u001b[0m vào ngày 31/12/2019 á \u001b[37m2023-12-05 05:06:39.497000 uid:652281623794024448\n",
      "\u001b[1m\u001b[36mril3y_p3ytonz\u001b[0m Đúm \u001b[37m2023-12-05 05:06:36.735000 uid:732774536717795408\n",
      "\u001b[1m\u001b[36mril3y_p3ytonz\u001b[0m Sao bảo say xe z \u001b[37m2023-12-05 05:06:28.267000 uid:732774536717795408\n",
      "\u001b[1m\u001b[36myelloe2004\u001b[0m Riley sống ở đó \u001b[37m2023-12-05 05:06:27.109000 uid:652281623794024448\n",
      "\u001b[1m\u001b[36myelloe2004\u001b[0m Êy mad \u001b[37m2023-12-05 05:06:22.026000 uid:652281623794024448\n",
      "\u001b[1m\u001b[36myelloe2004\u001b[0m <:jerry_wtf:909722081170710549> \u001b[37m2023-12-05 05:06:10.649000 uid:652281623794024448\n",
      "\u001b[1m\u001b[36myelloe2004\u001b[0m yah \u001b[37m2023-12-05 05:06:07.980000 uid:652281623794024448\n",
      "\u001b[1m\u001b[36myelloe2004\u001b[0m  \u001b[37m2023-12-05 05:06:04.353000 uid:652281623794024448\n"
     ]
    },
    {
     "data": {
      "text/html": [
       "<img src=https://cdn.discordapp.com/attachments/1034400884458790942/1181461467338395748/Screenshots_2023-12-05-11-55-12.png?ex=658124bc&is=656eafbc&hm=650db16bc9950336794df25181157aa6b991c173bde8d6a10dc430773b360029& width='300'>"
      ],
      "text/plain": [
       "<IPython.core.display.HTML object>"
      ]
     },
     "metadata": {},
     "output_type": "display_data"
    },
    {
     "name": "stdout",
     "output_type": "stream",
     "text": [
      "\u001b[1m\u001b[36myelloe2004\u001b[0m 👀 \u001b[37m2023-12-05 05:05:59.883000 uid:652281623794024448\n",
      "\u001b[1m\u001b[36mril3y_p3ytonz\u001b[0m Thành phố công nghiệp <:lappdumb:999492649721532456> \u001b[37m2023-12-05 05:05:56.926000 uid:732774536717795408\n",
      "\u001b[1m\u001b[36mlazaara\u001b[0m <:oicaiditme:1155707888325636156> \u001b[37m2023-12-05 05:05:51.275000 uid:251274760275623936\n",
      "\u001b[1m\u001b[36myelloe2004\u001b[0m <:jerry_wtf:909722081170710549> \u001b[37m2023-12-05 05:05:00.772000 uid:652281623794024448\n",
      "\u001b[1m\u001b[36myelloe2004\u001b[0m dắt Riley lên luôn \u001b[37m2023-12-05 05:04:58.385000 uid:652281623794024448\n",
      "\u001b[1m\u001b[36myelloe2004\u001b[0m Để nào \u001b[37m2023-12-05 05:04:54.333000 uid:652281623794024448\n",
      "\u001b[1m\u001b[36myelloe2004\u001b[0m kiểu ăn uống đồ bên ngoài \u001b[37m2023-12-05 05:04:02.725000 uid:652281623794024448\n",
      "\u001b[1m\u001b[36myelloe2004\u001b[0m <:lappdumb:999492649721532456> bên Bình Dương k có khái niệm đi ra ngoài lắm nhỉ \u001b[37m2023-12-05 05:03:52.715000 uid:652281623794024448\n",
      "\u001b[1m\u001b[36myelloe2004\u001b[0m kể cả t7 hay cn \u001b[37m2023-12-05 05:03:40.945000 uid:652281623794024448\n",
      "\u001b[1m\u001b[36mril3y_p3ytonz\u001b[0m Ủa thì ngày thường ngta đi làm với đi học cả mà =)) \u001b[37m2023-12-05 05:03:28.646000 uid:732774536717795408\n",
      "\u001b[1m\u001b[36myelloe2004\u001b[0m oh \u001b[37m2023-12-05 05:03:25.350000 uid:652281623794024448\n",
      "\u001b[1m\u001b[36myelloe2004\u001b[0m bữa đi với bạn em, từ 19h có đúng mỗi khách là em vs bạn em \u001b[37m2023-12-05 05:03:13.453000 uid:652281623794024448\n",
      "\u001b[1m\u001b[36myelloe2004\u001b[0m <:lappdumb:999492649721532456> \u001b[37m2023-12-05 05:02:54.279000 uid:652281623794024448\n",
      "\u001b[1m\u001b[36myelloe2004\u001b[0m ý e là đi ngày thường thì phải gọi là siêu vắng ý \u001b[37m2023-12-05 05:02:51.225000 uid:652281623794024448\n",
      "\u001b[1m\u001b[36myelloe2004\u001b[0m ghé đi anh, dù gì thủ dầu 1 cũng vắng ng đi ăn uống \u001b[37m2023-12-05 05:02:38.271000 uid:652281623794024448\n",
      "\u001b[1m\u001b[36mlazaara\u001b[0m <:oicaiditme:1155707888325636156> \u001b[37m2023-12-05 05:01:24.467000 uid:251274760275623936\n",
      "\u001b[1m\u001b[36mlazaara\u001b[0m 3h25 đến 4h30 \u001b[37m2023-12-05 05:01:22.772000 uid:251274760275623936\n",
      "\u001b[1m\u001b[36mlazaara\u001b[0m có \u001b[37m2023-12-05 05:01:15.101000 uid:251274760275623936\n",
      "\u001b[1m\u001b[36mkryztar\u001b[0m Muốn ghé Tea 14 \u001b[37m2023-12-05 04:59:21.835000 uid:349175907371712513\n",
      "\u001b[1m\u001b[36myelloe2004\u001b[0m học nữa k \u001b[37m2023-12-05 04:53:45.082000 uid:652281623794024448\n",
      "\u001b[1m\u001b[36myelloe2004\u001b[0m có \u001b[37m2023-12-05 04:53:42.686000 uid:652281623794024448\n",
      "\u001b[1m\u001b[36myelloe2004\u001b[0m à chiều xó \u001b[37m2023-12-05 04:53:41.209000 uid:652281623794024448\n",
      "\u001b[1m\u001b[36myelloe2004\u001b[0m trường Nguyễn Thần Hiến \u001b[37m2023-12-05 04:53:21.340000 uid:652281623794024448\n",
      "\u001b[1m\u001b[36mlazaara\u001b[0m <:haiyaaa:1168139538921685073> \u001b[37m2023-12-05 04:48:51.335000 uid:251274760275623936\n",
      "\u001b[1m\u001b[36mlazaara\u001b[0m có gì t7 cn tôi lên hcm triển luôn chứ gặp ở ht tôi cũng chả tiếp đãi đc gì, gia đình thì khó với hóc sáng học chiều cả tuần \u001b[37m2023-12-05 04:48:48.342000 uid:251274760275623936\n",
      "\u001b[1m\u001b[36mlazaara\u001b[0m <:oicaiditme:1155707888325636156> \u001b[37m2023-12-05 04:47:29.693000 uid:251274760275623936\n",
      "\u001b[1m\u001b[36mlazaara\u001b[0m với lại gia đình cũng làm khó nữa \u001b[37m2023-12-05 04:47:26.909000 uid:251274760275623936\n",
      "\u001b[1m\u001b[36mifritsvine\u001b[0m laz ngại giao tiếp thật đó hả \u001b[37m2023-12-05 04:45:10.380000 uid:678526485404844032\n",
      "\u001b[1m\u001b[36mlazaara\u001b[0m <:oicaiditme:1155707888325636156> \u001b[37m2023-12-05 04:43:53.198000 uid:251274760275623936\n",
      "\u001b[1m\u001b[36mlazaara\u001b[0m hong đùa đâu á \u001b[37m2023-12-05 04:43:51.554000 uid:251274760275623936\n",
      "\u001b[1m\u001b[36mifritsvine\u001b[0m lel \u001b[37m2023-12-05 04:42:57.674000 uid:678526485404844032\n",
      "\u001b[1m\u001b[36mifritsvine\u001b[0m xiếc cổ \u001b[37m2023-12-05 04:42:54.671000 uid:678526485404844032\n",
      "\u001b[1m\u001b[36mifritsvine\u001b[0m 20m \u001b[37m2023-12-05 04:42:48.847000 uid:678526485404844032\n",
      "\u001b[1m\u001b[36myelloe2004\u001b[0m there is no anything 20m \u001b[37m2023-12-05 04:42:23.199000 uid:652281623794024448\n",
      "\u001b[1m\u001b[36myelloe2004\u001b[0m dont worry \u001b[37m2023-12-05 04:42:15.012000 uid:652281623794024448\n",
      "\u001b[1m\u001b[36mlazaara\u001b[0m <:Pwease:1140644815558680626> \u001b[37m2023-12-05 04:42:04.131000 uid:251274760275623936\n",
      "\u001b[1m\u001b[36mlazaara\u001b[0m em ngại giao tiếp lắm \u001b[37m2023-12-05 04:42:00.820000 uid:251274760275623936\n",
      "\u001b[1m\u001b[36mlazaara\u001b[0m tha em \u001b[37m2023-12-05 04:41:55.502000 uid:251274760275623936\n",
      "\u001b[1m\u001b[36myelloe2004\u001b[0m u first \u001b[37m2023-12-05 04:41:40.126000 uid:652281623794024448\n",
      "\u001b[1m\u001b[36mlazaara\u001b[0m <:oicaiditme:1155707888325636156> \u001b[37m2023-12-05 04:41:05.536000 uid:251274760275623936\n",
      "\u001b[1m\u001b[36mlazaara\u001b[0m <@242276901362728960> james bouta raid your place \u001b[37m2023-12-05 04:41:03.021000 uid:251274760275623936\n",
      "\u001b[1m\u001b[36msunowo_\u001b[0m Lol \u001b[37m2023-12-05 04:26:56.572000 uid:242276901362728960\n",
      "\u001b[1m\u001b[36mkryztar\u001b[0m Battery chùa \u001b[37m2023-12-05 04:26:51.675000 uid:349175907371712513\n",
      "\u001b[1m\u001b[36mshirona_yuki\u001b[0m I see seagul \u001b[37m2023-12-05 04:24:55.399000 uid:630661589455863869\n",
      "\u001b[1m\u001b[36mshirona_yuki\u001b[0m Dàn pin năng lg \u001b[37m2023-12-05 04:23:40.772000 uid:630661589455863869\n"
     ]
    },
    {
     "data": {
      "text/html": [
       "<img src=https://cdn.discordapp.com/attachments/1034400884458790942/1181450798715117578/IMG_1192.jpg?ex=65811acc&is=656ea5cc&hm=f70fbe0b97b0f6396cf6c3aa807bdbb48fbfe5f3db51f9935685fd024426fc07& width='300'>"
      ],
      "text/plain": [
       "<IPython.core.display.HTML object>"
      ]
     },
     "metadata": {},
     "output_type": "display_data"
    },
    {
     "name": "stdout",
     "output_type": "stream",
     "text": [
      "\u001b[1m\u001b[36mohayooo1406\u001b[0m Hmmm \u001b[37m2023-12-05 04:22:53.928000 uid:756131679118032940\n",
      "\u001b[1m\u001b[36mFrostHydra\u001b[0m  \u001b[37m2023-12-05 04:17:38.618000 uid:868026771893780490\n"
     ]
    },
    {
     "data": {
      "text/html": [
       "<img src=https://cdn.discordapp.com/attachments/1034400884458790942/1181449279789858846/FB_IMG_1701749803442.jpg?ex=65811962&is=656ea462&hm=3a0a7b7acd393acff0717e8ebb27c258608668e1c226e1ab94c9f5f7dd78c950& width='300'>"
      ],
      "text/plain": [
       "<IPython.core.display.HTML object>"
      ]
     },
     "metadata": {},
     "output_type": "display_data"
    },
    {
     "name": "stdout",
     "output_type": "stream",
     "text": [
      "\u001b[1m\u001b[36mkryztar\u001b[0m Vô Tree Thức + 2 thanh nộ <:confident:872316786480144425> \u001b[37m2023-12-05 04:17:35.252000 uid:349175907371712513\n",
      "\u001b[1m\u001b[36mifritsvine\u001b[0m anh nếu hốt tên áo đỏ được rồi thì xin review ạ <:muhahah:1098941981226455050> \u001b[37m2023-12-05 04:16:44.916000 uid:678526485404844032\n",
      "\u001b[1m\u001b[36mkryztar\u001b[0m Tắm đi, anh không Racist đâu <:Pervy_Kryz:727014800797728778> \u001b[37m2023-12-05 04:15:53.645000 uid:349175907371712513\n",
      "\u001b[1m\u001b[36mshirona_yuki\u001b[0m Khá nắng \u001b[37m2023-12-05 04:15:19.839000 uid:630661589455863869\n",
      "\u001b[1m\u001b[36mshirona_yuki\u001b[0m Dawg, ít ng nên cái chỗ này nước trong phết \u001b[37m2023-12-05 04:15:15.905000 uid:630661589455863869\n",
      "\u001b[1m\u001b[36mkryztar\u001b[0m Sướng thế, có định tắm khôm? \u001b[37m2023-12-05 04:15:05.402000 uid:349175907371712513\n",
      "\u001b[1m\u001b[36mshirona_yuki\u001b[0m A lấy ruan mei đi, a chs 2 tree thức dps luôn thế <:oicaiditme:1155707888325636156> \u001b[37m2023-12-05 04:14:38.125000 uid:630661589455863869\n",
      "\u001b[1m\u001b[36mkryztar\u001b[0m Tạch Houhou rồi huhu, chắc hốt cái tên áo đỏ Vô tree :\"))) \u001b[37m2023-12-05 04:13:35.525000 uid:349175907371712513\n",
      "\u001b[1m\u001b[36mshirona_yuki\u001b[0m  \u001b[37m2023-12-05 04:12:58.071000 uid:630661589455863869\n"
     ]
    },
    {
     "data": {
      "text/html": [
       "<img src=https://cdn.discordapp.com/attachments/1034400884458790942/1181448102163533874/IMG_1190.jpg?ex=65811849&is=656ea349&hm=8f1b982d34099b44f1eee9d39c7a2dc3d74d7dfc28183084f7178ba5345f155b& width='300'>"
      ],
      "text/plain": [
       "<IPython.core.display.HTML object>"
      ]
     },
     "metadata": {},
     "output_type": "display_data"
    },
    {
     "data": {
      "text/html": [
       "<img src=https://cdn.discordapp.com/attachments/1034400884458790942/1181448102842990622/IMG_1191.jpg?ex=65811849&is=656ea349&hm=63a11113e2df24d32e64ab504ad4cf52329836396e851f591836e2048b4aa9eb& width='300'>"
      ],
      "text/plain": [
       "<IPython.core.display.HTML object>"
      ]
     },
     "metadata": {},
     "output_type": "display_data"
    },
    {
     "name": "stdout",
     "output_type": "stream",
     "text": [
      "\u001b[1m\u001b[36mFrostHydra\u001b[0m Banner đôi nè \u001b[37m2023-12-05 04:12:18.231000 uid:868026771893780490\n"
     ]
    },
    {
     "data": {
      "text/html": [
       "<img src=https://cdn.discordapp.com/attachments/1034400884458790942/1181447936354304010/FB_IMG_1701749386898.jpg?ex=65811822&is=656ea322&hm=07a25c0083a857d416b390a9b3dc48d0d9e133f2ec9934ad710977d8017d4ade& width='300'>"
      ],
      "text/plain": [
       "<IPython.core.display.HTML object>"
      ]
     },
     "metadata": {},
     "output_type": "display_data"
    },
    {
     "name": "stdout",
     "output_type": "stream",
     "text": [
      "\u001b[1m\u001b[36mril3y_p3ytonz\u001b[0m Ya, tùy ý kiến cá nhân từng người thui \u001b[37m2023-12-05 04:11:51.953000 uid:732774536717795408\n",
      "\u001b[1m\u001b[36mlittle_nom\u001b[0m À hình như là r \u001b[37m2023-12-05 04:11:49.575000 uid:851692882699747369\n",
      "\u001b[1m\u001b[36mlittle_nom\u001b[0m <:gvl:1129092596745117788> \u001b[37m2023-12-05 04:11:18.473000 uid:851692882699747369\n",
      "\u001b[1m\u001b[36mkryztar\u001b[0m Thế mới tức vừa muốn Unholy mấy tà đạo ông cha ta kể lại mấy cái mê tín xàm \u001b[37m2023-12-05 04:10:03.723000 uid:349175907371712513\n",
      "\u001b[1m\u001b[36mshirona_yuki\u001b[0m Cảm giác xàm thật \u001b[37m2023-12-05 04:09:17.962000 uid:630661589455863869\n",
      "\u001b[1m\u001b[36mshirona_yuki\u001b[0m Ko hiểu nổi, sống như nào là do mình th chứ bộ mấy con vật vô tree kiểu v thì ảnh hưởng j cơ chứ? \u001b[37m2023-12-05 04:09:16.485000 uid:630661589455863869\n",
      "\u001b[1m\u001b[36mshirona_yuki\u001b[0m Ns thật t djt tin vào mấy cái mê tín \u001b[37m2023-12-05 04:07:44.359000 uid:630661589455863869\n",
      "\u001b[1m\u001b[36mlazaara\u001b[0m <:oicaiditme:1155707888325636156> \u001b[37m2023-12-05 03:57:55.631000 uid:251274760275623936\n",
      "\u001b[1m\u001b[36mril3y_p3ytonz\u001b[0m J sao lại cứu \u001b[37m2023-12-05 03:55:58.755000 uid:732774536717795408\n",
      "\u001b[1m\u001b[36mlazaara\u001b[0m <:oicaiditme:1155707888325636156> \u001b[37m2023-12-05 03:54:27.491000 uid:251274760275623936\n",
      "\u001b[1m\u001b[36mlazaara\u001b[0m cứu \u001b[37m2023-12-05 03:54:25.536000 uid:251274760275623936\n",
      "\u001b[1m\u001b[36mkryztar\u001b[0m Xin vía \u001b[37m2023-12-05 03:53:12.981000 uid:349175907371712513\n",
      "\u001b[1m\u001b[36mkryztar\u001b[0m <:fuck:331988501027487744> \u001b[37m2023-12-05 03:49:32.807000 uid:349175907371712513\n",
      "\u001b[1m\u001b[36mkryztar\u001b[0m Douma đâu ra cái quan niệm đó thế, bị Quả báo rồi nói mình oan nghiệp?!? \u001b[37m2023-12-05 03:49:26.022000 uid:349175907371712513\n",
      "\u001b[1m\u001b[36mkryztar\u001b[0m Toàn mấy kiểu mê tín dị đoan, trước có 1 con bị thương và được chữa lành. Cái má về thấy là liền vứt nó ra cửa sổ lấy lí do là xui xẻo.\n",
      "Qua ngày mai má bị té xe (trầy nhẹ) rồi đổ lỗi mình vì mang chim xui về như đúng rồi. \u001b[37m2023-12-05 03:48:52.619000 uid:349175907371712513\n",
      "\u001b[1m\u001b[36mril3y_p3ytonz\u001b[0m Đúng z á, chim sẻ dù đẹp và dễ thương, nhưng là biểu tượng của điềm gở á <:hwehwe:1123653102181027911> \u001b[37m2023-12-05 03:45:09.310000 uid:732774536717795408\n",
      "\u001b[1m\u001b[36mkryztar\u001b[0m Nghe nói Yuki hay thịt chym mà \u001b[37m2023-12-05 03:44:27.123000 uid:349175907371712513\n",
      "\u001b[1m\u001b[36mshirona_yuki\u001b[0m 20m dicc length \u001b[37m2023-12-05 03:42:18.099000 uid:630661589455863869\n",
      "\u001b[1m\u001b[36mshirona_yuki\u001b[0m Of \u001b[37m2023-12-05 03:42:02.485000 uid:630661589455863869\n",
      "\u001b[1m\u001b[36mshirona_yuki\u001b[0m The power \u001b[37m2023-12-05 03:42:01.444000 uid:630661589455863869\n",
      "\u001b[1m\u001b[36mhung_aaa\u001b[0m <:bdsm:1174644261300473947> \u001b[37m2023-12-05 03:41:43.459000 uid:587216138807803904\n",
      "\u001b[1m\u001b[36mhung_aaa\u001b[0m yell den bdsm ong day tron' di \u001b[37m2023-12-05 03:41:41.507000 uid:587216138807803904\n",
      "\u001b[1m\u001b[36mlazaara\u001b[0m yeo làm tôi sợ á <:lappdumb:999492649721532456> \u001b[37m2023-12-05 03:37:19.468000 uid:251274760275623936\n",
      "\u001b[1m\u001b[36mlazaara\u001b[0m <@652281623794024448> ủa mà yeo đến thật à hay fake địa điểm vậy \u001b[37m2023-12-05 03:37:13.891000 uid:251274760275623936\n",
      "\u001b[1m\u001b[36mshirona_yuki\u001b[0m Bye, bác tài kêu chim xa cá lạ ko đc bắt về kẻo xui nên ko chăm đc r, em nó bị thương ở cánh ko bay đc \u001b[37m2023-12-05 03:29:14.424000 uid:630661589455863869\n"
     ]
    },
    {
     "data": {
      "text/html": [
       "<img src=https://cdn.discordapp.com/attachments/1034400884458790942/1181437098629288027/IMG_1188.jpg?ex=65810e0a&is=656e990a&hm=e18b95a993160c023b9679839d0ce858339091cc51c9b74394789c4d3e7e7c19& width='300'>"
      ],
      "text/plain": [
       "<IPython.core.display.HTML object>"
      ]
     },
     "metadata": {},
     "output_type": "display_data"
    },
    {
     "name": "stdout",
     "output_type": "stream",
     "text": [
      "\u001b[1m\u001b[36mshirona_yuki\u001b[0m  \u001b[37m2023-12-05 03:28:20.426000 uid:630661589455863869\n"
     ]
    },
    {
     "data": {
      "text/html": [
       "<img src=https://cdn.discordapp.com/attachments/1034400884458790942/1181436871641935932/IMG_1186.jpg?ex=65810dd4&is=656e98d4&hm=1888179f0c3a0ca2c76358298e1e8d8178df5ed8956d7bf6f0f3af518c96d5fa& width='300'>"
      ],
      "text/plain": [
       "<IPython.core.display.HTML object>"
      ]
     },
     "metadata": {},
     "output_type": "display_data"
    },
    {
     "data": {
      "text/html": [
       "<img src=https://cdn.discordapp.com/attachments/1034400884458790942/1181436872187187230/IMG_1187.jpg?ex=65810dd4&is=656e98d4&hm=8267eca3f130f6a7bbfa20082533390d95a1a816b5186bd21266709fa0c81e14& width='300'>"
      ],
      "text/plain": [
       "<IPython.core.display.HTML object>"
      ]
     },
     "metadata": {},
     "output_type": "display_data"
    },
    {
     "name": "stdout",
     "output_type": "stream",
     "text": [
      "\u001b[1m\u001b[36mohayooo1406\u001b[0m Cutee \u001b[37m2023-12-05 03:03:06.673000 uid:756131679118032940\n",
      "\u001b[1m\u001b[36mohayooo1406\u001b[0m Xinh vãi \u001b[37m2023-12-05 03:01:10.122000 uid:756131679118032940\n",
      "\u001b[1m\u001b[36mril3y_p3ytonz\u001b[0m Nhỏ bé cũng xink mà <:Pwease:1140644815558680626> \u001b[37m2023-12-05 02:57:31.044000 uid:732774536717795408\n",
      "\u001b[1m\u001b[36mifritsvine\u001b[0m Chym này size hơi nhỏ \u001b[37m2023-12-05 02:57:00.450000 uid:678526485404844032\n",
      "\u001b[1m\u001b[36mshirona_yuki\u001b[0m Đúng nghĩa đen \u001b[37m2023-12-05 02:56:33.585000 uid:630661589455863869\n",
      "\u001b[1m\u001b[36mshirona_yuki\u001b[0m Nay t đã đc \"rờ chym\" \u001b[37m2023-12-05 02:56:29.987000 uid:630661589455863869\n",
      "\u001b[1m\u001b[36mifritsvine\u001b[0m Bu lông \u001b[37m2023-12-05 02:52:53.537000 uid:678526485404844032\n",
      "\u001b[1m\u001b[36mshirona_yuki\u001b[0m  \u001b[37m2023-12-05 02:52:32.788000 uid:630661589455863869\n"
     ]
    },
    {
     "data": {
      "text/html": [
       "<img src=https://cdn.discordapp.com/attachments/1034400884458790942/1181427864265035846/IMG_1184.jpg?ex=65810570&is=656e9070&hm=c7af3afac8cb0679968be9eb61ad2ca569363308277359affee812f277049ac0& width='300'>"
      ],
      "text/plain": [
       "<IPython.core.display.HTML object>"
      ]
     },
     "metadata": {},
     "output_type": "display_data"
    },
    {
     "name": "stdout",
     "output_type": "stream",
     "text": [
      "\u001b[1m\u001b[36mkryztar\u001b[0m Ủa, 2 người chơi đấu kiếm à? \u001b[37m2023-12-05 02:52:18.476000 uid:349175907371712513\n",
      "\u001b[1m\u001b[36mlazaara\u001b[0m <:oicaiditme:1155707888325636156> \u001b[37m2023-12-05 02:46:43.483000 uid:251274760275623936\n",
      "\u001b[1m\u001b[36mifritsvine\u001b[0m <:jerry_wtf:909722081170710549> \u001b[37m2023-12-05 02:46:42.275000 uid:678526485404844032\n",
      "\u001b[1m\u001b[36mifritsvine\u001b[0m Yell đợi kìa \u001b[37m2023-12-05 02:46:38.396000 uid:678526485404844032\n",
      "\u001b[1m\u001b[36mlazaara\u001b[0m <:jerry_wtf:909722081170710549> \u001b[37m2023-12-05 02:44:37.928000 uid:251274760275623936\n",
      "\u001b[1m\u001b[36mlazaara\u001b[0m  \u001b[37m2023-12-05 02:44:37.213000 uid:251274760275623936\n"
     ]
    },
    {
     "data": {
      "text/html": [
       "<img src=https://cdn.discordapp.com/attachments/1034400884458790942/1181425869605056582/IMG_6576.png?ex=65810395&is=656e8e95&hm=29a1c4a8e111f18c5cbffc60d6935acccd134e50008b4c01bae65c2f214f31e9& width='300'>"
      ],
      "text/plain": [
       "<IPython.core.display.HTML object>"
      ]
     },
     "metadata": {},
     "output_type": "display_data"
    },
    {
     "name": "stdout",
     "output_type": "stream",
     "text": [
      "\u001b[1m\u001b[36mlazaara\u001b[0m ayo \u001b[37m2023-12-05 02:44:29.568000 uid:251274760275623936\n",
      "\u001b[1m\u001b[36mlazaara\u001b[0m <:Pwease:1140644815558680626> \u001b[37m2023-12-05 02:43:00.507000 uid:251274760275623936\n",
      "\u001b[1m\u001b[36mlazaara\u001b[0m meow \u001b[37m2023-12-05 02:42:58.635000 uid:251274760275623936\n",
      "\u001b[1m\u001b[36msunowo_\u001b[0m Ks Sunrise Hotel Hà Tiên \u001b[37m2023-12-05 02:25:45.056000 uid:242276901362728960\n"
     ]
    },
    {
     "data": {
      "text/plain": [
       "(400, 400)"
      ]
     },
     "execution_count": 8,
     "metadata": {},
     "output_type": "execute_result"
    }
   ],
   "source": [
    "chnl = client.get_channel(1034400884458790942   )\n",
    "BEFORE = datetime.strptime(\"16/06/2025 21:40\", \"%d/%m/%Y %H:%M\") - timedelta(hours=7)\n",
    "# BEFORE = datetime.strptime(\"2022-01-22 15:42:57.599000\", \"%Y-%m-%d %H:%M:%S.%f\")\n",
    "LIMIT = 400\n",
    "# except discord.Forbidden:\n",
    "fetched = 0\n",
    "printed = 0\n",
    "async for msg in chnl.history(limit=LIMIT, before=BEFORE):\n",
    "    fetched += 1\n",
    "    # if msg.author.id != 803716426312581191:\n",
    "    #     continue\n",
    "\n",
    "    printed += 1\n",
    "    # pretty print message\n",
    "    print(\n",
    "        f\"\\x1b[1m\\x1b[36m{msg.author.name}\\x1b[0m {msg.content} \\x1b[37m{msg.created_at} uid:{msg.author.id}\"\n",
    "    )\n",
    "    for a in msg.attachments:\n",
    "        display(HTML(f\"<img src={a.url} width='300'>\"))\n",
    "printed, fetched"
   ]
  },
  {
   "cell_type": "code",
   "execution_count": null,
   "metadata": {},
   "outputs": [],
   "source": [
    "x = await guild.fetch_members(limit=None).flatten()\n",
    "x"
   ]
  },
  {
   "attachments": {},
   "cell_type": "markdown",
   "metadata": {},
   "source": [
    "## Write"
   ]
  },
  {
   "cell_type": "markdown",
   "metadata": {},
   "source": [
    "### test dm"
   ]
  },
  {
   "cell_type": "code",
   "execution_count": 18,
   "metadata": {},
   "outputs": [
    {
     "name": "stdout",
     "output_type": "stream",
     "text": [
      "AbdulRafayDanyal#5738\n"
     ]
    },
    {
     "data": {
      "text/plain": [
       "<Message id=1181218190055964723 channel=<DMChannel id=1181209584413708348 recipient=<User id=1126506674795065495 name='AbdulRafayDanyal' discriminator='5738' bot=False>> type=<MessageType.default: 0> author=<ClientUser id=866772979798900746 name='meodo_' discriminator='0' bot=False verified=True mfa_enabled=True> flags=<MessageFlags value=0>>"
      ]
     },
     "execution_count": 18,
     "metadata": {},
     "output_type": "execute_result"
    },
    {
     "name": "stderr",
     "output_type": "stream",
     "text": [
      "c:\\Users\\hoang\\.virtualenvs\\jupytervenv3.10\\lib\\site-packages\\discord\\gateway.py:509: DeprecationWarning: get_relationship is deprecated.\n",
      "  func(data)\n"
     ]
    }
   ],
   "source": [
    "u = client.get_user(1126506674795065495)\n",
    "print(u)\n",
    "await u.send(\".\")"
   ]
  },
  {
   "cell_type": "markdown",
   "metadata": {},
   "source": [
    "## CAMPAIGN"
   ]
  },
  {
   "cell_type": "code",
   "execution_count": 6,
   "metadata": {},
   "outputs": [],
   "source": [
    "async def retry_if_fail(coro, retries, delay_between=1):\n",
    "    for i in range(retries):\n",
    "        try:\n",
    "            await coro\n",
    "            break\n",
    "        except Exception as e:\n",
    "            print(e)\n",
    "            await asyncio.sleep(delay_between)"
   ]
  },
  {
   "cell_type": "markdown",
   "metadata": {},
   "source": [
    "### Mass DM"
   ]
  },
  {
   "cell_type": "markdown",
   "metadata": {},
   "source": [
    "#### Obtain all IDs\n",
    "\n",
    "How to:\n",
    "- open dev tool > network tab\n",
    "- scroll through member list\n",
    "- export HAR file"
   ]
  },
  {
   "cell_type": "code",
   "execution_count": 45,
   "metadata": {},
   "outputs": [
    {
     "data": {
      "text/plain": [
       "(302,\n",
       " [473490993661083648,\n",
       "  947979492473860116,\n",
       "  1036900781657436181,\n",
       "  879345135429775382,\n",
       "  971053141703417906])"
      ]
     },
     "execution_count": 45,
     "metadata": {},
     "output_type": "execute_result"
    }
   ],
   "source": [
    "with open(\"../../Input/discord.com.har\", \"r\", encoding=\"utf8\") as f:\n",
    "    content = f.read()\n",
    "pattern = r\"com/avatars/.*/\"\n",
    "matches = re.findall(pattern, content)\n",
    "found_ids = list(set(map(lambda x: int(x.split(\"/\")[-2]), matches)))\n",
    "found_ids.__len__(), found_ids[-5:]"
   ]
  },
  {
   "cell_type": "code",
   "execution_count": 46,
   "metadata": {},
   "outputs": [
    {
     "data": {
      "text/plain": [
       "(541,\n",
       " [277652482971271168,\n",
       "  651407015289159680,\n",
       "  375261738100326400,\n",
       "  825741033505685536,\n",
       "  474415578765983754])"
      ]
     },
     "execution_count": 46,
     "metadata": {},
     "output_type": "execute_result"
    }
   ],
   "source": [
    "content = \"\"\n",
    "for i in range(3):\n",
    "    with open(f\"../../Input/discord.com.fuve.{i}.har\", \"r\", encoding=\"utf8\") as f:\n",
    "        content += f.read()\n",
    "pattern = r\"com/avatars/.*/\"\n",
    "matches = re.findall(pattern, content)\n",
    "found_ids_fuve = list(set(map(lambda x: int(x.split(\"/\")[-2]), matches)))\n",
    "found_ids_fuve.__len__(), found_ids_fuve[-5:]"
   ]
  },
  {
   "cell_type": "code",
   "execution_count": 47,
   "metadata": {},
   "outputs": [
    {
     "data": {
      "text/plain": [
       "(76,\n",
       " [251274760275623936,\n",
       "  419742289188093952,\n",
       "  1082436911546777691,\n",
       "  936638253967212544,\n",
       "  473490993661083648])"
      ]
     },
     "execution_count": 47,
     "metadata": {},
     "output_type": "execute_result"
    }
   ],
   "source": [
    "fuve_and_fg = list(set(found_ids).intersection(set(found_ids_fuve)))\n",
    "fuve_and_fg.__len__(), fuve_and_fg[-5:]"
   ]
  },
  {
   "cell_type": "code",
   "execution_count": 38,
   "metadata": {},
   "outputs": [
    {
     "data": {
      "text/plain": [
       "{'id': '1180982290243932232',\n",
       " 'type': 1,\n",
       " 'last_message_id': None,\n",
       " 'flags': 0,\n",
       " 'recipients': [{'id': '473490993661083648',\n",
       "   'username': 'kuroto.w.',\n",
       "   'avatar': '8d76a2c97be0373f47c6546551d9e4a6',\n",
       "   'discriminator': '0',\n",
       "   'public_flags': 0,\n",
       "   'premium_type': 0,\n",
       "   'flags': 0,\n",
       "   'banner': None,\n",
       "   'accent_color': 1644812,\n",
       "   'global_name': 'Kuroto',\n",
       "   'avatar_decoration_data': None,\n",
       "   'banner_color': '#19190C'}]}"
      ]
     },
     "execution_count": 38,
     "metadata": {},
     "output_type": "execute_result"
    }
   ],
   "source": [
    "async def create_DM_thread(uid, login_token=LOGIN_TOKEN):\n",
    "    headers = {\n",
    "        \"Accept\": \"*/*\",\n",
    "        \"Accept-Encoding\": \"gzip, deflate, br\",\n",
    "        \"Accept-Language\": \"vi,en-US;q=0.9,en;q=0.8,vi-VN;q=0.7\",\n",
    "        \"Authorization\": login_token,\n",
    "        \"Content-Length\": \"37\",\n",
    "        \"Content-Type\": \"application/json\",\n",
    "        \"Cookie\": \"__dcfduid=749dd100382111ee98b4adb86dfe1eb3; __sdcfduid=749dd101382111ee98b4adb86dfe1eb332b879dcb94b79a27983feefe17275c1571f97fc97e31f731bba75e24d995b51; _ga_XXP2R74F46=GS1.2.1696925885.1.0.1696925885.0.0.0; _ga_Q149DFWHT7=GS1.1.1699276900.3.1.1699276986.0.0.0; _gid=GA1.2.7368905.1701207776; _ga=GA1.1.817229634.1691516136; OptanonConsent=isIABGlobal=false&datestamp=Wed+Nov+29+2023+23%3A06%3A04+GMT%2B0700+(Gi%E1%BB%9D+%C4%90%C3%B4ng+D%C6%B0%C6%A1ng)&version=6.33.0&hosts=&landingPath=NotLandingPage&groups=C0001%3A1%2CC0002%3A1%2CC0003%3A1&AwaitingReconsent=false; _ga_YL03HBJY7E=GS1.1.1701291188.6.1.1701291188.0.0.0; cf_clearance=EOfqX1IZLiDLgIg_rhN7VVpDAJgpYQr9_XaEOCn_5PI-1701330749-0-1-ad9d581a.e6c1ab29.e25b3dae-0.2.1701330749; _cfuvid=JlJqIY_eWpovMRXHyyy9OGOGTocFjF_a9gSnSG83BqM-1701346396781-0-604800000; __cfruid=d4c97b25ceab49741a1bcf456b24fbb6876422ca-1701346401\",\n",
    "        \"Origin\": \"https://discord.com\",\n",
    "        \"Referer\": \"https://discord.com/channels/\",\n",
    "        \"Sec-Ch-Ua\": '\"Google Chrome\";v=\"119\", \"Chromium\";v=\"119\", \"Not?A_Brand\";v=\"24\"',\n",
    "        \"Sec-Ch-Ua-Mobile\": \"?0\",\n",
    "        \"Sec-Ch-Ua-Platform\": '\"Windows\"',\n",
    "        \"Sec-Fetch-Dest\": \"empty\",\n",
    "        \"Sec-Fetch-Mode\": \"cors\",\n",
    "        \"Sec-Fetch-Site\": \"same-origin\",\n",
    "        \"User-Agent\": \"Mozilla/5.0 (Windows NT 10.0; Win64; x64) AppleWebKit/537.36 (KHTML, like Gecko) Chrome/119.0.0.0 Safari/537.36\",\n",
    "        \"X-Context-Properties\": \"eyJsb2NhdGlvbiI6IlF1aWNrIE1lc3NhZ2UgSW5wdXQifQ==\",\n",
    "        \"X-Debug-Options\": \"bugReporterEnabled\",\n",
    "        \"X-Discord-Locale\": \"vi\",\n",
    "        \"X-Discord-Timezone\": \"Asia/Saigon\",\n",
    "        \"X-Super-Properties\": \"eyJvcyI6IldpbmRvd3MiLCJicm93c2VyIjoiQ2hyb21lIiwiZGV2aWNlIjoiIiwic3lzdGVtX2xvY2FsZSI6InZpIiwiYnJvd3Nlcl91c2VyX2FnZW50IjoiTW96aWxsYS81LjAgKFdpbmRvd3MgTlQgMTAuMDsgV2luNjQ7IHg2NCkgQXBwbGVXZWJLaXQvNTM3LjM2IChLSFRNTCwgbGlrZSBHZWNrbykgQ2hyb21lLzExOS4wLjAuMCBTYWZhcmkvNTM3LjM2IiwiYnJvd3Nlcl92ZXJzaW9uIjoiMTE5LjAuMC4wIiwib3NfdmVyc2lvbiI6IjEwIiwicmVmZXJyZXIiOiIiLCJyZWZlcnJpbmdfZG9tYWluIjoiIiwicmVmZXJyZXJfY3VycmVudCI6IiIsInJlZmVycmluZ19kb21haW5fY3VycmVudCI6IiIsInJlbGVhc2VfY2hhbm5lbCI6InN0YWJsZSIsImNsaWVudF9idWlsZF9udW1iZXIiOjI0OTc0MCwiY2xpZW50X2V2ZW50X3NvdXJjZSI6bnVsbCwiZGVzaWduX2lkIjowfQ==\",\n",
    "    }\n",
    "    json = {\"recipients\": [uid]}\n",
    "    url = \"https://discord.com/api/v9/users/@me/channels\"\n",
    "    r = requests.post(url, headers=headers, json=json)\n",
    "    if r.status_code != 200:\n",
    "        raise Exception(r.text)\n",
    "    return r\n",
    "r = await create_DM_thread(473490993661083648)\n",
    "r.json()"
   ]
  },
  {
   "cell_type": "markdown",
   "metadata": {},
   "source": [
    "### Operation KnowYarPlace"
   ]
  },
  {
   "cell_type": "code",
   "execution_count": 50,
   "metadata": {},
   "outputs": [],
   "source": [
    "unsafe_ppl_ids = [\n",
    "    652281623794024448,\n",
    "    687486631749746699,\n",
    "    654623620349427712,\n",
    "    630661589455863869,\n",
    "    384330047730745355,\n",
    "    519004834574368775,  # W\n",
    "    587216138807803904,\n",
    "    1054038717121175662,\n",
    "    384330047730745355,\n",
    "    756131679118032940,\n",
    "    311578367294046210,\n",
    "    251274760275623936,\n",
    "]\n",
    "\n",
    "other_acc_ids = [\n",
    "    740063493415370823,\n",
    "    566599084035801101,\n",
    "    620135990249652224,\n",
    "    385466752848363533,\n",
    "    741833521173233725,\n",
    "    419742289188093952,\n",
    "    584606572454477836,\n",
    "    756131679118032940,\n",
    "    576704837748654085,\n",
    "    506132489807593473,\n",
    "    406034278107971584,\n",
    "    375261738100326400,\n",
    "    618334402983886849,\n",
    "]\n",
    "\n",
    "\n",
    "safe_ppl_ids = list(set(found_ids) - set(unsafe_ppl_ids))\n",
    "\n",
    "\n",
    "lesser_visible_channel = 1064760076390371370\n",
    "\n",
    "\n",
    "# channels_to_spam = []"
   ]
  },
  {
   "cell_type": "markdown",
   "metadata": {},
   "source": [
    "Phase 1: Create DM threads"
   ]
  },
  {
   "cell_type": "markdown",
   "metadata": {},
   "source": [
    "Phase 2: Spam DM \"safe\" people"
   ]
  },
  {
   "cell_type": "markdown",
   "metadata": {},
   "source": [
    "### Gain DM perm"
   ]
  },
  {
   "cell_type": "markdown",
   "metadata": {},
   "source": [
    "create dm threads"
   ]
  },
  {
   "cell_type": "code",
   "execution_count": 16,
   "metadata": {},
   "outputs": [
    {
     "data": {
      "application/vnd.jupyter.widget-view+json": {
       "model_id": "9d4e7d1d8a044bfd90bb63b6e2f235a3",
       "version_major": 2,
       "version_minor": 0
      },
      "text/plain": [
       "  0%|          | 0/302 [00:00<?, ?it/s]"
      ]
     },
     "metadata": {},
     "output_type": "display_data"
    },
    {
     "name": "stdout",
     "output_type": "stream",
     "text": [
      "https://discord.com/channels/@me/1180982492849778688 alasky\n",
      "https://discord.com/channels/@me/1180982495072759939 Bacteryan\n",
      "https://discord.com/channels/@me/1180982499514515606 Chino\n",
      "https://discord.com/channels/@me/1180982501594906644 Dr4kun\n",
      "https://discord.com/channels/@me/1180982497325109319 Gehirnerschütterung\n",
      "https://discord.com/channels/@me/1181011161924243496 None\n",
      "https://discord.com/channels/@me/1180982503864012810 Jphở\n",
      "https://discord.com/channels/@me/1180982506162503710 Nickkle\n",
      "https://discord.com/channels/@me/1180982508788138095 QuynhAnh\n",
      "https://discord.com/channels/@me/1180982511241805965 Slemanti\n",
      "https://discord.com/channels/@me/1180982514140057750 armin nikolai\n",
      "https://discord.com/channels/@me/1180982516371435560 Bejamin thỉu neng\n",
      "https://discord.com/channels/@me/1180982519328419980 Berry Veloce\n",
      "https://discord.com/channels/@me/1180982521358454784 CookiePiez\n",
      "https://discord.com/channels/@me/1180982523346550854 berendo\n",
      "https://discord.com/channels/@me/1180982525498245172 LeeFishii🐟\n",
      "https://discord.com/channels/@me/1180982528039977010 Narikiri\n",
      "https://discord.com/channels/@me/1180982529784807465 Deepi_artist🎨 (comms open 4/6)\n",
      "https://discord.com/channels/@me/1180982532464971846 Bà xã Ryekie\n",
      "https://discord.com/channels/@me/1180982534637621258 SU KHÓ TÍNH !\n",
      "https://discord.com/channels/@me/1180982536906739822 Trang\n"
     ]
    },
    {
     "ename": "CancelledError",
     "evalue": "",
     "output_type": "error",
     "traceback": [
      "\u001b[1;31m---------------------------------------------------------------------------\u001b[0m",
      "\u001b[1;31mCancelledError\u001b[0m                            Traceback (most recent call last)",
      "\u001b[1;32mc:\\Users\\hoang\\OneDrive\\Documents\\KO GIAN LÀM VIỆC\\JupyterNotebooks\\code\\discordpy\\[discord.py] campaign.ipynb Cell 27\u001b[0m line \u001b[0;36m9\n\u001b[0;32m      <a href='vscode-notebook-cell:/c%3A/Users/hoang/OneDrive/Documents/KO%20GIAN%20L%C3%80M%20VI%E1%BB%86C/JupyterNotebooks/code/discordpy/%5Bdiscord.py%5D%20campaign.ipynb#X34sZmlsZQ%3D%3D?line=2'>3</a>\u001b[0m r \u001b[39m=\u001b[39m r\u001b[39m.\u001b[39mjson()\n\u001b[0;32m      <a href='vscode-notebook-cell:/c%3A/Users/hoang/OneDrive/Documents/KO%20GIAN%20L%C3%80M%20VI%E1%BB%86C/JupyterNotebooks/code/discordpy/%5Bdiscord.py%5D%20campaign.ipynb#X34sZmlsZQ%3D%3D?line=4'>5</a>\u001b[0m \u001b[39mprint\u001b[39m(\n\u001b[0;32m      <a href='vscode-notebook-cell:/c%3A/Users/hoang/OneDrive/Documents/KO%20GIAN%20L%C3%80M%20VI%E1%BB%86C/JupyterNotebooks/code/discordpy/%5Bdiscord.py%5D%20campaign.ipynb#X34sZmlsZQ%3D%3D?line=5'>6</a>\u001b[0m     \u001b[39mf\u001b[39m\u001b[39m'\u001b[39m\u001b[39mhttps://discord.com/channels/@me/\u001b[39m\u001b[39m{\u001b[39;00mr[\u001b[39m\"\u001b[39m\u001b[39mid\u001b[39m\u001b[39m\"\u001b[39m]\u001b[39m}\u001b[39;00m\u001b[39m \u001b[39m\u001b[39m{\u001b[39;00mr[\u001b[39m\"\u001b[39m\u001b[39mrecipients\u001b[39m\u001b[39m\"\u001b[39m][\u001b[39m0\u001b[39m][\u001b[39m\"\u001b[39m\u001b[39mglobal_name\u001b[39m\u001b[39m\"\u001b[39m]\u001b[39m}\u001b[39;00m\u001b[39m'\u001b[39m\n\u001b[0;32m      <a href='vscode-notebook-cell:/c%3A/Users/hoang/OneDrive/Documents/KO%20GIAN%20L%C3%80M%20VI%E1%BB%86C/JupyterNotebooks/code/discordpy/%5Bdiscord.py%5D%20campaign.ipynb#X34sZmlsZQ%3D%3D?line=6'>7</a>\u001b[0m )\n\u001b[1;32m----> <a href='vscode-notebook-cell:/c%3A/Users/hoang/OneDrive/Documents/KO%20GIAN%20L%C3%80M%20VI%E1%BB%86C/JupyterNotebooks/code/discordpy/%5Bdiscord.py%5D%20campaign.ipynb#X34sZmlsZQ%3D%3D?line=8'>9</a>\u001b[0m \u001b[39mawait\u001b[39;00m asyncio\u001b[39m.\u001b[39msleep(\u001b[39m1\u001b[39m)\n",
      "File \u001b[1;32mC:\\Program Files\\WindowsApps\\PythonSoftwareFoundation.Python.3.10_3.10.3056.0_x64__qbz5n2kfra8p0\\lib\\asyncio\\tasks.py:605\u001b[0m, in \u001b[0;36msleep\u001b[1;34m(delay, result)\u001b[0m\n\u001b[0;32m    601\u001b[0m h \u001b[39m=\u001b[39m loop\u001b[39m.\u001b[39mcall_later(delay,\n\u001b[0;32m    602\u001b[0m                     futures\u001b[39m.\u001b[39m_set_result_unless_cancelled,\n\u001b[0;32m    603\u001b[0m                     future, result)\n\u001b[0;32m    604\u001b[0m \u001b[39mtry\u001b[39;00m:\n\u001b[1;32m--> 605\u001b[0m     \u001b[39mreturn\u001b[39;00m \u001b[39mawait\u001b[39;00m future\n\u001b[0;32m    606\u001b[0m \u001b[39mfinally\u001b[39;00m:\n\u001b[0;32m    607\u001b[0m     h\u001b[39m.\u001b[39mcancel()\n",
      "\u001b[1;31mCancelledError\u001b[0m: "
     ]
    }
   ],
   "source": [
    "for id in tqdm(found_ids):\n",
    "    r = await create_DM_thread(id)\n",
    "    r = r.json()\n",
    "\n",
    "    print(\n",
    "        f'https://discord.com/channels/@me/{r[\"id\"]} {r[\"recipients\"][0][\"global_name\"]}'\n",
    "    )\n",
    "\n",
    "    await asyncio.sleep(1)"
   ]
  },
  {
   "cell_type": "markdown",
   "metadata": {},
   "source": [
    "sending hello"
   ]
  },
  {
   "cell_type": "code",
   "execution_count": 52,
   "metadata": {},
   "outputs": [
    {
     "data": {
      "text/plain": [
       "(79,\n",
       " [634024263065796609,\n",
       "  227824187425816577,\n",
       "  806173657876398081,\n",
       "  674627944047575046,\n",
       "  931183966084530177,\n",
       "  1158737548408016896,\n",
       "  616968254942085121,\n",
       "  946062674377207818,\n",
       "  768122937722011659,\n",
       "  452276386749612043])"
      ]
     },
     "execution_count": 52,
     "metadata": {},
     "output_type": "execute_result"
    }
   ],
   "source": [
    "async def retrun_msgs(user):\n",
    "    msg_ls = []\n",
    "    async for msg in user.history():\n",
    "        msg_ls.append(msg)\n",
    "    return msg_ls\n",
    "\n",
    "\n",
    "readable = [client.get_user(id) for id in found_ids if id is not None]\n",
    "dm_able = [await retrun_msgs(user) for user in readable if user is not None]\n",
    "dm_able = [x for x in dm_able if x]\n",
    "dm_able_ids = [u[0].channel.recipient.id for u in dm_able]\n",
    "dm_able_ids.__len__(), dm_able_ids[:10]"
   ]
  },
  {
   "cell_type": "markdown",
   "metadata": {},
   "source": [
    "### Other account stuff"
   ]
  },
  {
   "cell_type": "code",
   "execution_count": 34,
   "metadata": {},
   "outputs": [
    {
     "data": {
      "text/plain": [
       "(51,\n",
       " [620135990249652224,\n",
       "  192098896909041665,\n",
       "  311578367294046210,\n",
       "  282859044593598464,\n",
       "  406034278107971584,\n",
       "  576704837748654085,\n",
       "  652281623794024448,\n",
       "  618334402983886849,\n",
       "  412347553141751808,\n",
       "  959685211052965889])"
      ]
     },
     "execution_count": 34,
     "metadata": {},
     "output_type": "execute_result"
    }
   ],
   "source": [
    "dm_able_ids = [u[0].channel.recipient.id for u in dm_able]\n",
    "to_create_threads = list(set(found_ids)-set(dm_able_ids))\n",
    "to_create_threads = list(set(to_create_threads).intersection(fuve_and_fg))\n",
    "to_create_threads.__len__(), to_create_threads[:10]"
   ]
  },
  {
   "cell_type": "code",
   "execution_count": 40,
   "metadata": {},
   "outputs": [
    {
     "data": {
      "application/vnd.jupyter.widget-view+json": {
       "model_id": "94b09ccd081744d79e8d24172ed473db",
       "version_major": 2,
       "version_minor": 0
      },
      "text/plain": [
       "  0%|          | 0/51 [00:00<?, ?it/s]"
      ]
     },
     "metadata": {},
     "output_type": "display_data"
    },
    {
     "name": "stdout",
     "output_type": "stream",
     "text": [
      "{'id': '1181200509617569832', 'type': 1, 'last_message_id': '1181200949914644540', 'flags': 0, 'recipients': [{'id': '620135990249652224', 'username': 'fur_alasky', 'avatar': '12801ad18d4e699781d07f35920e3dbb', 'discriminator': '0', 'public_flags': 0, 'premium_type': 2, 'flags': 0, 'banner': '85d20e00703d3b44cb371de8c715ddd5', 'accent_color': 16736475, 'global_name': 'alasky', 'avatar_decoration_data': {'asset': 'a_10b9f886b513b77ccdd67c8784f1a496', 'sku_id': '1144059132517826601'}, 'banner_color': '#ff60db'}]}\n",
      "{'id': '1181193883862966292', 'type': 1, 'last_message_id': None, 'flags': 0, 'recipients': [{'id': '192098896909041665', 'username': 'chinokii', 'avatar': '926e7e3d7b292d40ce574b320038f7bd', 'discriminator': '0', 'public_flags': 0, 'premium_type': 0, 'flags': 0, 'banner': None, 'accent_color': None, 'global_name': 'Chino', 'avatar_decoration_data': None, 'banner_color': None}]}\n",
      "{'id': '1181193907539816498', 'type': 1, 'last_message_id': '1181211859236433970', 'flags': 0, 'recipients': [{'id': '311578367294046210', 'username': 'm0ritaka', 'avatar': '9f10009d90638dab0283b9ae01a0e0d2', 'discriminator': '0', 'public_flags': 256, 'premium_type': 3, 'flags': 256, 'banner': None, 'accent_color': 5482661, 'global_name': None, 'avatar_decoration_data': {'asset': 'a_fed43ab12698df65902ba06727e20c0e', 'sku_id': '1144058844004233369'}, 'banner_color': '#53a8a5'}]}\n",
      "{'id': '1181201798040666144', 'type': 1, 'last_message_id': None, 'flags': 32, 'recipients': [{'id': '282859044593598464', 'username': 'ProBot ✨', 'avatar': '156a0d2872579f1ffcaa5d2127239bfd', 'discriminator': '5803', 'public_flags': 65536, 'premium_type': 0, 'flags': 65536, 'bot': True, 'banner': None, 'accent_color': None, 'global_name': None, 'avatar_decoration_data': None, 'banner_color': None}]}\n",
      "{'id': '1181201779094982727', 'type': 1, 'last_message_id': None, 'flags': 32, 'recipients': [{'id': '406034278107971584', 'username': 'sugiowo', 'avatar': 'ffe7aadee824180f75d85be96985fc8b', 'discriminator': '0', 'public_flags': 256, 'premium_type': 0, 'flags': 256, 'banner': None, 'accent_color': 1579292, 'global_name': 'Sugi', 'avatar_decoration_data': {'asset': 'a_10b9f886b513b77ccdd67c8784f1a496', 'sku_id': '1144059132517826601'}, 'banner_color': '#18191c'}]}\n",
      "{'id': '1181194023491354634', 'type': 1, 'last_message_id': '1181233377156796478', 'flags': 0, 'recipients': [{'id': '576704837748654085', 'username': 'shirunaiokami', 'avatar': 'cd5e733917f6065d4682c61bd8645a14', 'discriminator': '0', 'public_flags': 256, 'premium_type': 2, 'flags': 256, 'banner': 'cec622001a68fde6a1bc0ec15d54ee50', 'accent_color': 0, 'global_name': '✅', 'avatar_decoration_data': None, 'banner_color': '#000000'}]}\n",
      "{'id': '1181201805460381827', 'type': 1, 'last_message_id': None, 'flags': 32, 'recipients': [{'id': '652281623794024448', 'username': 'yelloe2004', 'avatar': 'ac72db972fea7d2ea3768f6df7dd1514', 'discriminator': '0', 'public_flags': 256, 'premium_type': 3, 'flags': 256, 'banner': None, 'accent_color': 3080260, 'global_name': 'Yelloe', 'avatar_decoration_data': None, 'banner_color': '#2f0044'}]}\n",
      "{'id': '1181201818307547217', 'type': 1, 'last_message_id': None, 'flags': 32, 'recipients': [{'id': '618334402983886849', 'username': 'katval', 'avatar': '59f01d9bca0972d0fbda262724434b94', 'discriminator': '0', 'public_flags': 64, 'premium_type': 2, 'flags': 64, 'banner': 'c90c1f7ed0f1eb51c7e636aad75edff4', 'accent_color': 2303016, 'global_name': 'Katval', 'avatar_decoration_data': None, 'banner_color': '#232428'}]}\n",
      "{'id': '1181201944946167838', 'type': 1, 'last_message_id': None, 'flags': 32, 'recipients': [{'id': '412347553141751808', 'username': 'Jockie Music (2)', 'avatar': '0d4361414132f16aab8a6486f1b7bb5b', 'discriminator': '8488', 'public_flags': 65536, 'premium_type': 0, 'flags': 65536, 'bot': True, 'banner': None, 'accent_color': None, 'global_name': None, 'avatar_decoration_data': None, 'banner_color': None}]}\n",
      "{'id': '1181201825567875142', 'type': 1, 'last_message_id': None, 'flags': 32, 'recipients': [{'id': '959685211052965889', 'username': 'winter0092', 'avatar': '4c828c4dc93c1767fe5ebbb363b0efc1', 'discriminator': '0', 'public_flags': 64, 'premium_type': 0, 'flags': 64, 'banner': None, 'accent_color': 16448250, 'global_name': 'Winter', 'avatar_decoration_data': None, 'banner_color': '#fafafa'}]}\n",
      "{'id': '1181241386381623397', 'type': 1, 'last_message_id': None, 'flags': 0, 'recipients': [{'id': '1097512807945224202', 'username': 'the_ravennn', 'avatar': '792cd45955a0df4a9a431ce6bb3871eb', 'discriminator': '0', 'public_flags': 0, 'premium_type': 0, 'flags': 0, 'banner': None, 'accent_color': 855571, 'global_name': 'Alijnah Metzger', 'avatar_decoration_data': None, 'banner_color': '#0d0e13'}]}\n",
      "{'id': '1181201839295836180', 'type': 1, 'last_message_id': None, 'flags': 32, 'recipients': [{'id': '362556614886162433', 'username': 'james150505', 'avatar': 'd205dc1683fe6c028191b462cfaf95a9', 'discriminator': '0', 'public_flags': 128, 'premium_type': 0, 'flags': 128, 'banner': None, 'accent_color': 16721960, 'global_name': 'Коля', 'avatar_decoration_data': None, 'banner_color': '#ff2828'}]}\n",
      "{'id': '1181201872598618172', 'type': 1, 'last_message_id': None, 'flags': 32, 'recipients': [{'id': '411916947773587456', 'username': 'Jockie Music', 'avatar': 'dbdfec1a92c466ce59a324a497735a6e', 'discriminator': '8158', 'public_flags': 65536, 'premium_type': 0, 'flags': 65536, 'bot': True, 'banner': None, 'accent_color': None, 'global_name': None, 'avatar_decoration_data': None, 'banner_color': None}]}\n",
      "{'id': '1181194423556649072', 'type': 1, 'last_message_id': '1181198783577600020', 'flags': 0, 'recipients': [{'id': '566599084035801101', 'username': 'zera1210', 'avatar': '11075054c18922ff1c83ccf89dd46103', 'discriminator': '0', 'public_flags': 0, 'premium_type': 0, 'flags': 0, 'banner': None, 'accent_color': None, 'global_name': 'Zera', 'avatar_decoration_data': None, 'banner_color': None}]}\n",
      "{'id': '1181201880165122169', 'type': 1, 'last_message_id': None, 'flags': 32, 'recipients': [{'id': '451352840590458880', 'username': 'karani_borb', 'avatar': '5c402a171d3cbebd9e23096d0eb903f0', 'discriminator': '0', 'public_flags': 0, 'premium_type': 0, 'flags': 0, 'banner': None, 'accent_color': 11782390, 'global_name': 'Karani', 'avatar_decoration_data': None, 'banner_color': '#b3c8f6'}]}\n",
      "{'id': '1181241501846609931', 'type': 1, 'last_message_id': None, 'flags': 0, 'recipients': [{'id': '506132489807593473', 'username': 'l.kanz', 'avatar': '5db7d8d7558833f47a41cff6fef36c3a', 'discriminator': '0', 'public_flags': 64, 'premium_type': 0, 'flags': 64, 'banner': None, 'accent_color': 5636215, 'global_name': 'Asrika', 'avatar_decoration_data': None, 'banner_color': '#560077'}]}\n",
      "{'id': '1181201846040281129', 'type': 1, 'last_message_id': '1181210223097155646', 'flags': 32, 'recipients': [{'id': '631199434465607690', 'username': 'fuwathesleeper', 'avatar': 'e29faf16d7d8d914474efd4d6f613b47', 'discriminator': '0', 'public_flags': 128, 'premium_type': 0, 'flags': 128, 'banner': None, 'accent_color': None, 'global_name': 'Fuwatarism', 'avatar_decoration_data': None, 'banner_color': None}]}\n",
      "{'id': '1181241548579549224', 'type': 1, 'last_message_id': None, 'flags': 0, 'recipients': [{'id': '424586820668358666', 'username': 'bleuden', 'avatar': 'e069c7b09ea770f1c92ad5cf2bc62c1c', 'discriminator': '0', 'public_flags': 256, 'premium_type': 0, 'flags': 256, 'banner': None, 'accent_color': 2588365, 'global_name': 'Bleuden', 'avatar_decoration_data': None, 'banner_color': '#277ecd'}]}\n",
      "{'id': '1181201852600168530', 'type': 1, 'last_message_id': None, 'flags': 32, 'recipients': [{'id': '384330047730745355', 'username': 'evetimiii', 'avatar': 'b5a0261a3469f90fab662d0f041559be', 'discriminator': '0', 'public_flags': 64, 'premium_type': 0, 'flags': 64, 'banner': None, 'accent_color': 8782079, 'global_name': 'Mizuki', 'avatar_decoration_data': None, 'banner_color': '#8600ff'}]}\n",
      "{'id': '1181229439531626516', 'type': 1, 'last_message_id': '1181229452009680946', 'flags': 0, 'recipients': [{'id': '584606572454477836', 'username': 'kiddocatkomiga', 'avatar': '8fc3952ad547df4ec81184a8ec0100e0', 'discriminator': '0', 'public_flags': 0, 'premium_type': 0, 'flags': 0, 'banner': None, 'accent_color': 16757760, 'global_name': 'kiddocat komiga', 'avatar_decoration_data': None, 'banner_color': '#ffb400'}]}\n",
      "{'id': '1179762796594991114', 'type': 1, 'last_message_id': None, 'flags': 0, 'recipients': [{'id': '830530156048285716', 'username': 'Lofi Radio', 'avatar': '7650d0c9ae84e6b11edc43028b90e392', 'discriminator': '1753', 'public_flags': 65536, 'premium_type': 0, 'flags': 65536, 'bot': True, 'banner': None, 'accent_color': None, 'global_name': None, 'avatar_decoration_data': None, 'banner_color': None}]}\n",
      "{'id': '1181197984910815252', 'type': 1, 'last_message_id': None, 'flags': 0, 'recipients': [{'id': '724519324529852438', 'username': 'prune6119', 'avatar': '6f2fb728aaf2fe0fdfcea4fee10838e3', 'discriminator': '0', 'public_flags': 0, 'premium_type': 0, 'flags': 0, 'banner': None, 'accent_color': 3309402, 'global_name': 'Lmao xD', 'avatar_decoration_data': None, 'banner_color': '#327f5a'}]}\n",
      "{'id': '1181198158085226536', 'type': 1, 'last_message_id': None, 'flags': 0, 'recipients': [{'id': '761097001315860503', 'username': 'zeta1201', 'avatar': '54c7b2fc60f047fc771a1ead0b3829e0', 'discriminator': '0', 'public_flags': 0, 'premium_type': 0, 'flags': 0, 'banner': None, 'accent_color': None, 'global_name': 'Zeta', 'avatar_decoration_data': None, 'banner_color': None}]}\n",
      "{'id': '1181198244760531044', 'type': 1, 'last_message_id': None, 'flags': 0, 'recipients': [{'id': '825200733996711958', 'username': 'totallynot_black', 'avatar': '5b37c48469c3e36b365be3e987a80796', 'discriminator': '0', 'public_flags': 0, 'premium_type': 0, 'flags': 0, 'banner': None, 'accent_color': 13948371, 'global_name': 'Black :3', 'avatar_decoration_data': None, 'banner_color': '#d4d5d3'}]}\n",
      "{'id': '1181194139191226459', 'type': 1, 'last_message_id': '1181208388340813854', 'flags': 0, 'recipients': [{'id': '1172436356383899679', 'username': '14teameowmeow', 'avatar': '1c255d38457c7131c37b8563a4725858', 'discriminator': '0', 'public_flags': 0, 'premium_type': 0, 'flags': 0, 'banner': None, 'accent_color': None, 'global_name': '14TEAmeowmeow \\U0001fae3', 'avatar_decoration_data': None, 'banner_color': None}]}\n",
      "{'id': '1181201859583688715', 'type': 1, 'last_message_id': None, 'flags': 32, 'recipients': [{'id': '412347257233604609', 'username': 'Jockie Music (1)', 'avatar': '5e8159b67a74d92153c8cd79cce4889c', 'discriminator': '6951', 'public_flags': 65536, 'premium_type': 0, 'flags': 65536, 'bot': True, 'banner': None, 'accent_color': None, 'global_name': None, 'avatar_decoration_data': None, 'banner_color': None}]}\n",
      "{'id': '819132257901740055', 'type': 1, 'last_message_id': None, 'flags': 0, 'recipients': [{'id': '159985870458322944', 'username': 'MEE6', 'avatar': 'b50adff099924dd5e6b72d13f77eb9d7', 'discriminator': '4876', 'public_flags': 65536, 'premium_type': 0, 'flags': 65536, 'bot': True, 'banner': None, 'accent_color': None, 'global_name': None, 'avatar_decoration_data': None, 'banner_color': None}]}\n",
      "{'id': '1181201832517828608', 'type': 1, 'last_message_id': '1181204940220268604', 'flags': 32, 'recipients': [{'id': '458558960593534977', 'username': 'hzllxh0und_.', 'avatar': '071deb6d0e49386b3810dd3467db8f3f', 'discriminator': '0', 'public_flags': 128, 'premium_type': 2, 'flags': 128, 'banner': 'a_a8e2919fceac89a30e5f192c042705f1', 'accent_color': 0, 'global_name': '🥀Your_beloved.', 'avatar_decoration_data': None, 'banner_color': '#000000'}]}\n",
      "{'id': '859416246444359680', 'type': 1, 'last_message_id': '859426030681718825', 'flags': 0, 'recipients': [{'id': '242730576195354624', 'username': 'Auttaja', 'avatar': 'b54738816eb1cc2361d7ad09f91c2e7b', 'discriminator': '5453', 'public_flags': 65536, 'premium_type': 0, 'flags': 65536, 'bot': True, 'banner': None, 'accent_color': None, 'global_name': None, 'avatar_decoration_data': None, 'banner_color': None}]}\n",
      "{'id': '1181241824606699550', 'type': 1, 'last_message_id': None, 'flags': 0, 'recipients': [{'id': '519004834574368775', 'username': 'waidoru', 'avatar': '85d7ebe856ed0b54aa13801e81be3d71', 'discriminator': '0', 'public_flags': 256, 'premium_type': 2, 'flags': 256, 'banner': 'a_f297ba894a8943ba71184cbfc91148cf', 'accent_color': None, 'global_name': 'Wildly', 'avatar_decoration_data': {'asset': 'a_3c97a2d37f433a7913a1c7b7a735d000', 'sku_id': '1144308439720394944'}, 'banner_color': None}]}\n",
      "{'id': '1181241847973154946', 'type': 1, 'last_message_id': None, 'flags': 0, 'recipients': [{'id': '251274760275623936', 'username': 'lazaara', 'avatar': 'b78e604fe1b584b0b08b08ec7a7b8b95', 'discriminator': '0', 'public_flags': 256, 'premium_type': 0, 'flags': 256, 'banner': None, 'accent_color': 9397374, 'global_name': 'Lazaara', 'avatar_decoration_data': None, 'banner_color': '#8f647e'}]}\n",
      "{'id': '1181201905372893215', 'type': 1, 'last_message_id': None, 'flags': 32, 'recipients': [{'id': '936638253967212544', 'username': 'reikolotus', 'avatar': '9bfd1f47d398fa10fbdfaba13051fd79', 'discriminator': '0', 'public_flags': 0, 'premium_type': 0, 'flags': 0, 'banner': None, 'accent_color': None, 'global_name': 'Okier', 'avatar_decoration_data': None, 'banner_color': None}]}\n",
      "{'id': '1181241894320214067', 'type': 1, 'last_message_id': None, 'flags': 0, 'recipients': [{'id': '375261738100326400', 'username': 'miurayukino', 'avatar': '247c1a2e7cfbc47ae2a2e51340c4080f', 'discriminator': '0', 'public_flags': 64, 'premium_type': 2, 'flags': 64, 'banner': 'a_a7526a279cff575d1eb2abed658c0357', 'accent_color': 65535, 'global_name': 'Yukino', 'avatar_decoration_data': {'asset': 'a_fe3c76cac2adf426832a7e495e8329d3', 'sku_id': '1144046002110738634'}, 'banner_color': '#00ffff'}]}\n",
      "{'id': '1181201911903436891', 'type': 1, 'last_message_id': None, 'flags': 32, 'recipients': [{'id': '374594351759884288', 'username': 'chikoritamoon', 'avatar': 'b51d0b4940eecab6c9fc6bffaecc015d', 'discriminator': '0', 'public_flags': 256, 'premium_type': 2, 'flags': 256, 'banner': None, 'accent_color': None, 'global_name': 'Chikorita Moon', 'avatar_decoration_data': None, 'banner_color': None}]}\n",
      "{'id': '1181194307240218655', 'type': 1, 'last_message_id': '1181229223181033495', 'flags': 0, 'recipients': [{'id': '861489932303990825', 'username': 'memay_b3o', 'avatar': '5f380814de02dc54e4d34dd02dc5808a', 'discriminator': '0', 'public_flags': 0, 'premium_type': 0, 'flags': 0, 'banner': None, 'accent_color': 15857912, 'global_name': 'doris', 'avatar_decoration_data': None, 'banner_color': '#f1f8f8'}]}\n",
      "{'id': '1181201931591487558', 'type': 1, 'last_message_id': '1181204379953541181', 'flags': 32, 'recipients': [{'id': '851692882699747369', 'username': 'little_nom', 'avatar': 'f9ad03dffb02a668aebd60dbd95341a4', 'discriminator': '0', 'public_flags': 256, 'premium_type': 2, 'flags': 256, 'banner': '8ba8dca58c6dd0d742482e20dffd3599', 'accent_color': 16777215, 'global_name': 'Little_Nom', 'avatar_decoration_data': {'asset': 'a_10b9f886b513b77ccdd67c8784f1a496', 'sku_id': '1144059132517826601'}, 'banner_color': '#ffffff'}]}\n",
      "{'id': '1181201938231066676', 'type': 1, 'last_message_id': None, 'flags': 32, 'recipients': [{'id': '818738208464437289', 'username': 'emtylovecow', 'avatar': 'e79b26374379730ec4e688452475cd49', 'discriminator': '0', 'public_flags': 0, 'premium_type': 0, 'flags': 0, 'banner': None, 'accent_color': 52991, 'global_name': 'Draken', 'avatar_decoration_data': None, 'banner_color': '#00ceff'}]}\n",
      "{'id': '1181229399467622452', 'type': 1, 'last_message_id': '1181229683480727602', 'flags': 0, 'recipients': [{'id': '756131679118032940', 'username': 'ohayooo1406', 'avatar': '55a3358a04ac9ec485f288223af9d142', 'discriminator': '0', 'public_flags': 0, 'premium_type': 0, 'flags': 0, 'banner': None, 'accent_color': 5266798, 'global_name': 'Kutaro', 'avatar_decoration_data': None, 'banner_color': '#505d6e'}]}\n",
      "{'id': '1181201918257811518', 'type': 1, 'last_message_id': None, 'flags': 32, 'recipients': [{'id': '587216138807803904', 'username': 'hung_aaa', 'avatar': 'b852e032d2ca2678313a221a29e14145', 'discriminator': '0', 'public_flags': 64, 'premium_type': 0, 'flags': 64, 'banner': None, 'accent_color': 10592416, 'global_name': '2', 'avatar_decoration_data': None, 'banner_color': '#a1a0a0'}]}\n",
      "{'id': '1181201951485083671', 'type': 1, 'last_message_id': '1181204297799712799', 'flags': 32, 'recipients': [{'id': '419742289188093952', 'username': 'unitthk', 'avatar': '4f8f1fcb31a64a21219c8bfdff72b6ea', 'discriminator': '0', 'public_flags': 4194368, 'premium_type': 2, 'flags': 4194368, 'banner': None, 'accent_color': None, 'global_name': 'Unit THK', 'avatar_decoration_data': None, 'banner_color': None}]}\n",
      "{'id': '1181242079121260604', 'type': 1, 'last_message_id': None, 'flags': 0, 'recipients': [{'id': '473490993661083648', 'username': 'kuroto.w.', 'avatar': '8d76a2c97be0373f47c6546551d9e4a6', 'discriminator': '0', 'public_flags': 0, 'premium_type': 0, 'flags': 0, 'banner': None, 'accent_color': 1644812, 'global_name': 'Kuroto', 'avatar_decoration_data': None, 'banner_color': '#19190C'}]}\n",
      "{'id': '1181242102663884861', 'type': 1, 'last_message_id': None, 'flags': 0, 'recipients': [{'id': '1102432410085380277', 'username': 'nightshape2931', 'avatar': '62974a82f2011bfb94e06ba9935da107', 'discriminator': '0', 'public_flags': 256, 'premium_type': 0, 'flags': 256, 'banner': None, 'accent_color': 48895, 'global_name': 'Lighty', 'avatar_decoration_data': None, 'banner_color': '#00beff'}]}\n",
      "{'id': '1181201957998841968', 'type': 1, 'last_message_id': '1181204158301356063', 'flags': 32, 'recipients': [{'id': '741833521173233725', 'username': 'keviltjnz_', 'avatar': '424862f4ac9123be775fee43fd4f2a59', 'discriminator': '0', 'public_flags': 0, 'premium_type': 2, 'flags': 0, 'banner': 'a_384a5ecc478caa3b4548cf489a8ac952', 'accent_color': 11202538, 'global_name': '「KevilTjnz」ヅ', 'avatar_decoration_data': {'asset': 'a_fed43ab12698df65902ba06727e20c0e', 'sku_id': '1144058844004233369'}, 'banner_color': '#aaefea'}]}\n",
      "{'id': '1181201964525174934', 'type': 1, 'last_message_id': None, 'flags': 32, 'recipients': [{'id': '630661589455863869', 'username': 'shirona_yuki', 'avatar': 'f4e37ed5225a9174d2a2ca929e5af663', 'discriminator': '0', 'public_flags': 64, 'premium_type': 0, 'flags': 64, 'banner': None, 'accent_color': 16704911, 'global_name': 'Shirona Yuki', 'avatar_decoration_data': None, 'banner_color': '#fee58f'}]}\n",
      "{'id': '1181194540200239215', 'type': 1, 'last_message_id': None, 'flags': 0, 'recipients': [{'id': '930352138217979974', 'username': 'khương', 'avatar': '521324f317d9e98dd33961634383e0f1', 'discriminator': '0107', 'public_flags': 64, 'premium_type': 0, 'flags': 64, 'banner': None, 'accent_color': 7264986, 'global_name': None, 'avatar_decoration_data': None, 'banner_color': '#6edada'}]}\n",
      "{'id': '1181194492909469708', 'type': 1, 'last_message_id': '1181196671166709790', 'flags': 0, 'recipients': [{'id': '740063493415370823', 'username': 'ligmabui', 'avatar': '8434302f8379c02015591234c156a212', 'discriminator': '0', 'public_flags': 0, 'premium_type': 0, 'flags': 0, 'banner': None, 'accent_color': None, 'global_name': 'Ligma Bùi', 'avatar_decoration_data': None, 'banner_color': None}]}\n",
      "{'id': '1181194563231158354', 'type': 1, 'last_message_id': None, 'flags': 0, 'recipients': [{'id': '1097788253664448582', 'username': 'mewstar', 'avatar': 'e72f3c1ac08e882eea911d0bfa506883', 'discriminator': '0', 'public_flags': 0, 'premium_type': 0, 'flags': 0, 'banner': None, 'accent_color': 13734970, 'global_name': 'Mewstar', 'avatar_decoration_data': None, 'banner_color': '#d1943a'}]}\n",
      "{'id': '1181194586190778399', 'type': 1, 'last_message_id': None, 'flags': 0, 'recipients': [{'id': '997326032212348999', 'username': 'pham1063', 'avatar': '4ed33b5307857756b39815f520d4948c', 'discriminator': '0', 'public_flags': 0, 'premium_type': 0, 'flags': 0, 'banner': None, 'accent_color': 1723263, 'global_name': 'phạm phạm', 'avatar_decoration_data': None, 'banner_color': '#1a4b7f'}]}\n",
      "{'id': '1181242264165568553', 'type': 1, 'last_message_id': None, 'flags': 0, 'recipients': [{'id': '803716426312581191', 'username': 'gnasche_0', 'avatar': 'ad2e7d4c436e1d48379eb3fe85ae0ebf', 'discriminator': '0', 'public_flags': 128, 'premium_type': 2, 'flags': 128, 'banner': 'e1199ddf9ceba94cb5f2df4e5bf9d21d', 'accent_color': None, 'global_name': 'Lilith', 'avatar_decoration_data': None, 'banner_color': None}]}\n",
      "{'id': '1181195272978710528', 'type': 1, 'last_message_id': None, 'flags': 0, 'recipients': [{'id': '1031523260124385360', 'username': 'kento4869', 'avatar': 'b0a5e8f4f3b8fcc173c5c73bc07ebb3d', 'discriminator': '0', 'public_flags': 64, 'premium_type': 0, 'flags': 64, 'banner': None, 'accent_color': 65360, 'global_name': 'kento', 'avatar_decoration_data': None, 'banner_color': '#00ff50'}]}\n",
      "{'id': '1181195186714452008', 'type': 1, 'last_message_id': '1181221148759965696', 'flags': 0, 'recipients': [{'id': '884067168440975441', 'username': 'hexor5855', 'avatar': 'bb06c598b1b25aa9b66ea14d6a9ef396', 'discriminator': '0', 'public_flags': 0, 'premium_type': 0, 'flags': 0, 'banner': None, 'accent_color': 5890551, 'global_name': 'kairo', 'avatar_decoration_data': None, 'banner_color': '#59E1F7'}]}\n"
     ]
    }
   ],
   "source": [
    "for id in tqdm(to_create_threads[:]):\n",
    "    try:\n",
    "        r = await create_DM_thread(id, DAIMON_TOKE)\n",
    "        print(r.json())\n",
    "        await asyncio.sleep(5)\n",
    "    except Exception as e:\n",
    "        print(e)\n",
    "        await asyncio.sleep(5)"
   ]
  },
  {
   "cell_type": "markdown",
   "metadata": {},
   "source": [
    "### Actually sending"
   ]
  },
  {
   "cell_type": "code",
   "execution_count": 57,
   "metadata": {},
   "outputs": [
    {
     "data": {
      "application/vnd.jupyter.widget-view+json": {
       "model_id": "5b1ef86384574ed0873f76017d90fcd1",
       "version_major": 2,
       "version_minor": 0
      },
      "text/plain": [
       "  0%|          | 0/20 [00:00<?, ?it/s]"
      ]
     },
     "metadata": {},
     "output_type": "display_data"
    }
   ],
   "source": [
    "with open(\"../../Input/wil-callout.txt\", encoding=\"utf-8\") as f:\n",
    "    content = f.read()\n",
    "for id in tqdm(dm_able_ids[59:]):\n",
    "    u = client.get_user(id)\n",
    "    await retry_if_fail(u.send(content), 3, delay_between=2)"
   ]
  },
  {
   "cell_type": "code",
   "execution_count": 60,
   "metadata": {},
   "outputs": [
    {
     "data": {
      "application/vnd.jupyter.widget-view+json": {
       "model_id": "94e0257ffe634cf3ac3580dbb47579fd",
       "version_major": 2,
       "version_minor": 0
      },
      "text/plain": [
       "  0%|          | 0/202 [00:00<?, ?it/s]"
      ]
     },
     "metadata": {},
     "output_type": "display_data"
    },
    {
     "name": "stdout",
     "output_type": "stream",
     "text": [
      "403 Forbidden (error code: 50013): Missing Permissions\n",
      "cannot reuse already awaited coroutine\n",
      "cannot reuse already awaited coroutine\n"
     ]
    },
    {
     "ename": "CancelledError",
     "evalue": "",
     "output_type": "error",
     "traceback": [
      "\u001b[1;31m---------------------------------------------------------------------------\u001b[0m",
      "\u001b[1;31mRuntimeError\u001b[0m                              Traceback (most recent call last)",
      "\u001b[1;32mc:\\Users\\hoang\\OneDrive\\Documents\\KO GIAN LÀM VIỆC\\JupyterNotebooks\\code\\discordpy\\[discord.py] campaign.ipynb Cell 34\u001b[0m line \u001b[0;36m4\n\u001b[0;32m      <a href='vscode-notebook-cell:/c%3A/Users/hoang/OneDrive/Documents/KO%20GIAN%20L%C3%80M%20VI%E1%BB%86C/JupyterNotebooks/code/discordpy/%5Bdiscord.py%5D%20campaign.ipynb#X45sZmlsZQ%3D%3D?line=2'>3</a>\u001b[0m \u001b[39mtry\u001b[39;00m:\n\u001b[1;32m----> <a href='vscode-notebook-cell:/c%3A/Users/hoang/OneDrive/Documents/KO%20GIAN%20L%C3%80M%20VI%E1%BB%86C/JupyterNotebooks/code/discordpy/%5Bdiscord.py%5D%20campaign.ipynb#X45sZmlsZQ%3D%3D?line=3'>4</a>\u001b[0m     \u001b[39mawait\u001b[39;00m coro\n\u001b[0;32m      <a href='vscode-notebook-cell:/c%3A/Users/hoang/OneDrive/Documents/KO%20GIAN%20L%C3%80M%20VI%E1%BB%86C/JupyterNotebooks/code/discordpy/%5Bdiscord.py%5D%20campaign.ipynb#X45sZmlsZQ%3D%3D?line=4'>5</a>\u001b[0m     \u001b[39mbreak\u001b[39;00m\n",
      "\u001b[1;31mRuntimeError\u001b[0m: cannot reuse already awaited coroutine",
      "\nDuring handling of the above exception, another exception occurred:\n",
      "\u001b[1;31mCancelledError\u001b[0m                            Traceback (most recent call last)",
      "\u001b[1;32mc:\\Users\\hoang\\OneDrive\\Documents\\KO GIAN LÀM VIỆC\\JupyterNotebooks\\code\\discordpy\\[discord.py] campaign.ipynb Cell 34\u001b[0m line \u001b[0;36m1\n\u001b[0;32m     <a href='vscode-notebook-cell:/c%3A/Users/hoang/OneDrive/Documents/KO%20GIAN%20L%C3%80M%20VI%E1%BB%86C/JupyterNotebooks/code/discordpy/%5Bdiscord.py%5D%20campaign.ipynb#X45sZmlsZQ%3D%3D?line=10'>11</a>\u001b[0m prepend_ids \u001b[39m=\u001b[39m \u001b[39m\"\u001b[39m\u001b[39m\"\u001b[39m\u001b[39m.\u001b[39mjoin([\u001b[39mf\u001b[39m\u001b[39m\"\u001b[39m\u001b[39m<@\u001b[39m\u001b[39m{\u001b[39;00m\u001b[39mid\u001b[39m\u001b[39m}\u001b[39;00m\u001b[39m>\u001b[39m\u001b[39m\"\u001b[39m \u001b[39mfor\u001b[39;00m \u001b[39mid\u001b[39m \u001b[39min\u001b[39;00m id_ls])\n\u001b[0;32m     <a href='vscode-notebook-cell:/c%3A/Users/hoang/OneDrive/Documents/KO%20GIAN%20L%C3%80M%20VI%E1%BB%86C/JupyterNotebooks/code/discordpy/%5Bdiscord.py%5D%20campaign.ipynb#X45sZmlsZQ%3D%3D?line=11'>12</a>\u001b[0m to_send \u001b[39m=\u001b[39m \u001b[39mf\u001b[39m\u001b[39m\"\u001b[39m\u001b[39m{\u001b[39;00mprepend_ids\u001b[39m}\u001b[39;00m\u001b[39m \u001b[39m\u001b[39m{\u001b[39;00mcontent\u001b[39m}\u001b[39;00m\u001b[39m\"\u001b[39m\n\u001b[1;32m---> <a href='vscode-notebook-cell:/c%3A/Users/hoang/OneDrive/Documents/KO%20GIAN%20L%C3%80M%20VI%E1%BB%86C/JupyterNotebooks/code/discordpy/%5Bdiscord.py%5D%20campaign.ipynb#X45sZmlsZQ%3D%3D?line=12'>13</a>\u001b[0m \u001b[39mawait\u001b[39;00m retry_if_fail(chnl\u001b[39m.\u001b[39msend(to_send), \u001b[39m3\u001b[39m)\n\u001b[0;32m     <a href='vscode-notebook-cell:/c%3A/Users/hoang/OneDrive/Documents/KO%20GIAN%20L%C3%80M%20VI%E1%BB%86C/JupyterNotebooks/code/discordpy/%5Bdiscord.py%5D%20campaign.ipynb#X45sZmlsZQ%3D%3D?line=13'>14</a>\u001b[0m \u001b[39mawait\u001b[39;00m asyncio\u001b[39m.\u001b[39msleep(\u001b[39m1\u001b[39m)\n\u001b[0;32m     <a href='vscode-notebook-cell:/c%3A/Users/hoang/OneDrive/Documents/KO%20GIAN%20L%C3%80M%20VI%E1%BB%86C/JupyterNotebooks/code/discordpy/%5Bdiscord.py%5D%20campaign.ipynb#X45sZmlsZQ%3D%3D?line=14'>15</a>\u001b[0m id_ls \u001b[39m=\u001b[39m []\n",
      "\u001b[1;32mc:\\Users\\hoang\\OneDrive\\Documents\\KO GIAN LÀM VIỆC\\JupyterNotebooks\\code\\discordpy\\[discord.py] campaign.ipynb Cell 34\u001b[0m line \u001b[0;36m8\n\u001b[0;32m      <a href='vscode-notebook-cell:/c%3A/Users/hoang/OneDrive/Documents/KO%20GIAN%20L%C3%80M%20VI%E1%BB%86C/JupyterNotebooks/code/discordpy/%5Bdiscord.py%5D%20campaign.ipynb#X45sZmlsZQ%3D%3D?line=5'>6</a>\u001b[0m \u001b[39mexcept\u001b[39;00m \u001b[39mException\u001b[39;00m \u001b[39mas\u001b[39;00m e:\n\u001b[0;32m      <a href='vscode-notebook-cell:/c%3A/Users/hoang/OneDrive/Documents/KO%20GIAN%20L%C3%80M%20VI%E1%BB%86C/JupyterNotebooks/code/discordpy/%5Bdiscord.py%5D%20campaign.ipynb#X45sZmlsZQ%3D%3D?line=6'>7</a>\u001b[0m     \u001b[39mprint\u001b[39m(e)\n\u001b[1;32m----> <a href='vscode-notebook-cell:/c%3A/Users/hoang/OneDrive/Documents/KO%20GIAN%20L%C3%80M%20VI%E1%BB%86C/JupyterNotebooks/code/discordpy/%5Bdiscord.py%5D%20campaign.ipynb#X45sZmlsZQ%3D%3D?line=7'>8</a>\u001b[0m     \u001b[39mawait\u001b[39;00m asyncio\u001b[39m.\u001b[39msleep(delay_between)\n",
      "File \u001b[1;32mC:\\Program Files\\WindowsApps\\PythonSoftwareFoundation.Python.3.10_3.10.3056.0_x64__qbz5n2kfra8p0\\lib\\asyncio\\tasks.py:605\u001b[0m, in \u001b[0;36msleep\u001b[1;34m(delay, result)\u001b[0m\n\u001b[0;32m    601\u001b[0m h \u001b[39m=\u001b[39m loop\u001b[39m.\u001b[39mcall_later(delay,\n\u001b[0;32m    602\u001b[0m                     futures\u001b[39m.\u001b[39m_set_result_unless_cancelled,\n\u001b[0;32m    603\u001b[0m                     future, result)\n\u001b[0;32m    604\u001b[0m \u001b[39mtry\u001b[39;00m:\n\u001b[1;32m--> 605\u001b[0m     \u001b[39mreturn\u001b[39;00m \u001b[39mawait\u001b[39;00m future\n\u001b[0;32m    606\u001b[0m \u001b[39mfinally\u001b[39;00m:\n\u001b[0;32m    607\u001b[0m     h\u001b[39m.\u001b[39mcancel()\n",
      "\u001b[1;31mCancelledError\u001b[0m: "
     ]
    }
   ],
   "source": [
    "with open(\"../../Input/propag.txt\", encoding=\"utf-8\") as f:\n",
    "    content = f.read()\n",
    "chnl = client.get_channel(lesser_visible_channel)\n",
    "# chnl = client.get_channel(1179340427267153930)\n",
    "id_ls = []\n",
    "for id in tqdm(\n",
    "    list(set(found_ids) - set(dm_able_ids) - set(unsafe_ppl_ids) - set(other_acc_ids))\n",
    "):\n",
    "    id_ls.append(id)\n",
    "    if id_ls.__len__() >= 5:\n",
    "        prepend_ids = \"\".join([f\"<@{id}>\" for id in id_ls])\n",
    "        to_send = f\"{prepend_ids} {content}\"\n",
    "        await retry_if_fail(chnl.send(to_send), 3)\n",
    "        await asyncio.sleep(1)\n",
    "        id_ls = []\n",
    "# last msg\n",
    "prepend_ids = \"\".join([f\"<@{id}>\" for id in id_ls])\n",
    "to_send = f\"{prepend_ids} {content}\"\n",
    "await retry_if_fail(chnl.send(to_send), 5)"
   ]
  },
  {
   "cell_type": "code",
   "execution_count": null,
   "metadata": {},
   "outputs": [],
   "source": []
  },
  {
   "attachments": {},
   "cell_type": "markdown",
   "metadata": {},
   "source": [
    "# Log out"
   ]
  },
  {
   "cell_type": "code",
   "execution_count": 9,
   "metadata": {},
   "outputs": [],
   "source": [
    "await client.close()"
   ]
  },
  {
   "cell_type": "code",
   "execution_count": null,
   "metadata": {},
   "outputs": [],
   "source": []
  }
 ],
 "metadata": {
  "kernelspec": {
   "display_name": "forjupyterlab",
   "language": "python",
   "name": "python3"
  },
  "language_info": {
   "codemirror_mode": {
    "name": "ipython",
    "version": 3
   },
   "file_extension": ".py",
   "mimetype": "text/x-python",
   "name": "python",
   "nbconvert_exporter": "python",
   "pygments_lexer": "ipython3",
   "version": "3.10.11"
  },
  "orig_nbformat": 4,
  "vscode": {
   "interpreter": {
    "hash": "227d98b175408dc11aa1b5ea9dc048f1ae7dec76a87105d49fde2f8f0f8bd018"
   }
  }
 },
 "nbformat": 4,
 "nbformat_minor": 2
}
