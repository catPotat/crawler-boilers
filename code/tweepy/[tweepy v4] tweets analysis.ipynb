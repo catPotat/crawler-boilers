{
 "cells": [
  {
   "cell_type": "code",
   "execution_count": 5,
   "metadata": {},
   "outputs": [],
   "source": [
    "import tweepy\n",
    "from tqdm.auto import tqdm\n",
    "from IPython.display import display, HTML\n",
    "import re\n",
    "import math\n",
    "import requests\n",
    "import os\n",
    "\n",
    "\n",
    "def get_and_sortdesc(sort_criteria, get_f, id, total=None, **kwargs):\n",
    "    sorted_ls = []\n",
    "    for obj in tqdm(\n",
    "        tweepy.Paginator(get_f, id, user_auth=True, **kwargs).flatten(), total=total\n",
    "    ):\n",
    "        insert_ind = 0\n",
    "        for ind, sorted_obj in enumerate(sorted_ls):\n",
    "            if sort_criteria(obj) >= sort_criteria(sorted_obj):\n",
    "                insert_ind = ind\n",
    "                break\n",
    "        sorted_ls.insert(insert_ind, obj)\n",
    "    return sorted_ls"
   ]
  },
  {
   "attachments": {},
   "cell_type": "markdown",
   "metadata": {},
   "source": [
    "### tweepy client\n",
    "\n",
    "tweepy v4\n",
    "https://docs.tweepy.org/en/stable/client.html"
   ]
  },
  {
   "cell_type": "code",
   "execution_count": 3,
   "metadata": {},
   "outputs": [
    {
     "data": {
      "text/html": [
       "<img src=https://pbs.twimg.com/profile_images/1373553692754862082/5kA93Njm_normal.png>ReeebotTT"
      ],
      "text/plain": [
       "<IPython.core.display.HTML object>"
      ]
     },
     "metadata": {},
     "output_type": "display_data"
    }
   ],
   "source": [
    "API_KEY = os.getenv(\"TWITTER_BOT_KEY\")\n",
    "API_SECRET_KEY = os.getenv(\"TWITTER_BOT_SECRET_KEY\")\n",
    "\n",
    "ACCESS_TOKEN = os.getenv(\"reebott_ACCESS_TOKEN\")\n",
    "ACCESS_TOKEN_SECRET = os.getenv(\"reebott_ACCESS_TOKEN_SECRET\")\n",
    "\n",
    "\n",
    "client = tweepy.Client(\n",
    "    consumer_key=API_KEY,\n",
    "    consumer_secret=API_SECRET_KEY,\n",
    "    access_token=ACCESS_TOKEN,\n",
    "    access_token_secret=ACCESS_TOKEN_SECRET,\n",
    "    wait_on_rate_limit=True,\n",
    ")\n",
    "me = client.get_me(user_fields=[\"profile_image_url\"]).data\n",
    "display(HTML(f\"\"\"<img src={me.profile_image_url}>{me}\"\"\"))"
   ]
  },
  {
   "cell_type": "code",
   "execution_count": 4,
   "metadata": {},
   "outputs": [
    {
     "data": {
      "text/html": [
       "<!--img src=https://pbs.twimg.com/profile_images/1297300105532301313/ljmAgTFm_normal.jpg-->\n",
       "✨ Likes pokemon, kemono ✨ 16+ content beware ✨ 20s ✨ Viet/Eng OK ✨ Pfp: @verfyhi<br>\n",
       "{'followers_count': 2249, 'following_count': 164, 'tweet_count': 562, 'listed_count': 11}"
      ],
      "text/plain": [
       "<IPython.core.display.HTML object>"
      ]
     },
     "metadata": {},
     "output_type": "display_data"
    }
   ],
   "source": [
    "target = client.get_user(\n",
    "    username=\"umbrecore\",\n",
    "    user_fields=[\"public_metrics\", \"description\", \"profile_image_url\"],\n",
    "    user_auth=True,\n",
    ").data\n",
    "display(\n",
    "    HTML(\n",
    "        f\"\"\"<!--img src={target.profile_image_url}-->\n",
    "{target.description}<br>\n",
    "{target.public_metrics}\"\"\"\n",
    "    )\n",
    ")"
   ]
  },
  {
   "attachments": {},
   "cell_type": "markdown",
   "metadata": {},
   "source": [
    "**Parameters**\n",
    "\n",
    "`max_results`: results per page\n",
    "- `.get_users_followers()`: 1 <= `max_results` <= 1000\n",
    "- `.get_users_tweets()`: 1 <= `max_results` <= 100\n",
    "\n",
    "`limit`: max number of pages"
   ]
  },
  {
   "attachments": {},
   "cell_type": "markdown",
   "metadata": {},
   "source": [
    "### Followers insight using `.get_users_followers()`"
   ]
  },
  {
   "attachments": {},
   "cell_type": "markdown",
   "metadata": {},
   "source": [
    "#### Get"
   ]
  },
  {
   "cell_type": "code",
   "execution_count": 6,
   "metadata": {},
   "outputs": [
    {
     "data": {
      "application/vnd.jupyter.widget-view+json": {
       "model_id": "910d3f8151934340a103b1766ffa85c9",
       "version_major": 2,
       "version_minor": 0
      },
      "text/plain": [
       "  0%|          | 0/2249 [00:00<?, ?it/s]"
      ]
     },
     "metadata": {},
     "output_type": "display_data"
    }
   ],
   "source": [
    "mr = 1000\n",
    "sorted_flwrs = get_and_sortdesc(\n",
    "    lambda user: user.public_metrics[\"followers_count\"],\n",
    "    client.get_users_followers,\n",
    "    target.id,\n",
    "    total=target.public_metrics[\"followers_count\"],\n",
    "    max_results=mr,\n",
    "    limit=target.public_metrics[\"followers_count\"] // mr + 1,\n",
    "    user_fields=[\"public_metrics\", \"profile_image_url\"],\n",
    ")"
   ]
  },
  {
   "cell_type": "code",
   "execution_count": 18,
   "metadata": {},
   "outputs": [
    {
     "name": "stdout",
     "output_type": "stream",
     "text": [
      "@Sky_Cloud69\t\t3101\t☁️\n",
      "@dacoool\t\t1852\tDac\n",
      "@auralabsart\t\t548\tKuro (Commissions: Open)\n",
      "@SylveonUmb\t\t307\tUmbreon&Sylveon Pokeganda\n",
      "@pokegirl_s\t\t191\tHental\n",
      "@TheTibbtTile\t\t62\ttwibbter\n",
      "@wheeled_tank\t\t54\tUnderpable\n",
      "@AquamarineRose_\t\t48\tAquamarineRose (Formerly CataruMoore)\n",
      "@Masuda_heart\t\t47\tGravy\n",
      "@nyuwech\t\t35\tNyuwech 🔜🇬🇧\n",
      "@HisuiBunny\t\t34\tProxyRabbit\n",
      "@HydratheLucario\t\t32\tHydra\n",
      "@Spooky4221\t\t30\tStarFlight\n",
      "@galaxyflareon1\t\t28\tgalaxy eeveelutions\n",
      "@FireballKitsuAD\t\t23\t✧Fireball✧Kitsune✧AD\n",
      "@WinterfoxArt\t\t22\tRen\n",
      "@lewdingPanda\t\t19\tA Rather Lewd Panda\n",
      "@Purple_Sylveon\t\t19\tPurple_Sylveon\n",
      "@RedWotter\t\t18\tRotted\n",
      "@AstralSparx\t\t17\tSparx\n",
      "@teachii6\t\t17\ttea\n",
      "@Roman_god24\t\t17\tlittleRoman Studios\n",
      "@XReassure\t\t16\tReassure\n",
      "@VariElFurro\t\t16\tVari El Furro\n",
      "@liberators_fate\t\t14\tLance, o Riolu\n",
      "@TailsCuteVN\t\t14\tToul The Fox (Opening)\n",
      "@YANTAB3\t\t14\tYAN TAB\n",
      "@ExKeldeo\t\t13\tLífNeon\n",
      "@Lil_Kira_flower\t\t13\tLil' Kira\n",
      "@BlindingWulf\t\t13\tBlinding Wulf\n",
      "@Zveltal\t\t12\tZveL\n",
      "@2021Sobble\t\t11\tSobble gamer 2021\n",
      "@pokerpokedd\t\t10\tPoker / looking for art moots!!\n",
      "@EeveeTheBB\t\t10\tEevee~\n",
      "@Senadistik\t\t9\tSenad\n",
      "@Starxfait\t\t8\tStarfait\n",
      "@CattaToaster\t\t7\tJust Kitty\n",
      "@GenericVaporeon\t\t7\tSuperGeneric\n",
      "@_leafu_\t\t6\tLeafu\n",
      "@Catto_Toaster\t\t6\tKatto\n",
      "@EmaFandubs\t\t6\tEma_Vzkz\n",
      "@snowy_the_eevee\t\t6\tsnowy the eevee\n",
      "@SGuy1235\t\t5\tCarney Winston\n",
      "@stuuupo\t\t5\teye_runny\n",
      "@PazzTheMudkip\t\t5\tPazz\n",
      "@CoolMeg365\t\t5\tX Qq\n",
      "@notkiniro\t\t4\tKiniro\n",
      "@owl_poppy\t\t4\tPoppyOwl\n",
      "@hjwiana\t\t3\th.jwiana\n",
      "@Alouis2005\t\t3\tAlvarado\n",
      "@LZDigital1\t\t3\tLZ Digital\n",
      "@TopLoox\t\t3\tTopLoox\n",
      "@________l000000\t\t3\t?\n",
      "@doidinhoDoSt\t\t3\tlowol\n",
      "@micha17288235\t\t2\tTokar_tako\n",
      "@MaOwO7\t\t2\tMía OwO\n",
      "@Greninjaelloqu1\t\t2\tGreninja el loquendero\n",
      "@PetsoReko\t\t2\tpetso reko\n",
      "@Greenfi61415885\t\t2\tGreenfield\n",
      "@Destroy7274\t\t2\tRobelto Figueroa\n",
      "@AlexanderKraz\t\t2\tF\n",
      "@NatiTanuki\t\t2\tNatiTheTanuki2\n",
      "@BellorinEudis\t\t2\tEudis Bellorin\n",
      "@ZeiCharles\t\t2\tZei Umbreon\n",
      "@Obitosek\t\t2\tArthur Morgaan\n",
      "@Foofypoff\t\t2\tFoofy\n",
      "@FpToastman\t\t2\tToastmanFP\n",
      "@GCrossBunny\t\t1\tKai\n",
      "@jakeboywolf\t\t1\tjakeboywolf\n",
      "@Liciph\t\t1\tLiciph\n",
      "@katieThekitttyy\t\t1\tKaino🔞\n",
      "@StinkySnow\t\t1\tStinkySnow\n",
      "@aviatoristaken\t\t1\treally cool vulpix\n",
      "@F7rtgEOI8fOhtds\t\t1\tお稲荷\n",
      "@Glaceon12\t\t1\tGlaceon\n",
      "@PepePep87801678\t\t1\tPepe Pepe\n",
      "@dragon_yum\t\t1\tBubble Dragon Yum\n",
      "@TakNad0\t\t1\tДаша разрушительница\n",
      "@agoora_ad\t\t1\tagoora _ad\n",
      "@Pan_tostadl\t\t1\tPan_tostado\n",
      "@ntttzdfl\t\t1\tCF XD\n",
      "@BullseyeKerby\t\t1\tWillham\n",
      "@EuJoltPibardo\t\t1\tEuJoltPibardo\n",
      "@Lyon_Xylon\t\t1\tLyon Xylon\n",
      "@JolteonLexxi\t\t0\tlexxi•_•jolteon\n",
      "@sfw_niro\t\t0\tNiro_Sfw\n",
      "@butterspreader1\t\t0\tbutterspreader\n",
      "@JavierA12658213\t\t0\tJavier Alexander\n",
      "@KitFoxglove\t\t0\tKit Foxglove\n",
      "@ineedsleep174\t\t0\tineedsleep\n",
      "@LESLIEROMANO12\t\t0\tLESLIE ROMANO\n",
      "@uigsigf\t\t0\tシャニン\n",
      "@73bfucbr83b7\t\t0\tbuhbuhbuh\n",
      "@Zippy351335911\t\t0\tZippy\n",
      "@phoenixsky212\t\t0\tPhoenix Sky\n",
      "@JustSomePokeFan\t\t0\tJustSomePokeFan\n",
      "@polos_alt\t\t0\tpolo\n",
      "@fluttershy9875\t\t0\tFluttershy9875\n",
      "@uwu_0410\t\t0\tuwu\n",
      "@kiriiin25\t\t0\tKiriiiin🔞🏳️‍🌈\n",
      "@Umbreonkami\t\t0\tOkami kim Domingos\n"
     ]
    }
   ],
   "source": [
    "def user_filterer(user):\n",
    "    if user.public_metrics[\"following_count\"] < 100:\n",
    "        return True\n",
    "    if \"___\" in user.name:\n",
    "        return True\n",
    "\n",
    "\n",
    "for user in filter(user_filterer, sorted_flwrs):\n",
    "    print(f\"@{user.username}\\t\\t{user.public_metrics['followers_count']}\\t{user.name}\")"
   ]
  },
  {
   "attachments": {},
   "cell_type": "markdown",
   "metadata": {},
   "source": [
    "#### Output to file"
   ]
  },
  {
   "cell_type": "code",
   "execution_count": 10,
   "metadata": {},
   "outputs": [],
   "source": [
    "html_ = f\"<h2>{target.name}'s top 100 followers by popularity</h2>\"\n",
    "for i, user in enumerate(sorted_flwrs, 1):\n",
    "    flwrs_cnt = user.public_metrics[\"followers_count\"]\n",
    "    if i > 100:\n",
    "        break\n",
    "    bold = flwrs_cnt > 100000\n",
    "    html_ += f\"\"\"\n",
    "        <div {'style=\"color:red;\"' if bold else ''}>\n",
    "            <b>{i}.</b><br>\n",
    "            <a href='https://twitter.com/{user.username}'>\n",
    "                <img src={user.profile_image_url}><br>\n",
    "                {user.name} (@{user.username})\n",
    "            </a>\n",
    "            <div>\n",
    "                {flwrs_cnt} followers<br>\n",
    "                {user.public_metrics['following_count']} followings\n",
    "            </div>\n",
    "        </div>\n",
    "\"\"\"\n",
    "# display(HTML(html_))\n",
    "with open(f\"../../Output/{target.username}_followers.html\", \"w\", encoding=\"utf-8\") as f:\n",
    "    f.write(html_)"
   ]
  },
  {
   "attachments": {},
   "cell_type": "markdown",
   "metadata": {},
   "source": [
    "### Analiyze"
   ]
  },
  {
   "cell_type": "code",
   "execution_count": null,
   "metadata": {},
   "outputs": [],
   "source": [
    "sorted_flwgs = get_and_sortdesc(\n",
    "    lambda user: user.public_metrics[\"followers_count\"],\n",
    "    client.get_users_following,\n",
    "    target.id,\n",
    "    max_results=1000,\n",
    "    user_fields=[\"public_metrics\", \"profile_image_url\"],\n",
    ")"
   ]
  },
  {
   "attachments": {},
   "cell_type": "markdown",
   "metadata": {},
   "source": [
    "##### Mutuals"
   ]
  },
  {
   "cell_type": "code",
   "execution_count": null,
   "metadata": {},
   "outputs": [],
   "source": [
    "sorted_mutuals = [u for u in sorted_flwrs if u in sorted_flwgs]\n",
    "print(sorted_mutuals.__len__())"
   ]
  },
  {
   "attachments": {},
   "cell_type": "markdown",
   "metadata": {},
   "source": [
    "##### Haters"
   ]
  },
  {
   "cell_type": "code",
   "execution_count": null,
   "metadata": {},
   "outputs": [],
   "source": [
    "sorted_likers = get_and_sortdesc(\n",
    "    lambda user: user.public_metrics['followers_count'],\n",
    "    client.get_liking_users,\n",
    "    1541858974756065280,\n",
    "    user_fields=['public_metrics', 'profile_image_url']\n",
    ")"
   ]
  },
  {
   "cell_type": "code",
   "execution_count": null,
   "metadata": {},
   "outputs": [],
   "source": [
    "sorted_likers[:10]"
   ]
  },
  {
   "cell_type": "code",
   "execution_count": null,
   "metadata": {},
   "outputs": [],
   "source": [
    "haters = [u for u in sorted_flwrs if u not in sorted_likers]\n",
    "haters[:50]"
   ]
  },
  {
   "attachments": {},
   "cell_type": "markdown",
   "metadata": {},
   "source": [
    "### Tweets insight using `.get_users_tweets()`"
   ]
  },
  {
   "attachments": {},
   "cell_type": "markdown",
   "metadata": {},
   "source": [
    "#### Get"
   ]
  },
  {
   "cell_type": "code",
   "execution_count": null,
   "metadata": {},
   "outputs": [],
   "source": [
    "mr = 100\n",
    "lim = target['public_metrics']['tweet_count'] // mr + 1\n",
    "# lim = 1\n",
    "tweet_list = [tweet for tweet in tqdm(tweepy.Paginator(\n",
    "    client.get_users_tweets,\n",
    "    # client.get_liked_tweets,\n",
    "    target['id'], tweet_fields=['in_reply_to_user_id'], max_results=mr, limit=lim, user_auth=True\n",
    ").flatten())]"
   ]
  },
  {
   "attachments": {},
   "cell_type": "markdown",
   "metadata": {},
   "source": [
    "#### Get one"
   ]
  },
  {
   "cell_type": "code",
   "execution_count": null,
   "metadata": {},
   "outputs": [],
   "source": [
    "tweet_list[0]"
   ]
  },
  {
   "cell_type": "code",
   "execution_count": null,
   "metadata": {},
   "outputs": [],
   "source": [
    "res = requests.get('https://cdn.syndication.twimg.com/tweet?id=1581735723992256513').json()\n",
    "res"
   ]
  },
  {
   "cell_type": "code",
   "execution_count": null,
   "metadata": {},
   "outputs": [],
   "source": [
    "display(HTML(f'<video src=\"{res[\"video\"][\"variants\"][0][\"src\"]}\">'))"
   ]
  },
  {
   "attachments": {},
   "cell_type": "markdown",
   "metadata": {},
   "source": [
    "#### Filter"
   ]
  },
  {
   "cell_type": "code",
   "execution_count": null,
   "metadata": {},
   "outputs": [],
   "source": [
    "def filterer(tweet):\n",
    "    txt = tweet.text.lower()\n",
    "    # if \"http\" in txt:\n",
    "    #     return False\n",
    "    if \"rt @\" in txt:\n",
    "        return False\n",
    "    # if \"ai \" not in txt:\n",
    "    #     return False\n",
    "    # if tweet.in_reply_to_user_id is not None:\n",
    "    #     return True\n",
    "    return True\n",
    "\n",
    "\n",
    "for tweet in filter(filterer, tweet_list):\n",
    "    print(tweet.id, tweet.text)\n"
   ]
  },
  {
   "cell_type": "code",
   "execution_count": null,
   "metadata": {},
   "outputs": [],
   "source": [
    "client.delete_tweet(1520825930129633280)"
   ]
  },
  {
   "attachments": {},
   "cell_type": "markdown",
   "metadata": {},
   "source": [
    "#### Analyze"
   ]
  },
  {
   "cell_type": "code",
   "execution_count": null,
   "metadata": {},
   "outputs": [],
   "source": [
    "user_dict = {}\n",
    "for tweet in tqdm(tweet_list):\n",
    "    text = tweet.text\n",
    "    text = text.split()\n",
    "    text = ' '.join([word for word in text if not word.startswith('@')])\n",
    "    # remove punctuation\n",
    "    text = re.sub(r'[^\\w\\s]', '', text)\n",
    "    words = text.split()\n",
    "    for word in words:\n",
    "        if word in user_dict:\n",
    "            user_dict[word] += 1\n",
    "        else:\n",
    "            user_dict[word] = 1"
   ]
  },
  {
   "cell_type": "code",
   "execution_count": null,
   "metadata": {},
   "outputs": [],
   "source": [
    "# sort dictionary by value\n",
    "sorted_dictionary = sorted(user_dict.items(), key=lambda kv: kv[1], reverse=True)\n",
    "sorted_dictionary"
   ]
  },
  {
   "cell_type": "code",
   "execution_count": null,
   "metadata": {},
   "outputs": [],
   "source": []
  }
 ],
 "metadata": {
  "kernelspec": {
   "display_name": "forjupyterlab",
   "language": "python",
   "name": "python3"
  },
  "language_info": {
   "codemirror_mode": {
    "name": "ipython",
    "version": 3
   },
   "file_extension": ".py",
   "mimetype": "text/x-python",
   "name": "python",
   "nbconvert_exporter": "python",
   "pygments_lexer": "ipython3",
   "version": "3.10.11"
  },
  "metadata": {
   "interpreter": {
    "hash": "554e2132b4c975e86b6827bf2d79548e73b3be1db56871b588250d764e07a1e3"
   }
  },
  "orig_nbformat": 2,
  "vscode": {
   "interpreter": {
    "hash": "227d98b175408dc11aa1b5ea9dc048f1ae7dec76a87105d49fde2f8f0f8bd018"
   }
  }
 },
 "nbformat": 4,
 "nbformat_minor": 2
}
