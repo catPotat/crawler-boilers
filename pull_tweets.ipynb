{
 "metadata": {
  "language_info": {
   "codemirror_mode": {
    "name": "ipython",
    "version": 3
   },
   "file_extension": ".py",
   "mimetype": "text/x-python",
   "name": "python",
   "nbconvert_exporter": "python",
   "pygments_lexer": "ipython3",
   "version": "3.8.6-final"
  },
  "orig_nbformat": 2,
  "kernelspec": {
   "name": "python3",
   "display_name": "Python 3",
   "language": "python"
  }
 },
 "nbformat": 4,
 "nbformat_minor": 2,
 "cells": [
  {
   "source": [
    "# 🏁 Initialize"
   ],
   "cell_type": "markdown",
   "metadata": {}
  },
  {
   "cell_type": "code",
   "execution_count": 1,
   "metadata": {},
   "outputs": [],
   "source": [
    "from dotenv import load_dotenv\n",
    "load_dotenv()\n",
    "import os\n",
    "import datetime\n",
    "\n",
    "PATH = os.path.abspath('')"
   ]
  },
  {
   "source": [
    "## Twitter tweepy client"
   ],
   "cell_type": "markdown",
   "metadata": {}
  },
  {
   "cell_type": "code",
   "execution_count": 2,
   "metadata": {},
   "outputs": [],
   "source": [
    "API_KEY = os.getenv('TWITTER_BOT_KEY')\n",
    "API_SECRET_KEY = os.getenv('TWITTER_BOT_SECRET_KEY')\n",
    "\n",
    "ACCESS_TOKEN = os.getenv('lree9_ACCESS_TOKEN')\n",
    "ACCESS_TOKEN_SECRET = os.getenv('lree9_ACCESS_TOKEN_SECRET')"
   ]
  },
  {
   "cell_type": "code",
   "execution_count": 3,
   "metadata": {},
   "outputs": [],
   "source": [
    "import tweepy\n",
    "\n",
    "auth = tweepy.OAuthHandler(API_KEY, API_SECRET_KEY)\n",
    "auth.set_access_token(ACCESS_TOKEN, ACCESS_TOKEN_SECRET)\n",
    "api = tweepy.API(auth, wait_on_rate_limit=True, wait_on_rate_limit_notify=True)\n",
    "try:\n",
    "    api.verify_credentials()\n",
    "except:\n",
    "    raise Exception(\"Authentication not OK\")\n",
    "\n",
    "me = api.me()\n",
    "# me.screen_name"
   ]
  },
  {
   "source": [
    "## MongoDB client"
   ],
   "cell_type": "markdown",
   "metadata": {}
  },
  {
   "cell_type": "code",
   "execution_count": 4,
   "metadata": {},
   "outputs": [],
   "source": [
    "MONG_USER = os.getenv('MONG_USER')\n",
    "MONG_PWD  = os.getenv('MONG_PWD')\n",
    "MONG_HOST = os.getenv('MONG_HOST')\n",
    "MONG_PORT = os.getenv('MONG_PORT')\n",
    "DATABASE = \"dataDumpingGround\""
   ]
  },
  {
   "cell_type": "code",
   "execution_count": 5,
   "metadata": {},
   "outputs": [
    {
     "output_type": "execute_result",
     "data": {
      "text/plain": [
       "Database(MongoClient(host=['171.244.50.232:27017'], document_class=dict, tz_aware=False, connect=True), 'dataDumpingGround')"
      ]
     },
     "metadata": {},
     "execution_count": 5
    }
   ],
   "source": [
    "from pymongo import MongoClient\n",
    "from bson.objectid import ObjectId\n",
    "\n",
    "uri = f\"mongodb://{MONG_USER}:{MONG_PWD}@{MONG_HOST}:{MONG_PORT}/{DATABASE}\"\n",
    "client = MongoClient(uri)\n",
    "db = client[DATABASE]\n",
    "db"
   ]
  },
  {
   "source": [
    "# 🎬 Action"
   ],
   "cell_type": "markdown",
   "metadata": {}
  },
  {
   "cell_type": "code",
   "execution_count": 6,
   "metadata": {},
   "outputs": [],
   "source": [
    "import pprint\n",
    "from helperfunctions import (\n",
    "    compress_object,\n",
    "    prettyprint,\n",
    "    strip_tags\n",
    ")\n",
    "from datetime import datetime, timezone, timedelta"
   ]
  },
  {
   "source": [
    "## Params"
   ],
   "cell_type": "markdown",
   "metadata": {}
  },
  {
   "cell_type": "code",
   "execution_count": 16,
   "metadata": {},
   "outputs": [],
   "source": [
    "from sys import maxsize as inf\n",
    "LIMIT = 100 # inf\n",
    "USER_ID = 'DjMuffinTops'"
   ]
  },
  {
   "source": [
    "## Get user info"
   ],
   "cell_type": "markdown",
   "metadata": {}
  },
  {
   "cell_type": "code",
   "execution_count": 17,
   "metadata": {},
   "outputs": [],
   "source": [
    "user = api.get_user(USER_ID)\n",
    "user_detail = user._json"
   ]
  },
  {
   "cell_type": "code",
   "execution_count": 18,
   "metadata": {},
   "outputs": [
    {
     "output_type": "execute_result",
     "data": {
      "text/plain": [
       "{'Absent keys': ['withheld_in_countries', 'withheld_scope'],\n",
       " 'id': 455259919,\n",
       " 'name': 'DjMuffinTops',\n",
       " 'screen_name': 'DjMuffinTops',\n",
       " 'location': 'Boston, MA',\n",
       " 'url': 'https://t.co/OUpZcI2JOX',\n",
       " 'description': \"Say what you have to say, it's just the way it goes | He/Him | 22 | Digital Artist | Software Engineer | Mystery Dungeon Explorer | ¿music? | Expect many Riolu\",\n",
       " 'protected': False,\n",
       " 'verified': False,\n",
       " 'followers_count': 2058,\n",
       " 'friends_count': 523,\n",
       " 'listed_count': 15,\n",
       " 'favourites_count': 12500,\n",
       " 'statuses_count': 5148,\n",
       " 'created_at': 'Wed Jan 04 22:34:54 +0000 2012',\n",
       " 'profile_banner_url': 'https://pbs.twimg.com/profile_banners/455259919/1595322921',\n",
       " 'profile_image_url_https': 'https://pbs.twimg.com/profile_images/1342870294608957445/qox5jBI0_normal.jpg',\n",
       " 'default_profile': False,\n",
       " 'default_profile_image': False,\n",
       " 'Last updated': datetime.datetime(2021, 1, 18, 6, 48, 14, 847887, tzinfo=datetime.timezone(datetime.timedelta(seconds=25200)))}"
      ]
     },
     "metadata": {},
     "execution_count": 18
    }
   ],
   "source": [
    "# https://developer.twitter.com/en/docs/twitter-api/v1/data-dictionary/object-model/user\n",
    "attrs_to_save = [\n",
    "    'id', 'name', 'screen_name', 'location', 'url', 'description',\n",
    "    'protected', 'verified', 'followers_count', 'friends_count', 'listed_count',\n",
    "    'favourites_count', 'statuses_count', 'created_at', 'profile_banner_url', \n",
    "    'profile_image_url_https', 'default_profile', 'default_profile_image',\n",
    "    'withheld_in_countries', 'withheld_scope'\n",
    "]\n",
    "\n",
    "my_user_obj = compress_object(user._json, attrs_to_save)\n",
    "my_user_obj['Last updated'] = datetime.now(tz=timezone(timedelta(hours=+7)))\n",
    "my_user_obj"
   ]
  },
  {
   "source": [
    "Save to collection \"profile\""
   ],
   "cell_type": "markdown",
   "metadata": {}
  },
  {
   "cell_type": "code",
   "execution_count": 19,
   "metadata": {},
   "outputs": [
    {
     "output_type": "execute_result",
     "data": {
      "text/plain": [
       "{'n': 1, 'nModified': 1, 'ok': 1.0, 'updatedExisting': True}"
      ]
     },
     "metadata": {},
     "execution_count": 19
    }
   ],
   "source": [
    "profile_col = db[\"twitterProfiles\"]\n",
    "key = {'id': my_user_obj['id']}\n",
    "profile_col.update(key, my_user_obj, upsert=True)"
   ]
  },
  {
   "source": [
    "## Get tweets"
   ],
   "cell_type": "markdown",
   "metadata": {}
  },
  {
   "cell_type": "code",
   "execution_count": 20,
   "metadata": {
    "tags": []
   },
   "outputs": [],
   "source": [
    "'''\n",
    "with open(os.path.join(PATH, f'{USER_ID}_tweet_dump.txt'), 'w+', encoding='utf8') as file:\n",
    "    for tweet in tweepy.Cursor(api.user_timeline, id=USER_ID).items(LIMIT):\n",
    "        # parsed = json.loads(tweet._json)\n",
    "        print(json.dumps(tweet._json, indent=4, sort_keys=True))\n",
    "        # print(tweet)\n",
    "        # print(dir(tweet))\n",
    "        file.write(tweet.text +'\\n')\n",
    "'''\n",
    "pass"
   ]
  },
  {
   "cell_type": "code",
   "execution_count": 21,
   "metadata": {},
   "outputs": [],
   "source": [
    "# https://developer.twitter.com/en/docs/twitter-api/data-dictionary/object-model/tweet\n",
    "attrs = [\n",
    "    'id', 'text', 'attachments', 'author_id', 'conversation_id', 'created_at',\n",
    "    'geo', 'in_reply_to_user_id', 'lang', 'possiby_sensitive', 'reply_settings', \n",
    "    'source', 'withheld',\n",
    "    'entities', 'non_public_metrics', 'organic_metrics', 'promoted_metrics', 'public_metrics',\n",
    "    'referenced_tweets', 'context_annotations', \n",
    "]\n",
    "# https://developer.twitter.com/en/docs/twitter-api/v1/data-dictionary/object-model/tweet\n",
    "attrs = [\n",
    "    'id', 'full_text', 'coordinates', 'place',\n",
    "    'in_reply_to_status_id', 'in_reply_to_user_id', 'quoted_status_id', 'quoted_status',\n",
    "    'quote_count', 'reply_count', 'retweet_count', 'favorite_count',\n",
    "    'entities', 'extended_entities', 'possibly_sensitive', 'filter_level', 'lang', 'matching_rules'\n",
    "]"
   ]
  },
  {
   "cell_type": "code",
   "execution_count": 22,
   "metadata": {
    "tags": []
   },
   "outputs": [
    {
     "output_type": "stream",
     "name": "stderr",
     "text": [
      "100it [00:09, 10.27it/s]\n"
     ]
    }
   ],
   "source": [
    "from tqdm import tqdm\n",
    "\n",
    "tweet_col = db[\"twitterTweets\"]\n",
    "\n",
    "for tweet in tqdm( tweepy.Cursor(api.user_timeline, id=USER_ID, tweet_mode='extended').items(LIMIT) ):\n",
    "    tweet_obj = compress_object(tweet._json, attrs)\n",
    "    tweet_obj['Last updated'] = datetime.now(tz=timezone(timedelta(hours=+7)))\n",
    "    tweet_obj['Author_id'] = tweet._json['user']['id']\n",
    "    tweet_obj['Source'] = strip_tags(tweet._json['source'])\n",
    "    tweet_obj['Retweeted_status_id'] = tweet._json['retweeted_status']['id'] if 'retweeted_status' in tweet._json else None\n",
    "\n",
    "    # prettyprint(tweet._json)\n",
    "    # prettyprint(tweet_obj)\n",
    "\n",
    "    key = {'id': tweet_obj['id']}\n",
    "    tweet_col.update(key, tweet_obj, upsert=True)"
   ]
  },
  {
   "cell_type": "code",
   "execution_count": null,
   "metadata": {},
   "outputs": [],
   "source": []
  }
 ]
}