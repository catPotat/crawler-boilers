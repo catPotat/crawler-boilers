{
 "metadata": {
  "language_info": {
   "codemirror_mode": {
    "name": "ipython",
    "version": 3
   },
   "file_extension": ".py",
   "mimetype": "text/x-python",
   "name": "python",
   "nbconvert_exporter": "python",
   "pygments_lexer": "ipython3",
   "version": "3.8.6-final"
  },
  "orig_nbformat": 2,
  "kernelspec": {
   "name": "python3",
   "display_name": "Python 3",
   "language": "python"
  }
 },
 "nbformat": 4,
 "nbformat_minor": 2,
 "cells": [
  {
   "source": [
    "# 🏁 Initialize"
   ],
   "cell_type": "markdown",
   "metadata": {}
  },
  {
   "cell_type": "code",
   "execution_count": 1,
   "metadata": {},
   "outputs": [
    {
     "output_type": "stream",
     "name": "stdout",
     "text": [
      "Requirement already satisfied: tqdm in c:\\users\\long\\sourcecode\\personal\\data sciencing\\venv\\lib\\site-packages (4.56.0)\n",
      "WARNING: You are using pip version 20.2.1; however, version 20.3.3 is available.\n",
      "You should consider upgrading via the 'c:\\users\\long\\sourcecode\\personal\\data sciencing\\venv\\scripts\\python.exe -m pip install --upgrade pip' command.\n"
     ]
    }
   ],
   "source": [
    "!pip install tqdm"
   ]
  },
  {
   "cell_type": "code",
   "execution_count": 2,
   "metadata": {},
   "outputs": [],
   "source": [
    "from dotenv import load_dotenv\n",
    "load_dotenv()\n",
    "import os\n",
    "import datetime\n",
    "\n",
    "PATH = os.path.abspath('')"
   ]
  },
  {
   "source": [
    "## Twitter tweepy client"
   ],
   "cell_type": "markdown",
   "metadata": {}
  },
  {
   "cell_type": "code",
   "execution_count": 3,
   "metadata": {},
   "outputs": [],
   "source": [
    "API_KEY = os.getenv('TWITTER_BOT_KEY')\n",
    "API_SECRET_KEY = os.getenv('TWITTER_BOT_SECRET_KEY')\n",
    "\n",
    "ACCESS_TOKEN = os.getenv('lree9_ACCESS_TOKEN')\n",
    "ACCESS_TOKEN_SECRET = os.getenv('lree9_ACCESS_TOKEN_SECRET')"
   ]
  },
  {
   "cell_type": "code",
   "execution_count": 16,
   "metadata": {},
   "outputs": [],
   "source": [
    "import tweepy\n",
    "\n",
    "auth = tweepy.OAuthHandler(API_KEY, API_SECRET_KEY)\n",
    "auth.set_access_token(ACCESS_TOKEN, ACCESS_TOKEN_SECRET)\n",
    "api = tweepy.API(auth, wait_on_rate_limit=True, wait_on_rate_limit_notify=True)\n",
    "try:\n",
    "    api.verify_credentials()\n",
    "except:\n",
    "    raise Exception(\"Authentication not OK\")\n",
    "\n",
    "me = api.me()\n",
    "# me.screen_name"
   ]
  },
  {
   "source": [
    "## MongoDB client"
   ],
   "cell_type": "markdown",
   "metadata": {}
  },
  {
   "cell_type": "code",
   "execution_count": 5,
   "metadata": {},
   "outputs": [],
   "source": [
    "MONG_USER = os.getenv('MONG_USER')\n",
    "MONG_PWD  = os.getenv('MONG_PWD')\n",
    "MONG_HOST = os.getenv('MONG_HOST')\n",
    "MONG_PORT = os.getenv('MONG_PORT')\n",
    "DATABASE = \"tweetDumpingGround\""
   ]
  },
  {
   "cell_type": "code",
   "execution_count": 6,
   "metadata": {},
   "outputs": [
    {
     "output_type": "execute_result",
     "data": {
      "text/plain": [
       "Database(MongoClient(host=['171.244.50.232:27017'], document_class=dict, tz_aware=False, connect=True), 'tweetDumpingGround')"
      ]
     },
     "metadata": {},
     "execution_count": 6
    }
   ],
   "source": [
    "from pymongo import MongoClient\n",
    "from bson.objectid import ObjectId\n",
    "\n",
    "uri = f\"mongodb://{MONG_USER}:{MONG_PWD}@{MONG_HOST}:{MONG_PORT}/{DATABASE}\"\n",
    "client = MongoClient(uri)\n",
    "db = client[DATABASE]\n",
    "db"
   ]
  },
  {
   "source": [
    "## Helper functions"
   ],
   "cell_type": "markdown",
   "metadata": {}
  },
  {
   "cell_type": "code",
   "execution_count": 7,
   "metadata": {},
   "outputs": [],
   "source": [
    "import json\n",
    "\n",
    "def compress_object(origin_obj, attrs_to_save):\n",
    "    new_obj = {'Not found':[]}\n",
    "\n",
    "    for key in attrs_to_save:\n",
    "        if key in origin_obj:\n",
    "            new_obj[key] = origin_obj[key]\n",
    "        else:\n",
    "            new_obj['Not found'].append(key)\n",
    "    \n",
    "    return new_obj\n",
    "\n",
    "def pprint(dict_):\n",
    "    print(json.dumps(dict_, indent=4, sort_keys=True))"
   ]
  },
  {
   "cell_type": "code",
   "execution_count": 8,
   "metadata": {},
   "outputs": [],
   "source": [
    "from io import StringIO\n",
    "from html.parser import HTMLParser\n",
    "\n",
    "class MLStripper(HTMLParser):\n",
    "    def __init__(self):\n",
    "        super().__init__()\n",
    "        self.reset()\n",
    "        self.strict = False\n",
    "        self.convert_charrefs= True\n",
    "        self.text = StringIO()\n",
    "    def handle_data(self, d):\n",
    "        self.text.write(d)\n",
    "    def get_data(self):\n",
    "        return self.text.getvalue()\n",
    "\n",
    "def strip_tags(html):\n",
    "    s = MLStripper()\n",
    "    s.feed(html)\n",
    "    return s.get_data()"
   ]
  },
  {
   "source": [
    "# 🎬 Action"
   ],
   "cell_type": "markdown",
   "metadata": {}
  },
  {
   "source": [
    "## Params"
   ],
   "cell_type": "markdown",
   "metadata": {}
  },
  {
   "cell_type": "code",
   "execution_count": 9,
   "metadata": {},
   "outputs": [],
   "source": [
    "from datetime import datetime, timezone, timedelta\n",
    "from sys import maxsize as inf\n",
    "\n",
    "LIMIT = 1 # inf\n",
    "USER_ID = 'billwurtz'"
   ]
  },
  {
   "source": [
    "## Get user info"
   ],
   "cell_type": "markdown",
   "metadata": {}
  },
  {
   "cell_type": "code",
   "execution_count": 10,
   "metadata": {},
   "outputs": [],
   "source": [
    "user = api.get_user(USER_ID)\n",
    "user_detail = user._json"
   ]
  },
  {
   "cell_type": "code",
   "execution_count": 11,
   "metadata": {},
   "outputs": [
    {
     "output_type": "execute_result",
     "data": {
      "text/plain": [
       "{'Not found': ['withheld_in_countries', 'withheld_scope'],\n",
       " 'id': 289853473,\n",
       " 'name': 'bill wurtz',\n",
       " 'screen_name': 'billwurtz',\n",
       " 'location': '',\n",
       " 'url': 'https://t.co/WGqYlp4ab6',\n",
       " 'description': 'is self',\n",
       " 'protected': False,\n",
       " 'verified': True,\n",
       " 'followers_count': 307230,\n",
       " 'friends_count': 82,\n",
       " 'listed_count': 344,\n",
       " 'favourites_count': 22860,\n",
       " 'statuses_count': 3094,\n",
       " 'created_at': 'Fri Apr 29 09:57:13 +0000 2011',\n",
       " 'profile_banner_url': 'https://pbs.twimg.com/profile_banners/289853473/1435339266',\n",
       " 'profile_image_url_https': 'https://pbs.twimg.com/profile_images/1016862391823360000/BeQ1lMU7_normal.jpg',\n",
       " 'default_profile': False,\n",
       " 'default_profile_image': False,\n",
       " 'Last updated': datetime.datetime(2021, 1, 16, 4, 4, 8, 854399, tzinfo=datetime.timezone(datetime.timedelta(seconds=25200)))}"
      ]
     },
     "metadata": {},
     "execution_count": 11
    }
   ],
   "source": [
    "# https://developer.twitter.com/en/docs/twitter-api/v1/data-dictionary/object-model/user\n",
    "attrs_to_save = [\n",
    "    'id', 'name', 'screen_name', 'location', 'url', 'description',\n",
    "    'protected', 'verified', 'followers_count', 'friends_count', 'listed_count',\n",
    "    'favourites_count', 'statuses_count', 'created_at', 'profile_banner_url', \n",
    "    'profile_image_url_https', 'default_profile', 'default_profile_image',\n",
    "    'withheld_in_countries', 'withheld_scope'\n",
    "]\n",
    "\n",
    "my_user_obj = compress_object(user._json, attrs_to_save)\n",
    "my_user_obj['Last updated'] = datetime.now(tz=timezone(timedelta(hours=+7)))\n",
    "my_user_obj"
   ]
  },
  {
   "source": [
    "Save to collection \"profile\""
   ],
   "cell_type": "markdown",
   "metadata": {}
  },
  {
   "cell_type": "code",
   "execution_count": 12,
   "metadata": {},
   "outputs": [
    {
     "output_type": "execute_result",
     "data": {
      "text/plain": [
       "{'n': 1, 'nModified': 1, 'ok': 1.0, 'updatedExisting': True}"
      ]
     },
     "metadata": {},
     "execution_count": 12
    }
   ],
   "source": [
    "profile_col = db[\"profile\"]\n",
    "key = {'id': my_user_obj['id']}\n",
    "profile_col.update(key, my_user_obj, upsert=True)"
   ]
  },
  {
   "source": [
    "## Get tweets"
   ],
   "cell_type": "markdown",
   "metadata": {}
  },
  {
   "cell_type": "code",
   "execution_count": 13,
   "metadata": {
    "tags": []
   },
   "outputs": [],
   "source": [
    "'''\n",
    "with open(os.path.join(PATH, f'{USER_ID}_tweet_dump.txt'), 'w+', encoding='utf8') as file:\n",
    "    for tweet in tweepy.Cursor(api.user_timeline, id=USER_ID).items(LIMIT):\n",
    "        # parsed = json.loads(tweet._json)\n",
    "        print(json.dumps(tweet._json, indent=4, sort_keys=True))\n",
    "        # print(tweet)\n",
    "        # print(dir(tweet))\n",
    "        file.write(tweet.text +'\\n')\n",
    "'''\n",
    "pass"
   ]
  },
  {
   "cell_type": "code",
   "execution_count": 14,
   "metadata": {},
   "outputs": [],
   "source": [
    "# https://developer.twitter.com/en/docs/twitter-api/data-dictionary/object-model/tweet\n",
    "attrs = [\n",
    "    'id', 'text', 'attachments', 'author_id', 'conversation_id', 'created_at',\n",
    "    'geo', 'in_reply_to_user_id', 'lang', 'possiby_sensitive', 'reply_settings', \n",
    "    'source', 'withheld',\n",
    "    'entities', 'non_public_metrics', 'organic_metrics', 'promoted_metrics', 'public_metrics',\n",
    "    'referenced_tweets', 'context_annotations', \n",
    "]\n",
    "# https://developer.twitter.com/en/docs/twitter-api/v1/data-dictionary/object-model/tweet\n",
    "attrs = [\n",
    "    'id', 'text', 'source', 'truncated', 'in_reply_to_status_id', 'in_reply_to_user_id',\n",
    "    'in_reply_to_screen_name', 'coordinates', 'place',\n",
    "    'quoted_status_id', 'is_quote_status', 'quoted_status',\n",
    "    'retweeted_status', 'quote_count', 'reply_count', 'retweet_count', 'favorite_count',\n",
    "    'entities', 'extended_entities', 'possibly_sensitive', 'filter_level', 'lang', 'matching_rules'\n",
    "]"
   ]
  },
  {
   "cell_type": "code",
   "execution_count": 15,
   "metadata": {
    "tags": []
   },
   "outputs": [
    {
     "output_type": "stream",
     "name": "stderr",
     "text": [
      "1it [00:01,  1.01s/it]\n"
     ]
    }
   ],
   "source": [
    "from tqdm import tqdm\n",
    "\n",
    "tweet_col = db[\"tweet\"]\n",
    "\n",
    "for tweet in tqdm( tweepy.Cursor(api.user_timeline, id=USER_ID).items(LIMIT) ):\n",
    "    tweet_obj = compress_object(tweet._json, attrs)\n",
    "    tweet_obj['Last updated'] = datetime.now(tz=timezone(timedelta(hours=+7)))\n",
    "    tweet_obj['author_id'] = tweet._json['user']['id']\n",
    "    tweet_obj['source'] = strip_tags(tweet._json['source'])\n",
    "    # pprint(tweet._json)\n",
    "    # pprint(tweet_obj)\n",
    "\n",
    "    key = {'id': tweet_obj['id']}\n",
    "    tweet_col.update(key, tweet_obj, upsert=True)"
   ]
  },
  {
   "cell_type": "code",
   "execution_count": null,
   "metadata": {},
   "outputs": [],
   "source": []
  }
 ]
}