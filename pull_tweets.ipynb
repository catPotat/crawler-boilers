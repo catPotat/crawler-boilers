{
 "metadata": {
  "language_info": {
   "codemirror_mode": {
    "name": "ipython",
    "version": 3
   },
   "file_extension": ".py",
   "mimetype": "text/x-python",
   "name": "python",
   "nbconvert_exporter": "python",
   "pygments_lexer": "ipython3",
   "version": "3.8.6-final"
  },
  "orig_nbformat": 2,
  "kernelspec": {
   "name": "python3",
   "display_name": "Python 3",
   "language": "python"
  }
 },
 "nbformat": 4,
 "nbformat_minor": 2,
 "cells": [
  {
   "cell_type": "code",
   "execution_count": null,
   "metadata": {},
   "outputs": [],
   "source": [
    "from dotenv import load_dotenv\n",
    "load_dotenv()\n",
    "import os\n",
    "import datetime\n",
    "\n",
    "PATH = os.path.abspath('')"
   ]
  },
  {
   "source": [
    "## Twitter tweepy client"
   ],
   "cell_type": "markdown",
   "metadata": {}
  },
  {
   "cell_type": "code",
   "execution_count": null,
   "metadata": {},
   "outputs": [],
   "source": [
    "API_KEY = os.getenv('TWITTER_BOT_KEY')\n",
    "API_SECRET_KEY = os.getenv('TWITTER_BOT_SECRET_KEY')\n",
    "\n",
    "ACCESS_TOKEN = os.getenv('\n",
    "ACCESS_TOKEN_SECRET = os.g"
   ]
  },
  {
   "cell_type": "code",
   "execution_count": null,
   "metadata": {},
   "outputs": [],
   "source": [
    "import tweepy\n",
    "\n",
    "auth = tweepy.OAuthHandler(API_KEY, API_SECRET_KEY)\n",
    "auth.set_access_token(ACCESS_TOKEN, ACCESS_TOKEN_SECRET)\n",
    "api = tweepy.API(auth, wait_on_rate_limit=True, wait_on_rate_limit_notify=True)\n",
    "try:\n",
    "    api.verify_credentials()\n",
    "except:\n",
    "    raise Exception(\"Authentication not OK\")\n",
    "\n",
    "me = api.me()\n",
    "me.screen_name"
   ]
  },
  {
   "source": [
    "## MongoDB client"
   ],
   "cell_type": "markdown",
   "metadata": {}
  },
  {
   "cell_type": "code",
   "execution_count": null,
   "metadata": {},
   "outputs": [],
   "source": [
    "MONG_USER = os.getenv('MONG_USER')\n",
    "MONG_PWD  = os.getenv('MONG_PWD')\n",
    "MONG_HOST = os.getenv('MONG_HOST')\n",
    "MONG_PORT = os.getenv('MONG_PORT')\n",
    "DATABASE = \"tweetDumpingGround\""
   ]
  },
  {
   "cell_type": "code",
   "execution_count": null,
   "metadata": {},
   "outputs": [],
   "source": [
    "from pymongo import MongoClient\n",
    "from bson.objectid import ObjectId\n",
    "\n",
    "uri = f\"mongodb://{MONG_USER}:{MONG_PWD}@{MONG_HOST}:{MONG_PORT}/{DATABASE}\"\n",
    "client = MongoClient(uri)\n",
    "db = client[DATABASE]\n",
    "db"
   ]
  },
  {
   "source": [],
   "cell_type": "markdown",
   "metadata": {}
  },
  {
   "cell_type": "code",
   "execution_count": null,
   "metadata": {},
   "outputs": [],
   "source": [
    "from sys import maxsize as inf\n",
    "\n",
    "LIMIT = 1 # inf\n",
    "USER_ID = 'billwurtz'"
   ]
  },
  {
   "source": [
    "## Helper functions"
   ],
   "cell_type": "markdown",
   "metadata": {}
  },
  {
   "cell_type": "code",
   "execution_count": null,
   "metadata": {},
   "outputs": [],
   "source": [
    "def compress_object(origin_obj, attrs_to_save):\n",
    "    new_obj = {'Not found':[]}\n",
    "\n",
    "    for key in attrs_to_save:\n",
    "        if key in user_detail:\n",
    "            new_obj[key] = origin_obj[key]\n",
    "        else:\n",
    "            new_obj['Not found'].append(key)\n",
    "    \n",
    "    return new_obj"
   ]
  },
  {
   "source": [
    "## Get use info"
   ],
   "cell_type": "markdown",
   "metadata": {}
  },
  {
   "cell_type": "code",
   "execution_count": null,
   "metadata": {},
   "outputs": [],
   "source": [
    "user = api.get_user(USER_ID)\n",
    "user_detail = user._json"
   ]
  },
  {
   "cell_type": "code",
   "execution_count": null,
   "metadata": {},
   "outputs": [],
   "source": [
    "# https://developer.twitter.com/en/docs/twitter-api/v1/data-dictionary/object-model/user\n",
    "attrs_to_save = [\n",
    "    'id', 'id_str', 'name', 'screen_name', 'location', 'url', 'description',\n",
    "    'protected', 'verified', 'followers_count', 'friends_count', 'listed_count',\n",
    "    'favourites_count', 'statuses_count', 'created_at', 'profile_banner_url', \n",
    "    'profile_image_url_https', 'default_profile', 'default_profile_image',\n",
    "    'withheld_in_countries', 'withheld_scope'\n",
    "]\n",
    "\n",
    "my_user_obj = compress_object(user._json, attrs_to_save)\n",
    "\n",
    "from datetime import datetime, timezone, timedelta\n",
    "my_user_obj['Last updated'] = datetime.now(tz=timezone(timedelta(hours=+7)))\n",
    "my_user_obj"
   ]
  },
  {
   "source": [
    "Save to collection \"profile\""
   ],
   "cell_type": "markdown",
   "metadata": {}
  },
  {
   "cell_type": "code",
   "execution_count": null,
   "metadata": {},
   "outputs": [],
   "source": [
    "profile_col = db[\"profile\"]\n",
    "key = {'id_str': my_user_obj['id_str']}\n",
    "profile_col.update(key, my_user_obj, upsert=True)"
   ]
  },
  {
   "source": [
    "# Get tweets"
   ],
   "cell_type": "markdown",
   "metadata": {}
  },
  {
   "cell_type": "code",
   "execution_count": null,
   "metadata": {
    "tags": []
   },
   "outputs": [],
   "source": [
    "'''\n",
    "import json\n",
    "\n",
    "with open(os.path.join(PATH, f'{USER_ID}_tweet_dump.txt'), 'w+', encoding='utf8') as file:\n",
    "    for tweet in tweepy.Cursor(api.user_timeline, id=USER_ID).items(LIMIT):\n",
    "        # parsed = json.loads(tweet._json)\n",
    "        print(json.dumps(tweet._json, indent=4, sort_keys=True))\n",
    "\n",
    "        # print(tweet)\n",
    "        # print(dir(tweet))\n",
    "        file.write(tweet.text +'\\n')\n",
    "'''"
   ]
  },
  {
   "cell_type": "code",
   "execution_count": null,
   "metadata": {},
   "outputs": [],
   "source": [
    "import json\n",
    "\n",
    "for tweet in tweepy.Cursor(api.user_timeline, id=USER_ID).items(LIMIT):\n",
    "    # parsed = json.loads(tweet._json)\n",
    "    print(json.dumps(tweet._json, indent=4, sort_keys=True))\n",
    "    # https://developer.twitter.com/en/docs/twitter-api/data-dictionary/object-model/tweet\n",
    "    attrs = [\n",
    "        'id', 'text', 'attachments', 'author_id', 'location', 'url', 'description',\n",
    "        'protected', 'verified', 'followers_count', 'friends_count', 'listed_count',\n",
    "        'favourites_count', 'statuses_count', 'created_at', 'profile_banner_url', \n",
    "        'profile_image_url_https', 'default_profile', 'default_profile_image',\n",
    "        'withheld_in_countries', 'withheld_scope'\n",
    "    ]\n",
    "    my_tweet_obj = compress_object(tweet._json, attrs)"
   ]
  },
  {
   "cell_type": "code",
   "execution_count": null,
   "metadata": {},
   "outputs": [],
   "source": []
  }
 ]
}