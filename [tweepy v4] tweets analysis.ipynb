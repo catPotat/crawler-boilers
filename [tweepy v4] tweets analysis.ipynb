{
 "cells": [
  {
   "cell_type": "code",
   "execution_count": null,
   "metadata": {},
   "outputs": [],
   "source": [
    "import tweepy\n",
    "from tqdm.auto import tqdm\n",
    "from IPython.display import display, HTML\n",
    "import re"
   ]
  },
  {
   "cell_type": "markdown",
   "metadata": {},
   "source": [
    "## tweepy client\n",
    "\n",
    "tweepy v4\n",
    "https://docs.tweepy.org/en/stable/client.html"
   ]
  },
  {
   "cell_type": "code",
   "execution_count": null,
   "metadata": {},
   "outputs": [],
   "source": [
    "API_KEY = os.getenv('TWITTER_BOT_KEY')\n",
    "API_SECRET_KEY = os.getenv('TWITTER_BOT_SECRET_KEY')\n",
    "\n",
    "ACCESS_TOKEN = os.getenv('rbtt_ACCESS_TOKEN')\n",
    "ACCESS_TOKEN_SECRET = os.getenv('rbtt_ACCESS_TOKEN_SECRET')\n",
    "\n",
    "\n",
    "client = tweepy.Client(\n",
    "    consumer_key=API_KEY,\n",
    "    consumer_secret=API_SECRET_KEY,\n",
    "    access_token=ACCESS_TOKEN,\n",
    "    access_token_secret=ACCESS_TOKEN_SECRET,\n",
    "    wait_on_rate_limit=True\n",
    ")\n",
    "client.get_me()"
   ]
  },
  {
   "cell_type": "code",
   "execution_count": null,
   "metadata": {},
   "outputs": [],
   "source": [
    "target = client.get_user(username='', user_fields=['public_metrics', 'description', 'profile_image_url'], user_auth=True).data\n",
    "display(HTML(f'''\n",
    "    <img src={target.profile_image_url}>\n",
    "    {target.description}<br>\n",
    "    {target.public_metrics}\n",
    "'''))"
   ]
  },
  {
   "cell_type": "markdown",
   "metadata": {},
   "source": [
    "`max_results`: results per page\n",
    "\n",
    "`limit`: max number of pages\n",
    "\n",
    "`flatten()` to loop as if there's no `Paginator`"
   ]
  },
  {
   "cell_type": "markdown",
   "metadata": {},
   "source": [
    "#### Followers insight using `.get_users_followers()`\n",
    "\n",
    "1 <= `max_results` <= 1000"
   ]
  },
  {
   "cell_type": "code",
   "execution_count": null,
   "metadata": {},
   "outputs": [],
   "source": [
    "mr = 1000\n",
    "lim = target.public_metrics['followers_count'] // mr + 1\n",
    "sorted_flwrs = []\n",
    "for user in tqdm(tweepy.Paginator(client.get_users_followers,\n",
    "                    target.id, user_fields=['public_metrics', 'profile_image_url'], max_results=mr, limit=lim, user_auth=True\n",
    "                ).flatten()):\n",
    "    insert_ind = 0\n",
    "    for ind, sorted_user in enumerate(sorted_flwrs):\n",
    "        if user.public_metrics['followers_count'] >= sorted_user.public_metrics['followers_count']:\n",
    "            insert_ind = ind\n",
    "            break\n",
    "    sorted_flwrs.insert(insert_ind, user)"
   ]
  },
  {
   "cell_type": "code",
   "execution_count": null,
   "metadata": {},
   "outputs": [],
   "source": [
    "for i, user in enumerate(sorted_flwrs, 1):\n",
    "    flwrs_cnt = user.public_metrics['followers_count']\n",
    "    bold = flwrs_cnt > 100000\n",
    "    display(HTML(f'''\n",
    "        {i}<br>\n",
    "        {'<b style=\"color:red;\">' if bold else ''}\n",
    "        <a href='https://twitter.com/{user.username}'>\n",
    "            <img src={user.profile_image_url}><br>\n",
    "            {user.name} (@{user.username})\n",
    "        </a>\n",
    "        <div>\n",
    "            {flwrs_cnt} followers<br>\n",
    "            {user.public_metrics['following_count']} followings\n",
    "        </div>\n",
    "        {'</b>' if bold else ''}\n",
    "    '''))"
   ]
  },
  {
   "cell_type": "markdown",
   "metadata": {},
   "source": [
    "#### Tweets insight using `.get_users_tweets()`\n",
    "\n",
    "1 <= `max_results` <= 100"
   ]
  },
  {
   "cell_type": "code",
   "execution_count": null,
   "metadata": {},
   "outputs": [],
   "source": [
    "mr = 100\n",
    "lim = target['public_metrics']['tweet_count'] // mr + 1\n",
    "# lim = 1\n",
    "tweet_list = []\n",
    "reply_list = []\n",
    "for tweet in tqdm(tweepy.Paginator(client.get_users_tweets,\n",
    "                    target['id'], tweet_fields=['in_reply_to_user_id'], max_results=mr, limit=lim, user_auth=True\n",
    "                ).flatten()):\n",
    "    reply_to = tweet.in_reply_to_user_id\n",
    "    if reply_to is None:\n",
    "        tweet_list.append(tweet)\n",
    "        continue\n",
    "    if reply_to == target['id']:\n",
    "        tweet_list.append(tweet)\n",
    "        continue\n",
    "    reply_list.append(tweet)\n",
    "    print(tweet.text)\n",
    "    print(\"---\")"
   ]
  },
  {
   "cell_type": "code",
   "execution_count": null,
   "metadata": {},
   "outputs": [],
   "source": [
    "reply_list.__len__()"
   ]
  },
  {
   "cell_type": "code",
   "execution_count": null,
   "metadata": {},
   "outputs": [],
   "source": [
    "user_dict = {}\n",
    "for tweet in tqdm(reply_list):\n",
    "    text = tweet.text\n",
    "    text = text.split()\n",
    "    text = ' '.join([word for word in text if not word.startswith('@')])\n",
    "    # remove punctuation\n",
    "    text = re.sub(r'[^\\w\\s]', '', text)\n",
    "    words = text.split()\n",
    "    for word in words:\n",
    "        if word in user_dict:\n",
    "            user_dict[word] += 1\n",
    "        else:\n",
    "            user_dict[word] = 1"
   ]
  },
  {
   "cell_type": "code",
   "execution_count": null,
   "metadata": {},
   "outputs": [],
   "source": [
    "# sort dictionary by value\n",
    "sorted_dictionary = sorted(user_dict.items(), key=lambda kv: kv[1], reverse=True)\n",
    "sorted_dictionary"
   ]
  },
  {
   "cell_type": "code",
   "execution_count": null,
   "metadata": {},
   "outputs": [],
   "source": []
  }
 ],
 "metadata": {
  "interpreter": {
   "hash": "554e2132b4c975e86b6827bf2d79548e73b3be1db56871b588250d764e07a1e3"
  },
  "kernelspec": {
   "display_name": "Python 3.9.6 64-bit ('venv': venv)",
   "name": "python3"
  },
  "language_info": {
   "codemirror_mode": {
    "name": "ipython",
    "version": 3
   },
   "file_extension": ".py",
   "mimetype": "text/x-python",
   "name": "python",
   "nbconvert_exporter": "python",
   "pygments_lexer": "ipython3",
   "version": "3.8.9"
  },
  "metadata": {
   "interpreter": {
    "hash": "554e2132b4c975e86b6827bf2d79548e73b3be1db56871b588250d764e07a1e3"
   }
  },
  "orig_nbformat": 2
 },
 "nbformat": 4,
 "nbformat_minor": 2
}
