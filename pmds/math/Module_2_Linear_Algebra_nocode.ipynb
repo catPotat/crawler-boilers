{
  "cells": [
    {
      "cell_type": "markdown",
      "metadata": {
        "id": "yeA6xblhq8w8"
      },
      "source": [
        "# Linear Algebra"
      ]
    },
    {
      "cell_type": "markdown",
      "metadata": {
        "id": "F-3yQvOQHjLr"
      },
      "source": [
        "Linear algebra is the branch of mathematics concerning linear equations and linear functions and their representations through matrices and vector spaces.\n",
        "\n",
        "Machine Learning relies heavily on Linear Algebra, so it is essential to understand what vectors and matrices are, what operations you can perform with them, and how they can be useful.\n"
      ]
    },
    {
      "cell_type": "code",
      "execution_count": null,
      "metadata": {
        "colab": {
          "base_uri": "https://localhost:8080/"
        },
        "id": "4cvzagFXgQrd",
        "outputId": "9b7a8158-cbe6-440e-a3e5-7fcbee6f8313"
      },
      "outputs": [
        {
          "name": "stdout",
          "output_type": "stream",
          "text": [
            "\u001b[31mERROR: Could not find a version that satisfies the requirement tf-nightly-2.0-preview (from versions: none)\u001b[0m\u001b[31m\n",
            "\u001b[0m\u001b[31mERROR: No matching distribution found for tf-nightly-2.0-preview\u001b[0m\u001b[31m\n",
            "\u001b[0m"
          ]
        }
      ],
      "source": [
        "# Installs\n",
        "!pip install --upgrade tf-nightly-2.0-preview"
      ]
    },
    {
      "cell_type": "code",
      "execution_count": 1,
      "metadata": {
        "id": "of02mDcgUuHQ"
      },
      "outputs": [
        {
          "ename": "ModuleNotFoundError",
          "evalue": "No module named 'torch'",
          "output_type": "error",
          "traceback": [
            "\u001b[1;31m---------------------------------------------------------------------------\u001b[0m",
            "\u001b[1;31mModuleNotFoundError\u001b[0m                       Traceback (most recent call last)",
            "Cell \u001b[1;32mIn[1], line 2\u001b[0m\n\u001b[0;32m      1\u001b[0m \u001b[38;5;66;03m# Imports\u001b[39;00m\n\u001b[1;32m----> 2\u001b[0m \u001b[38;5;28;01mimport\u001b[39;00m \u001b[38;5;21;01mtorch\u001b[39;00m\n\u001b[0;32m      3\u001b[0m \u001b[38;5;28;01mimport\u001b[39;00m \u001b[38;5;21;01msys\u001b[39;00m\n\u001b[0;32m      4\u001b[0m \u001b[38;5;28;01mimport\u001b[39;00m \u001b[38;5;21;01mnumpy\u001b[39;00m \u001b[38;5;28;01mas\u001b[39;00m \u001b[38;5;21;01mnp\u001b[39;00m\n",
            "\u001b[1;31mModuleNotFoundError\u001b[0m: No module named 'torch'"
          ]
        }
      ],
      "source": [
        "# Imports\n",
        "import torch\n",
        "import sys\n",
        "import numpy as np\n",
        "import matplotlib.pyplot as plt\n",
        "import pandas as pd"
      ]
    },
    {
      "cell_type": "markdown",
      "metadata": {
        "id": "JBpOlp4jrAoy"
      },
      "source": [
        "# 02.01 - Scalars, Vectors, Matrices and Tensors"
      ]
    },
    {
      "cell_type": "markdown",
      "metadata": {
        "id": "kWXNG-cmHrih"
      },
      "source": [
        "__Scalars:__ are just a single number. For example temperature, which is denoted by just one number.\n",
        "\n",
        "\n",
        "__Vectors:__ are an array of numbers. The numbers are arranged in order and we can identify each individual number by its index in that ordering. We can think of vectors as identifying points in space, with each element giving the coordinate along a different axis. In simple terms, a vector is an arrow representing a quantity that has both magnitude and direction wherein the length of the arrow represents the magnitude and the orientation tells you the direction. For example wind, which has a direction and magnitude.\n",
        "\n",
        "__Matrices:__ A matrix is a 2D-array of numbers, so each element is identified by two indices instead of just one. If a real valued matrix $A$ has a height of *m* and a width of *n*, then we say that $A \\in \\mathbb{R}^{m \\times n}$. We identify the elements of the matrix as $A_{m,n}$ where *m* represents the row and *n* represents the column.\n",
        "\n",
        "![Scalars, Vectors, Matrices and Tensors](https://raw.githubusercontent.com/adhiraiyan/DeepLearningWithTF2.0/master/notebooks/figures/fig0201a.png)\n",
        "\n",
        "__Tensors:__ In the general case, are an array of numbers arranged on a regular grid with a variable number of axes is knows as a tensor. We identify the elements of a tensor $A$ at coordinates(*i, j, k*) by writing $A_{i, j, k}$. But to truly understand tensors, we need to expand the way we think of vectors as only arrows with a magnitude and direction. Remember that a vector can be represented by three components, namely the x, y and z components (basis vectors). If you have a pen and a paper, let's do a small experiment, place the pen vertically on the paper and slant it by some angle and now shine a light from top such that the shadow of the pen falls on the paper, this shadow, represents the x component of the vector \"pen\" and the height from the paper to the tip of the pen is the y component. Now, let's take these components to describe tensors, imagine, you are Indiana Jones or a treasure hunter and you are trapped in a cube and there are three arrows flying towards you from the three faces (to represent x, y, z axis) of the cube 😬, I know this will be the last thing you would think in such a situation but you can think of those three arrows as vectors pointing towards you from the three faces of the cube and you can represent those vectors (arrows) in x, y and z components, now that is a rank 2 tensor (matrix) with 9 components. Remember that this is a very very simple explanation of tensors. Following is a representation of a tensor:\n",
        "\n",
        "![Tensors](https://raw.githubusercontent.com/adhiraiyan/DeepLearningWithTF2.0/master/notebooks/figures/fig0201b.PNG)\n",
        "\n"
      ]
    },
    {
      "cell_type": "markdown",
      "metadata": {
        "id": "HdIOKDSbNBaz"
      },
      "source": [
        "We can add matrices to each other as long as they have the same shape, just by adding their corresponding elements:\n",
        "\n",
        "$$\\color{orange}{C = A + B \\ where \\ C_{i,j} = A_{i,j} + B_{i,j} \\tag{1}}$$\n",
        "\n",
        "\n",
        "In tensorflow a:\n",
        "\n",
        "- Rank 0 Tensor is a Scalar\n",
        "- Rank 1 Tensor is a Vector\n",
        "- Rank 2 Tensor is a Matrix\n",
        "- Rank 3 Tensor is a 3-Tensor\n",
        "- Rank n Tensor is a n-Tensor"
      ]
    },
    {
      "cell_type": "code",
      "execution_count": 3,
      "metadata": {},
      "outputs": [
        {
          "name": "stdout",
          "output_type": "stream",
          "text": [
            "Collecting numpy\n",
            "  Downloading numpy-2.1.1-cp311-cp311-win_amd64.whl.metadata (59 kB)\n",
            "     ---------------------------------------- 0.0/59.7 kB ? eta -:--:--\n",
            "     ---------------------------------- ----- 51.2/59.7 kB 2.6 MB/s eta 0:00:01\n",
            "     ---------------------------------------- 59.7/59.7 kB 1.1 MB/s eta 0:00:00\n",
            "Downloading numpy-2.1.1-cp311-cp311-win_amd64.whl (12.9 MB)\n",
            "   ---------------------------------------- 0.0/12.9 MB ? eta -:--:--\n",
            "    --------------------------------------- 0.3/12.9 MB 5.9 MB/s eta 0:00:03\n",
            "   - -------------------------------------- 0.6/12.9 MB 6.5 MB/s eta 0:00:02\n",
            "   ----- ---------------------------------- 1.8/12.9 MB 11.3 MB/s eta 0:00:01\n",
            "   ----- ---------------------------------- 1.8/12.9 MB 11.7 MB/s eta 0:00:01\n",
            "   ---------- ----------------------------- 3.5/12.9 MB 13.9 MB/s eta 0:00:01\n",
            "   ------------ --------------------------- 3.9/12.9 MB 13.0 MB/s eta 0:00:01\n",
            "   ------------- -------------------------- 4.4/12.9 MB 13.5 MB/s eta 0:00:01\n",
            "   ------------------ --------------------- 5.9/12.9 MB 13.3 MB/s eta 0:00:01\n",
            "   -------------------- ------------------- 6.7/12.9 MB 13.8 MB/s eta 0:00:01\n",
            "   -------------------------- ------------- 8.5/12.9 MB 15.9 MB/s eta 0:00:01\n",
            "   ------------------------------ --------- 10.0/12.9 MB 17.2 MB/s eta 0:00:01\n",
            "   --------------------------------- ------ 10.9/12.9 MB 19.9 MB/s eta 0:00:01\n",
            "   ------------------------------------- -- 11.9/12.9 MB 19.3 MB/s eta 0:00:01\n",
            "   ---------------------------------------  12.9/12.9 MB 21.1 MB/s eta 0:00:01\n",
            "   ---------------------------------------- 12.9/12.9 MB 19.3 MB/s eta 0:00:00\n",
            "Installing collected packages: numpy\n",
            "Successfully installed numpy-2.1.1\n"
          ]
        },
        {
          "name": "stderr",
          "output_type": "stream",
          "text": [
            "\n",
            "[notice] A new release of pip is available: 24.0 -> 24.2\n",
            "[notice] To update, run: python.exe -m pip install --upgrade pip\n"
          ]
        }
      ],
      "source": [
        "!pip install numpy"
      ]
    },
    {
      "cell_type": "code",
      "execution_count": 4,
      "metadata": {
        "id": "z1PNwZOR5BC6"
      },
      "outputs": [],
      "source": [
        "import numpy as np"
      ]
    },
    {
      "cell_type": "code",
      "execution_count": 11,
      "metadata": {
        "id": "ax-qj2wR4vIQ"
      },
      "outputs": [
        {
          "name": "stdout",
          "output_type": "stream",
          "text": [
            "shape of C: (3, 3), with elements: \n",
            "[[ 2.  3.  4.]\n",
            " [ 5.  6.  7.]\n",
            " [ 8.  9. 10.]]\n"
          ]
        }
      ],
      "source": [
        "# Your code\n",
        "# Creating a 3x3 array of ones\n",
        "# Manually creating a 3x3 array with specified values\n",
        "# Adding the two arrays\n",
        "\n",
        "rank_2_tensor_A = np.ones((3, 3))\n",
        "rank_2_tensor_B = np.array(\n",
        "    [\n",
        "        [1, 2, 3],\n",
        "        [4, 5, 6],\n",
        "        [7, 8, 9],\n",
        "    ]\n",
        ")\n",
        "rank_2_tensor_C = rank_2_tensor_A + rank_2_tensor_B\n",
        "\n",
        "print(f\"shape of C: {rank_2_tensor_C.shape}, with elements: \\n{rank_2_tensor_C}\")"
      ]
    },
    {
      "cell_type": "code",
      "execution_count": 12,
      "metadata": {
        "id": "C1Fm6XkQaYcn"
      },
      "outputs": [
        {
          "data": {
            "text/plain": [
              "array([[ 2.,  3.,  4.],\n",
              "       [ 5.,  6.,  7.],\n",
              "       [ 8.,  9., 10.]])"
            ]
          },
          "execution_count": 12,
          "metadata": {},
          "output_type": "execute_result"
        }
      ],
      "source": [
        "np.add(rank_2_tensor_A, rank_2_tensor_B)"
      ]
    },
    {
      "cell_type": "code",
      "execution_count": 19,
      "metadata": {},
      "outputs": [
        {
          "data": {
            "text/plain": [
              "array([[1., 1., 1.],\n",
              "       [1., 1., 1.]])"
            ]
          },
          "metadata": {},
          "output_type": "display_data"
        },
        {
          "data": {
            "text/plain": [
              "array([[1, 2, 3],\n",
              "       [4, 5, 6],\n",
              "       [7, 8, 9]])"
            ]
          },
          "metadata": {},
          "output_type": "display_data"
        },
        {
          "name": "stdout",
          "output_type": "stream",
          "text": [
            "VALUE ERROR\n",
            "operands could not be broadcast together with shapes (2,3) (3,3) \n"
          ]
        }
      ],
      "source": [
        "# create 2x3 array of ones\n",
        "\n",
        "tensorA = np.ones((2, 3))\n",
        "display(tensorA)\n",
        "\n",
        "display(rank_2_tensor_B)\n",
        "\n",
        "try:\n",
        "    # test if is compatable shapes\n",
        "    result = tensorA + rank_2_tensor_B\n",
        "except ValueError as e:\n",
        "    print(\"VALUE ERROR\")\n",
        "    print(e)\n",
        "else:\n",
        "    display(result)"
      ]
    },
    {
      "cell_type": "code",
      "execution_count": 22,
      "metadata": {},
      "outputs": [
        {
          "data": {
            "text/plain": [
              "array([[ 5,  7,  9],\n",
              "       [11, 13, 15],\n",
              "       [17, 19, 21]])"
            ]
          },
          "execution_count": 22,
          "metadata": {},
          "output_type": "execute_result"
        }
      ],
      "source": [
        "scalar_a = 2\n",
        "tensorB = rank_2_tensor_B\n",
        "scalar_c = 3\n",
        "\n",
        "scalar_a * tensorB + scalar_c"
      ]
    },
    {
      "cell_type": "code",
      "execution_count": 27,
      "metadata": {},
      "outputs": [
        {
          "data": {
            "text/plain": [
              "array([[1, 2, 3],\n",
              "       [4, 5, 6]])"
            ]
          },
          "metadata": {},
          "output_type": "display_data"
        },
        {
          "data": {
            "text/plain": [
              "array([[1, 4],\n",
              "       [2, 5],\n",
              "       [3, 6]])"
            ]
          },
          "metadata": {},
          "output_type": "display_data"
        }
      ],
      "source": [
        "tensorE = np.array([[1, 2, 3], [4, 5, 6]])\n",
        "display(tensorE)\n",
        "E_transposed = tensorE.T\n",
        "display(E_transposed)"
      ]
    },
    {
      "cell_type": "code",
      "execution_count": null,
      "metadata": {},
      "outputs": [],
      "source": []
    },
    {
      "cell_type": "markdown",
      "metadata": {
        "id": "XuJ4rvIFNafT"
      },
      "source": [
        "We can also add a scalar to a matrix or multiply a matrix by a scalar, just by performing that operation on each element of a matrix:\n",
        "\n",
        "$$\\color{orange}{D = a \\cdot B + c \\ where  \\ D_{i,j} = a \\cdot B_{i,j} + c \\tag{2}}$$"
      ]
    },
    {
      "cell_type": "code",
      "execution_count": null,
      "metadata": {
        "id": "PZlZbtNi5IKm"
      },
      "outputs": [],
      "source": [
        "# Your code"
      ]
    },
    {
      "cell_type": "markdown",
      "metadata": {
        "id": "5uI2sKntMyj6"
      },
      "source": [
        "One important operation on matrices is the __transpose__. The transpose of a matrix is the mirror image of the martrix across a diagonal line, called the __main diagonal__. We denote the transpose of a matrix $A$ as $A^\\top$ and is defined as such: $(A^\\top)_{i, j} = A_{j, i}$"
      ]
    },
    {
      "cell_type": "code",
      "execution_count": null,
      "metadata": {
        "id": "iicQTJ495aCx"
      },
      "outputs": [],
      "source": [
        "# Your code"
      ]
    },
    {
      "cell_type": "markdown",
      "metadata": {
        "id": "uU6F-99XM3_v"
      },
      "source": [
        "In deep learning we allow the addition of matrix and a vector, yielding another matrix where $C_{i, j} = A_{i, j} + b_{j}$. In other words, the vector $b$ is added to each row of the matrix. This implicit copying of $b$ to many locations is called __broadcasting__"
      ]
    },
    {
      "cell_type": "code",
      "execution_count": null,
      "metadata": {
        "id": "v3s5ZyQKUSY6"
      },
      "outputs": [],
      "source": [
        "# Your code"
      ]
    },
    {
      "cell_type": "markdown",
      "metadata": {
        "id": "ziVxUA2WHyf4"
      },
      "source": [
        "# 02.02 - Multiplying Matrices and Vectors"
      ]
    },
    {
      "cell_type": "markdown",
      "metadata": {
        "id": "MzuhfYTyOR9N"
      },
      "source": [
        "To define the matrix product of matrices $A \\ \\text{and} \\ B, \\ A$ must have the same number of columns as $B$. If $A$ is of shape *m x n* and $B$ is of shape *n x p*, then $C$ is of shape *m x p*.\n",
        "\n",
        "$$\\color{orange}{C_{i, j} = \\displaystyle\\sum_k A_{i, k} B_{k, j} \\tag{3}}$$\n",
        "\n",
        "If you do not recall how matrix multiplication is performed, take a look at:\n",
        "\n",
        "![Multiplying Matrices](https://raw.githubusercontent.com/adhiraiyan/DeepLearningWithTF2.0/master/notebooks/figures/fig0202a.jpg)"
      ]
    },
    {
      "cell_type": "code",
      "execution_count": 29,
      "metadata": {
        "id": "pyXuucCk53HW"
      },
      "outputs": [
        {
          "data": {
            "text/plain": [
              "array([[1., 1., 1.],\n",
              "       [1., 1., 1.]], dtype=float32)"
            ]
          },
          "metadata": {},
          "output_type": "display_data"
        },
        {
          "data": {
            "text/plain": [
              "array([[1, 2, 3, 4],\n",
              "       [1, 2, 3, 4],\n",
              "       [1, 2, 3, 4]])"
            ]
          },
          "metadata": {},
          "output_type": "display_data"
        },
        {
          "data": {
            "text/plain": [
              "array([[ 3.,  6.,  9., 12.],\n",
              "       [ 3.,  6.,  9., 12.]])"
            ]
          },
          "metadata": {},
          "output_type": "display_data"
        }
      ],
      "source": [
        "# Your code\n",
        "A = np.ones((2, 3), dtype=np.float32)\n",
        "B = np.array(\n",
        "    [\n",
        "        [1, 2, 3, 4],\n",
        "        [1, 2, 3, 4],\n",
        "        [1, 2, 3, 4],\n",
        "    ]\n",
        ")\n",
        "C = A @ B\n",
        "display(A, B, C)"
      ]
    },
    {
      "cell_type": "markdown",
      "metadata": {
        "id": "pz_vETHqOXpL"
      },
      "source": [
        "To get a matrix containing the product of the individual elements, we use __element wise product__ or __Hadamard product__ and is denoted as $A \\odot B$.\n"
      ]
    },
    {
      "cell_type": "code",
      "execution_count": null,
      "metadata": {
        "id": "cHPNKXGE6FIE"
      },
      "outputs": [],
      "source": [
        "# Your code"
      ]
    },
    {
      "cell_type": "markdown",
      "metadata": {
        "id": "qSDm2ptGObdH"
      },
      "source": [
        "To compute the dot product between $A$ and $B$ we compute $C_{i, j}$ as the dot product between row *i* of $A$ and column *j* of $B$.\n",
        "\n",
        "![Dot Product](https://raw.githubusercontent.com/adhiraiyan/DeepLearningWithTF2.0/master/notebooks/figures/fig0202b.jpg)"
      ]
    },
    {
      "cell_type": "code",
      "execution_count": null,
      "metadata": {
        "id": "JZTkwcHq6xzT"
      },
      "outputs": [],
      "source": [
        "# Your code"
      ]
    },
    {
      "cell_type": "markdown",
      "metadata": {
        "id": "6jzMm9CjOgrR"
      },
      "source": [
        "\n",
        "Some properties of matrix multiplication (Distributive property):\n",
        "\n",
        "$$\\color{orange}{A(B +C) = AB + AC \\tag{4}}$$"
      ]
    },
    {
      "cell_type": "code",
      "execution_count": 53,
      "metadata": {
        "id": "KJG9Kvs669Cv"
      },
      "outputs": [
        {
          "data": {
            "text/plain": [
              "True"
            ]
          },
          "execution_count": 53,
          "metadata": {},
          "output_type": "execute_result"
        }
      ],
      "source": [
        "# Your code\n",
        "A = np.random.randint(0, 10, (3, 4))\n",
        "B = np.random.randint(0, 10, (4, 4))\n",
        "C = np.random.randint(0, 10, (4, 4))\n",
        "\n",
        "\n",
        "np.array_equal(A @ (B + C), A @ B + A @ C)"
      ]
    },
    {
      "cell_type": "markdown",
      "metadata": {
        "id": "TkSyrN_uOkUC"
      },
      "source": [
        "Some properties of matrix multiplication (Associative property):\n",
        "\n",
        "$$\\color{orange}{A(BC) = (AB)C \\tag{5}}$$"
      ]
    },
    {
      "cell_type": "code",
      "execution_count": 46,
      "metadata": {
        "id": "jV9y4WC8cDJ5"
      },
      "outputs": [
        {
          "data": {
            "text/plain": [
              "True"
            ]
          },
          "execution_count": 46,
          "metadata": {},
          "output_type": "execute_result"
        }
      ],
      "source": [
        "# Your code\n",
        "np.array_equal(A @ (B @ C), (A @ B) @ C)"
      ]
    },
    {
      "cell_type": "markdown",
      "metadata": {
        "id": "hOiY8XZtOoap"
      },
      "source": [
        "Some properties of matrix multiplication (Matrix multiplication is not commutative):\n",
        "\n",
        "$$\\color{orange}{AB \\neq BA \\tag{6}}$$"
      ]
    },
    {
      "cell_type": "code",
      "execution_count": 54,
      "metadata": {
        "id": "6Pv8SOxbcC-U"
      },
      "outputs": [
        {
          "data": {
            "text/plain": [
              "False"
            ]
          },
          "execution_count": 54,
          "metadata": {},
          "output_type": "execute_result"
        }
      ],
      "source": [
        "# Your code\n",
        "A = np.random.randint(0, 10, (3, 4))\n",
        "B = np.random.randint(0, 10, (4, 3))\n",
        "np.array_equal(A @ B, B @ A)"
      ]
    },
    {
      "cell_type": "markdown",
      "metadata": {
        "id": "j1Voc_AgOtIM"
      },
      "source": [
        "Some properties of matrix multiplication (Transpose):\n",
        "\n",
        "$$\\color{orange}{(AB)^\\top = B^{\\top} A^{\\top} \\tag{7}}$$"
      ]
    },
    {
      "cell_type": "code",
      "execution_count": 58,
      "metadata": {
        "id": "ipG4c7bh_OJ-"
      },
      "outputs": [
        {
          "data": {
            "text/plain": [
              "array([[1, 6, 4, 7],\n",
              "       [6, 1, 1, 8],\n",
              "       [4, 9, 3, 5]], dtype=int32)"
            ]
          },
          "metadata": {},
          "output_type": "display_data"
        },
        {
          "data": {
            "text/plain": [
              "array([[2, 3, 4],\n",
              "       [8, 3, 8],\n",
              "       [2, 9, 8],\n",
              "       [4, 5, 8]], dtype=int32)"
            ]
          },
          "metadata": {},
          "output_type": "display_data"
        },
        {
          "data": {
            "text/plain": [
              "True"
            ]
          },
          "execution_count": 58,
          "metadata": {},
          "output_type": "execute_result"
        }
      ],
      "source": [
        "# Your code\n",
        "\n",
        "A = np.random.randint(0, 10, (3, 4))\n",
        "B = np.random.randint(0, 10, (4, 3))\n",
        "\n",
        "display(A,B)\n",
        "\n",
        "np.array_equal((A @ B).T, B.T @ A.T)"
      ]
    },
    {
      "cell_type": "code",
      "execution_count": null,
      "metadata": {
        "id": "M6AmC7vjAFhX"
      },
      "outputs": [],
      "source": [
        "# Your code\n",
        "aaa = "
      ]
    },
    {
      "cell_type": "markdown",
      "metadata": {
        "id": "44tX7v9F4Lbv"
      },
      "source": [
        "The __matrix inverse__ of $A$ is denoted as $A^{-1}$, and it is defined as the matrix such that:\n",
        "\n",
        "$$\\color{orange}{A^{-1} A = I_n \\tag{9}}$$"
      ]
    },
    {
      "cell_type": "code",
      "execution_count": 60,
      "metadata": {
        "id": "26IbU2sBBjbP"
      },
      "outputs": [
        {
          "data": {
            "text/plain": [
              "array([[7, 6, 0, 7],\n",
              "       [9, 2, 6, 7],\n",
              "       [7, 1, 4, 1],\n",
              "       [2, 9, 8, 6]], dtype=int32)"
            ]
          },
          "metadata": {},
          "output_type": "display_data"
        }
      ],
      "source": [
        "# Your code\n",
        "A = np.random.randint(0, 10, (4, 4))\n",
        "\n",
        "\n",
        "A_inverse = np.linalg.inv(A)\n",
        "display(A)"
      ]
    },
    {
      "cell_type": "markdown",
      "metadata": {
        "id": "1CAGKbsr9yZv"
      },
      "source": [
        "If you try different values for Matrix A, you will see that, not all $A$ has an inverse and we will discuss the conditions for the existence of $A^{-1}$ in the following section.\n",
        "\n",
        "We can then solve the equation $Ax = b$ as:\n",
        "\n",
        "$$\n",
        "\\color{Orange}{A^{-1} Ax = A^{-1} b} \\\\\n",
        "\\color{Orange}{I_n x = A^{-1} b} \\\\\n",
        "\\color{Orange}{x  =A^{-1} b \\tag{10}}\n",
        "$$\n",
        "\n",
        "This process depends on it being possible to find $A^{-1}$.\n",
        "\n",
        "We can calculate the inverse of a matrix by:\n",
        "\n",
        "![Matrix Inverse](https://raw.githubusercontent.com/adhiraiyan/DeepLearningWithTF2.0/master/notebooks/figures/fig0203a.PNG)\n",
        "\n",
        "Lets see how we can solve a simple linear equation: 2x + 3y = 6 and 4x + 9y = 15"
      ]
    },
    {
      "cell_type": "code",
      "execution_count": null,
      "metadata": {
        "id": "sizO9Oz66KpD"
      },
      "outputs": [],
      "source": [
        "# Your code\n",
        "A = np.array(\n",
        "    [\n",
        "        [2, 3],\n",
        "        [4, 9],\n",
        "    ]\n",
        ")\n",
        "\n"
      ]
    },
    {
      "cell_type": "markdown",
      "metadata": {
        "id": "CrDWCbU5H6ym"
      },
      "source": [
        "# 02.04 - Linear Dependence and Span"
      ]
    },
    {
      "cell_type": "markdown",
      "metadata": {
        "id": "3J_B7nao9De_"
      },
      "source": [
        "For $A^{-1}$ to exits, $Ax = b$ must have exactly one solution for every value of $b$. It is also possible for the system of equations to have no solutions or infinitely many solutions for some values of $b$. This is simply because we are dealing with linear systems and two lines can't cross more than once. So, they can either cross once, cross never, or have infinite crossing, meaning the two lines are superimposed.\n",
        "\n",
        "Hence if both $x$ and $y$ are solutions then:\n",
        "\n",
        "$z = \\alpha x + (1 - \\alpha)y$ is also a solution for any real $\\alpha$\n",
        "\n",
        "![Linear Dependence](https://raw.githubusercontent.com/adhiraiyan/DeepLearningWithTF2.0/master/notebooks/figures/fig0204a.png)"
      ]
    },
    {
      "cell_type": "markdown",
      "metadata": {
        "id": "yhPzsL6JEHAu"
      },
      "source": [
        "\n",
        "The span of a set of vectors is the set of all linear combinations of the vectors. Formally, a __linear combination__ of some set of vectors\n",
        "$\\{ v^1, \\cdots, v^n\\}$ is given by multiplying each vecor $v^{(i)}$ by a corresponding scalar coefficient and adding the results:\n",
        "\n",
        "$$\\color{Orange}{\\displaystyle\\sum_i c_i v^{(i)} \\tag{11}}$$\n",
        "\n",
        "Determining whether $Ax = b$ has a solution thus amounts to testing whether $b$ is in the span of the columns of $A$. This particular span is known as the __column space__ or the __range__, of $A$.\n",
        "\n",
        "In order for the system $Ax = b$ to have a solution for all values of $b \\in \\mathbb{R}^m$, we require that the column space of $A$ be all of $\\mathbb{R}^m$.\n",
        "\n",
        "A set of vectors $\\{ v^1, \\cdots, v^n\\}$ is __linearly independent__ if the only solution to the vector equation $\\lambda_1 v^1 + \\cdots \\lambda_n v^n = 0 \\ \\text{is} \\ \\lambda_i=0 \\ \\forall  i$. If a set of vectors is not linearly independent, then it is __linearly dependent__.\n",
        "\n",
        "For the matrix to have an inverse, the matrix must be __square__, that is, we require that *m = n* and that all the columns be linearly independent. A square matrix with linearly dependent columns is known as __singular__.\n",
        "\n",
        "If $A$ is not square or is square but singular, solving the equation is still possible, but we cannot use the method of matrix inversion to find the solution.\n",
        "\n",
        "So far we have discussed matrix inverses as being multiplied on the left. It is also possible to define an inverse that is multiplied on the right. For square matrixes, the left inverse and right inverse are equal."
      ]
    },
    {
      "cell_type": "code",
      "execution_count": null,
      "metadata": {
        "id": "QsZ8dcQgWc6M"
      },
      "outputs": [],
      "source": [
        "# Your code"
      ]
    },
    {
      "cell_type": "markdown",
      "metadata": {
        "id": "GzrynyTagib-"
      },
      "source": [
        "Note that, finding inverses can be a challenging process if you want to calculate it, but using tensorflow or any other library, you can easily check if the inverse of the matrix exists. If you know the conditions and know how to solve matrix equations using tensorflow, you should be good, but for the reader who wants to go deeper, check [Linear Dependence and Span\n",
        "](https://math.ryerson.ca/~danziger/professor/MTH141/Handouts/depend.pdf) for further examples and definitions."
      ]
    },
    {
      "cell_type": "markdown",
      "metadata": {
        "id": "rB0seiU_H-hx"
      },
      "source": [
        "# 02.05 - Norms"
      ]
    },
    {
      "cell_type": "markdown",
      "metadata": {
        "id": "p3ieNjy4oHtr"
      },
      "source": [
        "In machine learning if we need to measure the size of vectors, we use a function called a __norm__. And norm is what is generally used to evaluate the error of a model. Formally, the $L^P$ norm is given by:\n",
        "\n",
        "$$\\color{Orange}{||x||_p = \\big(\\displaystyle\\sum_i |x_i|^p\\big)^{1/p}| \\tag{12}}$$\n",
        "\n",
        "for $p \\in \\mathbb{R}, p \\geq 1$\n",
        "\n",
        "On an intuitive level, the norm of a vector $x$ measures the distance from the origin to the point $x$.\n",
        "\n",
        "More rigorously, a norm is any function $f$ that satisfies the following properties:\n",
        "\n",
        "$$\n",
        "\\color{Orange}{f(x) = 0 \\implies x=0} \\\\\n",
        "\\color{Orange}{f(x +y) \\leq f(x) + f(y)} \\\\\n",
        "\\color{Orange}{\\forall \\alpha \\in \\mathbb{R}, f(\\alpha x) = |\\alpha|f(x)  \\tag{13}}\n",
        "$$\n",
        "\n",
        "The $L^2$ norm with *p=2* is known as the __Euclidean norm__. Which is simply the Euclidean distance from the origin to the point identified by $x$. It is also common to measure the size of a vector using the squared $L^2$ norm, which can be calculated simply as $x^{\\top}x$"
      ]
    },
    {
      "cell_type": "code",
      "execution_count": null,
      "metadata": {
        "id": "1DciOj3Hs2g-"
      },
      "outputs": [],
      "source": [
        "# Your code"
      ]
    },
    {
      "cell_type": "markdown",
      "metadata": {
        "id": "1_Zg24-vs25u"
      },
      "source": [
        "In many contexts, the squared $L^2$ norm may be undesirable, because it increases very slowly near the origin. In many machine learning applications, it is important to discriminate between elements that are exactly zero and elements that are small but nonzero. In these cases, we turn to a function that grows at the same rate in all locations, but retains mathematical simplicity: the $L^1$ norm, which can be simplified to:\n",
        "\n",
        "$$\\color{Orange}{||x||_1 = \\displaystyle\\sum_i |x_i| \\tag{14}}$$\n"
      ]
    },
    {
      "cell_type": "code",
      "execution_count": null,
      "metadata": {
        "id": "OlkUawi5wgBn"
      },
      "outputs": [],
      "source": [
        "# Your code"
      ]
    },
    {
      "cell_type": "markdown",
      "metadata": {
        "id": "quBP_kBqwfh8"
      },
      "source": [
        "One other norm that commonly arises in machine learning is the $L^{\\infty}$ norm, also known as the __max norm__. This norm simplifies to the absolute value of the element with the largest magnitude in the vector,\n",
        "\n",
        "$$\\color{Orange}{\\parallel x \\parallel_{\\infty} = max_i |x_i| \\tag{15}}$$\n",
        "\n",
        "If we wish to measure the size of a matrix, in context of deep learning, the most common way to do this is with the __Frobenius norm__:\n",
        "\n",
        "$$\\color{Orange}{\\parallel A \\parallel_F = \\sqrt{\\displaystyle\\sum_{i, j} A^2_{i, j}} \\tag{16}}$$\n",
        "\n",
        "which is analogous to the $L^{2}$ norm of a vector.\n",
        "\n",
        "Meaning for example for a matrix:\n",
        "\n",
        "$$\n",
        "A =\n",
        "\\begin{pmatrix}\n",
        "2 & -1 & 5 \\\\\n",
        "0 & 2 & 1 \\\\\n",
        "3  & 1 & 1  \\\\\n",
        "\\end{pmatrix}\n",
        "$$\n",
        "\n",
        "$||A|| = [2^2 + (-1^2) + 5^2 + 0^2 + 2^2 + 1^2 + 3^2 + 1^2 + 1^2]^{1/2}$\n"
      ]
    },
    {
      "cell_type": "code",
      "execution_count": null,
      "metadata": {
        "id": "nfxO_iSN3N5j"
      },
      "outputs": [],
      "source": [
        "# Your code"
      ]
    },
    {
      "cell_type": "markdown",
      "metadata": {
        "id": "B24sBdA63MuZ"
      },
      "source": [
        "\n",
        "The dot product of two vectors can be rewritten in terms of norms as:\n",
        "\n",
        "$$\\color{Orange}{x^{\\top} y = ||x||_2 ||y||_2 cos\\theta \\tag{17}}$$\n",
        "\n",
        "where $\\theta$ is the angle between $x$ and $y$."
      ]
    },
    {
      "cell_type": "code",
      "execution_count": null,
      "metadata": {
        "id": "19e5HqIbFA3Y"
      },
      "outputs": [],
      "source": [
        "# Your code"
      ]
    },
    {
      "cell_type": "markdown",
      "metadata": {
        "id": "9e3oICy6IFT4"
      },
      "source": [
        "# 02.06 - Special Kinds of Matrices and Vectors"
      ]
    },
    {
      "cell_type": "markdown",
      "metadata": {
        "id": "dLyr_66noIdk"
      },
      "source": [
        "__Diagonal__ matrices consist mostly of zeros and have nonzero entries only along the main diagonal. Identity matrix is an example of diagonal matrix. We write $diag(v)$ to denote a square diagonal matrix whose diagonal entries are given by the entries of the vector *v*.\n",
        "\n",
        "To compute $diag(v)x$ we only need to scale each element $x_i$ by $v_i$. In other words:\n",
        "\n",
        "$$\\color{orange}{diag(v)x = v \\odot x \\tag{18}}$$"
      ]
    },
    {
      "cell_type": "code",
      "execution_count": null,
      "metadata": {
        "id": "XfoTbabwIGRC"
      },
      "outputs": [],
      "source": [
        "# Your code"
      ]
    },
    {
      "cell_type": "markdown",
      "metadata": {
        "id": "k56YwhRu6__p"
      },
      "source": [
        "Inverting a square diagonal matrix is also efficient. The inverse exists only if every diagonal entry is nonzero, and in that case:\n",
        "\n",
        "$$\\color{orange}{diag(v)^{-1} = diag([1/v_1, \\cdots , 1/v_n]^{\\top}) \\tag{19}}$$\n"
      ]
    },
    {
      "cell_type": "code",
      "execution_count": null,
      "metadata": {
        "id": "Vyx5Iqzy7Aat"
      },
      "outputs": [],
      "source": [
        "# Your code"
      ]
    },
    {
      "cell_type": "markdown",
      "metadata": {
        "id": "Y9Q4K-yc7Ayz"
      },
      "source": [
        "Not all diagonal matrices need be square. It is possible to construct a rectangular diagonal matrix. Nonsquare diagonal matrices do not have inverses, but we can still multiply by them cheaply. For a nonsquare diagonal matrix $D$, the product $Dx$ will involve scaling each element of $x$ and either concatenating some zeros to the result, if $D$ is taller than it is wide, or discarding some of the last elements of the vector, if $D$ is wider than it is tall."
      ]
    },
    {
      "cell_type": "markdown",
      "metadata": {
        "id": "hb5WlSwb_Pqh"
      },
      "source": [
        "A __symmetric__ matrix is any matrix that is equal to its own transpose:\n",
        "\n",
        "$A = A^{\\top}$\n",
        "\n",
        "Symmetric matrices often arise when the entries are generated by some function of two arguments that does not depend on the order of the arguments. For example, if $A$ is a matrix of distance measurements, with $A_{i,j}$ giving the distance from point *i* to point *j*, then $A_{i, j} = A_{j, i}$ because distance functions are symmetric."
      ]
    },
    {
      "cell_type": "code",
      "execution_count": null,
      "metadata": {
        "id": "YjaQdH1V_QEk"
      },
      "outputs": [],
      "source": [
        "# Your code"
      ]
    },
    {
      "cell_type": "markdown",
      "metadata": {
        "id": "zLbGcoSU_QsK"
      },
      "source": [
        "A vector $x$ and a vector $y$ are __*orthogonal*__ to each other if $x^{\\top} y = 0$. If both vectors have nonzero norm, this means that they are at a 90 degree angle to each other."
      ]
    },
    {
      "cell_type": "code",
      "execution_count": null,
      "metadata": {
        "id": "nTJgnoJS_RH0"
      },
      "outputs": [],
      "source": [
        "# Your code"
      ]
    },
    {
      "cell_type": "markdown",
      "metadata": {
        "id": "S9TQJmFrvjCs"
      },
      "source": [
        "A __unit vector__ is a vector with a __unit norm__: $||x||_2 = 1$.\n",
        "\n",
        "If two vectors are not only are orthogonal but also have unit norm, we call them __orthonormal__."
      ]
    },
    {
      "cell_type": "markdown",
      "metadata": {
        "id": "Dm3RXJi_CB1e"
      },
      "source": [
        "A __orthogonal matrix__ is a square matrix whose rows are mutually orthonormal and whose columns are mutually orthonormal:\n",
        "\n",
        "$$\\color{Orange}{A^{\\top} A = AA^{\\top} = I \\tag{20}}$$\n",
        "\n",
        "which implies $A^{-1} = A^{\\top}$\n",
        "\n",
        "so orthogonal matrices are of interest because their inverse is very cheap to compute."
      ]
    },
    {
      "cell_type": "code",
      "execution_count": null,
      "metadata": {
        "id": "Q2JOiskHCCq8"
      },
      "outputs": [],
      "source": [
        "# Your code"
      ]
    },
    {
      "cell_type": "markdown",
      "metadata": {
        "id": "iqm-A3-mIIQ8"
      },
      "source": [
        "# 02.07 - Eigendecomposition"
      ]
    },
    {
      "cell_type": "markdown",
      "metadata": {
        "id": "C3sxNG4coJKI"
      },
      "source": [
        "We can represent a number, for example 12 as 12 = 2 x 2 x 3. The representation will change depending on whether we write it in base ten or in binary but the above representation will always be true and from that we can conclude that 12 is not divisible by 5 and that any integer multiple of 12 will be divisible by 3.\n",
        "\n",
        "Similarly, we can also decompose matrices in ways that show us information about their functional properties that is not obvious from the representation of the matrix as an array of elements. One of the most widely used kinds of matrix decomposition is called __eigendecomposition__, in which we decompose a matrix into a set of eigenvectors and eigenvalues.\n",
        "\n",
        "An __eigenvector__ of a square matrix $A$ is a nonzero vector $v$ such that multiplication by $A$ alters only the scale of $v$, in short this is a special vector that doesn't change the direction of the matrix when applied to it :\n",
        "\n",
        "$$\\color{Orange}{Av = \\lambda v \\tag{21}}$$\n",
        "\n",
        "The scale $\\lambda$ is known as the __eigenvalue__ corresponding to this eigenvector."
      ]
    },
    {
      "cell_type": "code",
      "execution_count": null,
      "metadata": {
        "id": "cepU9Pq-26hW"
      },
      "outputs": [],
      "source": [
        "# Your code"
      ]
    },
    {
      "cell_type": "markdown",
      "metadata": {
        "id": "xCepvxWtCz-6"
      },
      "source": [
        "If $v$ is an eigenvector of $A$, then so is any rescaled vector $sv$ for $s \\in \\mathbb{R}, s \\neq 0$."
      ]
    },
    {
      "cell_type": "code",
      "execution_count": null,
      "metadata": {
        "id": "lZHzQadlC0Z_"
      },
      "outputs": [],
      "source": [
        "# Your code"
      ]
    },
    {
      "cell_type": "markdown",
      "metadata": {
        "id": "gCZw_K6yC2pW"
      },
      "source": [
        "Suppose that a matrix $A$ has $n$ linearly independent eigenvectors $\\{v^{(1)}, \\cdots, v^{(n)}\\}$ with corresponding eigenvalues $\\{\\lambda_{(1)}, \\cdots, \\lambda_{(n)}\\}$. We may concatenate all the eigenvectors to form a matrix $V$ with one eigenvector per column: $V = [v^{(1)}, \\cdots, v^{(n)}]$. Likewise, we can concatenate the eigenvalues to form a vector $\\lambda = [\\lambda_{(1)}, \\cdots, \\lambda_{(n)}]^{\\top}$. The __eigendecomposition__ of $A$ is then given by\n",
        "\n",
        "$$\\color{Orange}{A = V diag(\\lambda)V^{-1} \\tag{22}}$$\n"
      ]
    },
    {
      "cell_type": "code",
      "execution_count": null,
      "metadata": {
        "id": "jWQc7HinC3Dw"
      },
      "outputs": [],
      "source": [
        "# Your code"
      ]
    },
    {
      "cell_type": "markdown",
      "metadata": {
        "id": "O5aixrcmC3pZ"
      },
      "source": [
        "Not every matrix can be decomposed into eigenvalues and eigenvectors. In some cases, the decomposition exists but involves complex rather than real numbers.\n",
        "\n",
        "In this book, we usually need to decompose only a specific class of matrices that have a simple decomposition. Specifically, every real symmetric matrix can be decomposed into an expression using only real-valued eigenvectors and eigenvalues:\n",
        "\n",
        "$$\\color{Orange}{A = Q \\Lambda Q^{\\top} \\tag{23}}$$\n",
        "\n",
        "where $Q$ is an orthogonal matrix composed of eigenvectors of $A$ and $\\Lambda$ is a diagonal matrix. The eigenvalue $\\Lambda_{i,i}$ is associated with the eigenvector in column *i* of $Q$, denoted as $Q_{:, i}$. Because $Q$ is an orthogonal matrix, we can think of $A$ as scaling space by $\\Lambda_i$ in direction $v^{(i)}$."
      ]
    },
    {
      "cell_type": "code",
      "execution_count": null,
      "metadata": {
        "id": "c057PJzaK07f"
      },
      "outputs": [],
      "source": [
        "# Your code"
      ]
    },
    {
      "cell_type": "markdown",
      "metadata": {
        "id": "BcOmR2UyIYmW"
      },
      "source": [
        "The eigendecomposition of a matrix tells us many useful facts about the matrix. The matrix is singular if and only if any of the eigenvalues are zero. The eigendecomposition of a real symmetric matrix can also be used to optimize quadratic expressions of the form$f(x) = x^{\\top} Ax$ subject to $||x||_2 = 1$.\n",
        "\n",
        "The above equation can be solved as following, we know that if $x$ is an Eigenvector of $A$ and $\\lambda$ is the corresponding eigenvalue, then $Ax = \\lambda x$, therefore $f(x) = x^{\\top} Ax = x^{\\top} \\lambda x = x^{\\top} x \\lambda$ and since $||x||_2 = 1$ and $x^{\\top} x =1$, the above equation boils down to $f(x) = \\lambda$\n",
        "\n",
        "Whenever $x$ is equal to an eigenvector of $A, \\ f$ takes on the value of the corresponding eigenvalue and its minimum value within the constraint region is the minimum eigenvalue."
      ]
    },
    {
      "cell_type": "markdown",
      "metadata": {
        "id": "zbuHw8qvHlmH"
      },
      "source": [
        "A matrix whose eigenvalues are all positive is called __positive definite__. A matrix whose eigenvalues are all positive or zero valued is called __positive semidefinite__. Likewise, if all eigenvalues are negative, the matrix is __negative definite__, and if all eigenvalues are negative or zero valued, it is __negative semidefinite__. Positive semidefinite matrices are interesting because they guarantee that $\\forall x, x^{\\top} Ax \\geq 0$. Positive definite matrices additionally guarantee that $x^{\\top} Ax = 0 \\implies x=0$.\n",
        "\n",
        "![Eigenvalue plots](https://raw.githubusercontent.com/adhiraiyan/DeepLearningWithTF2.0/master/notebooks/figures/fig0207a.PNG)"
      ]
    },
    {
      "cell_type": "markdown",
      "metadata": {
        "id": "iSPdyYA5IKfn"
      },
      "source": [
        "# 02.08 - Singular Value Decomposition"
      ]
    },
    {
      "cell_type": "markdown",
      "metadata": {
        "id": "RDsv5fWQoJ0K"
      },
      "source": [
        "The __singular value decomposition (SVD)__ provides another way to factorize a matrix into  __singular vectors__ and __singular values__. The SVD enables us to discover some of the same kind of information as the eigendecomposition reveals, however, the SVD is more generally applicable. Every real matrix has a singular value decomposition, but the same is not true of the eigenvalue decomposition. SVD can be written as:\n",
        "\n",
        "$$\\color{Orange}{A = UDV^{\\top} \\tag{24}}$$\n",
        "\n",
        "Suppose $A$ is an *m x n* matrix, then $U$ is defined to be an *m x m* rotation matrix, $D$ to be an *m x n* matrix scaling & projecting matrix, and $V$ to be an *n x n* rotation matrix.\n",
        "\n",
        "Each of these matrices is defined to have a special structure. The matrices $U$ and $V$ are both defined to be orthogonal matrices $(U^{\\top} = U^{-1} \\ \\text{and} \\ V^{\\top} = V^{-1})$. The matrix $D$ is defined to be a diagonal matrix.\n",
        "\n",
        "The elements along the diagonal of $D$ are known as the __singular values__ of the matrix $A$. The columns of $U$ are known as the __left-singular vectors__. The columns of $V$ are known as the __right-singular vectors__.\n",
        "\n",
        "![Singular Value Decomposition](https://raw.githubusercontent.com/adhiraiyan/DeepLearningWithTF2.0/master/notebooks/figures/fig0208a.png)"
      ]
    },
    {
      "cell_type": "code",
      "execution_count": null,
      "metadata": {
        "id": "_JFGh7SKEcU9"
      },
      "outputs": [],
      "source": [
        "# Your code"
      ]
    },
    {
      "cell_type": "code",
      "execution_count": null,
      "metadata": {
        "id": "qLZ6MRJLILAV"
      },
      "outputs": [],
      "source": [
        "# Your code"
      ]
    },
    {
      "cell_type": "markdown",
      "metadata": {
        "id": "a5rObIJ_mfhA"
      },
      "source": [
        "Matrix $A$ can be seen as a linear transformation. This transformation can be decomposed into three sub-transformations:\n",
        "\n",
        "1. Rotation,\n",
        "2. Re-scaling and projecting,\n",
        "3. Rotation.\n",
        "\n",
        "These three steps correspond to the three matrices $U, D \\ \\text{and} \\ V$\n",
        "\n",
        "Let's see how these transformations are taking place in order"
      ]
    },
    {
      "cell_type": "code",
      "execution_count": null,
      "metadata": {
        "id": "LbnTw1v7mgOU"
      },
      "outputs": [],
      "source": [
        "# Your code"
      ]
    },
    {
      "cell_type": "markdown",
      "metadata": {
        "id": "NdrBXo-PmQY1"
      },
      "source": [
        "The above sub transformations can be found for each matrix as follows:\n",
        "\n",
        "- $U$ corresponds to the eigenvectors of $A A^{\\top}$\n",
        "- $V$ corresponds to the eigenvectors of $A^{\\top} A$\n",
        "- $D$ corresponds to the eigenvalues $A A^{\\top}$  or $A^{\\top} A$ which are the same.\n",
        "\n",
        "As an exercise try proving this is the case.\n",
        "\n",
        "Perhaps the most useful feature of the SVD is that we can use it to partially generalize matrix inversion to nonsquare matrices, as we will see in the next section."
      ]
    },
    {
      "cell_type": "markdown",
      "metadata": {
        "id": "uzJR2fP5INLH"
      },
      "source": [
        "# 02.09 - The Moore-Penrose Pseudoinverse"
      ]
    },
    {
      "cell_type": "markdown",
      "metadata": {
        "id": "1LQ48tySoKdT"
      },
      "source": [
        "Matrix inversion is not defined for matrices that are not square. Suppose we want to make a left-inverse $B$ of a matrix $A$ so that we can solve a linear equation $Ax = Y$ by left multiplying each side to obtain $x = By$.\n",
        "\n",
        "Depending on the structure of the problem, it may not be possible to design a unique mapping from $A$ to $B$.\n",
        "\n",
        "The __Moore-Penrose pseudoinverse__ enables use to make some headway in these cases. The pseudoinverse of $A$ is defined as a matrix:\n",
        "\n",
        "$$\\color{Orange}{A^+ = lim_{\\alpha \\rightarrow 0} (A^T A + \\alpha I)^{-1} A^{\\top} \\tag{25}}$$\n",
        "\n",
        "Practical algorithms for computing the pseudoinverse are based not on this definition, but rather on the formula:\n",
        "\n",
        "$$\\color{Orange}{A^+ = VD^+U^{\\top} \\tag{26}}$$\n",
        "\n",
        "where $U, D$ and $V$ are the singular decomposition of $A$ and the pseudoinverse of $D^+$ of a diagonal matrix $D$ is obtained by taking the reciprocal of its nonzero elements then taking the transpose of the resulting matrix."
      ]
    },
    {
      "cell_type": "code",
      "execution_count": null,
      "metadata": {
        "id": "zN0ycGMvINu1"
      },
      "outputs": [],
      "source": [
        "# Your code"
      ]
    },
    {
      "cell_type": "markdown",
      "metadata": {
        "id": "QNJD5L__fwaL"
      },
      "source": [
        "When $A$ has more columns than rows, then solving a linear equation using the pseudoinverse provides one of the many possible solutions. Specifically, it provides the solution $x = A^+y$ with minimal Euclidean norm $||x||_2$ among all possible solutions."
      ]
    },
    {
      "cell_type": "code",
      "execution_count": null,
      "metadata": {
        "id": "9lZ4FgV1il2-"
      },
      "outputs": [],
      "source": [
        "# Your code"
      ]
    },
    {
      "cell_type": "markdown",
      "metadata": {
        "id": "k9thS9HEfxLY"
      },
      "source": [
        "When $A$ has more rows than columns, it is possible for there to be no solution. In this case, using the pseudoinverse gives us the $x$ for which $Ax$ is as close as possible to $y$ in terms of Euclidean norm $||Ax - y||_2$"
      ]
    },
    {
      "cell_type": "markdown",
      "metadata": {
        "id": "KFn1dBPdIPtd"
      },
      "source": [
        "# 02.10 - The Trace Operator"
      ]
    },
    {
      "cell_type": "markdown",
      "metadata": {
        "id": "cdnbW6nLoK-6"
      },
      "source": [
        "The trace operator gives the sum of all the diagonal entries of a matrix:\n",
        "\n",
        "$$\\color{Orange}{Tr(A) = \\displaystyle\\sum_i A_{i,i} \\tag{27}}$$\n"
      ]
    },
    {
      "cell_type": "code",
      "execution_count": null,
      "metadata": {
        "id": "-A7QQcJ0IQSl"
      },
      "outputs": [],
      "source": [
        "# Your code"
      ]
    },
    {
      "cell_type": "markdown",
      "metadata": {
        "id": "8UQt98ydgUeC"
      },
      "source": [
        "The trace operator is useful for a variety of reasons. Some operations that are difficult to specify without resorting to summation notation can be specified using matrix products and the trace operator. For example, the trace operator provides\n",
        "an alternative way of writing the Frobenius norm of a matrix:\n",
        "\n",
        "$$\\color{Orange}{||A||_F = \\sqrt{Tr(AA^{\\top})} \\tag{28}}$$\n"
      ]
    },
    {
      "cell_type": "code",
      "execution_count": null,
      "metadata": {
        "id": "eTVxOzFIjvGM"
      },
      "outputs": [],
      "source": [
        "# Your code"
      ]
    },
    {
      "cell_type": "code",
      "execution_count": null,
      "metadata": {
        "id": "hvnl_PTNgVJK"
      },
      "outputs": [],
      "source": [
        "# Your code"
      ]
    },
    {
      "cell_type": "markdown",
      "metadata": {
        "id": "dKDQCoRmgVve"
      },
      "source": [
        "Writing an expression in terms of the trace operator opens up opportunities to manipulate the expression using many useful identities. For example, the trace operator is invariant to the transpose operator:\n",
        "\n",
        "$$\\color{Orange}{Tr(A) = Tr(A^{\\top}) \\tag{29}}$$\n"
      ]
    },
    {
      "cell_type": "code",
      "execution_count": null,
      "metadata": {
        "id": "p6L21KbGgWL4"
      },
      "outputs": [],
      "source": [
        "# Your code"
      ]
    },
    {
      "cell_type": "markdown",
      "metadata": {
        "id": "glbzaSZxg-qp"
      },
      "source": [
        "The trace of a square matrix composed of many factors is also invariant to moving the last factor into the first position, if the shapes of the corresponding matrices allow the resulting product to be defined:\n",
        "\n",
        "$$\\color{Orange}{Tr(ABC) = Tr(CAB) = TR(BCA) \\tag{30}}$$\n"
      ]
    },
    {
      "cell_type": "code",
      "execution_count": null,
      "metadata": {
        "id": "Cb2s2ehwg-Gi"
      },
      "outputs": [],
      "source": [
        "# Your code"
      ]
    },
    {
      "cell_type": "markdown",
      "metadata": {
        "id": "doWjKavMhsUa"
      },
      "source": [
        "This invariance to cyclic permutation holds even if the resulting product has a different shape. For example, for $A \\in \\mathbb{R}^{m \\times n}$ and $B \\in \\mathbb{R}^{n \\times m}$, we have $Tr(AB) = Tr(BA)$ even though $AB \\in \\mathbb{R}^{m \\times m}$ and $BA \\in \\mathbb{R}^{n \\times n}$"
      ]
    },
    {
      "cell_type": "code",
      "execution_count": null,
      "metadata": {
        "id": "G95Dx1kniE34"
      },
      "outputs": [],
      "source": [
        "# Your code"
      ]
    },
    {
      "cell_type": "markdown",
      "metadata": {
        "id": "CmXNT78kISsk"
      },
      "source": [
        "# 02.11 - The Determinant"
      ]
    },
    {
      "cell_type": "markdown",
      "metadata": {
        "id": "3QqfXTzDoLt3"
      },
      "source": [
        "The determinant of a square matrix, denoted det($A$), is a function that maps matrices to real scalars. You can calculate the determinant of a  2 x 2 matrix as:\n",
        "\n",
        "![Determinant for 2by2 Matrix](https://raw.githubusercontent.com/adhiraiyan/DeepLearningWithTF2.0/master/notebooks/figures/fig0211a.png)\n",
        "\n",
        "For a 3 x 3 matrix:\n",
        "\n",
        "![Determinant for 3by3 Matrix](https://raw.githubusercontent.com/adhiraiyan/DeepLearningWithTF2.0/master/notebooks/figures/fig0211b.png)\n"
      ]
    },
    {
      "cell_type": "code",
      "execution_count": null,
      "metadata": {
        "id": "2vaZO2tcl9iv"
      },
      "outputs": [],
      "source": [
        "# Your code"
      ]
    },
    {
      "cell_type": "code",
      "execution_count": null,
      "metadata": {
        "id": "4HkHOwi6mg3Q"
      },
      "outputs": [],
      "source": [
        "# Your code"
      ]
    },
    {
      "cell_type": "markdown",
      "metadata": {
        "id": "s-VO9GT_jZHT"
      },
      "source": [
        "The determinant is equal to the product of all the eigenvalues of the matrix."
      ]
    },
    {
      "cell_type": "code",
      "execution_count": null,
      "metadata": {
        "id": "oLilAthsjaJe"
      },
      "outputs": [],
      "source": [
        "# Your code"
      ]
    },
    {
      "cell_type": "markdown",
      "metadata": {
        "id": "j6LjT0fAjf8d"
      },
      "source": [
        "The absolute value of the determinant can be thought of\n",
        "as a measure of how much multiplication by the matrix expands or contracts space. If the determinant is 0, then space is contracted completely along at least one dimension, causing it to lose all its volume. If the determinant is 1, then the transformation preserves volume."
      ]
    },
    {
      "cell_type": "code",
      "execution_count": null,
      "metadata": {
        "id": "13m1tDpovLzh"
      },
      "outputs": [],
      "source": [
        "# Your code"
      ]
    },
    {
      "cell_type": "markdown",
      "metadata": {
        "id": "QV2My3mJIVMz"
      },
      "source": [
        "# 02.12 - Example: Principal Components Analysis"
      ]
    },
    {
      "cell_type": "markdown",
      "metadata": {
        "id": "25O1Y6aHoMJ5"
      },
      "source": [
        "PCA is a complexity reduction technique that tries to reduce a set of variables down to a smaller set of components that represent most of the information in the variables. This can be thought of as for a collection of data points applying lossy compression, meaning storing the points in a way that require less memory by trading some precision. At a conceptual level, PCA works by identifying sets of variables that share variance, and creating a component to represent that variance.\n",
        "\n",
        "Earlier, when we were doing transpose or the matrix inverse, we relied on using Tensorflow's built in functions but for PCA, there is no such function, except one in the Tensorflow Extended (tft).\n",
        "\n",
        "There are multiple ways you can implement a PCA in Tensorflow but since this algorithm is such an important one in the machine learning world, we will take the long route.\n",
        "\n",
        "The reason for having PCA under Linear Algebra is to show that PCA could be implemented using the theorems we studied in this Chapter."
      ]
    },
    {
      "cell_type": "code",
      "execution_count": null,
      "metadata": {
        "id": "nlY8luDeIV53"
      },
      "outputs": [],
      "source": [
        "# Your code"
      ]
    },
    {
      "cell_type": "markdown",
      "metadata": {
        "id": "DSc6vX9hvSM-"
      },
      "source": [
        "We start by standardizing the data. Even though the data we created are on the same scales, its always a good practice to start by standardizing the data because most of the time the data you will be working with will be in different scales."
      ]
    },
    {
      "cell_type": "code",
      "execution_count": null,
      "metadata": {
        "id": "pM7kT2EptyQ6"
      },
      "outputs": [],
      "source": [
        "# Your code"
      ]
    },
    {
      "cell_type": "markdown",
      "metadata": {
        "id": "AEH2BAlMjlu_"
      },
      "source": [
        "Recall that PCA can be thought of as applying lossy compression to a collection of $x$ data points. The way we can minimize the loss of precision is by finding some decoding function $f(x) \\approx c$ where $c$ will be the corresponding vector.\n",
        "\n",
        "PCA is defined by our choice of this decoding function. Specifically, to make the decoder very simple, we chose to use matrix multiplication to map $c$ and define $g(c) = Dc$. Our goal is to minimize the distance between the input point $x$ to its reconstruction and to do that we use $L^2$ norm. Which boils down to our encoding function $c = D^{\\top}x$.\n",
        "\n",
        "Finally, to reconstruct the PCA we use the same matrix $D$ to decode all the points and to solve this optimization problem, we use eigendecomposition.\n",
        "\n",
        "Please note that the following equation is the final version of a lot of matrix transformations. I don't provide the derivatives because the goal is to focus on the mathematical implementation, rather than the derivation. But for the curious, You can read about the derivation in [Chapter 2 Section 11](https://www.deeplearningbook.org/contents/linear_algebra.html).\n",
        "\n",
        "$$\\color{Orange}{d^* = argmax_d \\ Tr(d^{\\top} X^{\\top} Xd) \\ \\text{subject to} \\ dd^{\\top} = 1 \\tag{31}}$$\n",
        "\n",
        "To find $d$ we can calculate the eigenvectors $X^{\\top} X$.\n"
      ]
    },
    {
      "cell_type": "code",
      "execution_count": null,
      "metadata": {
        "id": "EO_rGA_tjmNG"
      },
      "outputs": [],
      "source": [
        "# Your code"
      ]
    },
    {
      "cell_type": "markdown",
      "metadata": {
        "id": "viN-QXaejoNt"
      },
      "source": [
        "The eigenvectors (principal components) determine the directions of the new feature space, and the eigenvalues determine their magnitude.\n",
        "\n",
        "Now, let's use these Eigenvectors to rotate our data. The goal of the rotation is to end up with a new coordinate system where data is uncorrelated and thus where the basis axes gather all the variance. Thereby reducing the dimension.\n",
        "\n",
        "Recall our encoding function $c = D^{\\top} x$, where $D$ is the matrix containing the eigenvectors that we have calculated before."
      ]
    },
    {
      "cell_type": "code",
      "execution_count": null,
      "metadata": {
        "id": "AD2p9v5rEM4S"
      },
      "outputs": [],
      "source": [
        "# Your code"
      ]
    },
    {
      "cell_type": "markdown",
      "metadata": {
        "id": "AnxwVvwNylWT"
      },
      "source": [
        "That is the transformed data and that's it folks for our chapter on Linear Algebra 😉."
      ]
    },
    {
      "cell_type": "markdown",
      "metadata": {
        "id": "a_mkeFu_t1hC"
      },
      "source": [
        "# 💫 Congratulations\n",
        "\n",
        "You have successfully completed Chapter 2 Linear algebra. To recap, we went through the following concepts:\n",
        "\n",
        "- Scalars, Vectors, Matrices and Tensors\n",
        "- Multiplying Matrices and Vectors\n",
        "- Identity and Inverse Matrices\n",
        "- Linear Dependence and Span\n",
        "- Norms\n",
        "- Special Kinds of Matrices and Vectors\n",
        "- Eigendecomposition\n",
        "- Singular Value Decomposition\n",
        "- The Moore-Penrose Pseudoinverse\n",
        "- The Trace Operator\n",
        "- The Determinant\n",
        "- Example: Principal Components Analysis\n",
        "\n"
      ]
    },
    {
      "cell_type": "code",
      "execution_count": null,
      "metadata": {
        "id": "A8dVhDlutAbK"
      },
      "outputs": [],
      "source": []
    },
    {
      "cell_type": "code",
      "execution_count": null,
      "metadata": {
        "colab": {
          "base_uri": "https://localhost:8080/"
        },
        "id": "Nlk8UPLmwTj3",
        "outputId": "72fdfb80-dc9d-4138-b521-93e02ad659d2"
      },
      "outputs": [
        {
          "data": {
            "text/plain": [
              "array([[-24.,  18.,   5.],\n",
              "       [ 20., -15.,  -4.],\n",
              "       [ -5.,   4.,   1.]])"
            ]
          },
          "execution_count": 1,
          "metadata": {},
          "output_type": "execute_result"
        }
      ],
      "source": [
        "import numpy as np\n",
        "\n",
        "# Define the matrix A\n",
        "A = np.array([[1, 2, 3], [0, 1, 4], [5, 6, 0]], dtype=float)\n",
        "\n",
        "# Calculate the inverse of A using numpy\n",
        "A_inverse = np.linalg.inv(A)\n",
        "A_inverse"
      ]
    }
  ],
  "metadata": {
    "accelerator": "GPU",
    "colab": {
      "provenance": []
    },
    "kernelspec": {
      "display_name": "Python 3",
      "name": "python3"
    },
    "language_info": {
      "codemirror_mode": {
        "name": "ipython",
        "version": 3
      },
      "file_extension": ".py",
      "mimetype": "text/x-python",
      "name": "python",
      "nbconvert_exporter": "python",
      "pygments_lexer": "ipython3",
      "version": "3.11.9"
    }
  },
  "nbformat": 4,
  "nbformat_minor": 0
}
